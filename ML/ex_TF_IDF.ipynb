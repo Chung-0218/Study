{
 "cells": [
  {
   "cell_type": "code",
   "execution_count": 1,
   "id": "f6b6dfdf",
   "metadata": {},
   "outputs": [],
   "source": [
    "import pandas as pd\n",
    "import numpy as np\n",
    "import matplotlib.pyplot as plt\n",
    "\n",
    "np.random.seed(2022)"
   ]
  },
  {
   "cell_type": "code",
   "execution_count": 2,
   "id": "5d25e306",
   "metadata": {},
   "outputs": [
    {
     "name": "stderr",
     "output_type": "stream",
     "text": [
      "C:\\Users\\sclab\\anaconda3\\lib\\site-packages\\IPython\\core\\interactiveshell.py:3165: DtypeWarning: Columns (10) have mixed types.Specify dtype option on import or set low_memory=False.\n",
      "  has_raised = await self.run_ast_nodes(code_ast.body, cell_name,\n"
     ]
    }
   ],
   "source": [
    "# Data Load\n",
    "df = pd.read_csv(\"movies_metadata.csv\")"
   ]
  },
  {
   "cell_type": "code",
   "execution_count": 3,
   "id": "d06e9b1f",
   "metadata": {},
   "outputs": [],
   "source": [
    "# title, overview column만 사용\n",
    "df = df[[\"title\", \"overview\"]]"
   ]
  },
  {
   "cell_type": "code",
   "execution_count": 4,
   "id": "e54e44b7",
   "metadata": {},
   "outputs": [],
   "source": [
    "# 전체 중 1000개의 데이터만 사용\n",
    "df = df.iloc[:1000]"
   ]
  },
  {
   "cell_type": "code",
   "execution_count": 5,
   "id": "bad34839",
   "metadata": {},
   "outputs": [
    {
     "data": {
      "text/plain": [
       "(1000, 2)"
      ]
     },
     "execution_count": 5,
     "metadata": {},
     "output_type": "execute_result"
    }
   ],
   "source": [
    "df.shape"
   ]
  },
  {
   "cell_type": "code",
   "execution_count": 6,
   "id": "d1dbd59c",
   "metadata": {},
   "outputs": [
    {
     "data": {
      "text/html": [
       "<div>\n",
       "<style scoped>\n",
       "    .dataframe tbody tr th:only-of-type {\n",
       "        vertical-align: middle;\n",
       "    }\n",
       "\n",
       "    .dataframe tbody tr th {\n",
       "        vertical-align: top;\n",
       "    }\n",
       "\n",
       "    .dataframe thead th {\n",
       "        text-align: right;\n",
       "    }\n",
       "</style>\n",
       "<table border=\"1\" class=\"dataframe\">\n",
       "  <thead>\n",
       "    <tr style=\"text-align: right;\">\n",
       "      <th></th>\n",
       "      <th>title</th>\n",
       "      <th>overview</th>\n",
       "    </tr>\n",
       "  </thead>\n",
       "  <tbody>\n",
       "    <tr>\n",
       "      <th>0</th>\n",
       "      <td>Toy Story</td>\n",
       "      <td>Led by Woody, Andy's toys live happily in his ...</td>\n",
       "    </tr>\n",
       "    <tr>\n",
       "      <th>1</th>\n",
       "      <td>Jumanji</td>\n",
       "      <td>When siblings Judy and Peter discover an encha...</td>\n",
       "    </tr>\n",
       "    <tr>\n",
       "      <th>2</th>\n",
       "      <td>Grumpier Old Men</td>\n",
       "      <td>A family wedding reignites the ancient feud be...</td>\n",
       "    </tr>\n",
       "    <tr>\n",
       "      <th>3</th>\n",
       "      <td>Waiting to Exhale</td>\n",
       "      <td>Cheated on, mistreated and stepped on, the wom...</td>\n",
       "    </tr>\n",
       "    <tr>\n",
       "      <th>4</th>\n",
       "      <td>Father of the Bride Part II</td>\n",
       "      <td>Just when George Banks has recovered from his ...</td>\n",
       "    </tr>\n",
       "    <tr>\n",
       "      <th>...</th>\n",
       "      <td>...</td>\n",
       "      <td>...</td>\n",
       "    </tr>\n",
       "    <tr>\n",
       "      <th>995</th>\n",
       "      <td>The Three Caballeros</td>\n",
       "      <td>For Donald's birthday he receives a box with t...</td>\n",
       "    </tr>\n",
       "    <tr>\n",
       "      <th>996</th>\n",
       "      <td>The Sword in the Stone</td>\n",
       "      <td>Wart is a young boy who aspires to be a knight...</td>\n",
       "    </tr>\n",
       "    <tr>\n",
       "      <th>997</th>\n",
       "      <td>So Dear to My Heart</td>\n",
       "      <td>The tale of Jeremiah Kincaid and his quest to ...</td>\n",
       "    </tr>\n",
       "    <tr>\n",
       "      <th>998</th>\n",
       "      <td>Robin Hood: Prince of Thieves</td>\n",
       "      <td>When the dastardly Sheriff of Nottingham murde...</td>\n",
       "    </tr>\n",
       "    <tr>\n",
       "      <th>999</th>\n",
       "      <td>Mary Poppins</td>\n",
       "      <td>The movie combines a diverting story, songs, c...</td>\n",
       "    </tr>\n",
       "  </tbody>\n",
       "</table>\n",
       "<p>1000 rows × 2 columns</p>\n",
       "</div>"
      ],
      "text/plain": [
       "                             title  \\\n",
       "0                        Toy Story   \n",
       "1                          Jumanji   \n",
       "2                 Grumpier Old Men   \n",
       "3                Waiting to Exhale   \n",
       "4      Father of the Bride Part II   \n",
       "..                             ...   \n",
       "995           The Three Caballeros   \n",
       "996         The Sword in the Stone   \n",
       "997            So Dear to My Heart   \n",
       "998  Robin Hood: Prince of Thieves   \n",
       "999                   Mary Poppins   \n",
       "\n",
       "                                              overview  \n",
       "0    Led by Woody, Andy's toys live happily in his ...  \n",
       "1    When siblings Judy and Peter discover an encha...  \n",
       "2    A family wedding reignites the ancient feud be...  \n",
       "3    Cheated on, mistreated and stepped on, the wom...  \n",
       "4    Just when George Banks has recovered from his ...  \n",
       "..                                                 ...  \n",
       "995  For Donald's birthday he receives a box with t...  \n",
       "996  Wart is a young boy who aspires to be a knight...  \n",
       "997  The tale of Jeremiah Kincaid and his quest to ...  \n",
       "998  When the dastardly Sheriff of Nottingham murde...  \n",
       "999  The movie combines a diverting story, songs, c...  \n",
       "\n",
       "[1000 rows x 2 columns]"
      ]
     },
     "execution_count": 6,
     "metadata": {},
     "output_type": "execute_result"
    }
   ],
   "source": [
    "df"
   ]
  },
  {
   "cell_type": "code",
   "execution_count": 7,
   "id": "ff052972",
   "metadata": {},
   "outputs": [
    {
     "data": {
      "text/plain": [
       "12"
      ]
     },
     "execution_count": 7,
     "metadata": {},
     "output_type": "execute_result"
    }
   ],
   "source": [
    "# Data Cleaning\n",
    "# overview의 결측치를 빈 str로 대체\n",
    "df[\"overview\"].isna().sum()"
   ]
  },
  {
   "cell_type": "code",
   "execution_count": 8,
   "id": "78e336b4",
   "metadata": {},
   "outputs": [],
   "source": [
    "df[\"overview\"] = df[\"overview\"].fillna('')"
   ]
  },
  {
   "cell_type": "code",
   "execution_count": 9,
   "id": "1d66ae41",
   "metadata": {},
   "outputs": [],
   "source": [
    "# TF-IDF 계산\n",
    "from sklearn.feature_extraction.text import TfidfVectorizer"
   ]
  },
  {
   "cell_type": "code",
   "execution_count": 10,
   "id": "706774ae",
   "metadata": {},
   "outputs": [
    {
     "data": {
      "text/plain": [
       "array([\"Led by Woody, Andy's toys live happily in his room until Andy's birthday brings Buzz Lightyear onto the scene. Afraid of losing his place in Andy's heart, Woody plots against Buzz. But when circumstances separate Buzz and Woody from their owner, the duo eventually learns to put aside their differences.\",\n",
       "       \"When siblings Judy and Peter discover an enchanted board game that opens the door to a magical world, they unwittingly invite Alan -- an adult who's been trapped inside the game for 26 years -- into their living room. Alan's only hope for freedom is to finish the game, which proves risky as all three find themselves running from giant rhinoceroses, evil monkeys and other terrifying creatures.\"],\n",
       "      dtype=object)"
      ]
     },
     "execution_count": 10,
     "metadata": {},
     "output_type": "execute_result"
    }
   ],
   "source": [
    "# Sample Data\n",
    "df[\"overview\"].values[:2]"
   ]
  },
  {
   "cell_type": "code",
   "execution_count": 11,
   "id": "90261c9b",
   "metadata": {},
   "outputs": [],
   "source": [
    "transformer = TfidfVectorizer(stop_words='english')\n",
    "tfidf_matrix = transformer.fit_transform(df['overview'].values[:2])"
   ]
  },
  {
   "cell_type": "code",
   "execution_count": 12,
   "id": "7f3923bd",
   "metadata": {},
   "outputs": [
    {
     "data": {
      "text/plain": [
       "array([[0.        , 0.        , 0.14358239, 0.        , 0.43074717,\n",
       "        0.14358239, 0.14358239, 0.        , 0.14358239, 0.43074717,\n",
       "        0.14358239, 0.        , 0.14358239, 0.        , 0.        ,\n",
       "        0.14358239, 0.        , 0.14358239, 0.        , 0.        ,\n",
       "        0.        , 0.        , 0.        , 0.14358239, 0.14358239,\n",
       "        0.        , 0.        , 0.        , 0.        , 0.14358239,\n",
       "        0.14358239, 0.14358239, 0.14358239, 0.        , 0.14358239,\n",
       "        0.        , 0.        , 0.        , 0.14358239, 0.        ,\n",
       "        0.14358239, 0.14358239, 0.        , 0.        , 0.        ,\n",
       "        0.10216005, 0.        , 0.14358239, 0.14358239, 0.        ,\n",
       "        0.        , 0.14358239, 0.        , 0.        , 0.43074717,\n",
       "        0.        , 0.        ],\n",
       "       [0.15160873, 0.15160873, 0.        , 0.30321746, 0.        ,\n",
       "        0.        , 0.        , 0.15160873, 0.        , 0.        ,\n",
       "        0.        , 0.15160873, 0.        , 0.15160873, 0.15160873,\n",
       "        0.        , 0.15160873, 0.        , 0.15160873, 0.15160873,\n",
       "        0.15160873, 0.45482618, 0.15160873, 0.        , 0.        ,\n",
       "        0.15160873, 0.15160873, 0.15160873, 0.15160873, 0.        ,\n",
       "        0.        , 0.        , 0.        , 0.15160873, 0.        ,\n",
       "        0.15160873, 0.15160873, 0.15160873, 0.        , 0.15160873,\n",
       "        0.        , 0.        , 0.15160873, 0.15160873, 0.15160873,\n",
       "        0.10787086, 0.15160873, 0.        , 0.        , 0.15160873,\n",
       "        0.15160873, 0.        , 0.15160873, 0.15160873, 0.        ,\n",
       "        0.15160873, 0.15160873]])"
      ]
     },
     "execution_count": 12,
     "metadata": {},
     "output_type": "execute_result"
    }
   ],
   "source": [
    "tfidf_matrix.toarray()"
   ]
  },
  {
   "cell_type": "code",
   "execution_count": 13,
   "id": "011612e1",
   "metadata": {},
   "outputs": [
    {
     "data": {
      "text/plain": [
       "['26',\n",
       " 'adult',\n",
       " 'afraid',\n",
       " 'alan',\n",
       " 'andy',\n",
       " 'aside',\n",
       " 'birthday',\n",
       " 'board',\n",
       " 'brings',\n",
       " 'buzz']"
      ]
     },
     "execution_count": 13,
     "metadata": {},
     "output_type": "execute_result"
    }
   ],
   "source": [
    "# 추출된 단어 확인\n",
    "transformer.get_feature_names()[:10]"
   ]
  },
  {
   "cell_type": "code",
   "execution_count": 14,
   "id": "9aaa302d",
   "metadata": {},
   "outputs": [
    {
     "data": {
      "text/html": [
       "<div>\n",
       "<style scoped>\n",
       "    .dataframe tbody tr th:only-of-type {\n",
       "        vertical-align: middle;\n",
       "    }\n",
       "\n",
       "    .dataframe tbody tr th {\n",
       "        vertical-align: top;\n",
       "    }\n",
       "\n",
       "    .dataframe thead th {\n",
       "        text-align: right;\n",
       "    }\n",
       "</style>\n",
       "<table border=\"1\" class=\"dataframe\">\n",
       "  <thead>\n",
       "    <tr style=\"text-align: right;\">\n",
       "      <th></th>\n",
       "      <th>0</th>\n",
       "      <th>1</th>\n",
       "    </tr>\n",
       "  </thead>\n",
       "  <tbody>\n",
       "    <tr>\n",
       "      <th>26</th>\n",
       "      <td>0.000000</td>\n",
       "      <td>0.151609</td>\n",
       "    </tr>\n",
       "    <tr>\n",
       "      <th>adult</th>\n",
       "      <td>0.000000</td>\n",
       "      <td>0.151609</td>\n",
       "    </tr>\n",
       "    <tr>\n",
       "      <th>afraid</th>\n",
       "      <td>0.143582</td>\n",
       "      <td>0.000000</td>\n",
       "    </tr>\n",
       "    <tr>\n",
       "      <th>alan</th>\n",
       "      <td>0.000000</td>\n",
       "      <td>0.303217</td>\n",
       "    </tr>\n",
       "    <tr>\n",
       "      <th>andy</th>\n",
       "      <td>0.430747</td>\n",
       "      <td>0.000000</td>\n",
       "    </tr>\n",
       "    <tr>\n",
       "      <th>aside</th>\n",
       "      <td>0.143582</td>\n",
       "      <td>0.000000</td>\n",
       "    </tr>\n",
       "    <tr>\n",
       "      <th>birthday</th>\n",
       "      <td>0.143582</td>\n",
       "      <td>0.000000</td>\n",
       "    </tr>\n",
       "    <tr>\n",
       "      <th>board</th>\n",
       "      <td>0.000000</td>\n",
       "      <td>0.151609</td>\n",
       "    </tr>\n",
       "    <tr>\n",
       "      <th>brings</th>\n",
       "      <td>0.143582</td>\n",
       "      <td>0.000000</td>\n",
       "    </tr>\n",
       "    <tr>\n",
       "      <th>buzz</th>\n",
       "      <td>0.430747</td>\n",
       "      <td>0.000000</td>\n",
       "    </tr>\n",
       "  </tbody>\n",
       "</table>\n",
       "</div>"
      ],
      "text/plain": [
       "                 0         1\n",
       "26        0.000000  0.151609\n",
       "adult     0.000000  0.151609\n",
       "afraid    0.143582  0.000000\n",
       "alan      0.000000  0.303217\n",
       "andy      0.430747  0.000000\n",
       "aside     0.143582  0.000000\n",
       "birthday  0.143582  0.000000\n",
       "board     0.000000  0.151609\n",
       "brings    0.143582  0.000000\n",
       "buzz      0.430747  0.000000"
      ]
     },
     "execution_count": 14,
     "metadata": {},
     "output_type": "execute_result"
    }
   ],
   "source": [
    "pd.DataFrame(tfidf_matrix.toarray(), columns=transformer.get_feature_names()).T.head(10)"
   ]
  },
  {
   "cell_type": "code",
   "execution_count": 15,
   "id": "f197eccd",
   "metadata": {},
   "outputs": [],
   "source": [
    "# 학습\n",
    "transformer = TfidfVectorizer(stop_words='english')"
   ]
  },
  {
   "cell_type": "code",
   "execution_count": 16,
   "id": "46b08d3e",
   "metadata": {},
   "outputs": [],
   "source": [
    "tfidf_matrix = transformer.fit_transform(df['overview'])"
   ]
  },
  {
   "cell_type": "code",
   "execution_count": 17,
   "id": "24e80801",
   "metadata": {},
   "outputs": [
    {
     "data": {
      "text/plain": [
       "array([[0., 0., 0., ..., 0., 0., 0.],\n",
       "       [0., 0., 0., ..., 0., 0., 0.],\n",
       "       [0., 0., 0., ..., 0., 0., 0.],\n",
       "       ...,\n",
       "       [0., 0., 0., ..., 0., 0., 0.],\n",
       "       [0., 0., 0., ..., 0., 0., 0.],\n",
       "       [0., 0., 0., ..., 0., 0., 0.]])"
      ]
     },
     "execution_count": 17,
     "metadata": {},
     "output_type": "execute_result"
    }
   ],
   "source": [
    "tfidf_matrix.toarray()"
   ]
  },
  {
   "cell_type": "code",
   "execution_count": 18,
   "id": "0259da5d",
   "metadata": {},
   "outputs": [
    {
     "data": {
      "text/plain": [
       "['zombies', 'zones', 'zookeeper', 'zorro', 'zulu']"
      ]
     },
     "execution_count": 18,
     "metadata": {},
     "output_type": "execute_result"
    }
   ],
   "source": [
    "transformer.get_feature_names()[-5:]"
   ]
  },
  {
   "cell_type": "code",
   "execution_count": 19,
   "id": "cea460e3",
   "metadata": {},
   "outputs": [],
   "source": [
    "# 영화별 유사도 계산 - 코사인 유사도\n",
    "from sklearn.metrics.pairwise import cosine_similarity"
   ]
  },
  {
   "cell_type": "code",
   "execution_count": 20,
   "id": "84743bbb",
   "metadata": {},
   "outputs": [],
   "source": [
    "similarity = cosine_similarity(tfidf_matrix)"
   ]
  },
  {
   "cell_type": "code",
   "execution_count": 21,
   "id": "5b925bbb",
   "metadata": {},
   "outputs": [
    {
     "data": {
      "text/plain": [
       "array([[1.        , 0.01570657, 0.        , ..., 0.        , 0.        ,\n",
       "        0.01234882],\n",
       "       [0.01570657, 1.        , 0.05047128, ..., 0.        , 0.01578968,\n",
       "        0.02378018],\n",
       "       [0.        , 0.05047128, 1.        , ..., 0.        , 0.        ,\n",
       "        0.        ],\n",
       "       ...,\n",
       "       [0.        , 0.        , 0.        , ..., 1.        , 0.        ,\n",
       "        0.        ],\n",
       "       [0.        , 0.01578968, 0.        , ..., 0.        , 1.        ,\n",
       "        0.        ],\n",
       "       [0.01234882, 0.02378018, 0.        , ..., 0.        , 0.        ,\n",
       "        1.        ]])"
      ]
     },
     "execution_count": 21,
     "metadata": {},
     "output_type": "execute_result"
    }
   ],
   "source": [
    "similarity"
   ]
  },
  {
   "cell_type": "code",
   "execution_count": 22,
   "id": "14d1285a",
   "metadata": {},
   "outputs": [
    {
     "name": "stdout",
     "output_type": "stream",
     "text": [
      "Robin Hood: Prince of Thieves\n"
     ]
    }
   ],
   "source": [
    "# 인덱스 998번과 유사한 영화 추천\n",
    "idx = 998\n",
    "print(df.loc[idx, 'title'])"
   ]
  },
  {
   "cell_type": "code",
   "execution_count": 23,
   "id": "a3f9ab5b",
   "metadata": {},
   "outputs": [],
   "source": [
    "similarity_one_idx = similarity[idx]"
   ]
  },
  {
   "cell_type": "code",
   "execution_count": 24,
   "id": "7da95c78",
   "metadata": {},
   "outputs": [],
   "source": [
    "# argsort로 유사도가 큰 인덱스를 정렬\n",
    "# argsort는 작은 것부터 정렬을 하는데, -1을 줘서 유사도가 큰 것부터 정렬\n",
    "order_idx = similarity_one_idx.argsort()[::-1]"
   ]
  },
  {
   "cell_type": "code",
   "execution_count": 25,
   "id": "1227c6ce",
   "metadata": {},
   "outputs": [
    {
     "data": {
      "text/plain": [
       "array([998, 515, 913, 215, 779, 598,  43, 150, 675,   3, 392, 148, 181,\n",
       "        25,  99, 231, 241, 548, 725, 363, 331, 447, 988, 207, 270, 804,\n",
       "       256, 517, 940, 807, 401, 319, 245, 660, 977, 400,  18, 648,  11,\n",
       "       695, 459, 621, 402, 503, 903, 135, 971, 594, 790, 975, 185, 978,\n",
       "       513, 823, 883, 408, 853, 628, 944, 668, 663,  64, 446, 147, 953,\n",
       "       718, 240, 264, 670, 642, 484, 742, 461, 857, 178, 797, 295, 671,\n",
       "       763, 412, 470, 564, 243,  54, 268, 829, 841, 547, 890,   8, 597,\n",
       "        13, 623, 778, 581, 768, 316, 867, 777, 133], dtype=int64)"
      ]
     },
     "execution_count": 25,
     "metadata": {},
     "output_type": "execute_result"
    }
   ],
   "source": [
    "order_idx[:100]"
   ]
  },
  {
   "cell_type": "code",
   "execution_count": 26,
   "id": "3c0e64c1",
   "metadata": {},
   "outputs": [
    {
     "data": {
      "text/plain": [
       "array([998, 515, 913, 215, 779, 598], dtype=int64)"
      ]
     },
     "execution_count": 26,
     "metadata": {},
     "output_type": "execute_result"
    }
   ],
   "source": [
    "# 가장 큰 5개만 출력\n",
    "top5 = order_idx[:6]\n",
    "top5"
   ]
  },
  {
   "cell_type": "code",
   "execution_count": 27,
   "id": "e77434b0",
   "metadata": {},
   "outputs": [
    {
     "data": {
      "text/plain": [
       "998      Robin Hood: Prince of Thieves\n",
       "515          Robin Hood: Men in Tights\n",
       "913       The Adventures of Robin Hood\n",
       "215                   Boys on the Side\n",
       "779                          Lone Star\n",
       "598    Candyman: Farewell to the Flesh\n",
       "Name: title, dtype: object"
      ]
     },
     "execution_count": 27,
     "metadata": {},
     "output_type": "execute_result"
    }
   ],
   "source": [
    "df.loc[top5, 'title']"
   ]
  },
  {
   "cell_type": "code",
   "execution_count": null,
   "id": "b44d3f55",
   "metadata": {},
   "outputs": [],
   "source": []
  }
 ],
 "metadata": {
  "kernelspec": {
   "display_name": "Python 3",
   "language": "python",
   "name": "python3"
  },
  "language_info": {
   "codemirror_mode": {
    "name": "ipython",
    "version": 3
   },
   "file_extension": ".py",
   "mimetype": "text/x-python",
   "name": "python",
   "nbconvert_exporter": "python",
   "pygments_lexer": "ipython3",
   "version": "3.8.8"
  }
 },
 "nbformat": 4,
 "nbformat_minor": 5
}
