{
 "cells": [
  {
   "cell_type": "code",
   "execution_count": 1,
   "id": "57a50670",
   "metadata": {},
   "outputs": [],
   "source": [
    "import pandas as pd\n",
    "import numpy as np\n",
    "import matplotlib.pyplot as plt\n",
    "\n",
    "np.random.seed(2022)"
   ]
  },
  {
   "cell_type": "code",
   "execution_count": 2,
   "id": "0264bc21",
   "metadata": {},
   "outputs": [],
   "source": [
    "data = {\n",
    "    \"value\": [30, 120, 150, 390, 400, 300, 500],\n",
    "    \"label\": [0, 0, 1, 0, 0, 1, 0]\n",
    "}"
   ]
  },
  {
   "cell_type": "code",
   "execution_count": 3,
   "id": "fe05782e",
   "metadata": {},
   "outputs": [],
   "source": [
    "data = pd.DataFrame(data)"
   ]
  },
  {
   "cell_type": "code",
   "execution_count": 4,
   "id": "0f62415c",
   "metadata": {},
   "outputs": [
    {
     "data": {
      "text/html": [
       "<div>\n",
       "<style scoped>\n",
       "    .dataframe tbody tr th:only-of-type {\n",
       "        vertical-align: middle;\n",
       "    }\n",
       "\n",
       "    .dataframe tbody tr th {\n",
       "        vertical-align: top;\n",
       "    }\n",
       "\n",
       "    .dataframe thead th {\n",
       "        text-align: right;\n",
       "    }\n",
       "</style>\n",
       "<table border=\"1\" class=\"dataframe\">\n",
       "  <thead>\n",
       "    <tr style=\"text-align: right;\">\n",
       "      <th></th>\n",
       "      <th>value</th>\n",
       "      <th>label</th>\n",
       "    </tr>\n",
       "  </thead>\n",
       "  <tbody>\n",
       "    <tr>\n",
       "      <th>0</th>\n",
       "      <td>30</td>\n",
       "      <td>0</td>\n",
       "    </tr>\n",
       "    <tr>\n",
       "      <th>1</th>\n",
       "      <td>120</td>\n",
       "      <td>0</td>\n",
       "    </tr>\n",
       "    <tr>\n",
       "      <th>2</th>\n",
       "      <td>150</td>\n",
       "      <td>1</td>\n",
       "    </tr>\n",
       "    <tr>\n",
       "      <th>3</th>\n",
       "      <td>390</td>\n",
       "      <td>0</td>\n",
       "    </tr>\n",
       "    <tr>\n",
       "      <th>4</th>\n",
       "      <td>400</td>\n",
       "      <td>0</td>\n",
       "    </tr>\n",
       "    <tr>\n",
       "      <th>5</th>\n",
       "      <td>300</td>\n",
       "      <td>1</td>\n",
       "    </tr>\n",
       "    <tr>\n",
       "      <th>6</th>\n",
       "      <td>500</td>\n",
       "      <td>0</td>\n",
       "    </tr>\n",
       "  </tbody>\n",
       "</table>\n",
       "</div>"
      ],
      "text/plain": [
       "   value  label\n",
       "0     30      0\n",
       "1    120      0\n",
       "2    150      1\n",
       "3    390      0\n",
       "4    400      0\n",
       "5    300      1\n",
       "6    500      0"
      ]
     },
     "execution_count": 4,
     "metadata": {},
     "output_type": "execute_result"
    }
   ],
   "source": [
    "data"
   ]
  },
  {
   "cell_type": "code",
   "execution_count": 5,
   "id": "69268ec3",
   "metadata": {},
   "outputs": [
    {
     "data": {
      "text/html": [
       "<div>\n",
       "<style scoped>\n",
       "    .dataframe tbody tr th:only-of-type {\n",
       "        vertical-align: middle;\n",
       "    }\n",
       "\n",
       "    .dataframe tbody tr th {\n",
       "        vertical-align: top;\n",
       "    }\n",
       "\n",
       "    .dataframe thead th {\n",
       "        text-align: right;\n",
       "    }\n",
       "</style>\n",
       "<table border=\"1\" class=\"dataframe\">\n",
       "  <thead>\n",
       "    <tr style=\"text-align: right;\">\n",
       "      <th></th>\n",
       "      <th>value</th>\n",
       "      <th>label</th>\n",
       "    </tr>\n",
       "  </thead>\n",
       "  <tbody>\n",
       "    <tr>\n",
       "      <th>0</th>\n",
       "      <td>30</td>\n",
       "      <td>0</td>\n",
       "    </tr>\n",
       "    <tr>\n",
       "      <th>1</th>\n",
       "      <td>120</td>\n",
       "      <td>0</td>\n",
       "    </tr>\n",
       "    <tr>\n",
       "      <th>2</th>\n",
       "      <td>150</td>\n",
       "      <td>1</td>\n",
       "    </tr>\n",
       "    <tr>\n",
       "      <th>5</th>\n",
       "      <td>300</td>\n",
       "      <td>1</td>\n",
       "    </tr>\n",
       "    <tr>\n",
       "      <th>3</th>\n",
       "      <td>390</td>\n",
       "      <td>0</td>\n",
       "    </tr>\n",
       "    <tr>\n",
       "      <th>4</th>\n",
       "      <td>400</td>\n",
       "      <td>0</td>\n",
       "    </tr>\n",
       "    <tr>\n",
       "      <th>6</th>\n",
       "      <td>500</td>\n",
       "      <td>0</td>\n",
       "    </tr>\n",
       "  </tbody>\n",
       "</table>\n",
       "</div>"
      ],
      "text/plain": [
       "   value  label\n",
       "0     30      0\n",
       "1    120      0\n",
       "2    150      1\n",
       "5    300      1\n",
       "3    390      0\n",
       "4    400      0\n",
       "6    500      0"
      ]
     },
     "execution_count": 5,
     "metadata": {},
     "output_type": "execute_result"
    }
   ],
   "source": [
    "# Decision Tree 구현\n",
    "sorted_data = data.sort_values(by=\"value\")\n",
    "sorted_data"
   ]
  },
  {
   "cell_type": "code",
   "execution_count": 6,
   "id": "a04e0aa5",
   "metadata": {},
   "outputs": [],
   "source": [
    "sorted_data = sorted_data.reset_index(drop=True) # 인덱스 컬럼 삭제"
   ]
  },
  {
   "cell_type": "code",
   "execution_count": 7,
   "id": "2cb57e5c",
   "metadata": {},
   "outputs": [
    {
     "data": {
      "text/html": [
       "<div>\n",
       "<style scoped>\n",
       "    .dataframe tbody tr th:only-of-type {\n",
       "        vertical-align: middle;\n",
       "    }\n",
       "\n",
       "    .dataframe tbody tr th {\n",
       "        vertical-align: top;\n",
       "    }\n",
       "\n",
       "    .dataframe thead th {\n",
       "        text-align: right;\n",
       "    }\n",
       "</style>\n",
       "<table border=\"1\" class=\"dataframe\">\n",
       "  <thead>\n",
       "    <tr style=\"text-align: right;\">\n",
       "      <th></th>\n",
       "      <th>value</th>\n",
       "      <th>label</th>\n",
       "    </tr>\n",
       "  </thead>\n",
       "  <tbody>\n",
       "    <tr>\n",
       "      <th>0</th>\n",
       "      <td>30</td>\n",
       "      <td>0</td>\n",
       "    </tr>\n",
       "    <tr>\n",
       "      <th>1</th>\n",
       "      <td>120</td>\n",
       "      <td>0</td>\n",
       "    </tr>\n",
       "    <tr>\n",
       "      <th>2</th>\n",
       "      <td>150</td>\n",
       "      <td>1</td>\n",
       "    </tr>\n",
       "    <tr>\n",
       "      <th>3</th>\n",
       "      <td>300</td>\n",
       "      <td>1</td>\n",
       "    </tr>\n",
       "    <tr>\n",
       "      <th>4</th>\n",
       "      <td>390</td>\n",
       "      <td>0</td>\n",
       "    </tr>\n",
       "    <tr>\n",
       "      <th>5</th>\n",
       "      <td>400</td>\n",
       "      <td>0</td>\n",
       "    </tr>\n",
       "    <tr>\n",
       "      <th>6</th>\n",
       "      <td>500</td>\n",
       "      <td>0</td>\n",
       "    </tr>\n",
       "  </tbody>\n",
       "</table>\n",
       "</div>"
      ],
      "text/plain": [
       "   value  label\n",
       "0     30      0\n",
       "1    120      0\n",
       "2    150      1\n",
       "3    300      1\n",
       "4    390      0\n",
       "5    400      0\n",
       "6    500      0"
      ]
     },
     "execution_count": 7,
     "metadata": {},
     "output_type": "execute_result"
    }
   ],
   "source": [
    "sorted_data"
   ]
  },
  {
   "cell_type": "code",
   "execution_count": 8,
   "id": "f3d9e666",
   "metadata": {},
   "outputs": [],
   "source": [
    "# 정답이 바뀌는 경계 지점 찾기\n",
    "boundary = sorted_data[\"label\"].diff() != 0"
   ]
  },
  {
   "cell_type": "code",
   "execution_count": 9,
   "id": "aa57268b",
   "metadata": {},
   "outputs": [
    {
     "data": {
      "text/plain": [
       "0     True\n",
       "1    False\n",
       "2     True\n",
       "3    False\n",
       "4     True\n",
       "5    False\n",
       "6    False\n",
       "Name: label, dtype: bool"
      ]
     },
     "execution_count": 9,
     "metadata": {},
     "output_type": "execute_result"
    }
   ],
   "source": [
    "boundary"
   ]
  },
  {
   "cell_type": "code",
   "execution_count": 10,
   "id": "3c557977",
   "metadata": {},
   "outputs": [],
   "source": [
    "boundary[0] = False"
   ]
  },
  {
   "cell_type": "code",
   "execution_count": 11,
   "id": "63928b8c",
   "metadata": {},
   "outputs": [],
   "source": [
    "boundary_idx = boundary.loc[boundary].index"
   ]
  },
  {
   "cell_type": "code",
   "execution_count": 12,
   "id": "bdaa93ac",
   "metadata": {},
   "outputs": [
    {
     "data": {
      "text/plain": [
       "Int64Index([2, 4], dtype='int64')"
      ]
     },
     "execution_count": 12,
     "metadata": {},
     "output_type": "execute_result"
    }
   ],
   "source": [
    "boundary_idx"
   ]
  },
  {
   "cell_type": "code",
   "execution_count": 13,
   "id": "8022b772",
   "metadata": {},
   "outputs": [],
   "source": [
    "# 경계의 평균값을 기준으로 잡음\n",
    "idx_1 = boundary_idx[0]"
   ]
  },
  {
   "cell_type": "code",
   "execution_count": 14,
   "id": "6678ac99",
   "metadata": {},
   "outputs": [
    {
     "data": {
      "text/html": [
       "<div>\n",
       "<style scoped>\n",
       "    .dataframe tbody tr th:only-of-type {\n",
       "        vertical-align: middle;\n",
       "    }\n",
       "\n",
       "    .dataframe tbody tr th {\n",
       "        vertical-align: top;\n",
       "    }\n",
       "\n",
       "    .dataframe thead th {\n",
       "        text-align: right;\n",
       "    }\n",
       "</style>\n",
       "<table border=\"1\" class=\"dataframe\">\n",
       "  <thead>\n",
       "    <tr style=\"text-align: right;\">\n",
       "      <th></th>\n",
       "      <th>value</th>\n",
       "      <th>label</th>\n",
       "    </tr>\n",
       "  </thead>\n",
       "  <tbody>\n",
       "    <tr>\n",
       "      <th>1</th>\n",
       "      <td>120</td>\n",
       "      <td>0</td>\n",
       "    </tr>\n",
       "    <tr>\n",
       "      <th>2</th>\n",
       "      <td>150</td>\n",
       "      <td>1</td>\n",
       "    </tr>\n",
       "  </tbody>\n",
       "</table>\n",
       "</div>"
      ],
      "text/plain": [
       "   value  label\n",
       "1    120      0\n",
       "2    150      1"
      ]
     },
     "execution_count": 14,
     "metadata": {},
     "output_type": "execute_result"
    }
   ],
   "source": [
    "data.loc[[idx_1-1, idx_1]]"
   ]
  },
  {
   "cell_type": "code",
   "execution_count": 15,
   "id": "e126f355",
   "metadata": {},
   "outputs": [],
   "source": [
    "bound_value_1 = data.loc[[idx_1-1, idx_1], \"value\"].mean()"
   ]
  },
  {
   "cell_type": "code",
   "execution_count": 16,
   "id": "243efda3",
   "metadata": {},
   "outputs": [
    {
     "data": {
      "text/plain": [
       "135.0"
      ]
     },
     "execution_count": 16,
     "metadata": {},
     "output_type": "execute_result"
    }
   ],
   "source": [
    "bound_value_1"
   ]
  },
  {
   "cell_type": "code",
   "execution_count": 17,
   "id": "ca2453ef",
   "metadata": {},
   "outputs": [],
   "source": [
    "# 두번째 경계 구간\n",
    "idx_2 = boundary_idx[1]"
   ]
  },
  {
   "cell_type": "code",
   "execution_count": 18,
   "id": "414bf781",
   "metadata": {},
   "outputs": [],
   "source": [
    "bound_value_2 = data.loc[[idx_2-1, idx_2], \"value\"].mean()"
   ]
  },
  {
   "cell_type": "code",
   "execution_count": 19,
   "id": "c83848a3",
   "metadata": {},
   "outputs": [
    {
     "data": {
      "text/plain": [
       "395.0"
      ]
     },
     "execution_count": 19,
     "metadata": {},
     "output_type": "execute_result"
    }
   ],
   "source": [
    "bound_value_2"
   ]
  },
  {
   "cell_type": "code",
   "execution_count": 20,
   "id": "13b66b50",
   "metadata": {},
   "outputs": [],
   "source": [
    "# 구간별 경계값 기준으로 정보 이득 계산\n",
    "def gini_index(label): # 지니계수 계산\n",
    "    p1 = (label == 0).mean()\n",
    "    p2 = 1 - p1\n",
    "    return 1 - (p1 ** 2 + p2 ** 2)\n",
    "\n",
    "def concat_gini_index(left, right): # 두 부분을 합침\n",
    "    left_gini = gini_index(left)\n",
    "    right_gini = gini_index(right)\n",
    "    all_num = len(left) + len(right)\n",
    "    left_gini *= len(left) / all_num\n",
    "    right_gini *= len(right) / all_num\n",
    "    return left_gini + right_gini"
   ]
  },
  {
   "cell_type": "code",
   "execution_count": 21,
   "id": "c25696a1",
   "metadata": {},
   "outputs": [],
   "source": [
    "# 135 기준\n",
    "left_1 = sorted_data.loc[:idx_1 - 1, \"label\"]\n",
    "right_1 = sorted_data.loc[idx_1:, \"label\"]"
   ]
  },
  {
   "cell_type": "code",
   "execution_count": 22,
   "id": "89532909",
   "metadata": {},
   "outputs": [
    {
     "data": {
      "text/plain": [
       "0    0\n",
       "1    0\n",
       "Name: label, dtype: int64"
      ]
     },
     "execution_count": 22,
     "metadata": {},
     "output_type": "execute_result"
    }
   ],
   "source": [
    "left_1"
   ]
  },
  {
   "cell_type": "code",
   "execution_count": 23,
   "id": "6a37c594",
   "metadata": {},
   "outputs": [
    {
     "data": {
      "text/plain": [
       "0.48"
      ]
     },
     "execution_count": 23,
     "metadata": {},
     "output_type": "execute_result"
    }
   ],
   "source": [
    "gini_index(right_1)"
   ]
  },
  {
   "cell_type": "code",
   "execution_count": 24,
   "id": "2d5b9dbe",
   "metadata": {},
   "outputs": [
    {
     "data": {
      "text/plain": [
       "0.34285714285714286"
      ]
     },
     "execution_count": 24,
     "metadata": {},
     "output_type": "execute_result"
    }
   ],
   "source": [
    "concat_gini_index(left_1, right_1)"
   ]
  },
  {
   "cell_type": "code",
   "execution_count": 25,
   "id": "41ffe471",
   "metadata": {},
   "outputs": [],
   "source": [
    "# 345 기준\n",
    "left_2 = sorted_data.loc[:idx_2 - 1, \"label\"]\n",
    "right_2 = sorted_data.loc[idx_2:, \"label\"]"
   ]
  },
  {
   "cell_type": "code",
   "execution_count": 26,
   "id": "accc863d",
   "metadata": {},
   "outputs": [
    {
     "data": {
      "text/plain": [
       "0.2857142857142857"
      ]
     },
     "execution_count": 26,
     "metadata": {},
     "output_type": "execute_result"
    }
   ],
   "source": [
    "concat_gini_index(left_2, right_2)"
   ]
  },
  {
   "cell_type": "code",
   "execution_count": 27,
   "id": "b3c0a439",
   "metadata": {},
   "outputs": [],
   "source": [
    "# Decision Tree 패키지\n",
    "from sklearn.tree import DecisionTreeClassifier, plot_tree\n",
    "\n",
    "tree = DecisionTreeClassifier(max_depth=1)"
   ]
  },
  {
   "cell_type": "code",
   "execution_count": 28,
   "id": "ca1647cd",
   "metadata": {},
   "outputs": [
    {
     "data": {
      "text/plain": [
       "DecisionTreeClassifier(max_depth=1)"
      ]
     },
     "execution_count": 28,
     "metadata": {},
     "output_type": "execute_result"
    }
   ],
   "source": [
    "tree.fit(data[\"value\"].to_frame(), data[\"label\"])"
   ]
  },
  {
   "cell_type": "code",
   "execution_count": 29,
   "id": "b94470ee",
   "metadata": {},
   "outputs": [
    {
     "data": {
      "text/plain": [
       "[Text(167.4, 163.07999999999998, 'X[0] <= 345.0\\ngini = 0.408\\nsamples = 7\\nvalue = [5, 2]'),\n",
       " Text(83.7, 54.360000000000014, 'gini = 0.5\\nsamples = 4\\nvalue = [2, 2]'),\n",
       " Text(251.10000000000002, 54.360000000000014, 'gini = 0.0\\nsamples = 3\\nvalue = [3, 0]')]"
      ]
     },
     "execution_count": 29,
     "metadata": {},
     "output_type": "execute_result"
    },
    {
     "data": {
      "image/png": "[encoded data removed]",
      "text/plain": [
       "<Figure size 432x288 with 1 Axes>"
      ]
     },
     "metadata": {
      "needs_background": "light"
     },
     "output_type": "display_data"
    }
   ],
   "source": [
    "plot_tree(tree)"
   ]
  },
  {
   "cell_type": "code",
   "execution_count": null,
   "id": "962ed9cd",
   "metadata": {},
   "outputs": [],
   "source": []
  }
 ],
 "metadata": {
  "kernelspec": {
   "display_name": "Python 3",
   "language": "python",
   "name": "python3"
  },
  "language_info": {
   "codemirror_mode": {
    "name": "ipython",
    "version": 3
   },
   "file_extension": ".py",
   "mimetype": "text/x-python",
   "name": "python",
   "nbconvert_exporter": "python",
   "pygments_lexer": "ipython3",
   "version": "3.8.8"
  }
 },
 "nbformat": 4,
 "nbformat_minor": 5
}
