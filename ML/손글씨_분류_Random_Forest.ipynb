{
 "cells": [
  {
   "cell_type": "code",
   "execution_count": 1,
   "id": "06fc5152",
   "metadata": {},
   "outputs": [],
   "source": [
    "import pandas as pd\n",
    "import numpy as np\n",
    "import matplotlib.pyplot as plt\n",
    "\n",
    "np.random.seed(2022)"
   ]
  },
  {
   "cell_type": "code",
   "execution_count": 2,
   "id": "a23539e5",
   "metadata": {},
   "outputs": [],
   "source": [
    "# Data Load\n",
    "from sklearn.datasets import load_digits\n",
    "\n",
    "digits = load_digits()"
   ]
  },
  {
   "cell_type": "code",
   "execution_count": 3,
   "id": "39816735",
   "metadata": {},
   "outputs": [],
   "source": [
    "data, target = digits[\"data\"], digits[\"target\"]"
   ]
  },
  {
   "cell_type": "code",
   "execution_count": 4,
   "id": "a03a1193",
   "metadata": {},
   "outputs": [
    {
     "data": {
      "text/plain": [
       "(array([ 0.,  0.,  5., 13.,  9.,  1.,  0.,  0.,  0.,  0., 13., 15., 10.,\n",
       "        15.,  5.,  0.,  0.,  3., 15.,  2.,  0., 11.,  8.,  0.,  0.,  4.,\n",
       "        12.,  0.,  0.,  8.,  8.,  0.,  0.,  5.,  8.,  0.,  0.,  9.,  8.,\n",
       "         0.,  0.,  4., 11.,  0.,  1., 12.,  7.,  0.,  0.,  2., 14.,  5.,\n",
       "        10., 12.,  0.,  0.,  0.,  0.,  6., 13., 10.,  0.,  0.,  0.]),\n",
       " 0)"
      ]
     },
     "execution_count": 4,
     "metadata": {},
     "output_type": "execute_result"
    }
   ],
   "source": [
    "# Data EDA\n",
    "# 데이터는 각 픽셀의 값을 나타냄\n",
    "data[0], target[0]"
   ]
  },
  {
   "cell_type": "code",
   "execution_count": 5,
   "id": "055c58db",
   "metadata": {},
   "outputs": [
    {
     "data": {
      "text/plain": [
       "(64,)"
      ]
     },
     "execution_count": 5,
     "metadata": {},
     "output_type": "execute_result"
    }
   ],
   "source": [
    "data[0].shape"
   ]
  },
  {
   "cell_type": "code",
   "execution_count": 6,
   "id": "1f89055a",
   "metadata": {},
   "outputs": [
    {
     "data": {
      "image/png": "[encoded data removed]",
      "text/plain": [
       "<Figure size 1440x720 with 10 Axes>"
      ]
     },
     "metadata": {
      "needs_background": "light"
     },
     "output_type": "display_data"
    }
   ],
   "source": [
    "samples = data[:10].reshape(10, 8, 8)\n",
    "fig, axes = plt.subplots(nrows=2, ncols=5, figsize=(20, 10))\n",
    "for idx, sample in enumerate(samples):\n",
    "    axes[idx//5, idx%5].imshow(sample, cmap=\"gray\")"
   ]
  },
  {
   "cell_type": "code",
   "execution_count": 8,
   "id": "23dddd53",
   "metadata": {},
   "outputs": [],
   "source": [
    "# Data Split\n",
    "from sklearn.model_selection import train_test_split\n",
    "\n",
    "train_data, test_data, train_target, test_target = train_test_split(\n",
    "    data, target, train_size=0.7, random_state=2021\n",
    ")"
   ]
  },
  {
   "cell_type": "code",
   "execution_count": 9,
   "id": "3975d0e8",
   "metadata": {},
   "outputs": [
    {
     "name": "stdout",
     "output_type": "stream",
     "text": [
      "train_data size: 1257, 0.70\n",
      "test_data size: 540, 0.30\n"
     ]
    }
   ],
   "source": [
    "print(f\"train_data size: {len(train_target)}, {len(train_target)/len(data):.2f}\")\n",
    "print(f\"test_data size: {len(test_target)}, {len(test_target)/len(data):.2f}\")"
   ]
  },
  {
   "cell_type": "code",
   "execution_count": 10,
   "id": "a654af6d",
   "metadata": {},
   "outputs": [],
   "source": [
    "# Random Forest\n",
    "from sklearn.ensemble import RandomForestClassifier\n",
    "\n",
    "random_forest = RandomForestClassifier()"
   ]
  },
  {
   "cell_type": "code",
   "execution_count": 11,
   "id": "6d76ae22",
   "metadata": {},
   "outputs": [
    {
     "data": {
      "text/plain": [
       "RandomForestClassifier()"
      ]
     },
     "execution_count": 11,
     "metadata": {},
     "output_type": "execute_result"
    }
   ],
   "source": [
    "# 학습\n",
    "random_forest.fit(train_data, train_target)"
   ]
  },
  {
   "cell_type": "code",
   "execution_count": 12,
   "id": "aebe2d92",
   "metadata": {},
   "outputs": [
    {
     "data": {
      "text/plain": [
       "array([0.00000000e+00, 2.86476846e-03, 2.20262290e-02, 1.07202731e-02,\n",
       "       1.02529687e-02, 1.94138907e-02, 8.18200569e-03, 5.52223559e-04,\n",
       "       4.86855984e-05, 9.31125072e-03, 2.56503406e-02, 6.89928609e-03,\n",
       "       1.60626789e-02, 2.73384846e-02, 5.98019686e-03, 3.97244449e-04,\n",
       "       0.00000000e+00, 7.73430344e-03, 1.81398549e-02, 2.92864713e-02,\n",
       "       3.07592438e-02, 4.53341968e-02, 9.46471688e-03, 2.29135369e-04,\n",
       "       1.75014479e-05, 1.20732735e-02, 4.38330340e-02, 2.64423217e-02,\n",
       "       3.11153019e-02, 2.49984570e-02, 2.74485316e-02, 6.11851427e-05,\n",
       "       0.00000000e+00, 3.17716230e-02, 2.81586554e-02, 1.90358446e-02,\n",
       "       3.55391450e-02, 1.89226747e-02, 2.45581387e-02, 0.00000000e+00,\n",
       "       8.88253017e-05, 1.19646392e-02, 4.06565110e-02, 4.70246795e-02,\n",
       "       1.97954876e-02, 2.00930041e-02, 1.61148445e-02, 9.30797448e-05,\n",
       "       0.00000000e+00, 2.81342638e-03, 1.60415786e-02, 2.03505442e-02,\n",
       "       1.46509022e-02, 2.15067473e-02, 2.46427971e-02, 1.52076453e-03,\n",
       "       6.14210631e-05, 2.27192694e-03, 2.42506342e-02, 9.94108401e-03,\n",
       "       2.54403924e-02, 3.11938802e-02, 1.55263488e-02, 3.33234410e-03])"
      ]
     },
     "execution_count": 12,
     "metadata": {},
     "output_type": "execute_result"
    }
   ],
   "source": [
    "# Feature importance\n",
    "random_forest.feature_importances_"
   ]
  },
  {
   "cell_type": "code",
   "execution_count": 13,
   "id": "7329ec10",
   "metadata": {},
   "outputs": [],
   "source": [
    "feature_importance = pd.Series(random_forest.feature_importances_)"
   ]
  },
  {
   "cell_type": "code",
   "execution_count": 14,
   "id": "c55f5c67",
   "metadata": {},
   "outputs": [
    {
     "data": {
      "text/plain": [
       "0    0.000000\n",
       "1    0.002865\n",
       "2    0.022026\n",
       "3    0.010720\n",
       "4    0.010253\n",
       "5    0.019414\n",
       "6    0.008182\n",
       "7    0.000552\n",
       "8    0.000049\n",
       "9    0.009311\n",
       "dtype: float64"
      ]
     },
     "execution_count": 14,
     "metadata": {},
     "output_type": "execute_result"
    }
   ],
   "source": [
    "feature_importance.head(10)"
   ]
  },
  {
   "cell_type": "code",
   "execution_count": 15,
   "id": "0e2066c2",
   "metadata": {},
   "outputs": [],
   "source": [
    "feature_importance = feature_importance.sort_values(ascending=False)"
   ]
  },
  {
   "cell_type": "code",
   "execution_count": 16,
   "id": "670bb520",
   "metadata": {},
   "outputs": [
    {
     "data": {
      "text/plain": [
       "43    0.047025\n",
       "21    0.045334\n",
       "26    0.043833\n",
       "42    0.040657\n",
       "36    0.035539\n",
       "33    0.031772\n",
       "61    0.031194\n",
       "28    0.031115\n",
       "20    0.030759\n",
       "19    0.029286\n",
       "dtype: float64"
      ]
     },
     "execution_count": 16,
     "metadata": {},
     "output_type": "execute_result"
    }
   ],
   "source": [
    "feature_importance.head(10)"
   ]
  },
  {
   "cell_type": "code",
   "execution_count": 17,
   "id": "bb13c22c",
   "metadata": {},
   "outputs": [
    {
     "data": {
      "text/plain": [
       "<AxesSubplot:>"
      ]
     },
     "execution_count": 17,
     "metadata": {},
     "output_type": "execute_result"
    },
    {
     "data": {
      "image/png": "[encoded data removed]",
      "text/plain": [
       "<Figure size 432x288 with 1 Axes>"
      ]
     },
     "metadata": {
      "needs_background": "light"
     },
     "output_type": "display_data"
    }
   ],
   "source": [
    "feature_importance.head(10).plot(kind=\"barh\")"
   ]
  },
  {
   "cell_type": "code",
   "execution_count": 18,
   "id": "23137187",
   "metadata": {},
   "outputs": [
    {
     "data": {
      "text/plain": [
       "(-0.5, 7.5, 7.5, -0.5)"
      ]
     },
     "execution_count": 18,
     "metadata": {},
     "output_type": "execute_result"
    },
    {
     "data": {
      "image/png": "[encoded data removed]",
      "text/plain": [
       "<Figure size 432x288 with 2 Axes>"
      ]
     },
     "metadata": {
      "needs_background": "light"
     },
     "output_type": "display_data"
    }
   ],
   "source": [
    "image = random_forest.feature_importances_.reshape(8, 8)\n",
    "\n",
    "plt.imshow(image, cmap=plt.cm.hot, interpolation=\"nearest\")\n",
    "cbar = plt.colorbar(ticks=[random_forest.feature_importances_.min(), random_forest.feature_importances_.max()])\n",
    "cbar.ax.set_yticklabels(['Not Important', 'Very Important'])\n",
    "plt.axis(\"off\")\n",
    "# 밝을수록 중요한 픽셀"
   ]
  },
  {
   "cell_type": "code",
   "execution_count": 19,
   "id": "7fc8780d",
   "metadata": {},
   "outputs": [],
   "source": [
    "# 예측\n",
    "train_pred = random_forest.predict(train_data)\n",
    "test_pred = random_forest.predict(test_data)"
   ]
  },
  {
   "cell_type": "code",
   "execution_count": 20,
   "id": "c69e9187",
   "metadata": {},
   "outputs": [
    {
     "data": {
      "text/plain": [
       "<matplotlib.image.AxesImage at 0x1b42ddeedc0>"
      ]
     },
     "execution_count": 20,
     "metadata": {},
     "output_type": "execute_result"
    },
    {
     "data": {
      "image/png": "[encoded data removed]",
      "text/plain": [
       "<Figure size 432x288 with 1 Axes>"
      ]
     },
     "metadata": {
      "needs_background": "light"
     },
     "output_type": "display_data"
    }
   ],
   "source": [
    "plt.imshow(train_data[4].reshape(8, 8), cmap=\"gray\")"
   ]
  },
  {
   "cell_type": "code",
   "execution_count": 21,
   "id": "56639b5e",
   "metadata": {},
   "outputs": [
    {
     "data": {
      "text/plain": [
       "9"
      ]
     },
     "execution_count": 21,
     "metadata": {},
     "output_type": "execute_result"
    }
   ],
   "source": [
    "train_pred[4]"
   ]
  },
  {
   "cell_type": "code",
   "execution_count": 22,
   "id": "6c211dc9",
   "metadata": {},
   "outputs": [],
   "source": [
    "# 평가\n",
    "from sklearn.metrics import accuracy_score\n",
    "\n",
    "train_acc = accuracy_score(train_target, train_pred)\n",
    "test_acc = accuracy_score(test_target, test_pred)"
   ]
  },
  {
   "cell_type": "code",
   "execution_count": 23,
   "id": "fd40dc6f",
   "metadata": {},
   "outputs": [
    {
     "name": "stdout",
     "output_type": "stream",
     "text": [
      "train accuracy is 1.0000\n",
      "test accuracy is 0.9648\n"
     ]
    }
   ],
   "source": [
    "print(f\"train accuracy is {train_acc:.4f}\")\n",
    "print(f\"test accuracy is {test_acc:.4f}\")"
   ]
  },
  {
   "cell_type": "code",
   "execution_count": 24,
   "id": "cd0521eb",
   "metadata": {},
   "outputs": [],
   "source": [
    "# Hyper Parameter tuning by Grid search\n",
    "from sklearn.model_selection import GridSearchCV"
   ]
  },
  {
   "cell_type": "code",
   "execution_count": 25,
   "id": "84544e94",
   "metadata": {},
   "outputs": [],
   "source": [
    "# 탐색 범위 지정\n",
    "params = {\n",
    "    \"n_estimators\": [i for i in range(100, 1000, 200)],\n",
    "    \"max_depth\": [i for i in range(10, 50, 10)],\n",
    "}"
   ]
  },
  {
   "cell_type": "code",
   "execution_count": 26,
   "id": "8f18fa81",
   "metadata": {},
   "outputs": [
    {
     "data": {
      "text/plain": [
       "{'n_estimators': [100, 300, 500, 700, 900], 'max_depth': [10, 20, 30, 40]}"
      ]
     },
     "execution_count": 26,
     "metadata": {},
     "output_type": "execute_result"
    }
   ],
   "source": [
    "params"
   ]
  },
  {
   "cell_type": "code",
   "execution_count": 27,
   "id": "645689c3",
   "metadata": {},
   "outputs": [],
   "source": [
    "# 탐색에 사용할 모델 생성\n",
    "random_forest = RandomForestClassifier()"
   ]
  },
  {
   "cell_type": "code",
   "execution_count": 28,
   "id": "1caa51e8",
   "metadata": {},
   "outputs": [],
   "source": [
    "# 5*4*3 = 60개의 모델 탐색\n",
    "grid = GridSearchCV(estimator=random_forest, param_grid=params, cv=3)\n",
    "grid = grid.fit(train_data, train_target)"
   ]
  },
  {
   "cell_type": "code",
   "execution_count": 29,
   "id": "04cc81c9",
   "metadata": {},
   "outputs": [
    {
     "name": "stdout",
     "output_type": "stream",
     "text": [
      "Best score of paramter search is: 0.9722\n"
     ]
    }
   ],
   "source": [
    "print(f\"Best score of paramter search is: {grid.best_score_:.4f}\")"
   ]
  },
  {
   "cell_type": "code",
   "execution_count": 30,
   "id": "e023249b",
   "metadata": {},
   "outputs": [
    {
     "data": {
      "text/plain": [
       "{'max_depth': 20, 'n_estimators': 500}"
      ]
     },
     "execution_count": 30,
     "metadata": {},
     "output_type": "execute_result"
    }
   ],
   "source": [
    "# 최적의 Hyper Parameter 확인\n",
    "grid.best_params_"
   ]
  },
  {
   "cell_type": "code",
   "execution_count": 31,
   "id": "d5859bd4",
   "metadata": {},
   "outputs": [
    {
     "name": "stdout",
     "output_type": "stream",
     "text": [
      "Best parameter of best score is\n",
      "\t max_depth: 20\n",
      "\t n_estimators: 500\n"
     ]
    }
   ],
   "source": [
    "print(\"Best parameter of best score is\")\n",
    "print(f\"\\t max_depth: {grid.best_params_['max_depth']}\")\n",
    "print(f\"\\t n_estimators: {grid.best_params_['n_estimators']}\")"
   ]
  },
  {
   "cell_type": "code",
   "execution_count": 32,
   "id": "f55c0599",
   "metadata": {},
   "outputs": [],
   "source": [
    "best_rf = grid.best_estimator_"
   ]
  },
  {
   "cell_type": "code",
   "execution_count": 33,
   "id": "03fe4dda",
   "metadata": {},
   "outputs": [
    {
     "data": {
      "text/plain": [
       "RandomForestClassifier(max_depth=20, n_estimators=500)"
      ]
     },
     "execution_count": 33,
     "metadata": {},
     "output_type": "execute_result"
    }
   ],
   "source": [
    "best_rf"
   ]
  },
  {
   "cell_type": "code",
   "execution_count": 34,
   "id": "a006b7f6",
   "metadata": {},
   "outputs": [],
   "source": [
    "# 예측\n",
    "train_pred = best_rf.predict(train_data)\n",
    "test_pred = best_rf.predict(test_data)"
   ]
  },
  {
   "cell_type": "code",
   "execution_count": 35,
   "id": "47e27529",
   "metadata": {},
   "outputs": [],
   "source": [
    "# 평가\n",
    "best_train_acc = accuracy_score(train_target, train_pred)\n",
    "best_test_acc = accuracy_score(test_target, test_pred)"
   ]
  },
  {
   "cell_type": "code",
   "execution_count": 36,
   "id": "1e823f5b",
   "metadata": {},
   "outputs": [
    {
     "name": "stdout",
     "output_type": "stream",
     "text": [
      "Best parameter train accuracy is 1.0000\n",
      "Best parameter test accuracy is 0.9722\n"
     ]
    }
   ],
   "source": [
    "print(f\"Best parameter train accuracy is {best_train_acc:.4f}\")\n",
    "print(f\"Best parameter test accuracy is {best_test_acc:.4f}\")"
   ]
  },
  {
   "cell_type": "code",
   "execution_count": 37,
   "id": "32ddebfb",
   "metadata": {},
   "outputs": [
    {
     "name": "stdout",
     "output_type": "stream",
     "text": [
      "train accuracy is 1.0000\n",
      "test accuracy is 0.9648\n"
     ]
    }
   ],
   "source": [
    "print(f\"train accuracy is {train_acc:.4f}\")\n",
    "print(f\"test accuracy is {test_acc:.4f}\")"
   ]
  },
  {
   "cell_type": "code",
   "execution_count": 38,
   "id": "b905197d",
   "metadata": {},
   "outputs": [],
   "source": [
    "# Feature Importance\n",
    "best_feature_importance = pd.Series(best_rf.feature_importances_)"
   ]
  },
  {
   "cell_type": "code",
   "execution_count": 39,
   "id": "6fb102f8",
   "metadata": {},
   "outputs": [],
   "source": [
    "best_feature_importance = best_feature_importance.sort_values(ascending=False)"
   ]
  },
  {
   "cell_type": "code",
   "execution_count": 40,
   "id": "f81c4303",
   "metadata": {},
   "outputs": [
    {
     "data": {
      "text/plain": [
       "21    0.046178\n",
       "43    0.044122\n",
       "26    0.043758\n",
       "36    0.038039\n",
       "42    0.036462\n",
       "28    0.032457\n",
       "33    0.031358\n",
       "20    0.029997\n",
       "30    0.029790\n",
       "13    0.027614\n",
       "dtype: float64"
      ]
     },
     "execution_count": 40,
     "metadata": {},
     "output_type": "execute_result"
    }
   ],
   "source": [
    "best_feature_importance.head(10)"
   ]
  },
  {
   "cell_type": "code",
   "execution_count": 41,
   "id": "b6671b0c",
   "metadata": {},
   "outputs": [
    {
     "data": {
      "text/plain": [
       "<AxesSubplot:title={'center':'Best Parameter Feature Importance'}>"
      ]
     },
     "execution_count": 41,
     "metadata": {},
     "output_type": "execute_result"
    },
    {
     "data": {
      "image/png": "[encoded data removed]",
      "text/plain": [
       "<Figure size 1080x360 with 2 Axes>"
      ]
     },
     "metadata": {
      "needs_background": "light"
     },
     "output_type": "display_data"
    }
   ],
   "source": [
    "fig, axes = plt.subplots(nrows=1, ncols=2, figsize=(15, 5))\n",
    "feature_importance.head(10).plot(kind=\"barh\", ax=axes[0], title=\"Random Forest Feature Importance\")\n",
    "best_feature_importance.head(10).plot(kind=\"barh\", ax=axes[1], title=\"Best Parameter Feature Importance\")"
   ]
  },
  {
   "cell_type": "code",
   "execution_count": null,
   "id": "3c41b1b9",
   "metadata": {},
   "outputs": [],
   "source": []
  }
 ],
 "metadata": {
  "kernelspec": {
   "display_name": "Python 3",
   "language": "python",
   "name": "python3"
  },
  "language_info": {
   "codemirror_mode": {
    "name": "ipython",
    "version": 3
   },
   "file_extension": ".py",
   "mimetype": "text/x-python",
   "name": "python",
   "nbconvert_exporter": "python",
   "pygments_lexer": "ipython3",
   "version": "3.8.8"
  }
 },
 "nbformat": 4,
 "nbformat_minor": 5
}
