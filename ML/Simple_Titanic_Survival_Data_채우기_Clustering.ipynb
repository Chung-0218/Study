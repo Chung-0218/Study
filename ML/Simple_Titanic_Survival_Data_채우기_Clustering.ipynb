{
 "cells": [
  {
   "cell_type": "code",
   "execution_count": 1,
   "id": "00bf0511",
   "metadata": {},
   "outputs": [],
   "source": [
    "import pandas as pd\n",
    "import numpy as np\n",
    "import matplotlib.pyplot as plt\n",
    "\n",
    "np.random.seed(2022)"
   ]
  },
  {
   "cell_type": "code",
   "execution_count": 2,
   "id": "278b8dc6",
   "metadata": {},
   "outputs": [],
   "source": [
    "# Data\n",
    "titanic = pd.read_csv(\"simple_titanic.csv\")"
   ]
  },
  {
   "cell_type": "code",
   "execution_count": 3,
   "id": "7c4f1c29",
   "metadata": {},
   "outputs": [
    {
     "data": {
      "text/plain": [
       "Index(['Survived', 'Pclass', 'Sex', 'Age', 'Fare', 'Embarked'], dtype='object')"
      ]
     },
     "execution_count": 3,
     "metadata": {},
     "output_type": "execute_result"
    }
   ],
   "source": [
    "titanic.columns"
   ]
  },
  {
   "cell_type": "code",
   "execution_count": 4,
   "id": "654bd8ae",
   "metadata": {},
   "outputs": [],
   "source": [
    "# 예측할 값 Survived를 label에 할당, data에서 제거\n",
    "label = titanic[\"Survived\"]\n",
    "data = titanic.drop([\"Survived\"], axis=1)"
   ]
  },
  {
   "cell_type": "code",
   "execution_count": 5,
   "id": "8bd55c9d",
   "metadata": {},
   "outputs": [
    {
     "data": {
      "text/html": [
       "<div>\n",
       "<style scoped>\n",
       "    .dataframe tbody tr th:only-of-type {\n",
       "        vertical-align: middle;\n",
       "    }\n",
       "\n",
       "    .dataframe tbody tr th {\n",
       "        vertical-align: top;\n",
       "    }\n",
       "\n",
       "    .dataframe thead th {\n",
       "        text-align: right;\n",
       "    }\n",
       "</style>\n",
       "<table border=\"1\" class=\"dataframe\">\n",
       "  <thead>\n",
       "    <tr style=\"text-align: right;\">\n",
       "      <th></th>\n",
       "      <th>Pclass</th>\n",
       "      <th>Age</th>\n",
       "      <th>Fare</th>\n",
       "    </tr>\n",
       "  </thead>\n",
       "  <tbody>\n",
       "    <tr>\n",
       "      <th>count</th>\n",
       "      <td>1306.000000</td>\n",
       "      <td>1043.000000</td>\n",
       "      <td>1306.000000</td>\n",
       "    </tr>\n",
       "    <tr>\n",
       "      <th>mean</th>\n",
       "      <td>2.296325</td>\n",
       "      <td>29.813202</td>\n",
       "      <td>33.223956</td>\n",
       "    </tr>\n",
       "    <tr>\n",
       "      <th>std</th>\n",
       "      <td>0.837037</td>\n",
       "      <td>14.366254</td>\n",
       "      <td>51.765986</td>\n",
       "    </tr>\n",
       "    <tr>\n",
       "      <th>min</th>\n",
       "      <td>1.000000</td>\n",
       "      <td>0.170000</td>\n",
       "      <td>0.000000</td>\n",
       "    </tr>\n",
       "    <tr>\n",
       "      <th>25%</th>\n",
       "      <td>2.000000</td>\n",
       "      <td>21.000000</td>\n",
       "      <td>7.895800</td>\n",
       "    </tr>\n",
       "    <tr>\n",
       "      <th>50%</th>\n",
       "      <td>3.000000</td>\n",
       "      <td>28.000000</td>\n",
       "      <td>14.454200</td>\n",
       "    </tr>\n",
       "    <tr>\n",
       "      <th>75%</th>\n",
       "      <td>3.000000</td>\n",
       "      <td>39.000000</td>\n",
       "      <td>31.275000</td>\n",
       "    </tr>\n",
       "    <tr>\n",
       "      <th>max</th>\n",
       "      <td>3.000000</td>\n",
       "      <td>80.000000</td>\n",
       "      <td>512.329200</td>\n",
       "    </tr>\n",
       "  </tbody>\n",
       "</table>\n",
       "</div>"
      ],
      "text/plain": [
       "            Pclass          Age         Fare\n",
       "count  1306.000000  1043.000000  1306.000000\n",
       "mean      2.296325    29.813202    33.223956\n",
       "std       0.837037    14.366254    51.765986\n",
       "min       1.000000     0.170000     0.000000\n",
       "25%       2.000000    21.000000     7.895800\n",
       "50%       3.000000    28.000000    14.454200\n",
       "75%       3.000000    39.000000    31.275000\n",
       "max       3.000000    80.000000   512.329200"
      ]
     },
     "execution_count": 5,
     "metadata": {},
     "output_type": "execute_result"
    }
   ],
   "source": [
    "# Data EDA\n",
    "data.describe()\n",
    "# Sex와 Embarked는 범주형 변수"
   ]
  },
  {
   "cell_type": "code",
   "execution_count": 6,
   "id": "5a43ae74",
   "metadata": {},
   "outputs": [
    {
     "data": {
      "text/plain": [
       "male      842\n",
       "female    464\n",
       "Name: Sex, dtype: int64"
      ]
     },
     "execution_count": 6,
     "metadata": {},
     "output_type": "execute_result"
    }
   ],
   "source": [
    "data[\"Sex\"].value_counts()"
   ]
  },
  {
   "cell_type": "code",
   "execution_count": 7,
   "id": "f223826b",
   "metadata": {},
   "outputs": [
    {
     "data": {
      "text/plain": [
       "S    913\n",
       "C    270\n",
       "Q    123\n",
       "Name: Embarked, dtype: int64"
      ]
     },
     "execution_count": 7,
     "metadata": {},
     "output_type": "execute_result"
    }
   ],
   "source": [
    "data[\"Embarked\"].value_counts()"
   ]
  },
  {
   "cell_type": "code",
   "execution_count": 8,
   "id": "b7e557b3",
   "metadata": {},
   "outputs": [
    {
     "data": {
      "text/plain": [
       "Pclass        0\n",
       "Sex           0\n",
       "Age         263\n",
       "Fare          0\n",
       "Embarked      0\n",
       "dtype: int64"
      ]
     },
     "execution_count": 8,
     "metadata": {},
     "output_type": "execute_result"
    }
   ],
   "source": [
    "# 결측치 확인\n",
    "data.isna().sum()"
   ]
  },
  {
   "cell_type": "code",
   "execution_count": 9,
   "id": "8514dee0",
   "metadata": {},
   "outputs": [
    {
     "data": {
      "text/plain": [
       "0    814\n",
       "1    492\n",
       "Name: Survived, dtype: int64"
      ]
     },
     "execution_count": 9,
     "metadata": {},
     "output_type": "execute_result"
    }
   ],
   "source": [
    "label.value_counts()\n",
    "# 0이 생존X, 1이 생존"
   ]
  },
  {
   "cell_type": "code",
   "execution_count": 10,
   "id": "7d773979",
   "metadata": {},
   "outputs": [],
   "source": [
    "# Data Preprocess\n",
    "# 범주형 변수를 정수로 변환\n",
    "data.loc[:, \"Sex\"] = data[\"Sex\"].map({\"male\": 0, \"female\": 1})\n",
    "data.loc[:, \"Embarked\"] = data[\"Embarked\"].map({\"S\": 0, \"C\": 1, \"Q\": 2})"
   ]
  },
  {
   "cell_type": "code",
   "execution_count": 11,
   "id": "3bf5f415",
   "metadata": {},
   "outputs": [],
   "source": [
    "# Data Split\n",
    "from sklearn.model_selection import train_test_split\n",
    "\n",
    "# train, valid\n",
    "train_data, validation_data, train_label, validation_label = train_test_split(data, label, train_size=0.6, random_state=2022)"
   ]
  },
  {
   "cell_type": "code",
   "execution_count": 12,
   "id": "93d22f89",
   "metadata": {},
   "outputs": [],
   "source": [
    "# valid, test\n",
    "valid_data, test_data, valid_label, test_label = train_test_split(validation_data, validation_label, train_size=0.5, random_state=2022)"
   ]
  },
  {
   "cell_type": "code",
   "execution_count": 13,
   "id": "1e8cfae9",
   "metadata": {},
   "outputs": [
    {
     "name": "stdout",
     "output_type": "stream",
     "text": [
      "train_data size: 783, 0.60\n",
      "valid_data size: 261, 0.20\n",
      "test_data size: 262, 0.20\n"
     ]
    }
   ],
   "source": [
    "# 6:2:2로 data split\n",
    "print(f\"train_data size: {len(train_label)}, {len(train_label)/len(data):.2f}\")\n",
    "print(f\"valid_data size: {len(valid_label)}, {len(valid_label)/len(data):.2f}\")\n",
    "print(f\"test_data size: {len(test_label)}, {len(test_label)/len(data):.2f}\")"
   ]
  },
  {
   "cell_type": "code",
   "execution_count": 14,
   "id": "78f8d01a",
   "metadata": {},
   "outputs": [],
   "source": [
    "# for pandas data index reset\n",
    "train_data = train_data.reset_index(drop=True)\n",
    "valid_data = valid_data.reset_index(drop=True)\n",
    "test_data = test_data.reset_index(drop=True)\n",
    "train_label = train_label.reset_index(drop=True)\n",
    "valid_label = valid_label.reset_index(drop=True)\n",
    "test_label = test_label.reset_index(drop=True)"
   ]
  },
  {
   "cell_type": "code",
   "execution_count": 15,
   "id": "bdf6fc0c",
   "metadata": {},
   "outputs": [
    {
     "data": {
      "text/plain": [
       "Index(['Age'], dtype='object')"
      ]
     },
     "execution_count": 15,
     "metadata": {},
     "output_type": "execute_result"
    }
   ],
   "source": [
    "# 빈 데이터 채우기 3가지 방법\n",
    "na_cnt = data.isna().sum()\n",
    "na_cnt.loc[na_cnt > 0].index"
   ]
  },
  {
   "cell_type": "code",
   "execution_count": 16,
   "id": "ee40f19d",
   "metadata": {},
   "outputs": [],
   "source": [
    "# 사용하지 않는 방법\n",
    "drop_data = data.dropna()"
   ]
  },
  {
   "cell_type": "code",
   "execution_count": 17,
   "id": "a60b39ef",
   "metadata": {},
   "outputs": [
    {
     "name": "stdout",
     "output_type": "stream",
     "text": [
      "전체 데이터 개수: 1306\n",
      "값이 비어있는 데이터를 버린 후 데이터 개수: 1043\n",
      "버려진 데이터 개수: 263\n"
     ]
    }
   ],
   "source": [
    "print(f\"전체 데이터 개수: {len(data)}\")\n",
    "print(f\"값이 비어있는 데이터를 버린 후 데이터 개수: {len(drop_data)}\")\n",
    "print(f\"버려진 데이터 개수: {len(data) - len(drop_data)}\")"
   ]
  },
  {
   "cell_type": "code",
   "execution_count": 18,
   "id": "6abf7b9e",
   "metadata": {},
   "outputs": [],
   "source": [
    "# 전체 데이터의 평균으로 채우는 방법\n",
    "# 데이터 복사\n",
    "mean_train_data = train_data.copy()\n",
    "mean_valid_data = valid_data.copy()\n",
    "mean_test_data = test_data.copy()"
   ]
  },
  {
   "cell_type": "code",
   "execution_count": 19,
   "id": "d84d6968",
   "metadata": {},
   "outputs": [
    {
     "data": {
      "text/plain": [
       "30.13604100946372"
      ]
     },
     "execution_count": 19,
     "metadata": {},
     "output_type": "execute_result"
    }
   ],
   "source": [
    "# 빈 값이 있는 train data의 age의 평균\n",
    "age_mean = mean_train_data[\"Age\"].mean()\n",
    "age_mean"
   ]
  },
  {
   "cell_type": "code",
   "execution_count": 20,
   "id": "d2b74fe4",
   "metadata": {},
   "outputs": [],
   "source": [
    "# 빈 데이터 채우기\n",
    "mean_train_data.loc[:, \"Age\"] = mean_train_data[\"Age\"].fillna(age_mean)\n",
    "mean_valid_data.loc[:, \"Age\"] = mean_valid_data[\"Age\"].fillna(age_mean)\n",
    "mean_test_data.loc[:, \"Age\"] = mean_test_data[\"Age\"].fillna(age_mean)"
   ]
  },
  {
   "cell_type": "code",
   "execution_count": 21,
   "id": "8b314a67",
   "metadata": {},
   "outputs": [
    {
     "data": {
      "text/plain": [
       "Pclass      0\n",
       "Sex         0\n",
       "Age         0\n",
       "Fare        0\n",
       "Embarked    0\n",
       "dtype: int64"
      ]
     },
     "execution_count": 21,
     "metadata": {},
     "output_type": "execute_result"
    }
   ],
   "source": [
    "# 빈 데이터 수 zero\n",
    "mean_train_data.isna().sum()"
   ]
  },
  {
   "cell_type": "code",
   "execution_count": 22,
   "id": "f0547957",
   "metadata": {},
   "outputs": [],
   "source": [
    "# 비슷한 데이터의 평균으로 채우는 방법\n",
    "cluster_train_data = train_data.copy()\n",
    "cluster_valid_data = valid_data.copy()\n",
    "cluster_test_data = test_data.copy()"
   ]
  },
  {
   "cell_type": "code",
   "execution_count": 23,
   "id": "9b1027ac",
   "metadata": {},
   "outputs": [
    {
     "data": {
      "text/plain": [
       "StandardScaler()"
      ]
     },
     "execution_count": 23,
     "metadata": {},
     "output_type": "execute_result"
    }
   ],
   "source": [
    "# 정규화\n",
    "from sklearn.preprocessing import StandardScaler\n",
    "\n",
    "scaler = StandardScaler()\n",
    "scaler.fit(cluster_train_data.drop([\"Age\"], axis=1))"
   ]
  },
  {
   "cell_type": "code",
   "execution_count": 24,
   "id": "dbfd87a1",
   "metadata": {},
   "outputs": [],
   "source": [
    "train_fill_data = scaler.transform(cluster_train_data.drop([\"Age\"], axis=1))\n",
    "valid_fill_data = scaler.transform(cluster_valid_data.drop([\"Age\"], axis=1))\n",
    "test_fill_data = scaler.transform(cluster_test_data.drop([\"Age\"], axis=1))"
   ]
  },
  {
   "cell_type": "code",
   "execution_count": 25,
   "id": "8086b943",
   "metadata": {},
   "outputs": [],
   "source": [
    "# K값에 따른 SSE를 그려서 최적의 K값 찾기\n",
    "from sklearn.cluster import KMeans\n",
    "\n",
    "n_cluster = []\n",
    "sse = []\n",
    "for n in range(3, 15, 2):\n",
    "    kmeans = KMeans(n_clusters=n)\n",
    "    kmeans.fit(train_fill_data)\n",
    "    n_cluster += [n]\n",
    "    sse += [kmeans.inertia_]"
   ]
  },
  {
   "cell_type": "code",
   "execution_count": 26,
   "id": "564990b1",
   "metadata": {},
   "outputs": [
    {
     "data": {
      "text/plain": [
       "[<matplotlib.lines.Line2D at 0x1b90ca769a0>]"
      ]
     },
     "execution_count": 26,
     "metadata": {},
     "output_type": "execute_result"
    },
    {
     "data": {
      "image/png": "[encoded data removed]",
      "text/plain": [
       "<Figure size 432x288 with 1 Axes>"
      ]
     },
     "metadata": {
      "needs_background": "light"
     },
     "output_type": "display_data"
    }
   ],
   "source": [
    "plt.plot(n_cluster, sse)"
   ]
  },
  {
   "cell_type": "code",
   "execution_count": 27,
   "id": "84472a21",
   "metadata": {},
   "outputs": [],
   "source": [
    "# K = 7\n",
    "n_clusters = 7"
   ]
  },
  {
   "cell_type": "code",
   "execution_count": 28,
   "id": "42b7a770",
   "metadata": {},
   "outputs": [
    {
     "data": {
      "text/plain": [
       "KMeans(n_clusters=7)"
      ]
     },
     "execution_count": 28,
     "metadata": {},
     "output_type": "execute_result"
    }
   ],
   "source": [
    "kmeans = KMeans(n_clusters=n_clusters)\n",
    "kmeans.fit(train_fill_data)"
   ]
  },
  {
   "cell_type": "code",
   "execution_count": 29,
   "id": "63187ea0",
   "metadata": {},
   "outputs": [],
   "source": [
    "clustered_train = kmeans.predict(train_fill_data)\n",
    "clustered_valid = kmeans.predict(valid_fill_data)\n",
    "clustered_test = kmeans.predict(test_fill_data)"
   ]
  },
  {
   "cell_type": "code",
   "execution_count": 57,
   "id": "f789b372",
   "metadata": {},
   "outputs": [
    {
     "data": {
      "text/plain": [
       "array([5, 5, 0, 1, 5, 0, 0, 3, 0, 0, 6, 1, 0, 0, 5, 0, 1, 1, 5, 1, 6, 0,\n",
       "       3, 0, 1, 3, 5, 3, 0, 1, 4, 2, 0, 1, 0, 0, 6, 3, 1, 0, 1, 0, 3, 5,\n",
       "       3, 3, 0, 3, 4, 3, 5, 0, 0, 0, 1, 1, 4, 0, 0, 0, 0, 1, 0, 1, 1, 1,\n",
       "       3, 1, 5, 1, 2, 0, 1, 3, 0, 0, 1, 1, 0, 3, 1, 1, 3, 2, 0, 6, 0, 0,\n",
       "       4, 1, 6, 0, 6, 0, 0, 2, 0, 5, 0, 1, 1, 0, 5, 2, 6, 0, 1, 3, 3, 3,\n",
       "       3, 4, 0, 0, 0, 2, 2, 2, 5, 1, 0, 4, 0, 2, 2, 6, 0, 4, 0, 5, 0, 5,\n",
       "       3, 0, 3, 0, 0, 6, 0, 2, 3, 0, 0, 2, 2, 1, 3, 3, 0, 0, 2, 2, 6, 0,\n",
       "       0, 0, 0, 6, 0, 0, 0, 2, 0, 0, 0, 0, 0, 3, 0, 1, 3, 5, 5, 0, 0, 6,\n",
       "       5, 6, 0, 0, 0, 5, 0, 3, 0, 4, 3, 6, 0, 0, 3, 0, 6, 5, 2, 0, 1, 5,\n",
       "       5, 0, 1, 5, 0, 6, 0, 3, 6, 0, 4, 0, 3, 0, 6, 0, 3, 6, 3, 6, 3, 5,\n",
       "       3, 3, 3, 1, 6, 1, 1, 1, 2, 0, 1, 3, 6, 1, 1, 3, 3, 1, 2, 5, 0, 0,\n",
       "       0, 3, 0, 0, 5, 0, 0, 0, 1, 3, 0, 1, 3, 1, 2, 3, 3, 2, 0, 0, 3, 1,\n",
       "       3, 6, 0, 0, 0, 0, 3, 6, 0, 4, 0, 0, 0, 1, 1, 0, 0, 0, 3, 6, 5, 3,\n",
       "       0, 6, 0, 0, 3, 0, 2, 0, 2, 0, 3, 3, 5, 0, 0, 1, 2, 3, 3, 3, 0, 1,\n",
       "       6, 0, 0, 2, 6, 1, 0, 5, 1, 6, 1, 2, 0, 0, 1, 3, 5, 6, 0, 0, 3, 0,\n",
       "       3, 0, 2, 0, 0, 3, 5, 5, 0, 0, 0, 0, 3, 3, 6, 0, 6, 2, 3, 5, 0, 0,\n",
       "       3, 5, 6, 6, 5, 0, 0, 0, 6, 3, 1, 2, 0, 0, 3, 3, 0, 3, 0, 6, 2, 3,\n",
       "       2, 5, 0, 1, 0, 0, 0, 6, 0, 6, 3, 0, 0, 6, 0, 2, 0, 0, 6, 0, 1, 0,\n",
       "       1, 5, 0, 0, 2, 1, 0, 0, 1, 0, 6, 6, 2, 0, 3, 2, 5, 2, 0, 3, 1, 0,\n",
       "       0, 0, 0, 0, 4, 3, 6, 3, 6, 3, 3, 0, 6, 0, 3, 0, 0, 4, 1, 1, 0, 5,\n",
       "       0, 5, 0, 1, 0, 0, 2, 3, 0, 0, 2, 0, 3, 0, 1, 0, 3, 2, 6, 3, 0, 4,\n",
       "       0, 0, 2, 5, 5, 2, 3, 0, 0, 0, 6, 0, 0, 1, 0, 2, 5, 1, 2, 3, 0, 5,\n",
       "       3, 5, 6, 6, 0, 3, 0, 0, 6, 0, 0, 1, 1, 1, 5, 0, 0, 1, 0, 0, 0, 0,\n",
       "       0, 5, 0, 5, 0, 1, 1, 0, 5, 3, 5, 0, 2, 6, 3, 0, 2, 5, 1, 3, 1, 0,\n",
       "       0, 4, 1, 0, 5, 5, 3, 3, 5, 5, 0, 6, 5, 6, 0, 0, 6, 0, 6, 0, 1, 1,\n",
       "       3, 0, 0, 6, 0, 0, 0, 0, 5, 6, 0, 0, 2, 1, 0, 3, 0, 4, 5, 0, 1, 0,\n",
       "       0, 6, 3, 1, 4, 2, 0, 0, 3, 4, 3, 0, 2, 1, 2, 1, 6, 3, 0, 0, 0, 6,\n",
       "       1, 6, 0, 3, 1, 4, 5, 1, 3, 6, 5, 6, 2, 5, 1, 0, 3, 3, 5, 0, 6, 3,\n",
       "       0, 2, 0, 3, 5, 5, 3, 5, 2, 2, 6, 0, 0, 6, 3, 1, 2, 4, 6, 0, 0, 0,\n",
       "       5, 0, 6, 6, 0, 3, 3, 0, 0, 0, 1, 0, 1, 1, 0, 5, 5, 0, 5, 5, 5, 3,\n",
       "       0, 2, 3, 0, 3, 6, 0, 0, 1, 1, 0, 0, 5, 0, 2, 3, 2, 5, 1, 0, 3, 0,\n",
       "       0, 1, 0, 2, 0, 3, 0, 0, 0, 0, 0, 3, 3, 5, 3, 3, 0, 3, 0, 5, 1, 0,\n",
       "       0, 0, 1, 1, 2, 3, 6, 3, 1, 1, 0, 3, 0, 0, 5, 3, 0, 0, 3, 3, 1, 3,\n",
       "       6, 1, 2, 0, 5, 1, 0, 5, 2, 1, 3, 6, 0, 3, 4, 6, 0, 5, 3, 1, 5, 6,\n",
       "       4, 5, 0, 6, 6, 5, 3, 1, 5, 3, 3, 3, 1, 4, 3, 2, 1, 5, 5, 4, 0, 3,\n",
       "       3, 3, 3, 3, 0, 0, 3, 5, 2, 5, 5, 5, 1])"
      ]
     },
     "execution_count": 57,
     "metadata": {},
     "output_type": "execute_result"
    }
   ],
   "source": [
    "# train data가 어떤 군집에 속할 지 확인 0~6\n",
    "clustered_train"
   ]
  },
  {
   "cell_type": "code",
   "execution_count": 31,
   "id": "59c678ed",
   "metadata": {},
   "outputs": [],
   "source": [
    "cluster_fill_value = {}\n",
    "for i in range(n_clusters):\n",
    "    class_mean = cluster_train_data.loc[clustered_train == i, \"Age\"].dropna().mean()\n",
    "    cluster_fill_value[i] = class_mean"
   ]
  },
  {
   "cell_type": "code",
   "execution_count": 32,
   "id": "25718dc5",
   "metadata": {},
   "outputs": [
    {
     "data": {
      "text/plain": [
       "{0: 27.871728395061727,\n",
       " 1: 40.46551724137931,\n",
       " 2: 21.666666666666668,\n",
       " 3: 24.838064516129034,\n",
       " 4: 41.404761904761905,\n",
       " 5: 29.25,\n",
       " 6: 37.17910447761194}"
      ]
     },
     "execution_count": 32,
     "metadata": {},
     "output_type": "execute_result"
    }
   ],
   "source": [
    "cluster_fill_value"
   ]
  },
  {
   "cell_type": "code",
   "execution_count": 33,
   "id": "8221cfbc",
   "metadata": {},
   "outputs": [],
   "source": [
    "train_na_idx = cluster_train_data.loc[cluster_train_data[\"Age\"].isna()].index"
   ]
  },
  {
   "cell_type": "code",
   "execution_count": 34,
   "id": "69c7d473",
   "metadata": {},
   "outputs": [
    {
     "data": {
      "text/plain": [
       "Int64Index([  2,   3,   9,  17,  26,  31,  41,  49,  53,  68,\n",
       "            ...\n",
       "            727, 732, 733, 742, 747, 754, 760, 764, 766, 777],\n",
       "           dtype='int64', length=149)"
      ]
     },
     "execution_count": 34,
     "metadata": {},
     "output_type": "execute_result"
    }
   ],
   "source": [
    "# 빈 값이 있는 데이터들의 index\n",
    "# 총 149개 data가 train data에서 빈 값이 있음\n",
    "train_na_idx"
   ]
  },
  {
   "cell_type": "code",
   "execution_count": 35,
   "id": "da8b962b",
   "metadata": {},
   "outputs": [
    {
     "data": {
      "text/plain": [
       "array([0, 1, 0, 1, 5, 2, 0, 3, 0, 5, 1, 1, 3, 1, 0, 2, 5, 5, 0, 0, 2, 2,\n",
       "       0, 4, 5, 0, 0, 0, 5, 5, 5, 0, 0, 5, 1, 5, 0, 6, 3, 1, 6, 1, 2, 1,\n",
       "       1, 1, 0, 0, 5, 0, 2, 3, 0, 0, 0, 1, 0, 2, 6, 3, 0, 3, 2, 0, 0, 5,\n",
       "       0, 3, 6, 5, 5, 5, 0, 6, 2, 0, 0, 2, 6, 5, 1, 6, 2, 2, 4, 3, 5, 5,\n",
       "       2, 0, 2, 5, 3, 6, 5, 2, 5, 1, 0, 0, 5, 5, 0, 0, 2, 5, 2, 2, 6, 5,\n",
       "       2, 1, 2, 5, 5, 2, 5, 0, 0, 1, 0, 5, 5, 5, 0, 0, 5, 0, 1, 0, 0, 3,\n",
       "       5, 3, 0, 5, 0, 3, 5, 1, 0, 5, 0, 6, 3, 1, 1, 5, 5])"
      ]
     },
     "execution_count": 35,
     "metadata": {},
     "output_type": "execute_result"
    }
   ],
   "source": [
    "# 각 index가 속하는 군집\n",
    "clustered_train[train_na_idx]"
   ]
  },
  {
   "cell_type": "code",
   "execution_count": 36,
   "id": "119958f9",
   "metadata": {},
   "outputs": [],
   "source": [
    "train_fill_value = list(map(lambda x: cluster_fill_value[x], clustered_train[train_na_idx]))"
   ]
  },
  {
   "cell_type": "code",
   "execution_count": 37,
   "id": "4cd16798",
   "metadata": {},
   "outputs": [
    {
     "data": {
      "text/plain": [
       "[27.871728395061727,\n",
       " 40.46551724137931,\n",
       " 27.871728395061727,\n",
       " 40.46551724137931,\n",
       " 29.25,\n",
       " 21.666666666666668,\n",
       " 27.871728395061727,\n",
       " 24.838064516129034,\n",
       " 27.871728395061727,\n",
       " 29.25]"
      ]
     },
     "execution_count": 37,
     "metadata": {},
     "output_type": "execute_result"
    }
   ],
   "source": [
    "train_fill_value[:10]"
   ]
  },
  {
   "cell_type": "code",
   "execution_count": 38,
   "id": "08e4c919",
   "metadata": {},
   "outputs": [],
   "source": [
    "# train data 채우기\n",
    "cluster_train_data.loc[train_na_idx, \"Age\"] = train_fill_value"
   ]
  },
  {
   "cell_type": "code",
   "execution_count": 39,
   "id": "ea30da62",
   "metadata": {},
   "outputs": [
    {
     "data": {
      "text/html": [
       "<div>\n",
       "<style scoped>\n",
       "    .dataframe tbody tr th:only-of-type {\n",
       "        vertical-align: middle;\n",
       "    }\n",
       "\n",
       "    .dataframe tbody tr th {\n",
       "        vertical-align: top;\n",
       "    }\n",
       "\n",
       "    .dataframe thead th {\n",
       "        text-align: right;\n",
       "    }\n",
       "</style>\n",
       "<table border=\"1\" class=\"dataframe\">\n",
       "  <thead>\n",
       "    <tr style=\"text-align: right;\">\n",
       "      <th></th>\n",
       "      <th>Pclass</th>\n",
       "      <th>Sex</th>\n",
       "      <th>Age</th>\n",
       "      <th>Fare</th>\n",
       "      <th>Embarked</th>\n",
       "    </tr>\n",
       "  </thead>\n",
       "  <tbody>\n",
       "    <tr>\n",
       "      <th>2</th>\n",
       "      <td>3</td>\n",
       "      <td>0</td>\n",
       "      <td>27.871728</td>\n",
       "      <td>69.5500</td>\n",
       "      <td>0</td>\n",
       "    </tr>\n",
       "    <tr>\n",
       "      <th>3</th>\n",
       "      <td>1</td>\n",
       "      <td>0</td>\n",
       "      <td>40.465517</td>\n",
       "      <td>30.5000</td>\n",
       "      <td>0</td>\n",
       "    </tr>\n",
       "    <tr>\n",
       "      <th>9</th>\n",
       "      <td>3</td>\n",
       "      <td>0</td>\n",
       "      <td>27.871728</td>\n",
       "      <td>7.8792</td>\n",
       "      <td>0</td>\n",
       "    </tr>\n",
       "    <tr>\n",
       "      <th>17</th>\n",
       "      <td>1</td>\n",
       "      <td>0</td>\n",
       "      <td>40.465517</td>\n",
       "      <td>25.9250</td>\n",
       "      <td>0</td>\n",
       "    </tr>\n",
       "    <tr>\n",
       "      <th>26</th>\n",
       "      <td>3</td>\n",
       "      <td>0</td>\n",
       "      <td>29.250000</td>\n",
       "      <td>15.5000</td>\n",
       "      <td>2</td>\n",
       "    </tr>\n",
       "    <tr>\n",
       "      <th>...</th>\n",
       "      <td>...</td>\n",
       "      <td>...</td>\n",
       "      <td>...</td>\n",
       "      <td>...</td>\n",
       "      <td>...</td>\n",
       "    </tr>\n",
       "    <tr>\n",
       "      <th>754</th>\n",
       "      <td>3</td>\n",
       "      <td>1</td>\n",
       "      <td>24.838065</td>\n",
       "      <td>14.5000</td>\n",
       "      <td>0</td>\n",
       "    </tr>\n",
       "    <tr>\n",
       "      <th>760</th>\n",
       "      <td>1</td>\n",
       "      <td>0</td>\n",
       "      <td>40.465517</td>\n",
       "      <td>0.0000</td>\n",
       "      <td>0</td>\n",
       "    </tr>\n",
       "    <tr>\n",
       "      <th>764</th>\n",
       "      <td>1</td>\n",
       "      <td>0</td>\n",
       "      <td>40.465517</td>\n",
       "      <td>27.7208</td>\n",
       "      <td>1</td>\n",
       "    </tr>\n",
       "    <tr>\n",
       "      <th>766</th>\n",
       "      <td>3</td>\n",
       "      <td>0</td>\n",
       "      <td>29.250000</td>\n",
       "      <td>6.8583</td>\n",
       "      <td>2</td>\n",
       "    </tr>\n",
       "    <tr>\n",
       "      <th>777</th>\n",
       "      <td>3</td>\n",
       "      <td>0</td>\n",
       "      <td>29.250000</td>\n",
       "      <td>7.2292</td>\n",
       "      <td>1</td>\n",
       "    </tr>\n",
       "  </tbody>\n",
       "</table>\n",
       "<p>149 rows × 5 columns</p>\n",
       "</div>"
      ],
      "text/plain": [
       "     Pclass  Sex        Age     Fare  Embarked\n",
       "2         3    0  27.871728  69.5500         0\n",
       "3         1    0  40.465517  30.5000         0\n",
       "9         3    0  27.871728   7.8792         0\n",
       "17        1    0  40.465517  25.9250         0\n",
       "26        3    0  29.250000  15.5000         2\n",
       "..      ...  ...        ...      ...       ...\n",
       "754       3    1  24.838065  14.5000         0\n",
       "760       1    0  40.465517   0.0000         0\n",
       "764       1    0  40.465517  27.7208         1\n",
       "766       3    0  29.250000   6.8583         2\n",
       "777       3    0  29.250000   7.2292         1\n",
       "\n",
       "[149 rows x 5 columns]"
      ]
     },
     "execution_count": 39,
     "metadata": {},
     "output_type": "execute_result"
    }
   ],
   "source": [
    "# 원래 있던 값\n",
    "cluster_train_data.loc[train_na_idx]"
   ]
  },
  {
   "cell_type": "code",
   "execution_count": 40,
   "id": "ea39e22a",
   "metadata": {},
   "outputs": [
    {
     "data": {
      "text/html": [
       "<div>\n",
       "<style scoped>\n",
       "    .dataframe tbody tr th:only-of-type {\n",
       "        vertical-align: middle;\n",
       "    }\n",
       "\n",
       "    .dataframe tbody tr th {\n",
       "        vertical-align: top;\n",
       "    }\n",
       "\n",
       "    .dataframe thead th {\n",
       "        text-align: right;\n",
       "    }\n",
       "</style>\n",
       "<table border=\"1\" class=\"dataframe\">\n",
       "  <thead>\n",
       "    <tr style=\"text-align: right;\">\n",
       "      <th></th>\n",
       "      <th>Pclass</th>\n",
       "      <th>Sex</th>\n",
       "      <th>Age</th>\n",
       "      <th>Fare</th>\n",
       "      <th>Embarked</th>\n",
       "    </tr>\n",
       "  </thead>\n",
       "  <tbody>\n",
       "    <tr>\n",
       "      <th>0</th>\n",
       "      <td>3</td>\n",
       "      <td>0</td>\n",
       "      <td>21.000000</td>\n",
       "      <td>7.2250</td>\n",
       "      <td>1</td>\n",
       "    </tr>\n",
       "    <tr>\n",
       "      <th>1</th>\n",
       "      <td>3</td>\n",
       "      <td>0</td>\n",
       "      <td>34.500000</td>\n",
       "      <td>6.4375</td>\n",
       "      <td>1</td>\n",
       "    </tr>\n",
       "    <tr>\n",
       "      <th>2</th>\n",
       "      <td>3</td>\n",
       "      <td>0</td>\n",
       "      <td>27.871728</td>\n",
       "      <td>69.5500</td>\n",
       "      <td>0</td>\n",
       "    </tr>\n",
       "    <tr>\n",
       "      <th>3</th>\n",
       "      <td>1</td>\n",
       "      <td>0</td>\n",
       "      <td>40.465517</td>\n",
       "      <td>30.5000</td>\n",
       "      <td>0</td>\n",
       "    </tr>\n",
       "    <tr>\n",
       "      <th>4</th>\n",
       "      <td>3</td>\n",
       "      <td>0</td>\n",
       "      <td>20.000000</td>\n",
       "      <td>4.0125</td>\n",
       "      <td>1</td>\n",
       "    </tr>\n",
       "  </tbody>\n",
       "</table>\n",
       "</div>"
      ],
      "text/plain": [
       "   Pclass  Sex        Age     Fare  Embarked\n",
       "0       3    0  21.000000   7.2250         1\n",
       "1       3    0  34.500000   6.4375         1\n",
       "2       3    0  27.871728  69.5500         0\n",
       "3       1    0  40.465517  30.5000         0\n",
       "4       3    0  20.000000   4.0125         1"
      ]
     },
     "execution_count": 40,
     "metadata": {},
     "output_type": "execute_result"
    }
   ],
   "source": [
    "# 채워준 값\n",
    "cluster_train_data.head()"
   ]
  },
  {
   "cell_type": "code",
   "execution_count": 41,
   "id": "38a6f1b0",
   "metadata": {},
   "outputs": [],
   "source": [
    "# vaild, test data 채우기 (train data에서 학습된 값으로 채움)\n",
    "valid_na_idx = cluster_valid_data.loc[cluster_valid_data[\"Age\"].isna()].index\n",
    "valid_fill_value = list(map(lambda x: cluster_fill_value[x], clustered_valid[valid_na_idx]))\n",
    "\n",
    "test_na_idx = cluster_test_data.loc[cluster_test_data[\"Age\"].isna()].index\n",
    "test_fill_value = list(map(lambda x: cluster_fill_value[x], clustered_test[test_na_idx]))"
   ]
  },
  {
   "cell_type": "code",
   "execution_count": 42,
   "id": "ec6587a6",
   "metadata": {},
   "outputs": [],
   "source": [
    "cluster_valid_data.loc[valid_na_idx, \"Age\"] = valid_fill_value\n",
    "cluster_test_data.loc[test_na_idx, \"Age\"] = test_fill_value"
   ]
  },
  {
   "cell_type": "code",
   "execution_count": 43,
   "id": "234c2353",
   "metadata": {},
   "outputs": [],
   "source": [
    "# 학습 모델\n",
    "# Random Forest\n",
    "from sklearn.ensemble import RandomForestClassifier\n",
    "from sklearn.metrics import accuracy_score"
   ]
  },
  {
   "cell_type": "code",
   "execution_count": 44,
   "id": "e134f2c1",
   "metadata": {},
   "outputs": [],
   "source": [
    "# Hyper-parameter tuning\n",
    "# 전체 데이터의 평균으로 채운 데이터\n",
    "n_estimators = [n for n in range(50, 1050, 50)]\n",
    "\n",
    "mean_accuracy = []\n",
    "for n_estimator in n_estimators:\n",
    "    mean_random_forest = RandomForestClassifier(n_estimators=n_estimator)\n",
    "    mean_random_forest.fit(mean_train_data, train_label)\n",
    "    mean_valid_pred = mean_random_forest.predict(mean_valid_data)\n",
    "    mean_accuracy += [accuracy_score(valid_label, mean_valid_pred)]"
   ]
  },
  {
   "cell_type": "code",
   "execution_count": 45,
   "id": "ac263446",
   "metadata": {},
   "outputs": [
    {
     "data": {
      "text/plain": [
       "[(50, 0.8659003831417624),\n",
       " (100, 0.8390804597701149),\n",
       " (150, 0.8582375478927203),\n",
       " (200, 0.8505747126436781),\n",
       " (250, 0.8544061302681992),\n",
       " (300, 0.8582375478927203),\n",
       " (350, 0.8582375478927203),\n",
       " (400, 0.8544061302681992),\n",
       " (450, 0.8582375478927203),\n",
       " (500, 0.8620689655172413),\n",
       " (550, 0.8582375478927203),\n",
       " (600, 0.8582375478927203),\n",
       " (650, 0.8544061302681992),\n",
       " (700, 0.8582375478927203),\n",
       " (750, 0.8544061302681992),\n",
       " (800, 0.8582375478927203),\n",
       " (850, 0.8620689655172413),\n",
       " (900, 0.8582375478927203),\n",
       " (950, 0.8582375478927203),\n",
       " (1000, 0.8582375478927203)]"
      ]
     },
     "execution_count": 45,
     "metadata": {},
     "output_type": "execute_result"
    }
   ],
   "source": [
    "list(zip(n_estimators, mean_accuracy))"
   ]
  },
  {
   "cell_type": "code",
   "execution_count": 46,
   "id": "666286be",
   "metadata": {},
   "outputs": [],
   "source": [
    "mean_best_n_estimator = n_estimators[np.argmax(mean_accuracy)]"
   ]
  },
  {
   "cell_type": "code",
   "execution_count": 47,
   "id": "953996c5",
   "metadata": {},
   "outputs": [
    {
     "name": "stdout",
     "output_type": "stream",
     "text": [
      "Best n_estimator for mean data is 50, it's valid accuracy is 0.8659\n"
     ]
    }
   ],
   "source": [
    "print(f\"Best n_estimator for mean data is {mean_best_n_estimator}, it's valid accuracy is {max(mean_accuracy):.4f}\")"
   ]
  },
  {
   "cell_type": "code",
   "execution_count": 48,
   "id": "b47985f7",
   "metadata": {},
   "outputs": [],
   "source": [
    "# 비슷한 데이터들의 평균으로 채운 데이터\n",
    "cluster_accuracy = []\n",
    "for n_estimator in n_estimators:\n",
    "    cluster_random_forest = RandomForestClassifier(n_estimators=n_estimator)\n",
    "    cluster_random_forest.fit(cluster_train_data, train_label)\n",
    "    cluster_valid_pred = cluster_random_forest.predict(cluster_valid_data)\n",
    "    cluster_accuracy += [accuracy_score(valid_label, cluster_valid_pred)]"
   ]
  },
  {
   "cell_type": "code",
   "execution_count": 49,
   "id": "c1cfabd0",
   "metadata": {},
   "outputs": [
    {
     "data": {
      "text/plain": [
       "[(50, 0.8544061302681992),\n",
       " (100, 0.8582375478927203),\n",
       " (150, 0.8620689655172413),\n",
       " (200, 0.8544061302681992),\n",
       " (250, 0.8620689655172413),\n",
       " (300, 0.8582375478927203),\n",
       " (350, 0.8620689655172413),\n",
       " (400, 0.8505747126436781),\n",
       " (450, 0.8544061302681992),\n",
       " (500, 0.8582375478927203),\n",
       " (550, 0.8620689655172413),\n",
       " (600, 0.8505747126436781),\n",
       " (650, 0.8582375478927203),\n",
       " (700, 0.8582375478927203),\n",
       " (750, 0.8620689655172413),\n",
       " (800, 0.8505747126436781),\n",
       " (850, 0.8620689655172413),\n",
       " (900, 0.8582375478927203),\n",
       " (950, 0.8544061302681992),\n",
       " (1000, 0.8544061302681992)]"
      ]
     },
     "execution_count": 49,
     "metadata": {},
     "output_type": "execute_result"
    }
   ],
   "source": [
    "list(zip(n_estimators, cluster_accuracy))"
   ]
  },
  {
   "cell_type": "code",
   "execution_count": 50,
   "id": "6d19848f",
   "metadata": {},
   "outputs": [],
   "source": [
    "cluster_best_n_estimator = n_estimators[np.argmax(cluster_accuracy)]"
   ]
  },
  {
   "cell_type": "code",
   "execution_count": 51,
   "id": "29e08282",
   "metadata": {},
   "outputs": [
    {
     "name": "stdout",
     "output_type": "stream",
     "text": [
      "Best n_estimator for cluster data is 150, it's valid accuracy is 0.8621\n"
     ]
    }
   ],
   "source": [
    "print(f\"Best n_estimator for cluster data is {cluster_best_n_estimator}, it's valid accuracy is {max(cluster_accuracy):.4f}\")"
   ]
  },
  {
   "cell_type": "code",
   "execution_count": 52,
   "id": "7fd30641",
   "metadata": {},
   "outputs": [],
   "source": [
    "# Best Parameter\n",
    "mean_random_forest = RandomForestClassifier(n_estimators=mean_best_n_estimator)\n",
    "cluster_random_forest = RandomForestClassifier(n_estimators=cluster_best_n_estimator)"
   ]
  },
  {
   "cell_type": "code",
   "execution_count": 53,
   "id": "506e5892",
   "metadata": {},
   "outputs": [
    {
     "data": {
      "text/plain": [
       "RandomForestClassifier(n_estimators=150)"
      ]
     },
     "execution_count": 53,
     "metadata": {},
     "output_type": "execute_result"
    }
   ],
   "source": [
    "# 학습\n",
    "mean_random_forest.fit(mean_train_data, train_label)\n",
    "cluster_random_forest.fit(cluster_train_data, train_label)"
   ]
  },
  {
   "cell_type": "code",
   "execution_count": 54,
   "id": "ddfc239e",
   "metadata": {},
   "outputs": [],
   "source": [
    "# 예측\n",
    "mean_test_pred = mean_random_forest.predict(mean_test_data)\n",
    "cluster_test_pred = cluster_random_forest.predict(cluster_test_data)"
   ]
  },
  {
   "cell_type": "code",
   "execution_count": 55,
   "id": "62a66e8e",
   "metadata": {},
   "outputs": [],
   "source": [
    "# 평가\n",
    "mean_test_accuracy = accuracy_score(test_label, mean_test_pred)\n",
    "cluster_test_accuracy = accuracy_score(test_label, cluster_test_pred)"
   ]
  },
  {
   "cell_type": "code",
   "execution_count": 56,
   "id": "bed5c986",
   "metadata": {},
   "outputs": [
    {
     "name": "stdout",
     "output_type": "stream",
     "text": [
      "Test Accuracy for mean data is 0.8511\n",
      "Test Accuracy for cluster data is 0.8626\n"
     ]
    }
   ],
   "source": [
    "print(f\"Test Accuracy for mean data is {mean_test_accuracy:.4f}\")\n",
    "print(f\"Test Accuracy for cluster data is {cluster_test_accuracy:.4f}\")"
   ]
  },
  {
   "cell_type": "code",
   "execution_count": null,
   "id": "c73b2350",
   "metadata": {},
   "outputs": [],
   "source": []
  }
 ],
 "metadata": {
  "kernelspec": {
   "display_name": "Python 3",
   "language": "python",
   "name": "python3"
  },
  "language_info": {
   "codemirror_mode": {
    "name": "ipython",
    "version": 3
   },
   "file_extension": ".py",
   "mimetype": "text/x-python",
   "name": "python",
   "nbconvert_exporter": "python",
   "pygments_lexer": "ipython3",
   "version": "3.8.8"
  }
 },
 "nbformat": 4,
 "nbformat_minor": 5
}
