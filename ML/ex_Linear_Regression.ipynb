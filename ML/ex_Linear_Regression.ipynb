{
 "cells": [
  {
   "cell_type": "code",
   "execution_count": 1,
   "id": "98ad6bdc",
   "metadata": {},
   "outputs": [],
   "source": [
    "import pandas as pd\n",
    "import numpy as np\n",
    "import matplotlib.pyplot as plt\n",
    "\n",
    "np.random.seed(2021)"
   ]
  },
  {
   "cell_type": "code",
   "execution_count": 2,
   "id": "3586a122",
   "metadata": {},
   "outputs": [],
   "source": [
    "# Univariate Regression"
   ]
  },
  {
   "cell_type": "code",
   "execution_count": 12,
   "id": "46c3e0e4",
   "metadata": {},
   "outputs": [],
   "source": [
    "# Sample data\n",
    "X = np.array([1, 2, 3, 4])\n",
    "y = np.array([2, 1, 4, 3])"
   ]
  },
  {
   "cell_type": "code",
   "execution_count": 13,
   "id": "d869ecb4",
   "metadata": {},
   "outputs": [
    {
     "data": {
      "text/plain": [
       "<matplotlib.collections.PathCollection at 0x1df1b9fb910>"
      ]
     },
     "execution_count": 13,
     "metadata": {},
     "output_type": "execute_result"
    },
    {
     "data": {
      "image/png": "[encoded data removed]",
      "text/plain": [
       "<Figure size 432x288 with 1 Axes>"
      ]
     },
     "metadata": {
      "needs_background": "light"
     },
     "output_type": "display_data"
    }
   ],
   "source": [
    "plt.scatter(X, y)"
   ]
  },
  {
   "cell_type": "code",
   "execution_count": 20,
   "id": "af051737",
   "metadata": {},
   "outputs": [],
   "source": [
    "# Data 변환\n",
    "# (n, c) 형태 - n은 데이터 개수, c는 feature의 개수"
   ]
  },
  {
   "cell_type": "code",
   "execution_count": 15,
   "id": "43addb46",
   "metadata": {},
   "outputs": [
    {
     "data": {
      "text/plain": [
       "array([1, 2, 3, 4])"
      ]
     },
     "execution_count": 15,
     "metadata": {},
     "output_type": "execute_result"
    }
   ],
   "source": [
    "X"
   ]
  },
  {
   "cell_type": "code",
   "execution_count": 16,
   "id": "490ae464",
   "metadata": {},
   "outputs": [
    {
     "data": {
      "text/plain": [
       "(4,)"
      ]
     },
     "execution_count": 16,
     "metadata": {},
     "output_type": "execute_result"
    }
   ],
   "source": [
    "X.shape"
   ]
  },
  {
   "cell_type": "code",
   "execution_count": 17,
   "id": "643fd467",
   "metadata": {},
   "outputs": [],
   "source": [
    "data = X.reshape(-1, 1)"
   ]
  },
  {
   "cell_type": "code",
   "execution_count": 18,
   "id": "0d84bc96",
   "metadata": {},
   "outputs": [
    {
     "data": {
      "text/plain": [
       "array([[1],\n",
       "       [2],\n",
       "       [3],\n",
       "       [4]])"
      ]
     },
     "execution_count": 18,
     "metadata": {},
     "output_type": "execute_result"
    }
   ],
   "source": [
    "data"
   ]
  },
  {
   "cell_type": "code",
   "execution_count": 19,
   "id": "c07bb4bf",
   "metadata": {},
   "outputs": [
    {
     "data": {
      "text/plain": [
       "(4, 1)"
      ]
     },
     "execution_count": 19,
     "metadata": {},
     "output_type": "execute_result"
    }
   ],
   "source": [
    "data.shape"
   ]
  },
  {
   "cell_type": "code",
   "execution_count": 21,
   "id": "9f628c03",
   "metadata": {},
   "outputs": [],
   "source": [
    "# Linear Regression"
   ]
  },
  {
   "cell_type": "code",
   "execution_count": 22,
   "id": "b96a492f",
   "metadata": {},
   "outputs": [],
   "source": [
    "from sklearn.linear_model import LinearRegression"
   ]
  },
  {
   "cell_type": "code",
   "execution_count": 23,
   "id": "887fb00f",
   "metadata": {},
   "outputs": [],
   "source": [
    "model = LinearRegression()"
   ]
  },
  {
   "cell_type": "code",
   "execution_count": 25,
   "id": "a92448b6",
   "metadata": {},
   "outputs": [
    {
     "data": {
      "text/plain": [
       "LinearRegression()"
      ]
     },
     "execution_count": 25,
     "metadata": {},
     "output_type": "execute_result"
    }
   ],
   "source": [
    "model.fit(X=data, y=y)\n",
    "# model.fit(data, y)"
   ]
  },
  {
   "cell_type": "code",
   "execution_count": 26,
   "id": "b24d7f17",
   "metadata": {},
   "outputs": [
    {
     "data": {
      "text/plain": [
       "1.0000000000000004"
      ]
     },
     "execution_count": 26,
     "metadata": {},
     "output_type": "execute_result"
    }
   ],
   "source": [
    "# bias\n",
    "model.intercept_"
   ]
  },
  {
   "cell_type": "code",
   "execution_count": 27,
   "id": "bdb77116",
   "metadata": {},
   "outputs": [
    {
     "data": {
      "text/plain": [
       "array([0.6])"
      ]
     },
     "execution_count": 27,
     "metadata": {},
     "output_type": "execute_result"
    }
   ],
   "source": [
    "# 회귀계수\n",
    "model.coef_"
   ]
  },
  {
   "cell_type": "code",
   "execution_count": 29,
   "id": "a209f8af",
   "metadata": {},
   "outputs": [
    {
     "data": {
      "text/plain": [
       "array([1.6, 2.2, 2.8, 3.4])"
      ]
     },
     "execution_count": 29,
     "metadata": {},
     "output_type": "execute_result"
    }
   ],
   "source": [
    "# 예측하기\n",
    "pred = model.predict(data)\n",
    "pred"
   ]
  },
  {
   "cell_type": "code",
   "execution_count": 30,
   "id": "1a9e9654",
   "metadata": {},
   "outputs": [
    {
     "data": {
      "text/plain": [
       "[<matplotlib.lines.Line2D at 0x1df1e0fce50>]"
      ]
     },
     "execution_count": 30,
     "metadata": {},
     "output_type": "execute_result"
    },
    {
     "data": {
      "image/png": "[encoded data removed]",
      "text/plain": [
       "<Figure size 432x288 with 1 Axes>"
      ]
     },
     "metadata": {
      "needs_background": "light"
     },
     "output_type": "display_data"
    }
   ],
   "source": [
    "plt.scatter(X, y)\n",
    "plt.plot(X, pred, color='green')"
   ]
  },
  {
   "cell_type": "code",
   "execution_count": 31,
   "id": "f1c02335",
   "metadata": {},
   "outputs": [],
   "source": [
    "# Multivariate Regression"
   ]
  },
  {
   "cell_type": "code",
   "execution_count": 32,
   "id": "e5cebba7",
   "metadata": {},
   "outputs": [],
   "source": [
    "bias = 1\n",
    "beta = np.array([2, 3, 4, 5]).reshape(4, 1)\n",
    "noise = np.random.randn(100, 1)"
   ]
  },
  {
   "cell_type": "code",
   "execution_count": 33,
   "id": "a9324ef0",
   "metadata": {},
   "outputs": [],
   "source": [
    "X = np.random.randn(100, 4)\n",
    "y = bias + X.dot(beta)\n",
    "y_with_noise = y + noise"
   ]
  },
  {
   "cell_type": "code",
   "execution_count": 34,
   "id": "9d69d444",
   "metadata": {},
   "outputs": [
    {
     "data": {
      "text/plain": [
       "LinearRegression()"
      ]
     },
     "execution_count": 34,
     "metadata": {},
     "output_type": "execute_result"
    }
   ],
   "source": [
    "model = LinearRegression()\n",
    "model.fit(X, y_with_noise)"
   ]
  },
  {
   "cell_type": "code",
   "execution_count": 35,
   "id": "e9894d73",
   "metadata": {},
   "outputs": [
    {
     "data": {
      "text/plain": [
       "array([1.11417641])"
      ]
     },
     "execution_count": 35,
     "metadata": {},
     "output_type": "execute_result"
    }
   ],
   "source": [
    "model.intercept_"
   ]
  },
  {
   "cell_type": "code",
   "execution_count": 36,
   "id": "133c07d1",
   "metadata": {},
   "outputs": [
    {
     "data": {
      "text/plain": [
       "array([[1.99383579, 2.94374717, 3.97346537, 4.84223742]])"
      ]
     },
     "execution_count": 36,
     "metadata": {},
     "output_type": "execute_result"
    }
   ],
   "source": [
    "model.coef_"
   ]
  },
  {
   "cell_type": "code",
   "execution_count": 37,
   "id": "fbbcfc74",
   "metadata": {},
   "outputs": [],
   "source": [
    "# 통계적 방법"
   ]
  },
  {
   "cell_type": "code",
   "execution_count": 39,
   "id": "1526b7a8",
   "metadata": {},
   "outputs": [],
   "source": [
    "bias_X = np.array([1]*len(X)).reshape(-1, 1)\n",
    "stat_X = np.hstack([bias_X, X])\n",
    "X_X_transpose = stat_X.transpose().dot(stat_X)\n",
    "X_X_transpose_inverse = np.linalg.inv(X_X_transpose)"
   ]
  },
  {
   "cell_type": "code",
   "execution_count": 40,
   "id": "d48a289e",
   "metadata": {},
   "outputs": [],
   "source": [
    "stat_beta = X_X_transpose_inverse.dot(stat_X.transpose()).dot(y_with_noise)"
   ]
  },
  {
   "cell_type": "code",
   "execution_count": 41,
   "id": "780dc2b6",
   "metadata": {},
   "outputs": [
    {
     "data": {
      "text/plain": [
       "array([[1.11417641],\n",
       "       [1.99383579],\n",
       "       [2.94374717],\n",
       "       [3.97346537],\n",
       "       [4.84223742]])"
      ]
     },
     "execution_count": 41,
     "metadata": {},
     "output_type": "execute_result"
    }
   ],
   "source": [
    "stat_beta"
   ]
  },
  {
   "cell_type": "code",
   "execution_count": 42,
   "id": "3e591b50",
   "metadata": {},
   "outputs": [],
   "source": [
    "# Polynomial Regression"
   ]
  },
  {
   "cell_type": "code",
   "execution_count": 43,
   "id": "8ed20486",
   "metadata": {},
   "outputs": [],
   "source": [
    "bias = 1\n",
    "beta = np.array([2, 3]).reshape(2, 1)\n",
    "noise = np.random.randn(100, 1)"
   ]
  },
  {
   "cell_type": "code",
   "execution_count": 44,
   "id": "4e19a5f6",
   "metadata": {},
   "outputs": [],
   "source": [
    "X = np.random.randn(100, 1)\n",
    "X_poly = np.hstack([X, X**2])"
   ]
  },
  {
   "cell_type": "code",
   "execution_count": 45,
   "id": "0845913c",
   "metadata": {},
   "outputs": [],
   "source": [
    "y = bias + X_poly.dot(beta)\n",
    "y_with_noise = y + noise"
   ]
  },
  {
   "cell_type": "code",
   "execution_count": 46,
   "id": "64c5e2a0",
   "metadata": {},
   "outputs": [
    {
     "data": {
      "text/plain": [
       "<matplotlib.collections.PathCollection at 0x1df1e7e8d60>"
      ]
     },
     "execution_count": 46,
     "metadata": {},
     "output_type": "execute_result"
    },
    {
     "data": {
      "image/png": "[encoded data removed]",
      "text/plain": [
       "<Figure size 432x288 with 1 Axes>"
      ]
     },
     "metadata": {
      "needs_background": "light"
     },
     "output_type": "display_data"
    }
   ],
   "source": [
    "plt.scatter(X, y_with_noise)"
   ]
  },
  {
   "cell_type": "code",
   "execution_count": 47,
   "id": "34a4a507",
   "metadata": {},
   "outputs": [
    {
     "data": {
      "text/plain": [
       "LinearRegression()"
      ]
     },
     "execution_count": 47,
     "metadata": {},
     "output_type": "execute_result"
    }
   ],
   "source": [
    "model = LinearRegression()\n",
    "model.fit(X_poly, y_with_noise)"
   ]
  },
  {
   "cell_type": "code",
   "execution_count": null,
   "id": "e5d2d63f",
   "metadata": {},
   "outputs": [],
   "source": []
  }
 ],
 "metadata": {
  "kernelspec": {
   "display_name": "Python 3",
   "language": "python",
   "name": "python3"
  },
  "language_info": {
   "codemirror_mode": {
    "name": "ipython",
    "version": 3
   },
   "file_extension": ".py",
   "mimetype": "text/x-python",
   "name": "python",
   "nbconvert_exporter": "python",
   "pygments_lexer": "ipython3",
   "version": "3.8.8"
  }
 },
 "nbformat": 4,
 "nbformat_minor": 5
}
