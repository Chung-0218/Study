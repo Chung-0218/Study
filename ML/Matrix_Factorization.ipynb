{
 "cells": [
  {
   "cell_type": "code",
   "execution_count": 1,
   "id": "e6266702",
   "metadata": {},
   "outputs": [],
   "source": [
    "import pandas as pd\n",
    "import numpy as np\n",
    "\n",
    "np.random.seed(2022)"
   ]
  },
  {
   "cell_type": "code",
   "execution_count": 3,
   "id": "ee96b7cc",
   "metadata": {},
   "outputs": [],
   "source": [
    "# Data Load\n",
    "ratings = pd.read_csv(\"ratings_small.csv\")\n",
    "ratings = ratings[[\"userId\", \"movieId\", \"rating\"]]"
   ]
  },
  {
   "cell_type": "code",
   "execution_count": 4,
   "id": "5af4b8b1",
   "metadata": {},
   "outputs": [
    {
     "data": {
      "text/html": [
       "<div>\n",
       "<style scoped>\n",
       "    .dataframe tbody tr th:only-of-type {\n",
       "        vertical-align: middle;\n",
       "    }\n",
       "\n",
       "    .dataframe tbody tr th {\n",
       "        vertical-align: top;\n",
       "    }\n",
       "\n",
       "    .dataframe thead th {\n",
       "        text-align: right;\n",
       "    }\n",
       "</style>\n",
       "<table border=\"1\" class=\"dataframe\">\n",
       "  <thead>\n",
       "    <tr style=\"text-align: right;\">\n",
       "      <th></th>\n",
       "      <th>userId</th>\n",
       "      <th>movieId</th>\n",
       "      <th>rating</th>\n",
       "    </tr>\n",
       "  </thead>\n",
       "  <tbody>\n",
       "    <tr>\n",
       "      <th>0</th>\n",
       "      <td>1</td>\n",
       "      <td>31</td>\n",
       "      <td>2.5</td>\n",
       "    </tr>\n",
       "    <tr>\n",
       "      <th>1</th>\n",
       "      <td>1</td>\n",
       "      <td>1029</td>\n",
       "      <td>3.0</td>\n",
       "    </tr>\n",
       "    <tr>\n",
       "      <th>2</th>\n",
       "      <td>1</td>\n",
       "      <td>1061</td>\n",
       "      <td>3.0</td>\n",
       "    </tr>\n",
       "    <tr>\n",
       "      <th>3</th>\n",
       "      <td>1</td>\n",
       "      <td>1129</td>\n",
       "      <td>2.0</td>\n",
       "    </tr>\n",
       "    <tr>\n",
       "      <th>4</th>\n",
       "      <td>1</td>\n",
       "      <td>1172</td>\n",
       "      <td>4.0</td>\n",
       "    </tr>\n",
       "  </tbody>\n",
       "</table>\n",
       "</div>"
      ],
      "text/plain": [
       "   userId  movieId  rating\n",
       "0       1       31     2.5\n",
       "1       1     1029     3.0\n",
       "2       1     1061     3.0\n",
       "3       1     1129     2.0\n",
       "4       1     1172     4.0"
      ]
     },
     "execution_count": 4,
     "metadata": {},
     "output_type": "execute_result"
    }
   ],
   "source": [
    "ratings.head()"
   ]
  },
  {
   "cell_type": "code",
   "execution_count": 5,
   "id": "747da45a",
   "metadata": {},
   "outputs": [
    {
     "name": "stderr",
     "output_type": "stream",
     "text": [
      "C:\\Users\\sclab\\anaconda3\\lib\\site-packages\\IPython\\core\\interactiveshell.py:3165: DtypeWarning: Columns (10) have mixed types.Specify dtype option on import or set low_memory=False.\n",
      "  has_raised = await self.run_ast_nodes(code_ast.body, cell_name,\n"
     ]
    }
   ],
   "source": [
    "# 다른 두 데이터를 이용해 rating 데이터의 movieId에 맞는 title에 mapping\n",
    "movies = pd.read_csv(\"movies_metadata.csv\")\n",
    "links = pd.read_csv(\"links_small.csv\")"
   ]
  },
  {
   "cell_type": "code",
   "execution_count": 6,
   "id": "0b860d35",
   "metadata": {},
   "outputs": [],
   "source": [
    "# Data Preprocessing\n",
    "movies = movies.fillna('')\n",
    "movies = movies[movies[\"imdb_id\"].str.startswith('tt')]\n",
    "movies[\"imdbId\"] = movies[\"imdb_id\"].apply(lambda x: int(x[2:]))\n",
    "movies = movies.merge(links, on=\"imdbId\")"
   ]
  },
  {
   "cell_type": "code",
   "execution_count": 7,
   "id": "f0ab4dd4",
   "metadata": {},
   "outputs": [],
   "source": [
    "movies = movies[[\"title\", \"movieId\"]]\n",
    "movies = movies.set_index(\"movieId\")"
   ]
  },
  {
   "cell_type": "code",
   "execution_count": 8,
   "id": "83b34ab5",
   "metadata": {},
   "outputs": [
    {
     "data": {
      "text/html": [
       "<div>\n",
       "<style scoped>\n",
       "    .dataframe tbody tr th:only-of-type {\n",
       "        vertical-align: middle;\n",
       "    }\n",
       "\n",
       "    .dataframe tbody tr th {\n",
       "        vertical-align: top;\n",
       "    }\n",
       "\n",
       "    .dataframe thead th {\n",
       "        text-align: right;\n",
       "    }\n",
       "</style>\n",
       "<table border=\"1\" class=\"dataframe\">\n",
       "  <thead>\n",
       "    <tr style=\"text-align: right;\">\n",
       "      <th></th>\n",
       "      <th>title</th>\n",
       "    </tr>\n",
       "    <tr>\n",
       "      <th>movieId</th>\n",
       "      <th></th>\n",
       "    </tr>\n",
       "  </thead>\n",
       "  <tbody>\n",
       "    <tr>\n",
       "      <th>1</th>\n",
       "      <td>Toy Story</td>\n",
       "    </tr>\n",
       "    <tr>\n",
       "      <th>2</th>\n",
       "      <td>Jumanji</td>\n",
       "    </tr>\n",
       "    <tr>\n",
       "      <th>3</th>\n",
       "      <td>Grumpier Old Men</td>\n",
       "    </tr>\n",
       "    <tr>\n",
       "      <th>4</th>\n",
       "      <td>Waiting to Exhale</td>\n",
       "    </tr>\n",
       "    <tr>\n",
       "      <th>5</th>\n",
       "      <td>Father of the Bride Part II</td>\n",
       "    </tr>\n",
       "  </tbody>\n",
       "</table>\n",
       "</div>"
      ],
      "text/plain": [
       "                               title\n",
       "movieId                             \n",
       "1                          Toy Story\n",
       "2                            Jumanji\n",
       "3                   Grumpier Old Men\n",
       "4                  Waiting to Exhale\n",
       "5        Father of the Bride Part II"
      ]
     },
     "execution_count": 8,
     "metadata": {},
     "output_type": "execute_result"
    }
   ],
   "source": [
    "movies.head()"
   ]
  },
  {
   "cell_type": "code",
   "execution_count": 9,
   "id": "84064a63",
   "metadata": {},
   "outputs": [],
   "source": [
    "user_movie_matrix = ratings.pivot(\n",
    "    index=\"userId\",\n",
    "    columns=\"movieId\",\n",
    "    values=\"rating\",\n",
    ")\n",
    "user_movie_matrix = user_movie_matrix.fillna(0)"
   ]
  },
  {
   "cell_type": "code",
   "execution_count": 10,
   "id": "96f8e2cc",
   "metadata": {},
   "outputs": [
    {
     "data": {
      "text/html": [
       "<div>\n",
       "<style scoped>\n",
       "    .dataframe tbody tr th:only-of-type {\n",
       "        vertical-align: middle;\n",
       "    }\n",
       "\n",
       "    .dataframe tbody tr th {\n",
       "        vertical-align: top;\n",
       "    }\n",
       "\n",
       "    .dataframe thead th {\n",
       "        text-align: right;\n",
       "    }\n",
       "</style>\n",
       "<table border=\"1\" class=\"dataframe\">\n",
       "  <thead>\n",
       "    <tr style=\"text-align: right;\">\n",
       "      <th>movieId</th>\n",
       "      <th>1</th>\n",
       "      <th>2</th>\n",
       "      <th>3</th>\n",
       "      <th>4</th>\n",
       "      <th>5</th>\n",
       "      <th>6</th>\n",
       "      <th>7</th>\n",
       "      <th>8</th>\n",
       "      <th>9</th>\n",
       "      <th>10</th>\n",
       "      <th>...</th>\n",
       "      <th>161084</th>\n",
       "      <th>161155</th>\n",
       "      <th>161594</th>\n",
       "      <th>161830</th>\n",
       "      <th>161918</th>\n",
       "      <th>161944</th>\n",
       "      <th>162376</th>\n",
       "      <th>162542</th>\n",
       "      <th>162672</th>\n",
       "      <th>163949</th>\n",
       "    </tr>\n",
       "    <tr>\n",
       "      <th>userId</th>\n",
       "      <th></th>\n",
       "      <th></th>\n",
       "      <th></th>\n",
       "      <th></th>\n",
       "      <th></th>\n",
       "      <th></th>\n",
       "      <th></th>\n",
       "      <th></th>\n",
       "      <th></th>\n",
       "      <th></th>\n",
       "      <th></th>\n",
       "      <th></th>\n",
       "      <th></th>\n",
       "      <th></th>\n",
       "      <th></th>\n",
       "      <th></th>\n",
       "      <th></th>\n",
       "      <th></th>\n",
       "      <th></th>\n",
       "      <th></th>\n",
       "      <th></th>\n",
       "    </tr>\n",
       "  </thead>\n",
       "  <tbody>\n",
       "    <tr>\n",
       "      <th>1</th>\n",
       "      <td>0.0</td>\n",
       "      <td>0.0</td>\n",
       "      <td>0.0</td>\n",
       "      <td>0.0</td>\n",
       "      <td>0.0</td>\n",
       "      <td>0.0</td>\n",
       "      <td>0.0</td>\n",
       "      <td>0.0</td>\n",
       "      <td>0.0</td>\n",
       "      <td>0.0</td>\n",
       "      <td>...</td>\n",
       "      <td>0.0</td>\n",
       "      <td>0.0</td>\n",
       "      <td>0.0</td>\n",
       "      <td>0.0</td>\n",
       "      <td>0.0</td>\n",
       "      <td>0.0</td>\n",
       "      <td>0.0</td>\n",
       "      <td>0.0</td>\n",
       "      <td>0.0</td>\n",
       "      <td>0.0</td>\n",
       "    </tr>\n",
       "    <tr>\n",
       "      <th>2</th>\n",
       "      <td>0.0</td>\n",
       "      <td>0.0</td>\n",
       "      <td>0.0</td>\n",
       "      <td>0.0</td>\n",
       "      <td>0.0</td>\n",
       "      <td>0.0</td>\n",
       "      <td>0.0</td>\n",
       "      <td>0.0</td>\n",
       "      <td>0.0</td>\n",
       "      <td>4.0</td>\n",
       "      <td>...</td>\n",
       "      <td>0.0</td>\n",
       "      <td>0.0</td>\n",
       "      <td>0.0</td>\n",
       "      <td>0.0</td>\n",
       "      <td>0.0</td>\n",
       "      <td>0.0</td>\n",
       "      <td>0.0</td>\n",
       "      <td>0.0</td>\n",
       "      <td>0.0</td>\n",
       "      <td>0.0</td>\n",
       "    </tr>\n",
       "    <tr>\n",
       "      <th>3</th>\n",
       "      <td>0.0</td>\n",
       "      <td>0.0</td>\n",
       "      <td>0.0</td>\n",
       "      <td>0.0</td>\n",
       "      <td>0.0</td>\n",
       "      <td>0.0</td>\n",
       "      <td>0.0</td>\n",
       "      <td>0.0</td>\n",
       "      <td>0.0</td>\n",
       "      <td>0.0</td>\n",
       "      <td>...</td>\n",
       "      <td>0.0</td>\n",
       "      <td>0.0</td>\n",
       "      <td>0.0</td>\n",
       "      <td>0.0</td>\n",
       "      <td>0.0</td>\n",
       "      <td>0.0</td>\n",
       "      <td>0.0</td>\n",
       "      <td>0.0</td>\n",
       "      <td>0.0</td>\n",
       "      <td>0.0</td>\n",
       "    </tr>\n",
       "    <tr>\n",
       "      <th>4</th>\n",
       "      <td>0.0</td>\n",
       "      <td>0.0</td>\n",
       "      <td>0.0</td>\n",
       "      <td>0.0</td>\n",
       "      <td>0.0</td>\n",
       "      <td>0.0</td>\n",
       "      <td>0.0</td>\n",
       "      <td>0.0</td>\n",
       "      <td>0.0</td>\n",
       "      <td>4.0</td>\n",
       "      <td>...</td>\n",
       "      <td>0.0</td>\n",
       "      <td>0.0</td>\n",
       "      <td>0.0</td>\n",
       "      <td>0.0</td>\n",
       "      <td>0.0</td>\n",
       "      <td>0.0</td>\n",
       "      <td>0.0</td>\n",
       "      <td>0.0</td>\n",
       "      <td>0.0</td>\n",
       "      <td>0.0</td>\n",
       "    </tr>\n",
       "    <tr>\n",
       "      <th>5</th>\n",
       "      <td>0.0</td>\n",
       "      <td>0.0</td>\n",
       "      <td>4.0</td>\n",
       "      <td>0.0</td>\n",
       "      <td>0.0</td>\n",
       "      <td>0.0</td>\n",
       "      <td>0.0</td>\n",
       "      <td>0.0</td>\n",
       "      <td>0.0</td>\n",
       "      <td>0.0</td>\n",
       "      <td>...</td>\n",
       "      <td>0.0</td>\n",
       "      <td>0.0</td>\n",
       "      <td>0.0</td>\n",
       "      <td>0.0</td>\n",
       "      <td>0.0</td>\n",
       "      <td>0.0</td>\n",
       "      <td>0.0</td>\n",
       "      <td>0.0</td>\n",
       "      <td>0.0</td>\n",
       "      <td>0.0</td>\n",
       "    </tr>\n",
       "    <tr>\n",
       "      <th>...</th>\n",
       "      <td>...</td>\n",
       "      <td>...</td>\n",
       "      <td>...</td>\n",
       "      <td>...</td>\n",
       "      <td>...</td>\n",
       "      <td>...</td>\n",
       "      <td>...</td>\n",
       "      <td>...</td>\n",
       "      <td>...</td>\n",
       "      <td>...</td>\n",
       "      <td>...</td>\n",
       "      <td>...</td>\n",
       "      <td>...</td>\n",
       "      <td>...</td>\n",
       "      <td>...</td>\n",
       "      <td>...</td>\n",
       "      <td>...</td>\n",
       "      <td>...</td>\n",
       "      <td>...</td>\n",
       "      <td>...</td>\n",
       "      <td>...</td>\n",
       "    </tr>\n",
       "    <tr>\n",
       "      <th>667</th>\n",
       "      <td>0.0</td>\n",
       "      <td>0.0</td>\n",
       "      <td>0.0</td>\n",
       "      <td>0.0</td>\n",
       "      <td>0.0</td>\n",
       "      <td>4.0</td>\n",
       "      <td>0.0</td>\n",
       "      <td>0.0</td>\n",
       "      <td>0.0</td>\n",
       "      <td>0.0</td>\n",
       "      <td>...</td>\n",
       "      <td>0.0</td>\n",
       "      <td>0.0</td>\n",
       "      <td>0.0</td>\n",
       "      <td>0.0</td>\n",
       "      <td>0.0</td>\n",
       "      <td>0.0</td>\n",
       "      <td>0.0</td>\n",
       "      <td>0.0</td>\n",
       "      <td>0.0</td>\n",
       "      <td>0.0</td>\n",
       "    </tr>\n",
       "    <tr>\n",
       "      <th>668</th>\n",
       "      <td>0.0</td>\n",
       "      <td>0.0</td>\n",
       "      <td>0.0</td>\n",
       "      <td>0.0</td>\n",
       "      <td>0.0</td>\n",
       "      <td>0.0</td>\n",
       "      <td>0.0</td>\n",
       "      <td>0.0</td>\n",
       "      <td>0.0</td>\n",
       "      <td>0.0</td>\n",
       "      <td>...</td>\n",
       "      <td>0.0</td>\n",
       "      <td>0.0</td>\n",
       "      <td>0.0</td>\n",
       "      <td>0.0</td>\n",
       "      <td>0.0</td>\n",
       "      <td>0.0</td>\n",
       "      <td>0.0</td>\n",
       "      <td>0.0</td>\n",
       "      <td>0.0</td>\n",
       "      <td>0.0</td>\n",
       "    </tr>\n",
       "    <tr>\n",
       "      <th>669</th>\n",
       "      <td>0.0</td>\n",
       "      <td>0.0</td>\n",
       "      <td>0.0</td>\n",
       "      <td>0.0</td>\n",
       "      <td>0.0</td>\n",
       "      <td>0.0</td>\n",
       "      <td>0.0</td>\n",
       "      <td>0.0</td>\n",
       "      <td>0.0</td>\n",
       "      <td>0.0</td>\n",
       "      <td>...</td>\n",
       "      <td>0.0</td>\n",
       "      <td>0.0</td>\n",
       "      <td>0.0</td>\n",
       "      <td>0.0</td>\n",
       "      <td>0.0</td>\n",
       "      <td>0.0</td>\n",
       "      <td>0.0</td>\n",
       "      <td>0.0</td>\n",
       "      <td>0.0</td>\n",
       "      <td>0.0</td>\n",
       "    </tr>\n",
       "    <tr>\n",
       "      <th>670</th>\n",
       "      <td>4.0</td>\n",
       "      <td>0.0</td>\n",
       "      <td>0.0</td>\n",
       "      <td>0.0</td>\n",
       "      <td>0.0</td>\n",
       "      <td>0.0</td>\n",
       "      <td>0.0</td>\n",
       "      <td>0.0</td>\n",
       "      <td>0.0</td>\n",
       "      <td>0.0</td>\n",
       "      <td>...</td>\n",
       "      <td>0.0</td>\n",
       "      <td>0.0</td>\n",
       "      <td>0.0</td>\n",
       "      <td>0.0</td>\n",
       "      <td>0.0</td>\n",
       "      <td>0.0</td>\n",
       "      <td>0.0</td>\n",
       "      <td>0.0</td>\n",
       "      <td>0.0</td>\n",
       "      <td>0.0</td>\n",
       "    </tr>\n",
       "    <tr>\n",
       "      <th>671</th>\n",
       "      <td>5.0</td>\n",
       "      <td>0.0</td>\n",
       "      <td>0.0</td>\n",
       "      <td>0.0</td>\n",
       "      <td>0.0</td>\n",
       "      <td>0.0</td>\n",
       "      <td>0.0</td>\n",
       "      <td>0.0</td>\n",
       "      <td>0.0</td>\n",
       "      <td>0.0</td>\n",
       "      <td>...</td>\n",
       "      <td>0.0</td>\n",
       "      <td>0.0</td>\n",
       "      <td>0.0</td>\n",
       "      <td>0.0</td>\n",
       "      <td>0.0</td>\n",
       "      <td>0.0</td>\n",
       "      <td>0.0</td>\n",
       "      <td>0.0</td>\n",
       "      <td>0.0</td>\n",
       "      <td>0.0</td>\n",
       "    </tr>\n",
       "  </tbody>\n",
       "</table>\n",
       "<p>671 rows × 9066 columns</p>\n",
       "</div>"
      ],
      "text/plain": [
       "movieId  1       2       3       4       5       6       7       8       \\\n",
       "userId                                                                    \n",
       "1           0.0     0.0     0.0     0.0     0.0     0.0     0.0     0.0   \n",
       "2           0.0     0.0     0.0     0.0     0.0     0.0     0.0     0.0   \n",
       "3           0.0     0.0     0.0     0.0     0.0     0.0     0.0     0.0   \n",
       "4           0.0     0.0     0.0     0.0     0.0     0.0     0.0     0.0   \n",
       "5           0.0     0.0     4.0     0.0     0.0     0.0     0.0     0.0   \n",
       "...         ...     ...     ...     ...     ...     ...     ...     ...   \n",
       "667         0.0     0.0     0.0     0.0     0.0     4.0     0.0     0.0   \n",
       "668         0.0     0.0     0.0     0.0     0.0     0.0     0.0     0.0   \n",
       "669         0.0     0.0     0.0     0.0     0.0     0.0     0.0     0.0   \n",
       "670         4.0     0.0     0.0     0.0     0.0     0.0     0.0     0.0   \n",
       "671         5.0     0.0     0.0     0.0     0.0     0.0     0.0     0.0   \n",
       "\n",
       "movieId  9       10      ...  161084  161155  161594  161830  161918  161944  \\\n",
       "userId                   ...                                                   \n",
       "1           0.0     0.0  ...     0.0     0.0     0.0     0.0     0.0     0.0   \n",
       "2           0.0     4.0  ...     0.0     0.0     0.0     0.0     0.0     0.0   \n",
       "3           0.0     0.0  ...     0.0     0.0     0.0     0.0     0.0     0.0   \n",
       "4           0.0     4.0  ...     0.0     0.0     0.0     0.0     0.0     0.0   \n",
       "5           0.0     0.0  ...     0.0     0.0     0.0     0.0     0.0     0.0   \n",
       "...         ...     ...  ...     ...     ...     ...     ...     ...     ...   \n",
       "667         0.0     0.0  ...     0.0     0.0     0.0     0.0     0.0     0.0   \n",
       "668         0.0     0.0  ...     0.0     0.0     0.0     0.0     0.0     0.0   \n",
       "669         0.0     0.0  ...     0.0     0.0     0.0     0.0     0.0     0.0   \n",
       "670         0.0     0.0  ...     0.0     0.0     0.0     0.0     0.0     0.0   \n",
       "671         0.0     0.0  ...     0.0     0.0     0.0     0.0     0.0     0.0   \n",
       "\n",
       "movieId  162376  162542  162672  163949  \n",
       "userId                                   \n",
       "1           0.0     0.0     0.0     0.0  \n",
       "2           0.0     0.0     0.0     0.0  \n",
       "3           0.0     0.0     0.0     0.0  \n",
       "4           0.0     0.0     0.0     0.0  \n",
       "5           0.0     0.0     0.0     0.0  \n",
       "...         ...     ...     ...     ...  \n",
       "667         0.0     0.0     0.0     0.0  \n",
       "668         0.0     0.0     0.0     0.0  \n",
       "669         0.0     0.0     0.0     0.0  \n",
       "670         0.0     0.0     0.0     0.0  \n",
       "671         0.0     0.0     0.0     0.0  \n",
       "\n",
       "[671 rows x 9066 columns]"
      ]
     },
     "execution_count": 10,
     "metadata": {},
     "output_type": "execute_result"
    }
   ],
   "source": [
    "user_movie_matrix"
   ]
  },
  {
   "cell_type": "code",
   "execution_count": 11,
   "id": "d9ac82f1",
   "metadata": {},
   "outputs": [],
   "source": [
    "# Matrix Factorization\n",
    "R = user_movie_matrix.values # 정답 R"
   ]
  },
  {
   "cell_type": "code",
   "execution_count": 12,
   "id": "0fa4bfe7",
   "metadata": {},
   "outputs": [],
   "source": [
    "n_user = R.shape[0]  # 전체 유저 수\n",
    "n_item = R.shape[1]  # 전체 영화 수"
   ]
  },
  {
   "cell_type": "code",
   "execution_count": 13,
   "id": "8b282b75",
   "metadata": {},
   "outputs": [],
   "source": [
    "# 잠재 요인 행렬\n",
    "K = 10"
   ]
  },
  {
   "cell_type": "code",
   "execution_count": 14,
   "id": "d330fe22",
   "metadata": {},
   "outputs": [],
   "source": [
    "# P와 Q를 랜덤 값으로 초기화\n",
    "P = np.random.normal(size=(n_user, K))\n",
    "Q = np.random.normal(size=(n_item, K))"
   ]
  },
  {
   "cell_type": "code",
   "execution_count": 15,
   "id": "74614dcd",
   "metadata": {},
   "outputs": [
    {
     "data": {
      "text/plain": [
       "array([[-5.27899086e-04, -2.74901425e-01, -1.39285562e-01, ...,\n",
       "         5.40297269e-01,  3.73497287e-01,  3.77813394e-01],\n",
       "       [-9.02131926e-02, -2.30594327e+00,  1.14276002e+00, ...,\n",
       "        -8.24492228e-01,  1.89048564e-02, -3.83343556e-01],\n",
       "       [-3.04185475e-01,  9.97291506e-01, -1.27273841e-01, ...,\n",
       "         1.17448696e+00,  3.19068832e-01,  1.90870428e-01],\n",
       "       ...,\n",
       "       [ 1.56257733e+00, -1.61646773e+00,  1.01460686e+00, ...,\n",
       "         1.89202195e+00, -1.74282165e-01, -5.15853812e-01],\n",
       "       [-1.51614961e-01, -3.57993863e-01, -4.34264283e-01, ...,\n",
       "        -1.56369174e+00,  1.41204350e+00,  5.69700971e-01],\n",
       "       [-6.22145311e-01, -9.23052182e-03,  8.69726264e-02, ...,\n",
       "         5.10376771e-01, -2.55302360e-01,  4.33378342e-01]])"
      ]
     },
     "execution_count": 15,
     "metadata": {},
     "output_type": "execute_result"
    }
   ],
   "source": [
    "P"
   ]
  },
  {
   "cell_type": "code",
   "execution_count": 16,
   "id": "a84c0259",
   "metadata": {},
   "outputs": [
    {
     "data": {
      "text/plain": [
       "array([[-0.00472236,  0.66960383, -1.35039683, ..., -0.09578928,\n",
       "        -1.44032777,  1.29083348],\n",
       "       [-1.66968842,  2.93218199, -0.50554754, ...,  0.26717887,\n",
       "         0.16262043,  0.15693477],\n",
       "       [-0.29280032,  0.40258894, -1.01805777, ..., -0.85771943,\n",
       "         0.67997376, -1.98131459],\n",
       "       ...,\n",
       "       [-1.06546485, -0.99684602,  0.48758678, ...,  1.4021354 ,\n",
       "         1.28251351,  0.67603801],\n",
       "       [-0.43504769,  0.48253442,  1.03926559, ..., -1.43103717,\n",
       "        -0.53562373, -1.99492094],\n",
       "       [ 0.66185439, -1.90742003,  0.51060278, ...,  1.9708748 ,\n",
       "         1.14458556,  0.70310818]])"
      ]
     },
     "execution_count": 16,
     "metadata": {},
     "output_type": "execute_result"
    }
   ],
   "source": [
    "Q"
   ]
  },
  {
   "cell_type": "code",
   "execution_count": 17,
   "id": "b48e3ef7",
   "metadata": {},
   "outputs": [],
   "source": [
    "# GD를 이용한 잠재 요인 행렬 학습\n",
    "# 유저 670이 영화 0에 평가한 점수를 학습\n",
    "user_id = 670\n",
    "item_id = 0"
   ]
  },
  {
   "cell_type": "code",
   "execution_count": 18,
   "id": "adb2da70",
   "metadata": {},
   "outputs": [
    {
     "data": {
      "text/plain": [
       "0.18732828198773863"
      ]
     },
     "execution_count": 18,
     "metadata": {},
     "output_type": "execute_result"
    }
   ],
   "source": [
    "# R_hat을 계산\n",
    "pred = P[user_id, :].dot(Q[item_id, :].T)\n",
    "pred"
   ]
  },
  {
   "cell_type": "code",
   "execution_count": 19,
   "id": "71b49a73",
   "metadata": {},
   "outputs": [
    {
     "data": {
      "text/plain": [
       "5.0"
      ]
     },
     "execution_count": 19,
     "metadata": {},
     "output_type": "execute_result"
    }
   ],
   "source": [
    "# R과 R_hat의 오차 계산\n",
    "real = R[user_id, item_id]\n",
    "real"
   ]
  },
  {
   "cell_type": "code",
   "execution_count": 20,
   "id": "69459ce0",
   "metadata": {},
   "outputs": [
    {
     "data": {
      "text/plain": [
       "4.812671718012261"
      ]
     },
     "execution_count": 20,
     "metadata": {},
     "output_type": "execute_result"
    }
   ],
   "source": [
    "error = real - pred\n",
    "error"
   ]
  },
  {
   "cell_type": "code",
   "execution_count": 21,
   "id": "cdc3c48a",
   "metadata": {},
   "outputs": [],
   "source": [
    "# GD를 이용해서 P와 Q를 업데이트\n",
    "learning_rate = 0.01"
   ]
  },
  {
   "cell_type": "code",
   "execution_count": 22,
   "id": "19697455",
   "metadata": {},
   "outputs": [],
   "source": [
    "dp = 2 * error * Q[item_id, :]\n",
    "dq = 2 * error * P[user_id, :]"
   ]
  },
  {
   "cell_type": "code",
   "execution_count": 23,
   "id": "4dbd2e06",
   "metadata": {},
   "outputs": [],
   "source": [
    "P[user_id, :] += learning_rate * dp\n",
    "Q[item_id, :] += learning_rate * dq"
   ]
  },
  {
   "cell_type": "code",
   "execution_count": 24,
   "id": "30729f38",
   "metadata": {},
   "outputs": [
    {
     "data": {
      "text/plain": [
       "array([-0.62259985,  0.05522115, -0.04300771, -0.89493943, -1.16869232,\n",
       "        0.25868991,  0.56970084,  0.50115672, -0.39393885,  0.5576255 ])"
      ]
     },
     "execution_count": 24,
     "metadata": {},
     "output_type": "execute_result"
    }
   ],
   "source": [
    "P[user_id]"
   ]
  },
  {
   "cell_type": "code",
   "execution_count": 25,
   "id": "3990702a",
   "metadata": {},
   "outputs": [
    {
     "data": {
      "text/plain": [
       "3.7994326715808127"
      ]
     },
     "execution_count": 25,
     "metadata": {},
     "output_type": "execute_result"
    }
   ],
   "source": [
    "pred = P[user_id, :].dot(Q[item_id, :].T)\n",
    "error = real - pred\n",
    "error"
   ]
  },
  {
   "cell_type": "code",
   "execution_count": 26,
   "id": "327644c1",
   "metadata": {},
   "outputs": [
    {
     "name": "stdout",
     "output_type": "stream",
     "text": [
      "Epoch0: 3.799\n",
      "Epoch1: 2.981\n",
      "Epoch2: 2.312\n",
      "Epoch3: 1.769\n",
      "Epoch4: 1.335\n",
      "Epoch5: 0.995\n",
      "Epoch6: 0.735\n",
      "Epoch7: 0.538\n",
      "Epoch8: 0.391\n",
      "Epoch9: 0.283\n"
     ]
    }
   ],
   "source": [
    "epochs = 10\n",
    "real = R[user_id, item_id]\n",
    "\n",
    "for epoch in range(epochs):\n",
    "    pred = P[user_id, :].dot(Q[item_id, :].T)\n",
    "    error = real - pred\n",
    "\n",
    "    dp = 2 * error * Q[item_id, :]\n",
    "    dq = 2 * error * P[user_id, :]\n",
    "\n",
    "    P[user_id, :] += learning_rate * dp\n",
    "    Q[item_id, :] += learning_rate * dq\n",
    "\n",
    "    print(f\"Epoch{epoch}: {round(error, 3)}\")"
   ]
  },
  {
   "cell_type": "code",
   "execution_count": 27,
   "id": "46603379",
   "metadata": {},
   "outputs": [
    {
     "name": "stdout",
     "output_type": "stream",
     "text": [
      "Epoch 1: 3.0055\n",
      "Epoch 2: 1.68267\n",
      "Epoch 3: 1.3257\n",
      "Epoch 4: 1.16645\n",
      "Epoch 5: 1.06975\n"
     ]
    }
   ],
   "source": [
    "# 전체 데이터를 이용해 P와 Q를 업데이트\n",
    "K = 10\n",
    "\n",
    "P = np.random.normal(size=(n_user, K))\n",
    "Q = np.random.normal(size=(n_item, K))\n",
    "\n",
    "epochs = 5\n",
    "learning_rate = 0.01\n",
    "\n",
    "for epoch in range(1, epochs + 1):\n",
    "    total_error = 0\n",
    "    iteration = 0\n",
    "\n",
    "    # 모든 유저에 대해 반복\n",
    "    for user_id in range(n_user):\n",
    "        # 모든 아이템에 대해 반복 \n",
    "        for item_id in range(n_item):\n",
    "\n",
    "            real = R[user_id, item_id]\n",
    "\n",
    "            # 평가하지 않은 경우 제외\n",
    "            if real == 0:\n",
    "                continue\n",
    "\n",
    "            # P와 Q 업데이트\n",
    "            pred = P[user_id, :].dot(Q[item_id, :].T)\n",
    "            error = real - pred\n",
    "\n",
    "            dp = 2 * error * Q[item_id, :]\n",
    "            dq = 2 * error * P[user_id, :]\n",
    "\n",
    "            P[user_id, :] += learning_rate * dp\n",
    "            Q[item_id, :] += learning_rate * dq\n",
    "\n",
    "            total_error += (error ** 2)\n",
    "            iteration += 1\n",
    "\n",
    "    print(f\"Epoch {epoch}: {round(np.sqrt(total_error / iteration), 5)}\")\n"
   ]
  },
  {
   "cell_type": "code",
   "execution_count": 28,
   "id": "5bcc55ce",
   "metadata": {},
   "outputs": [],
   "source": [
    "# 영화 추천\n",
    "user_id = 124"
   ]
  },
  {
   "cell_type": "code",
   "execution_count": 29,
   "id": "d3c2b83b",
   "metadata": {},
   "outputs": [],
   "source": [
    "# 유저 \"124\" 잠재요인에 모든 영화의 잠재요인을 곱해 평점 예측\n",
    "prediction = P[[user_id], :].dot(Q.T)[0]"
   ]
  },
  {
   "cell_type": "code",
   "execution_count": 30,
   "id": "3a8aee65",
   "metadata": {},
   "outputs": [],
   "source": [
    "# 영화 아이디별 예측 평가 점수를 내림차순으로 정렬\n",
    "prediction = pd.Series(\n",
    "    data=prediction,\n",
    "    index=user_movie_matrix.columns,\n",
    ").sort_values(ascending=False)"
   ]
  },
  {
   "cell_type": "code",
   "execution_count": 31,
   "id": "08550a21",
   "metadata": {},
   "outputs": [
    {
     "data": {
      "text/plain": [
       "movieId\n",
       "1040      7.811732\n",
       "27410     7.395397\n",
       "32203     7.261487\n",
       "136592    7.027115\n",
       "80969     6.755538\n",
       "            ...   \n",
       "1549     -4.867292\n",
       "30892    -5.280100\n",
       "100517   -5.318667\n",
       "64116    -5.362379\n",
       "573      -5.713493\n",
       "Length: 9066, dtype: float64"
      ]
     },
     "execution_count": 31,
     "metadata": {},
     "output_type": "execute_result"
    }
   ],
   "source": [
    "prediction"
   ]
  },
  {
   "cell_type": "code",
   "execution_count": 32,
   "id": "888efce9",
   "metadata": {},
   "outputs": [],
   "source": [
    "# 아직 평가하지 않은 영화만 추출\n",
    "prediction = prediction[user_movie_matrix.loc[user_id] == 0]"
   ]
  },
  {
   "cell_type": "code",
   "execution_count": 33,
   "id": "d7cfe7f6",
   "metadata": {},
   "outputs": [],
   "source": [
    "# 예측 평가 점수 상위 10개의 영화 아이디 추출\n",
    "recommend = prediction[:10].index"
   ]
  },
  {
   "cell_type": "code",
   "execution_count": 34,
   "id": "1222f023",
   "metadata": {},
   "outputs": [
    {
     "data": {
      "text/plain": [
       "Int64Index([1040, 27410, 32203, 136592, 80969, 96691, 2652, 7086, 27338, 4552], dtype='int64', name='movieId')"
      ]
     },
     "execution_count": 34,
     "metadata": {},
     "output_type": "execute_result"
    }
   ],
   "source": [
    "recommend"
   ]
  },
  {
   "cell_type": "code",
   "execution_count": 35,
   "id": "98bf454d",
   "metadata": {},
   "outputs": [
    {
     "data": {
      "text/html": [
       "<div>\n",
       "<style scoped>\n",
       "    .dataframe tbody tr th:only-of-type {\n",
       "        vertical-align: middle;\n",
       "    }\n",
       "\n",
       "    .dataframe tbody tr th {\n",
       "        vertical-align: top;\n",
       "    }\n",
       "\n",
       "    .dataframe thead th {\n",
       "        text-align: right;\n",
       "    }\n",
       "</style>\n",
       "<table border=\"1\" class=\"dataframe\">\n",
       "  <thead>\n",
       "    <tr style=\"text-align: right;\">\n",
       "      <th></th>\n",
       "      <th>title</th>\n",
       "    </tr>\n",
       "    <tr>\n",
       "      <th>movieId</th>\n",
       "      <th></th>\n",
       "    </tr>\n",
       "  </thead>\n",
       "  <tbody>\n",
       "    <tr>\n",
       "      <th>1040</th>\n",
       "      <td>The Secret Agent</td>\n",
       "    </tr>\n",
       "    <tr>\n",
       "      <th>27410</th>\n",
       "      <td>Conspiracy</td>\n",
       "    </tr>\n",
       "    <tr>\n",
       "      <th>32203</th>\n",
       "      <td>Brian's Song</td>\n",
       "    </tr>\n",
       "    <tr>\n",
       "      <th>136592</th>\n",
       "      <td>Freaky Friday</td>\n",
       "    </tr>\n",
       "    <tr>\n",
       "      <th>80969</th>\n",
       "      <td>Never Let Me Go</td>\n",
       "    </tr>\n",
       "    <tr>\n",
       "      <th>96691</th>\n",
       "      <td>Resident Evil: Retribution</td>\n",
       "    </tr>\n",
       "    <tr>\n",
       "      <th>2652</th>\n",
       "      <td>The Curse of Frankenstein</td>\n",
       "    </tr>\n",
       "    <tr>\n",
       "      <th>7086</th>\n",
       "      <td>Pygmalion</td>\n",
       "    </tr>\n",
       "    <tr>\n",
       "      <th>27338</th>\n",
       "      <td>The Hole</td>\n",
       "    </tr>\n",
       "    <tr>\n",
       "      <th>4552</th>\n",
       "      <td>Tetsuo: The Iron Man</td>\n",
       "    </tr>\n",
       "  </tbody>\n",
       "</table>\n",
       "</div>"
      ],
      "text/plain": [
       "                              title\n",
       "movieId                            \n",
       "1040               The Secret Agent\n",
       "27410                    Conspiracy\n",
       "32203                  Brian's Song\n",
       "136592                Freaky Friday\n",
       "80969               Never Let Me Go\n",
       "96691    Resident Evil: Retribution\n",
       "2652      The Curse of Frankenstein\n",
       "7086                      Pygmalion\n",
       "27338                      The Hole\n",
       "4552           Tetsuo: The Iron Man"
      ]
     },
     "execution_count": 35,
     "metadata": {},
     "output_type": "execute_result"
    }
   ],
   "source": [
    "movies.loc[recommend]"
   ]
  },
  {
   "cell_type": "code",
   "execution_count": null,
   "id": "3cf03b26",
   "metadata": {},
   "outputs": [],
   "source": []
  }
 ],
 "metadata": {
  "kernelspec": {
   "display_name": "Python 3",
   "language": "python",
   "name": "python3"
  },
  "language_info": {
   "codemirror_mode": {
    "name": "ipython",
    "version": 3
   },
   "file_extension": ".py",
   "mimetype": "text/x-python",
   "name": "python",
   "nbconvert_exporter": "python",
   "pygments_lexer": "ipython3",
   "version": "3.8.8"
  }
 },
 "nbformat": 4,
 "nbformat_minor": 5
}
