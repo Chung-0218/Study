{
 "cells": [
  {
   "cell_type": "code",
   "execution_count": 1,
   "id": "107f3689",
   "metadata": {},
   "outputs": [],
   "source": [
    "import pandas as pd\n",
    "import numpy as np\n",
    "\n",
    "np.random.seed(2022)"
   ]
  },
  {
   "cell_type": "code",
   "execution_count": 2,
   "id": "7066dceb",
   "metadata": {},
   "outputs": [],
   "source": [
    "# Data Load\n",
    "# 유저-영화 평점 데이터를 이용해 유저가 아직 평가하지 않은 영화를 추천\n",
    "ratings = pd.read_csv(\"ratings_small.csv\")\n",
    "# 3개의 column을 사용\n",
    "ratings = ratings[[\"userId\", \"movieId\", \"rating\"]]"
   ]
  },
  {
   "cell_type": "code",
   "execution_count": 3,
   "id": "938ae306",
   "metadata": {},
   "outputs": [
    {
     "data": {
      "text/html": [
       "<div>\n",
       "<style scoped>\n",
       "    .dataframe tbody tr th:only-of-type {\n",
       "        vertical-align: middle;\n",
       "    }\n",
       "\n",
       "    .dataframe tbody tr th {\n",
       "        vertical-align: top;\n",
       "    }\n",
       "\n",
       "    .dataframe thead th {\n",
       "        text-align: right;\n",
       "    }\n",
       "</style>\n",
       "<table border=\"1\" class=\"dataframe\">\n",
       "  <thead>\n",
       "    <tr style=\"text-align: right;\">\n",
       "      <th></th>\n",
       "      <th>userId</th>\n",
       "      <th>movieId</th>\n",
       "      <th>rating</th>\n",
       "    </tr>\n",
       "  </thead>\n",
       "  <tbody>\n",
       "    <tr>\n",
       "      <th>0</th>\n",
       "      <td>1</td>\n",
       "      <td>31</td>\n",
       "      <td>2.5</td>\n",
       "    </tr>\n",
       "    <tr>\n",
       "      <th>1</th>\n",
       "      <td>1</td>\n",
       "      <td>1029</td>\n",
       "      <td>3.0</td>\n",
       "    </tr>\n",
       "    <tr>\n",
       "      <th>2</th>\n",
       "      <td>1</td>\n",
       "      <td>1061</td>\n",
       "      <td>3.0</td>\n",
       "    </tr>\n",
       "    <tr>\n",
       "      <th>3</th>\n",
       "      <td>1</td>\n",
       "      <td>1129</td>\n",
       "      <td>2.0</td>\n",
       "    </tr>\n",
       "    <tr>\n",
       "      <th>4</th>\n",
       "      <td>1</td>\n",
       "      <td>1172</td>\n",
       "      <td>4.0</td>\n",
       "    </tr>\n",
       "  </tbody>\n",
       "</table>\n",
       "</div>"
      ],
      "text/plain": [
       "   userId  movieId  rating\n",
       "0       1       31     2.5\n",
       "1       1     1029     3.0\n",
       "2       1     1061     3.0\n",
       "3       1     1129     2.0\n",
       "4       1     1172     4.0"
      ]
     },
     "execution_count": 3,
     "metadata": {},
     "output_type": "execute_result"
    }
   ],
   "source": [
    "ratings.head()"
   ]
  },
  {
   "cell_type": "code",
   "execution_count": 4,
   "id": "641acc95",
   "metadata": {},
   "outputs": [
    {
     "name": "stderr",
     "output_type": "stream",
     "text": [
      "C:\\Users\\sclab\\anaconda3\\lib\\site-packages\\IPython\\core\\interactiveshell.py:3165: DtypeWarning: Columns (10) have mixed types.Specify dtype option on import or set low_memory=False.\n",
      "  has_raised = await self.run_ast_nodes(code_ast.body, cell_name,\n"
     ]
    }
   ],
   "source": [
    "# 다른 두 데이터를 이용해 rating 데이터의 movieId에 맞는 영화 제목을 얻음\n",
    "movies = pd.read_csv(\"movies_metadata.csv\")\n",
    "links = pd.read_csv(\"links_small.csv\")"
   ]
  },
  {
   "cell_type": "code",
   "execution_count": 5,
   "id": "8b735fde",
   "metadata": {},
   "outputs": [],
   "source": [
    "# Data Preprocessing\n",
    "movies = movies.fillna('')\n",
    "movies = movies[movies[\"imdb_id\"].str.startswith('tt')]\n",
    "movies[\"imdbId\"] = movies[\"imdb_id\"].apply(lambda x: int(x[2:]))\n",
    "movies = movies.merge(links, on=\"imdbId\")"
   ]
  },
  {
   "cell_type": "code",
   "execution_count": 6,
   "id": "d1302a4c",
   "metadata": {},
   "outputs": [],
   "source": [
    "movies = movies[[\"title\", \"movieId\"]]\n",
    "movies = movies.set_index(\"movieId\")"
   ]
  },
  {
   "cell_type": "code",
   "execution_count": 7,
   "id": "675df14e",
   "metadata": {},
   "outputs": [
    {
     "data": {
      "text/html": [
       "<div>\n",
       "<style scoped>\n",
       "    .dataframe tbody tr th:only-of-type {\n",
       "        vertical-align: middle;\n",
       "    }\n",
       "\n",
       "    .dataframe tbody tr th {\n",
       "        vertical-align: top;\n",
       "    }\n",
       "\n",
       "    .dataframe thead th {\n",
       "        text-align: right;\n",
       "    }\n",
       "</style>\n",
       "<table border=\"1\" class=\"dataframe\">\n",
       "  <thead>\n",
       "    <tr style=\"text-align: right;\">\n",
       "      <th></th>\n",
       "      <th>title</th>\n",
       "    </tr>\n",
       "    <tr>\n",
       "      <th>movieId</th>\n",
       "      <th></th>\n",
       "    </tr>\n",
       "  </thead>\n",
       "  <tbody>\n",
       "    <tr>\n",
       "      <th>1</th>\n",
       "      <td>Toy Story</td>\n",
       "    </tr>\n",
       "    <tr>\n",
       "      <th>2</th>\n",
       "      <td>Jumanji</td>\n",
       "    </tr>\n",
       "    <tr>\n",
       "      <th>3</th>\n",
       "      <td>Grumpier Old Men</td>\n",
       "    </tr>\n",
       "    <tr>\n",
       "      <th>4</th>\n",
       "      <td>Waiting to Exhale</td>\n",
       "    </tr>\n",
       "    <tr>\n",
       "      <th>5</th>\n",
       "      <td>Father of the Bride Part II</td>\n",
       "    </tr>\n",
       "  </tbody>\n",
       "</table>\n",
       "</div>"
      ],
      "text/plain": [
       "                               title\n",
       "movieId                             \n",
       "1                          Toy Story\n",
       "2                            Jumanji\n",
       "3                   Grumpier Old Men\n",
       "4                  Waiting to Exhale\n",
       "5        Father of the Bride Part II"
      ]
     },
     "execution_count": 7,
     "metadata": {},
     "output_type": "execute_result"
    }
   ],
   "source": [
    "movies.head()"
   ]
  },
  {
   "cell_type": "code",
   "execution_count": 8,
   "id": "6af45ed8",
   "metadata": {},
   "outputs": [],
   "source": [
    "user_movie_matrix = ratings.pivot(\n",
    "    index=\"userId\",\n",
    "    columns=\"movieId\",\n",
    "    values=\"rating\",\n",
    ")"
   ]
  },
  {
   "cell_type": "code",
   "execution_count": 9,
   "id": "814da690",
   "metadata": {},
   "outputs": [
    {
     "data": {
      "text/html": [
       "<div>\n",
       "<style scoped>\n",
       "    .dataframe tbody tr th:only-of-type {\n",
       "        vertical-align: middle;\n",
       "    }\n",
       "\n",
       "    .dataframe tbody tr th {\n",
       "        vertical-align: top;\n",
       "    }\n",
       "\n",
       "    .dataframe thead th {\n",
       "        text-align: right;\n",
       "    }\n",
       "</style>\n",
       "<table border=\"1\" class=\"dataframe\">\n",
       "  <thead>\n",
       "    <tr style=\"text-align: right;\">\n",
       "      <th>movieId</th>\n",
       "      <th>161944</th>\n",
       "      <th>162376</th>\n",
       "      <th>162542</th>\n",
       "      <th>162672</th>\n",
       "      <th>163949</th>\n",
       "    </tr>\n",
       "    <tr>\n",
       "      <th>userId</th>\n",
       "      <th></th>\n",
       "      <th></th>\n",
       "      <th></th>\n",
       "      <th></th>\n",
       "      <th></th>\n",
       "    </tr>\n",
       "  </thead>\n",
       "  <tbody>\n",
       "    <tr>\n",
       "      <th>667</th>\n",
       "      <td>NaN</td>\n",
       "      <td>NaN</td>\n",
       "      <td>NaN</td>\n",
       "      <td>NaN</td>\n",
       "      <td>NaN</td>\n",
       "    </tr>\n",
       "    <tr>\n",
       "      <th>668</th>\n",
       "      <td>NaN</td>\n",
       "      <td>NaN</td>\n",
       "      <td>NaN</td>\n",
       "      <td>NaN</td>\n",
       "      <td>NaN</td>\n",
       "    </tr>\n",
       "    <tr>\n",
       "      <th>669</th>\n",
       "      <td>NaN</td>\n",
       "      <td>NaN</td>\n",
       "      <td>NaN</td>\n",
       "      <td>NaN</td>\n",
       "      <td>NaN</td>\n",
       "    </tr>\n",
       "    <tr>\n",
       "      <th>670</th>\n",
       "      <td>NaN</td>\n",
       "      <td>NaN</td>\n",
       "      <td>NaN</td>\n",
       "      <td>NaN</td>\n",
       "      <td>NaN</td>\n",
       "    </tr>\n",
       "    <tr>\n",
       "      <th>671</th>\n",
       "      <td>NaN</td>\n",
       "      <td>NaN</td>\n",
       "      <td>NaN</td>\n",
       "      <td>NaN</td>\n",
       "      <td>NaN</td>\n",
       "    </tr>\n",
       "  </tbody>\n",
       "</table>\n",
       "</div>"
      ],
      "text/plain": [
       "movieId  161944  162376  162542  162672  163949\n",
       "userId                                         \n",
       "667         NaN     NaN     NaN     NaN     NaN\n",
       "668         NaN     NaN     NaN     NaN     NaN\n",
       "669         NaN     NaN     NaN     NaN     NaN\n",
       "670         NaN     NaN     NaN     NaN     NaN\n",
       "671         NaN     NaN     NaN     NaN     NaN"
      ]
     },
     "execution_count": 9,
     "metadata": {},
     "output_type": "execute_result"
    }
   ],
   "source": [
    "# 아직 평가하지 않아서 NaN값\n",
    "user_movie_matrix.iloc[-5:, -5:]"
   ]
  },
  {
   "cell_type": "code",
   "execution_count": 10,
   "id": "4e59f713",
   "metadata": {},
   "outputs": [],
   "source": [
    "# 결측치를 0으로 대체\n",
    "user_movie_matrix = user_movie_matrix.fillna(0)"
   ]
  },
  {
   "cell_type": "code",
   "execution_count": 11,
   "id": "8519a024",
   "metadata": {},
   "outputs": [
    {
     "data": {
      "text/plain": [
       "(671, 9066)"
      ]
     },
     "execution_count": 11,
     "metadata": {},
     "output_type": "execute_result"
    }
   ],
   "source": [
    "# 유저가 671명, 영화가 9066개\n",
    "user_movie_matrix.shape"
   ]
  },
  {
   "cell_type": "code",
   "execution_count": 12,
   "id": "503acba6",
   "metadata": {},
   "outputs": [],
   "source": [
    "# KNN Basic\n",
    "# K = 5, 유저 124가 아직 평가하지 않은 영화 648에 대한 평가를 예측\n",
    "k = 5\n",
    "user_i = 124\n",
    "movie_id = 648"
   ]
  },
  {
   "cell_type": "code",
   "execution_count": 13,
   "id": "d0cb1f8f",
   "metadata": {},
   "outputs": [],
   "source": [
    "# 유저 간 코사인 유사도 계산\n",
    "from sklearn.metrics.pairwise import cosine_similarity\n",
    "\n",
    "user_similarity = cosine_similarity(user_movie_matrix)"
   ]
  },
  {
   "cell_type": "code",
   "execution_count": 14,
   "id": "dcf70570",
   "metadata": {},
   "outputs": [
    {
     "data": {
      "text/plain": [
       "(671, 671)"
      ]
     },
     "execution_count": 14,
     "metadata": {},
     "output_type": "execute_result"
    }
   ],
   "source": [
    "user_similarity.shape"
   ]
  },
  {
   "cell_type": "code",
   "execution_count": 15,
   "id": "95d36ffe",
   "metadata": {},
   "outputs": [
    {
     "data": {
      "text/plain": [
       "array([[1.        , 0.        , 0.        , 0.07448245, 0.01681799,\n",
       "        0.        , 0.08388416, 0.        , 0.01284289, 0.        ],\n",
       "       [0.        , 1.        , 0.12429498, 0.11882103, 0.10364614,\n",
       "        0.        , 0.21298521, 0.11319045, 0.11333307, 0.04321284],\n",
       "       [0.        , 0.12429498, 1.        , 0.08163991, 0.15153112,\n",
       "        0.06069128, 0.15471414, 0.24978072, 0.13447489, 0.1146725 ],\n",
       "       [0.07448245, 0.11882103, 0.08163991, 1.        , 0.13064868,\n",
       "        0.07964833, 0.31974534, 0.19101336, 0.03041726, 0.13718558],\n",
       "       [0.01681799, 0.10364614, 0.15153112, 0.13064868, 1.        ,\n",
       "        0.06379575, 0.0958878 , 0.16571211, 0.08661604, 0.03237017],\n",
       "       [0.        , 0.        , 0.06069128, 0.07964833, 0.06379575,\n",
       "        1.        , 0.        , 0.12850206, 0.02174493, 0.04526415],\n",
       "       [0.08388416, 0.21298521, 0.15471414, 0.31974534, 0.0958878 ,\n",
       "        0.        , 1.        , 0.14957182, 0.05972764, 0.18649318],\n",
       "       [0.        , 0.11319045, 0.24978072, 0.19101336, 0.16571211,\n",
       "        0.12850206, 0.14957182, 1.        , 0.15735626, 0.16272417],\n",
       "       [0.01284289, 0.11333307, 0.13447489, 0.03041726, 0.08661604,\n",
       "        0.02174493, 0.05972764, 0.15735626, 1.        , 0.12734115],\n",
       "       [0.        , 0.04321284, 0.1146725 , 0.13718558, 0.03237017,\n",
       "        0.04526415, 0.18649318, 0.16272417, 0.12734115, 1.        ]])"
      ]
     },
     "execution_count": 15,
     "metadata": {},
     "output_type": "execute_result"
    }
   ],
   "source": [
    "user_similarity[:10, :10]"
   ]
  },
  {
   "cell_type": "code",
   "execution_count": 16,
   "id": "b1ae4691",
   "metadata": {},
   "outputs": [],
   "source": [
    "user_similarity = pd.DataFrame(\n",
    "    data=user_similarity,\n",
    "    index=user_movie_matrix.index,\n",
    "    columns=user_movie_matrix.index,\n",
    ")"
   ]
  },
  {
   "cell_type": "code",
   "execution_count": 17,
   "id": "12d15637",
   "metadata": {},
   "outputs": [
    {
     "data": {
      "text/html": [
       "<div>\n",
       "<style scoped>\n",
       "    .dataframe tbody tr th:only-of-type {\n",
       "        vertical-align: middle;\n",
       "    }\n",
       "\n",
       "    .dataframe tbody tr th {\n",
       "        vertical-align: top;\n",
       "    }\n",
       "\n",
       "    .dataframe thead th {\n",
       "        text-align: right;\n",
       "    }\n",
       "</style>\n",
       "<table border=\"1\" class=\"dataframe\">\n",
       "  <thead>\n",
       "    <tr style=\"text-align: right;\">\n",
       "      <th>userId</th>\n",
       "      <th>1</th>\n",
       "      <th>2</th>\n",
       "      <th>3</th>\n",
       "      <th>4</th>\n",
       "      <th>5</th>\n",
       "      <th>6</th>\n",
       "      <th>7</th>\n",
       "      <th>8</th>\n",
       "      <th>9</th>\n",
       "      <th>10</th>\n",
       "      <th>...</th>\n",
       "      <th>662</th>\n",
       "      <th>663</th>\n",
       "      <th>664</th>\n",
       "      <th>665</th>\n",
       "      <th>666</th>\n",
       "      <th>667</th>\n",
       "      <th>668</th>\n",
       "      <th>669</th>\n",
       "      <th>670</th>\n",
       "      <th>671</th>\n",
       "    </tr>\n",
       "    <tr>\n",
       "      <th>userId</th>\n",
       "      <th></th>\n",
       "      <th></th>\n",
       "      <th></th>\n",
       "      <th></th>\n",
       "      <th></th>\n",
       "      <th></th>\n",
       "      <th></th>\n",
       "      <th></th>\n",
       "      <th></th>\n",
       "      <th></th>\n",
       "      <th></th>\n",
       "      <th></th>\n",
       "      <th></th>\n",
       "      <th></th>\n",
       "      <th></th>\n",
       "      <th></th>\n",
       "      <th></th>\n",
       "      <th></th>\n",
       "      <th></th>\n",
       "      <th></th>\n",
       "      <th></th>\n",
       "    </tr>\n",
       "  </thead>\n",
       "  <tbody>\n",
       "    <tr>\n",
       "      <th>1</th>\n",
       "      <td>1.000000</td>\n",
       "      <td>0.000000</td>\n",
       "      <td>0.000000</td>\n",
       "      <td>0.074482</td>\n",
       "      <td>0.016818</td>\n",
       "      <td>0.000000</td>\n",
       "      <td>0.083884</td>\n",
       "      <td>0.000000</td>\n",
       "      <td>0.012843</td>\n",
       "      <td>0.000000</td>\n",
       "      <td>...</td>\n",
       "      <td>0.000000</td>\n",
       "      <td>0.000000</td>\n",
       "      <td>0.014474</td>\n",
       "      <td>0.043719</td>\n",
       "      <td>0.000000</td>\n",
       "      <td>0.000000</td>\n",
       "      <td>0.000000</td>\n",
       "      <td>0.062917</td>\n",
       "      <td>0.000000</td>\n",
       "      <td>0.017466</td>\n",
       "    </tr>\n",
       "    <tr>\n",
       "      <th>2</th>\n",
       "      <td>0.000000</td>\n",
       "      <td>1.000000</td>\n",
       "      <td>0.124295</td>\n",
       "      <td>0.118821</td>\n",
       "      <td>0.103646</td>\n",
       "      <td>0.000000</td>\n",
       "      <td>0.212985</td>\n",
       "      <td>0.113190</td>\n",
       "      <td>0.113333</td>\n",
       "      <td>0.043213</td>\n",
       "      <td>...</td>\n",
       "      <td>0.477306</td>\n",
       "      <td>0.063202</td>\n",
       "      <td>0.077745</td>\n",
       "      <td>0.164162</td>\n",
       "      <td>0.466281</td>\n",
       "      <td>0.425462</td>\n",
       "      <td>0.084646</td>\n",
       "      <td>0.024140</td>\n",
       "      <td>0.170595</td>\n",
       "      <td>0.113175</td>\n",
       "    </tr>\n",
       "    <tr>\n",
       "      <th>3</th>\n",
       "      <td>0.000000</td>\n",
       "      <td>0.124295</td>\n",
       "      <td>1.000000</td>\n",
       "      <td>0.081640</td>\n",
       "      <td>0.151531</td>\n",
       "      <td>0.060691</td>\n",
       "      <td>0.154714</td>\n",
       "      <td>0.249781</td>\n",
       "      <td>0.134475</td>\n",
       "      <td>0.114672</td>\n",
       "      <td>...</td>\n",
       "      <td>0.161205</td>\n",
       "      <td>0.064198</td>\n",
       "      <td>0.176134</td>\n",
       "      <td>0.158357</td>\n",
       "      <td>0.177098</td>\n",
       "      <td>0.124562</td>\n",
       "      <td>0.124911</td>\n",
       "      <td>0.080984</td>\n",
       "      <td>0.136606</td>\n",
       "      <td>0.170193</td>\n",
       "    </tr>\n",
       "    <tr>\n",
       "      <th>4</th>\n",
       "      <td>0.074482</td>\n",
       "      <td>0.118821</td>\n",
       "      <td>0.081640</td>\n",
       "      <td>1.000000</td>\n",
       "      <td>0.130649</td>\n",
       "      <td>0.079648</td>\n",
       "      <td>0.319745</td>\n",
       "      <td>0.191013</td>\n",
       "      <td>0.030417</td>\n",
       "      <td>0.137186</td>\n",
       "      <td>...</td>\n",
       "      <td>0.114319</td>\n",
       "      <td>0.047228</td>\n",
       "      <td>0.136579</td>\n",
       "      <td>0.254030</td>\n",
       "      <td>0.121905</td>\n",
       "      <td>0.088735</td>\n",
       "      <td>0.068483</td>\n",
       "      <td>0.104309</td>\n",
       "      <td>0.054512</td>\n",
       "      <td>0.211609</td>\n",
       "    </tr>\n",
       "    <tr>\n",
       "      <th>5</th>\n",
       "      <td>0.016818</td>\n",
       "      <td>0.103646</td>\n",
       "      <td>0.151531</td>\n",
       "      <td>0.130649</td>\n",
       "      <td>1.000000</td>\n",
       "      <td>0.063796</td>\n",
       "      <td>0.095888</td>\n",
       "      <td>0.165712</td>\n",
       "      <td>0.086616</td>\n",
       "      <td>0.032370</td>\n",
       "      <td>...</td>\n",
       "      <td>0.191029</td>\n",
       "      <td>0.021142</td>\n",
       "      <td>0.146173</td>\n",
       "      <td>0.224245</td>\n",
       "      <td>0.139721</td>\n",
       "      <td>0.058252</td>\n",
       "      <td>0.042926</td>\n",
       "      <td>0.038358</td>\n",
       "      <td>0.062642</td>\n",
       "      <td>0.225086</td>\n",
       "    </tr>\n",
       "  </tbody>\n",
       "</table>\n",
       "<p>5 rows × 671 columns</p>\n",
       "</div>"
      ],
      "text/plain": [
       "userId       1         2         3         4         5         6         7    \\\n",
       "userId                                                                         \n",
       "1       1.000000  0.000000  0.000000  0.074482  0.016818  0.000000  0.083884   \n",
       "2       0.000000  1.000000  0.124295  0.118821  0.103646  0.000000  0.212985   \n",
       "3       0.000000  0.124295  1.000000  0.081640  0.151531  0.060691  0.154714   \n",
       "4       0.074482  0.118821  0.081640  1.000000  0.130649  0.079648  0.319745   \n",
       "5       0.016818  0.103646  0.151531  0.130649  1.000000  0.063796  0.095888   \n",
       "\n",
       "userId       8         9         10   ...       662       663       664  \\\n",
       "userId                                ...                                 \n",
       "1       0.000000  0.012843  0.000000  ...  0.000000  0.000000  0.014474   \n",
       "2       0.113190  0.113333  0.043213  ...  0.477306  0.063202  0.077745   \n",
       "3       0.249781  0.134475  0.114672  ...  0.161205  0.064198  0.176134   \n",
       "4       0.191013  0.030417  0.137186  ...  0.114319  0.047228  0.136579   \n",
       "5       0.165712  0.086616  0.032370  ...  0.191029  0.021142  0.146173   \n",
       "\n",
       "userId       665       666       667       668       669       670       671  \n",
       "userId                                                                        \n",
       "1       0.043719  0.000000  0.000000  0.000000  0.062917  0.000000  0.017466  \n",
       "2       0.164162  0.466281  0.425462  0.084646  0.024140  0.170595  0.113175  \n",
       "3       0.158357  0.177098  0.124562  0.124911  0.080984  0.136606  0.170193  \n",
       "4       0.254030  0.121905  0.088735  0.068483  0.104309  0.054512  0.211609  \n",
       "5       0.224245  0.139721  0.058252  0.042926  0.038358  0.062642  0.225086  \n",
       "\n",
       "[5 rows x 671 columns]"
      ]
     },
     "execution_count": 17,
     "metadata": {},
     "output_type": "execute_result"
    }
   ],
   "source": [
    "user_similarity.head(5)"
   ]
  },
  {
   "cell_type": "code",
   "execution_count": 18,
   "id": "45ccbe07",
   "metadata": {},
   "outputs": [],
   "source": [
    "# 아이템 i를 평가한 유저들 중 유저 u와 비슷한 유저 k명을 찾음\n",
    "user_i_similarity = user_similarity.loc[user_i]"
   ]
  },
  {
   "cell_type": "code",
   "execution_count": 19,
   "id": "c3b2d784",
   "metadata": {},
   "outputs": [
    {
     "data": {
      "text/plain": [
       "userId\n",
       "1      0.000000\n",
       "2      0.129669\n",
       "3      0.224600\n",
       "4      0.147568\n",
       "5      0.159521\n",
       "         ...   \n",
       "667    0.065720\n",
       "668    0.074023\n",
       "669    0.049342\n",
       "670    0.201474\n",
       "671    0.330381\n",
       "Name: 124, Length: 671, dtype: float64"
      ]
     },
     "execution_count": 19,
     "metadata": {},
     "output_type": "execute_result"
    }
   ],
   "source": [
    "user_i_similarity"
   ]
  },
  {
   "cell_type": "code",
   "execution_count": 20,
   "id": "ba9bc691",
   "metadata": {},
   "outputs": [],
   "source": [
    "user_i_similarity = user_i_similarity.sort_values(ascending=False)"
   ]
  },
  {
   "cell_type": "code",
   "execution_count": 21,
   "id": "3302f35a",
   "metadata": {},
   "outputs": [
    {
     "data": {
      "text/plain": [
       "userId\n",
       "124    1.000000\n",
       "458    0.455216\n",
       "379    0.433607\n",
       "355    0.432242\n",
       "282    0.423280\n",
       "         ...   \n",
       "640    0.000000\n",
       "642    0.000000\n",
       "341    0.000000\n",
       "76     0.000000\n",
       "1      0.000000\n",
       "Name: 124, Length: 671, dtype: float64"
      ]
     },
     "execution_count": 21,
     "metadata": {},
     "output_type": "execute_result"
    }
   ],
   "source": [
    "user_i_similarity"
   ]
  },
  {
   "cell_type": "code",
   "execution_count": 22,
   "id": "0b9a714b",
   "metadata": {},
   "outputs": [],
   "source": [
    "top_k_similarity = user_i_similarity[1: k + 1]\n",
    "top_k_similar_user_ids = top_k_similarity.index"
   ]
  },
  {
   "cell_type": "code",
   "execution_count": 23,
   "id": "451ba4cb",
   "metadata": {},
   "outputs": [
    {
     "data": {
      "text/plain": [
       "Int64Index([458, 379, 355, 282, 271], dtype='int64', name='userId')"
      ]
     },
     "execution_count": 23,
     "metadata": {},
     "output_type": "execute_result"
    }
   ],
   "source": [
    "top_k_similar_user_ids"
   ]
  },
  {
   "cell_type": "code",
   "execution_count": 24,
   "id": "265eaa2c",
   "metadata": {},
   "outputs": [
    {
     "data": {
      "text/plain": [
       "userId\n",
       "458    0.455216\n",
       "379    0.433607\n",
       "355    0.432242\n",
       "282    0.423280\n",
       "271    0.409402\n",
       "Name: 124, dtype: float64"
      ]
     },
     "execution_count": 24,
     "metadata": {},
     "output_type": "execute_result"
    }
   ],
   "source": [
    "top_k_similarity"
   ]
  },
  {
   "cell_type": "code",
   "execution_count": 25,
   "id": "5097e5a4",
   "metadata": {},
   "outputs": [],
   "source": [
    "# K명의 유사한 유저들이 아이템 i에 평가한 선호도를 유사도 기준으로 가중 평균\n",
    "tok_k_similar_ratings = user_movie_matrix.loc[top_k_similar_user_ids, movie_id]"
   ]
  },
  {
   "cell_type": "code",
   "execution_count": 26,
   "id": "01498585",
   "metadata": {},
   "outputs": [
    {
     "data": {
      "text/plain": [
       "648"
      ]
     },
     "execution_count": 26,
     "metadata": {},
     "output_type": "execute_result"
    }
   ],
   "source": [
    "movie_id"
   ]
  },
  {
   "cell_type": "code",
   "execution_count": 27,
   "id": "3e8d10a9",
   "metadata": {},
   "outputs": [
    {
     "data": {
      "text/plain": [
       "userId\n",
       "458    4.5\n",
       "379    0.0\n",
       "355    3.5\n",
       "282    4.0\n",
       "271    0.0\n",
       "Name: 648, dtype: float64"
      ]
     },
     "execution_count": 27,
     "metadata": {},
     "output_type": "execute_result"
    }
   ],
   "source": [
    "tok_k_similar_ratings"
   ]
  },
  {
   "cell_type": "code",
   "execution_count": 28,
   "id": "eccdcea6",
   "metadata": {},
   "outputs": [],
   "source": [
    "# KNN with Means\n",
    "user_id = 124\n",
    "k = 5\n",
    "movie_i = 648"
   ]
  },
  {
   "cell_type": "code",
   "execution_count": 29,
   "id": "3889eba8",
   "metadata": {},
   "outputs": [],
   "source": [
    "movie_user_matrix = ratings.pivot(\n",
    "    index=\"movieId\",\n",
    "    columns=\"userId\",\n",
    "    values=\"rating\",\n",
    ")\n",
    "movie_user_matrix = movie_user_matrix.fillna(0)"
   ]
  },
  {
   "cell_type": "code",
   "execution_count": 30,
   "id": "9597fc3b",
   "metadata": {},
   "outputs": [],
   "source": [
    "# 아이템간의 유사도\n",
    "# 영화간 피어슨 유사도\n",
    "movie_similarity = np.corrcoef(movie_user_matrix)"
   ]
  },
  {
   "cell_type": "code",
   "execution_count": 31,
   "id": "19b54140",
   "metadata": {},
   "outputs": [],
   "source": [
    "movie_similarity = pd.DataFrame(\n",
    "    data=movie_similarity,\n",
    "    index=movie_user_matrix.index,\n",
    "    columns=movie_user_matrix.index,\n",
    ")"
   ]
  },
  {
   "cell_type": "code",
   "execution_count": 32,
   "id": "ab56aa44",
   "metadata": {},
   "outputs": [
    {
     "data": {
      "text/plain": [
       "(9066, 9066)"
      ]
     },
     "execution_count": 32,
     "metadata": {},
     "output_type": "execute_result"
    }
   ],
   "source": [
    "movie_similarity.shape"
   ]
  },
  {
   "cell_type": "code",
   "execution_count": 33,
   "id": "623cf1a4",
   "metadata": {},
   "outputs": [],
   "source": [
    "# 아이템 i와 비슷한 아이템을 k개 찾음\n",
    "movie_i_similarity = movie_similarity.loc[movie_i]"
   ]
  },
  {
   "cell_type": "code",
   "execution_count": 34,
   "id": "5fec5b22",
   "metadata": {},
   "outputs": [],
   "source": [
    "movie_i_similarity = movie_i_similarity.sort_values(ascending=False)"
   ]
  },
  {
   "cell_type": "code",
   "execution_count": 35,
   "id": "312edc17",
   "metadata": {},
   "outputs": [],
   "source": [
    "top_k_similarity = movie_i_similarity[1: k + 1]\n",
    "top_k_similar_movie_ids = top_k_similarity.index"
   ]
  },
  {
   "cell_type": "code",
   "execution_count": 36,
   "id": "eaad8a61",
   "metadata": {},
   "outputs": [
    {
     "data": {
      "text/plain": [
       "Int64Index([780, 733, 736, 786, 376], dtype='int64', name='movieId')"
      ]
     },
     "execution_count": 36,
     "metadata": {},
     "output_type": "execute_result"
    }
   ],
   "source": [
    "top_k_similar_movie_ids"
   ]
  },
  {
   "cell_type": "code",
   "execution_count": 37,
   "id": "6fc58953",
   "metadata": {},
   "outputs": [
    {
     "data": {
      "text/plain": [
       "movieId\n",
       "780    0.534337\n",
       "733    0.522740\n",
       "736    0.430270\n",
       "786    0.401280\n",
       "376    0.370700\n",
       "Name: 648, dtype: float64"
      ]
     },
     "execution_count": 37,
     "metadata": {},
     "output_type": "execute_result"
    }
   ],
   "source": [
    "top_k_similarity"
   ]
  },
  {
   "cell_type": "code",
   "execution_count": 38,
   "id": "a63950aa",
   "metadata": {},
   "outputs": [],
   "source": [
    "# 아이템 i의 평균 선호도\n",
    "movie_user_matrix = movie_user_matrix.replace(0, np.NaN)"
   ]
  },
  {
   "cell_type": "code",
   "execution_count": 39,
   "id": "46e8424f",
   "metadata": {},
   "outputs": [],
   "source": [
    "movie_bias = movie_user_matrix.mean(1)"
   ]
  },
  {
   "cell_type": "code",
   "execution_count": 40,
   "id": "ce9827a7",
   "metadata": {},
   "outputs": [
    {
     "data": {
      "text/plain": [
       "movieId\n",
       "1         3.872470\n",
       "2         3.401869\n",
       "3         3.161017\n",
       "4         2.384615\n",
       "5         3.267857\n",
       "            ...   \n",
       "161944    5.000000\n",
       "162376    4.500000\n",
       "162542    5.000000\n",
       "162672    3.000000\n",
       "163949    5.000000\n",
       "Length: 9066, dtype: float64"
      ]
     },
     "execution_count": 40,
     "metadata": {},
     "output_type": "execute_result"
    }
   ],
   "source": [
    "movie_bias"
   ]
  },
  {
   "cell_type": "code",
   "execution_count": 41,
   "id": "4e3db7b9",
   "metadata": {},
   "outputs": [],
   "source": [
    "movie_user_matrix_wo_bias = movie_user_matrix.sub(movie_bias, axis=0)"
   ]
  },
  {
   "cell_type": "code",
   "execution_count": 42,
   "id": "0a1b4ca5",
   "metadata": {},
   "outputs": [
    {
     "data": {
      "text/html": [
       "<div>\n",
       "<style scoped>\n",
       "    .dataframe tbody tr th:only-of-type {\n",
       "        vertical-align: middle;\n",
       "    }\n",
       "\n",
       "    .dataframe tbody tr th {\n",
       "        vertical-align: top;\n",
       "    }\n",
       "\n",
       "    .dataframe thead th {\n",
       "        text-align: right;\n",
       "    }\n",
       "</style>\n",
       "<table border=\"1\" class=\"dataframe\">\n",
       "  <thead>\n",
       "    <tr style=\"text-align: right;\">\n",
       "      <th>userId</th>\n",
       "      <th>1</th>\n",
       "      <th>2</th>\n",
       "      <th>3</th>\n",
       "      <th>4</th>\n",
       "      <th>5</th>\n",
       "      <th>6</th>\n",
       "      <th>7</th>\n",
       "      <th>8</th>\n",
       "      <th>9</th>\n",
       "      <th>10</th>\n",
       "      <th>...</th>\n",
       "      <th>662</th>\n",
       "      <th>663</th>\n",
       "      <th>664</th>\n",
       "      <th>665</th>\n",
       "      <th>666</th>\n",
       "      <th>667</th>\n",
       "      <th>668</th>\n",
       "      <th>669</th>\n",
       "      <th>670</th>\n",
       "      <th>671</th>\n",
       "    </tr>\n",
       "    <tr>\n",
       "      <th>movieId</th>\n",
       "      <th></th>\n",
       "      <th></th>\n",
       "      <th></th>\n",
       "      <th></th>\n",
       "      <th></th>\n",
       "      <th></th>\n",
       "      <th></th>\n",
       "      <th></th>\n",
       "      <th></th>\n",
       "      <th></th>\n",
       "      <th></th>\n",
       "      <th></th>\n",
       "      <th></th>\n",
       "      <th></th>\n",
       "      <th></th>\n",
       "      <th></th>\n",
       "      <th></th>\n",
       "      <th></th>\n",
       "      <th></th>\n",
       "      <th></th>\n",
       "      <th></th>\n",
       "    </tr>\n",
       "  </thead>\n",
       "  <tbody>\n",
       "    <tr>\n",
       "      <th>1</th>\n",
       "      <td>NaN</td>\n",
       "      <td>NaN</td>\n",
       "      <td>NaN</td>\n",
       "      <td>NaN</td>\n",
       "      <td>NaN</td>\n",
       "      <td>NaN</td>\n",
       "      <td>-0.87247</td>\n",
       "      <td>NaN</td>\n",
       "      <td>0.12753</td>\n",
       "      <td>NaN</td>\n",
       "      <td>...</td>\n",
       "      <td>NaN</td>\n",
       "      <td>0.12753</td>\n",
       "      <td>-0.37247</td>\n",
       "      <td>NaN</td>\n",
       "      <td>NaN</td>\n",
       "      <td>NaN</td>\n",
       "      <td>NaN</td>\n",
       "      <td>NaN</td>\n",
       "      <td>0.12753</td>\n",
       "      <td>1.12753</td>\n",
       "    </tr>\n",
       "    <tr>\n",
       "      <th>2</th>\n",
       "      <td>NaN</td>\n",
       "      <td>NaN</td>\n",
       "      <td>NaN</td>\n",
       "      <td>NaN</td>\n",
       "      <td>NaN</td>\n",
       "      <td>NaN</td>\n",
       "      <td>NaN</td>\n",
       "      <td>NaN</td>\n",
       "      <td>NaN</td>\n",
       "      <td>NaN</td>\n",
       "      <td>...</td>\n",
       "      <td>1.598131</td>\n",
       "      <td>NaN</td>\n",
       "      <td>NaN</td>\n",
       "      <td>-0.401869</td>\n",
       "      <td>NaN</td>\n",
       "      <td>NaN</td>\n",
       "      <td>NaN</td>\n",
       "      <td>NaN</td>\n",
       "      <td>NaN</td>\n",
       "      <td>NaN</td>\n",
       "    </tr>\n",
       "    <tr>\n",
       "      <th>3</th>\n",
       "      <td>NaN</td>\n",
       "      <td>NaN</td>\n",
       "      <td>NaN</td>\n",
       "      <td>NaN</td>\n",
       "      <td>0.838983</td>\n",
       "      <td>NaN</td>\n",
       "      <td>NaN</td>\n",
       "      <td>NaN</td>\n",
       "      <td>NaN</td>\n",
       "      <td>NaN</td>\n",
       "      <td>...</td>\n",
       "      <td>NaN</td>\n",
       "      <td>NaN</td>\n",
       "      <td>NaN</td>\n",
       "      <td>-0.161017</td>\n",
       "      <td>NaN</td>\n",
       "      <td>NaN</td>\n",
       "      <td>NaN</td>\n",
       "      <td>NaN</td>\n",
       "      <td>NaN</td>\n",
       "      <td>NaN</td>\n",
       "    </tr>\n",
       "    <tr>\n",
       "      <th>4</th>\n",
       "      <td>NaN</td>\n",
       "      <td>NaN</td>\n",
       "      <td>NaN</td>\n",
       "      <td>NaN</td>\n",
       "      <td>NaN</td>\n",
       "      <td>NaN</td>\n",
       "      <td>NaN</td>\n",
       "      <td>NaN</td>\n",
       "      <td>NaN</td>\n",
       "      <td>NaN</td>\n",
       "      <td>...</td>\n",
       "      <td>NaN</td>\n",
       "      <td>NaN</td>\n",
       "      <td>NaN</td>\n",
       "      <td>NaN</td>\n",
       "      <td>NaN</td>\n",
       "      <td>NaN</td>\n",
       "      <td>NaN</td>\n",
       "      <td>NaN</td>\n",
       "      <td>NaN</td>\n",
       "      <td>NaN</td>\n",
       "    </tr>\n",
       "    <tr>\n",
       "      <th>5</th>\n",
       "      <td>NaN</td>\n",
       "      <td>NaN</td>\n",
       "      <td>NaN</td>\n",
       "      <td>NaN</td>\n",
       "      <td>NaN</td>\n",
       "      <td>NaN</td>\n",
       "      <td>NaN</td>\n",
       "      <td>NaN</td>\n",
       "      <td>NaN</td>\n",
       "      <td>NaN</td>\n",
       "      <td>...</td>\n",
       "      <td>NaN</td>\n",
       "      <td>NaN</td>\n",
       "      <td>NaN</td>\n",
       "      <td>-0.267857</td>\n",
       "      <td>NaN</td>\n",
       "      <td>NaN</td>\n",
       "      <td>NaN</td>\n",
       "      <td>NaN</td>\n",
       "      <td>NaN</td>\n",
       "      <td>NaN</td>\n",
       "    </tr>\n",
       "    <tr>\n",
       "      <th>...</th>\n",
       "      <td>...</td>\n",
       "      <td>...</td>\n",
       "      <td>...</td>\n",
       "      <td>...</td>\n",
       "      <td>...</td>\n",
       "      <td>...</td>\n",
       "      <td>...</td>\n",
       "      <td>...</td>\n",
       "      <td>...</td>\n",
       "      <td>...</td>\n",
       "      <td>...</td>\n",
       "      <td>...</td>\n",
       "      <td>...</td>\n",
       "      <td>...</td>\n",
       "      <td>...</td>\n",
       "      <td>...</td>\n",
       "      <td>...</td>\n",
       "      <td>...</td>\n",
       "      <td>...</td>\n",
       "      <td>...</td>\n",
       "      <td>...</td>\n",
       "    </tr>\n",
       "    <tr>\n",
       "      <th>161944</th>\n",
       "      <td>NaN</td>\n",
       "      <td>NaN</td>\n",
       "      <td>NaN</td>\n",
       "      <td>NaN</td>\n",
       "      <td>NaN</td>\n",
       "      <td>NaN</td>\n",
       "      <td>NaN</td>\n",
       "      <td>NaN</td>\n",
       "      <td>NaN</td>\n",
       "      <td>NaN</td>\n",
       "      <td>...</td>\n",
       "      <td>NaN</td>\n",
       "      <td>NaN</td>\n",
       "      <td>NaN</td>\n",
       "      <td>NaN</td>\n",
       "      <td>NaN</td>\n",
       "      <td>NaN</td>\n",
       "      <td>NaN</td>\n",
       "      <td>NaN</td>\n",
       "      <td>NaN</td>\n",
       "      <td>NaN</td>\n",
       "    </tr>\n",
       "    <tr>\n",
       "      <th>162376</th>\n",
       "      <td>NaN</td>\n",
       "      <td>NaN</td>\n",
       "      <td>NaN</td>\n",
       "      <td>NaN</td>\n",
       "      <td>NaN</td>\n",
       "      <td>NaN</td>\n",
       "      <td>NaN</td>\n",
       "      <td>NaN</td>\n",
       "      <td>NaN</td>\n",
       "      <td>NaN</td>\n",
       "      <td>...</td>\n",
       "      <td>NaN</td>\n",
       "      <td>NaN</td>\n",
       "      <td>NaN</td>\n",
       "      <td>NaN</td>\n",
       "      <td>NaN</td>\n",
       "      <td>NaN</td>\n",
       "      <td>NaN</td>\n",
       "      <td>NaN</td>\n",
       "      <td>NaN</td>\n",
       "      <td>NaN</td>\n",
       "    </tr>\n",
       "    <tr>\n",
       "      <th>162542</th>\n",
       "      <td>NaN</td>\n",
       "      <td>NaN</td>\n",
       "      <td>NaN</td>\n",
       "      <td>NaN</td>\n",
       "      <td>NaN</td>\n",
       "      <td>NaN</td>\n",
       "      <td>NaN</td>\n",
       "      <td>NaN</td>\n",
       "      <td>NaN</td>\n",
       "      <td>NaN</td>\n",
       "      <td>...</td>\n",
       "      <td>NaN</td>\n",
       "      <td>NaN</td>\n",
       "      <td>NaN</td>\n",
       "      <td>NaN</td>\n",
       "      <td>NaN</td>\n",
       "      <td>NaN</td>\n",
       "      <td>NaN</td>\n",
       "      <td>NaN</td>\n",
       "      <td>NaN</td>\n",
       "      <td>NaN</td>\n",
       "    </tr>\n",
       "    <tr>\n",
       "      <th>162672</th>\n",
       "      <td>NaN</td>\n",
       "      <td>NaN</td>\n",
       "      <td>NaN</td>\n",
       "      <td>NaN</td>\n",
       "      <td>NaN</td>\n",
       "      <td>NaN</td>\n",
       "      <td>NaN</td>\n",
       "      <td>NaN</td>\n",
       "      <td>NaN</td>\n",
       "      <td>NaN</td>\n",
       "      <td>...</td>\n",
       "      <td>NaN</td>\n",
       "      <td>NaN</td>\n",
       "      <td>NaN</td>\n",
       "      <td>NaN</td>\n",
       "      <td>NaN</td>\n",
       "      <td>NaN</td>\n",
       "      <td>NaN</td>\n",
       "      <td>NaN</td>\n",
       "      <td>NaN</td>\n",
       "      <td>NaN</td>\n",
       "    </tr>\n",
       "    <tr>\n",
       "      <th>163949</th>\n",
       "      <td>NaN</td>\n",
       "      <td>NaN</td>\n",
       "      <td>NaN</td>\n",
       "      <td>NaN</td>\n",
       "      <td>NaN</td>\n",
       "      <td>NaN</td>\n",
       "      <td>NaN</td>\n",
       "      <td>NaN</td>\n",
       "      <td>NaN</td>\n",
       "      <td>NaN</td>\n",
       "      <td>...</td>\n",
       "      <td>NaN</td>\n",
       "      <td>NaN</td>\n",
       "      <td>NaN</td>\n",
       "      <td>NaN</td>\n",
       "      <td>NaN</td>\n",
       "      <td>NaN</td>\n",
       "      <td>NaN</td>\n",
       "      <td>NaN</td>\n",
       "      <td>NaN</td>\n",
       "      <td>NaN</td>\n",
       "    </tr>\n",
       "  </tbody>\n",
       "</table>\n",
       "<p>9066 rows × 671 columns</p>\n",
       "</div>"
      ],
      "text/plain": [
       "userId   1    2    3    4         5    6        7    8        9    10   ...  \\\n",
       "movieId                                                                 ...   \n",
       "1        NaN  NaN  NaN  NaN       NaN  NaN -0.87247  NaN  0.12753  NaN  ...   \n",
       "2        NaN  NaN  NaN  NaN       NaN  NaN      NaN  NaN      NaN  NaN  ...   \n",
       "3        NaN  NaN  NaN  NaN  0.838983  NaN      NaN  NaN      NaN  NaN  ...   \n",
       "4        NaN  NaN  NaN  NaN       NaN  NaN      NaN  NaN      NaN  NaN  ...   \n",
       "5        NaN  NaN  NaN  NaN       NaN  NaN      NaN  NaN      NaN  NaN  ...   \n",
       "...      ...  ...  ...  ...       ...  ...      ...  ...      ...  ...  ...   \n",
       "161944   NaN  NaN  NaN  NaN       NaN  NaN      NaN  NaN      NaN  NaN  ...   \n",
       "162376   NaN  NaN  NaN  NaN       NaN  NaN      NaN  NaN      NaN  NaN  ...   \n",
       "162542   NaN  NaN  NaN  NaN       NaN  NaN      NaN  NaN      NaN  NaN  ...   \n",
       "162672   NaN  NaN  NaN  NaN       NaN  NaN      NaN  NaN      NaN  NaN  ...   \n",
       "163949   NaN  NaN  NaN  NaN       NaN  NaN      NaN  NaN      NaN  NaN  ...   \n",
       "\n",
       "userId        662      663      664       665  666  667  668  669      670  \\\n",
       "movieId                                                                      \n",
       "1             NaN  0.12753 -0.37247       NaN  NaN  NaN  NaN  NaN  0.12753   \n",
       "2        1.598131      NaN      NaN -0.401869  NaN  NaN  NaN  NaN      NaN   \n",
       "3             NaN      NaN      NaN -0.161017  NaN  NaN  NaN  NaN      NaN   \n",
       "4             NaN      NaN      NaN       NaN  NaN  NaN  NaN  NaN      NaN   \n",
       "5             NaN      NaN      NaN -0.267857  NaN  NaN  NaN  NaN      NaN   \n",
       "...           ...      ...      ...       ...  ...  ...  ...  ...      ...   \n",
       "161944        NaN      NaN      NaN       NaN  NaN  NaN  NaN  NaN      NaN   \n",
       "162376        NaN      NaN      NaN       NaN  NaN  NaN  NaN  NaN      NaN   \n",
       "162542        NaN      NaN      NaN       NaN  NaN  NaN  NaN  NaN      NaN   \n",
       "162672        NaN      NaN      NaN       NaN  NaN  NaN  NaN  NaN      NaN   \n",
       "163949        NaN      NaN      NaN       NaN  NaN  NaN  NaN  NaN      NaN   \n",
       "\n",
       "userId       671  \n",
       "movieId           \n",
       "1        1.12753  \n",
       "2            NaN  \n",
       "3            NaN  \n",
       "4            NaN  \n",
       "5            NaN  \n",
       "...          ...  \n",
       "161944       NaN  \n",
       "162376       NaN  \n",
       "162542       NaN  \n",
       "162672       NaN  \n",
       "163949       NaN  \n",
       "\n",
       "[9066 rows x 671 columns]"
      ]
     },
     "execution_count": 42,
     "metadata": {},
     "output_type": "execute_result"
    }
   ],
   "source": [
    "movie_user_matrix_wo_bias"
   ]
  },
  {
   "cell_type": "code",
   "execution_count": 43,
   "id": "9bdc62c5",
   "metadata": {},
   "outputs": [],
   "source": [
    "tok_k_similar_ratings = movie_user_matrix_wo_bias.loc[top_k_similar_movie_ids, user_id]\n",
    "top_k_weighted_ratings = tok_k_similar_ratings * top_k_similarity"
   ]
  },
  {
   "cell_type": "code",
   "execution_count": 44,
   "id": "a6d185e9",
   "metadata": {},
   "outputs": [
    {
     "data": {
      "text/plain": [
       "movieId\n",
       "780         NaN\n",
       "733         NaN\n",
       "736         NaN\n",
       "786   -0.108696\n",
       "376         NaN\n",
       "Name: 124, dtype: float64"
      ]
     },
     "execution_count": 44,
     "metadata": {},
     "output_type": "execute_result"
    }
   ],
   "source": [
    "tok_k_similar_ratings"
   ]
  },
  {
   "cell_type": "code",
   "execution_count": 45,
   "id": "afcefda0",
   "metadata": {},
   "outputs": [
    {
     "data": {
      "text/plain": [
       "movieId\n",
       "780         NaN\n",
       "733         NaN\n",
       "736         NaN\n",
       "786   -0.043617\n",
       "376         NaN\n",
       "dtype: float64"
      ]
     },
     "execution_count": 45,
     "metadata": {},
     "output_type": "execute_result"
    }
   ],
   "source": [
    "top_k_weighted_ratings"
   ]
  },
  {
   "cell_type": "code",
   "execution_count": 46,
   "id": "c285c27f",
   "metadata": {},
   "outputs": [
    {
     "data": {
      "text/plain": [
       "movieId\n",
       "780    0.00000\n",
       "733    0.00000\n",
       "736    0.00000\n",
       "786    0.40128\n",
       "376    0.00000\n",
       "dtype: float64"
      ]
     },
     "execution_count": 46,
     "metadata": {},
     "output_type": "execute_result"
    }
   ],
   "source": [
    "top_k_weight = (pd.notna(tok_k_similar_ratings)) * top_k_similarity\n",
    "top_k_weight"
   ]
  },
  {
   "cell_type": "code",
   "execution_count": 47,
   "id": "d1db2751",
   "metadata": {},
   "outputs": [],
   "source": [
    "# 가중 평균\n",
    "weighted_rating = top_k_weighted_ratings.sum()\n",
    "weight = top_k_weight.sum()"
   ]
  },
  {
   "cell_type": "code",
   "execution_count": 48,
   "id": "8c342199",
   "metadata": {},
   "outputs": [
    {
     "data": {
      "text/plain": [
       "0.4012802956315554"
      ]
     },
     "execution_count": 48,
     "metadata": {},
     "output_type": "execute_result"
    }
   ],
   "source": [
    "weight"
   ]
  },
  {
   "cell_type": "code",
   "execution_count": 49,
   "id": "e75e2952",
   "metadata": {},
   "outputs": [],
   "source": [
    "bias = movie_bias.loc[movie_i]"
   ]
  },
  {
   "cell_type": "code",
   "execution_count": 50,
   "id": "bd61446f",
   "metadata": {},
   "outputs": [
    {
     "data": {
      "text/plain": [
       "3.5327380952380953"
      ]
     },
     "execution_count": 50,
     "metadata": {},
     "output_type": "execute_result"
    }
   ],
   "source": [
    "bias"
   ]
  },
  {
   "cell_type": "code",
   "execution_count": 51,
   "id": "7455c09f",
   "metadata": {},
   "outputs": [],
   "source": [
    "if weight != 0:\n",
    "    # 평균 평점에 가중 편차 합\n",
    "    prediction_rating = bias + weighted_rating / weight\n",
    "\n",
    "# weight가 0인 경우 유사 영화 모두 평가하지 않은 경우\n",
    "else:\n",
    "    prediction_rating = 0"
   ]
  },
  {
   "cell_type": "code",
   "execution_count": 52,
   "id": "ef11044a",
   "metadata": {},
   "outputs": [
    {
     "data": {
      "text/plain": [
       "3.4240424430641823"
      ]
     },
     "execution_count": 52,
     "metadata": {},
     "output_type": "execute_result"
    }
   ],
   "source": [
    "prediction_rating"
   ]
  },
  {
   "cell_type": "code",
   "execution_count": 53,
   "id": "b0f70794",
   "metadata": {},
   "outputs": [],
   "source": [
    "# 예측 선호도기 높은 아이템을 유저에게 추천\n",
    "prediction_dict = {}\n",
    "\n",
    "# 모든 영화 아이디에 대해 평점 예측\n",
    "for movie_id in movie_user_matrix.index:\n",
    "\n",
    "    # 이미 유저가 평가한 경우 제외\n",
    "    if movie_user_matrix.loc[movie_i, user_id] > 0:\n",
    "        continue\n",
    "    \n",
    "    tok_k_similar_ratings = movie_user_matrix_wo_bias.loc[top_k_similar_movie_ids, user_id]\n",
    "\n",
    "    top_k_weighted_ratings = tok_k_similar_ratings * top_k_similarity\n",
    "    top_k_weight = (tok_k_similar_ratings != 0) * top_k_similarity\n",
    "\n",
    "    weighted_rating = top_k_weighted_ratings.sum()\n",
    "    weight = top_k_weight.sum()\n",
    "\n",
    "    bias = movie_bias.loc[movie_i]\n",
    "\n",
    "    if weight > 0:\n",
    "        prediction_rating = bias + weighted_rating / weight\n",
    "    else:\n",
    "        prediction_rating = 0\n",
    "\n",
    "    # 영화 아이디 별로 예측 평가 점수 저장\n",
    "    prediction_dict[movie_id] = prediction_rating"
   ]
  },
  {
   "cell_type": "code",
   "execution_count": 54,
   "id": "2697f2d3",
   "metadata": {},
   "outputs": [],
   "source": [
    "# 내림차순 정렬\n",
    "prediction = pd.Series(prediction_dict).sort_values(ascending=False)"
   ]
  },
  {
   "cell_type": "code",
   "execution_count": 55,
   "id": "b074de2c",
   "metadata": {},
   "outputs": [],
   "source": [
    "recommend = prediction[:10].index"
   ]
  },
  {
   "cell_type": "code",
   "execution_count": 56,
   "id": "5de7d927",
   "metadata": {},
   "outputs": [
    {
     "data": {
      "text/html": [
       "<div>\n",
       "<style scoped>\n",
       "    .dataframe tbody tr th:only-of-type {\n",
       "        vertical-align: middle;\n",
       "    }\n",
       "\n",
       "    .dataframe tbody tr th {\n",
       "        vertical-align: top;\n",
       "    }\n",
       "\n",
       "    .dataframe thead th {\n",
       "        text-align: right;\n",
       "    }\n",
       "</style>\n",
       "<table border=\"1\" class=\"dataframe\">\n",
       "  <thead>\n",
       "    <tr style=\"text-align: right;\">\n",
       "      <th></th>\n",
       "      <th>title</th>\n",
       "    </tr>\n",
       "    <tr>\n",
       "      <th>movieId</th>\n",
       "      <th></th>\n",
       "    </tr>\n",
       "  </thead>\n",
       "  <tbody>\n",
       "    <tr>\n",
       "      <th>1</th>\n",
       "      <td>Toy Story</td>\n",
       "    </tr>\n",
       "    <tr>\n",
       "      <th>31963</th>\n",
       "      <td>Bed and Board</td>\n",
       "    </tr>\n",
       "    <tr>\n",
       "      <th>31903</th>\n",
       "      <td>Želary</td>\n",
       "    </tr>\n",
       "    <tr>\n",
       "      <th>31921</th>\n",
       "      <td>The Seven-Per-Cent Solution</td>\n",
       "    </tr>\n",
       "    <tr>\n",
       "      <th>31923</th>\n",
       "      <td>The Three Musketeers</td>\n",
       "    </tr>\n",
       "    <tr>\n",
       "      <th>31930</th>\n",
       "      <td>Masculin Féminin</td>\n",
       "    </tr>\n",
       "    <tr>\n",
       "      <th>31952</th>\n",
       "      <td>Control</td>\n",
       "    </tr>\n",
       "    <tr>\n",
       "      <th>31956</th>\n",
       "      <td>Five Times Two</td>\n",
       "    </tr>\n",
       "    <tr>\n",
       "      <th>31973</th>\n",
       "      <td>Germany Year Zero</td>\n",
       "    </tr>\n",
       "    <tr>\n",
       "      <th>31804</th>\n",
       "      <td>Night Watch</td>\n",
       "    </tr>\n",
       "  </tbody>\n",
       "</table>\n",
       "</div>"
      ],
      "text/plain": [
       "                               title\n",
       "movieId                             \n",
       "1                          Toy Story\n",
       "31963                  Bed and Board\n",
       "31903                         Želary\n",
       "31921    The Seven-Per-Cent Solution\n",
       "31923           The Three Musketeers\n",
       "31930               Masculin Féminin\n",
       "31952                        Control\n",
       "31956                 Five Times Two\n",
       "31973              Germany Year Zero\n",
       "31804                    Night Watch"
      ]
     },
     "execution_count": 56,
     "metadata": {},
     "output_type": "execute_result"
    }
   ],
   "source": [
    "movies.loc[recommend]"
   ]
  },
  {
   "cell_type": "code",
   "execution_count": null,
   "id": "62f42acd",
   "metadata": {},
   "outputs": [],
   "source": []
  }
 ],
 "metadata": {
  "kernelspec": {
   "display_name": "Python 3",
   "language": "python",
   "name": "python3"
  },
  "language_info": {
   "codemirror_mode": {
    "name": "ipython",
    "version": 3
   },
   "file_extension": ".py",
   "mimetype": "text/x-python",
   "name": "python",
   "nbconvert_exporter": "python",
   "pygments_lexer": "ipython3",
   "version": "3.8.8"
  }
 },
 "nbformat": 4,
 "nbformat_minor": 5
}
