{
 "cells": [
  {
   "cell_type": "code",
   "execution_count": 1,
   "id": "3c90ff35",
   "metadata": {},
   "outputs": [],
   "source": [
    "import pandas as pd\n",
    "import numpy as np\n",
    "import matplotlib.pyplot as plt\n",
    "\n",
    "np.random.seed(2022)"
   ]
  },
  {
   "cell_type": "code",
   "execution_count": 2,
   "id": "c9f11028",
   "metadata": {},
   "outputs": [],
   "source": [
    "# Data Load\n",
    "water = pd.read_csv(\"water_potability.csv\")"
   ]
  },
  {
   "cell_type": "code",
   "execution_count": 3,
   "id": "bfce1798",
   "metadata": {},
   "outputs": [],
   "source": [
    "data = water.drop([\"Potability\"], axis=1)\n",
    "label = water[\"Potability\"]"
   ]
  },
  {
   "cell_type": "code",
   "execution_count": 4,
   "id": "656d6839",
   "metadata": {},
   "outputs": [
    {
     "data": {
      "text/html": [
       "<div>\n",
       "<style scoped>\n",
       "    .dataframe tbody tr th:only-of-type {\n",
       "        vertical-align: middle;\n",
       "    }\n",
       "\n",
       "    .dataframe tbody tr th {\n",
       "        vertical-align: top;\n",
       "    }\n",
       "\n",
       "    .dataframe thead th {\n",
       "        text-align: right;\n",
       "    }\n",
       "</style>\n",
       "<table border=\"1\" class=\"dataframe\">\n",
       "  <thead>\n",
       "    <tr style=\"text-align: right;\">\n",
       "      <th></th>\n",
       "      <th>ph</th>\n",
       "      <th>Hardness</th>\n",
       "      <th>Solids</th>\n",
       "      <th>Chloramines</th>\n",
       "      <th>Sulfate</th>\n",
       "      <th>Conductivity</th>\n",
       "      <th>Organic_carbon</th>\n",
       "      <th>Trihalomethanes</th>\n",
       "      <th>Turbidity</th>\n",
       "    </tr>\n",
       "  </thead>\n",
       "  <tbody>\n",
       "    <tr>\n",
       "      <th>count</th>\n",
       "      <td>2785.000000</td>\n",
       "      <td>3276.000000</td>\n",
       "      <td>3276.000000</td>\n",
       "      <td>3276.000000</td>\n",
       "      <td>2495.000000</td>\n",
       "      <td>3276.000000</td>\n",
       "      <td>3276.000000</td>\n",
       "      <td>3114.000000</td>\n",
       "      <td>3276.000000</td>\n",
       "    </tr>\n",
       "    <tr>\n",
       "      <th>mean</th>\n",
       "      <td>7.080795</td>\n",
       "      <td>196.369496</td>\n",
       "      <td>22014.092526</td>\n",
       "      <td>7.122277</td>\n",
       "      <td>333.775777</td>\n",
       "      <td>426.205111</td>\n",
       "      <td>14.284970</td>\n",
       "      <td>66.396293</td>\n",
       "      <td>3.966786</td>\n",
       "    </tr>\n",
       "    <tr>\n",
       "      <th>std</th>\n",
       "      <td>1.594320</td>\n",
       "      <td>32.879761</td>\n",
       "      <td>8768.570828</td>\n",
       "      <td>1.583085</td>\n",
       "      <td>41.416840</td>\n",
       "      <td>80.824064</td>\n",
       "      <td>3.308162</td>\n",
       "      <td>16.175008</td>\n",
       "      <td>0.780382</td>\n",
       "    </tr>\n",
       "    <tr>\n",
       "      <th>min</th>\n",
       "      <td>0.000000</td>\n",
       "      <td>47.432000</td>\n",
       "      <td>320.942611</td>\n",
       "      <td>0.352000</td>\n",
       "      <td>129.000000</td>\n",
       "      <td>181.483754</td>\n",
       "      <td>2.200000</td>\n",
       "      <td>0.738000</td>\n",
       "      <td>1.450000</td>\n",
       "    </tr>\n",
       "    <tr>\n",
       "      <th>25%</th>\n",
       "      <td>6.093092</td>\n",
       "      <td>176.850538</td>\n",
       "      <td>15666.690297</td>\n",
       "      <td>6.127421</td>\n",
       "      <td>307.699498</td>\n",
       "      <td>365.734414</td>\n",
       "      <td>12.065801</td>\n",
       "      <td>55.844536</td>\n",
       "      <td>3.439711</td>\n",
       "    </tr>\n",
       "    <tr>\n",
       "      <th>50%</th>\n",
       "      <td>7.036752</td>\n",
       "      <td>196.967627</td>\n",
       "      <td>20927.833607</td>\n",
       "      <td>7.130299</td>\n",
       "      <td>333.073546</td>\n",
       "      <td>421.884968</td>\n",
       "      <td>14.218338</td>\n",
       "      <td>66.622485</td>\n",
       "      <td>3.955028</td>\n",
       "    </tr>\n",
       "    <tr>\n",
       "      <th>75%</th>\n",
       "      <td>8.062066</td>\n",
       "      <td>216.667456</td>\n",
       "      <td>27332.762127</td>\n",
       "      <td>8.114887</td>\n",
       "      <td>359.950170</td>\n",
       "      <td>481.792304</td>\n",
       "      <td>16.557652</td>\n",
       "      <td>77.337473</td>\n",
       "      <td>4.500320</td>\n",
       "    </tr>\n",
       "    <tr>\n",
       "      <th>max</th>\n",
       "      <td>14.000000</td>\n",
       "      <td>323.124000</td>\n",
       "      <td>61227.196008</td>\n",
       "      <td>13.127000</td>\n",
       "      <td>481.030642</td>\n",
       "      <td>753.342620</td>\n",
       "      <td>28.300000</td>\n",
       "      <td>124.000000</td>\n",
       "      <td>6.739000</td>\n",
       "    </tr>\n",
       "  </tbody>\n",
       "</table>\n",
       "</div>"
      ],
      "text/plain": [
       "                ph     Hardness        Solids  Chloramines      Sulfate  \\\n",
       "count  2785.000000  3276.000000   3276.000000  3276.000000  2495.000000   \n",
       "mean      7.080795   196.369496  22014.092526     7.122277   333.775777   \n",
       "std       1.594320    32.879761   8768.570828     1.583085    41.416840   \n",
       "min       0.000000    47.432000    320.942611     0.352000   129.000000   \n",
       "25%       6.093092   176.850538  15666.690297     6.127421   307.699498   \n",
       "50%       7.036752   196.967627  20927.833607     7.130299   333.073546   \n",
       "75%       8.062066   216.667456  27332.762127     8.114887   359.950170   \n",
       "max      14.000000   323.124000  61227.196008    13.127000   481.030642   \n",
       "\n",
       "       Conductivity  Organic_carbon  Trihalomethanes    Turbidity  \n",
       "count   3276.000000     3276.000000      3114.000000  3276.000000  \n",
       "mean     426.205111       14.284970        66.396293     3.966786  \n",
       "std       80.824064        3.308162        16.175008     0.780382  \n",
       "min      181.483754        2.200000         0.738000     1.450000  \n",
       "25%      365.734414       12.065801        55.844536     3.439711  \n",
       "50%      421.884968       14.218338        66.622485     3.955028  \n",
       "75%      481.792304       16.557652        77.337473     4.500320  \n",
       "max      753.342620       28.300000       124.000000     6.739000  "
      ]
     },
     "execution_count": 4,
     "metadata": {},
     "output_type": "execute_result"
    }
   ],
   "source": [
    "# Data EDA\n",
    "data.describe()"
   ]
  },
  {
   "cell_type": "code",
   "execution_count": 5,
   "id": "df6ebda5",
   "metadata": {},
   "outputs": [
    {
     "data": {
      "text/html": [
       "<div>\n",
       "<style scoped>\n",
       "    .dataframe tbody tr th:only-of-type {\n",
       "        vertical-align: middle;\n",
       "    }\n",
       "\n",
       "    .dataframe tbody tr th {\n",
       "        vertical-align: top;\n",
       "    }\n",
       "\n",
       "    .dataframe thead th {\n",
       "        text-align: right;\n",
       "    }\n",
       "</style>\n",
       "<table border=\"1\" class=\"dataframe\">\n",
       "  <thead>\n",
       "    <tr style=\"text-align: right;\">\n",
       "      <th></th>\n",
       "      <th>ph</th>\n",
       "      <th>Hardness</th>\n",
       "      <th>Solids</th>\n",
       "      <th>Chloramines</th>\n",
       "      <th>Sulfate</th>\n",
       "      <th>Conductivity</th>\n",
       "      <th>Organic_carbon</th>\n",
       "      <th>Trihalomethanes</th>\n",
       "      <th>Turbidity</th>\n",
       "    </tr>\n",
       "  </thead>\n",
       "  <tbody>\n",
       "    <tr>\n",
       "      <th>0</th>\n",
       "      <td>True</td>\n",
       "      <td>False</td>\n",
       "      <td>False</td>\n",
       "      <td>False</td>\n",
       "      <td>False</td>\n",
       "      <td>False</td>\n",
       "      <td>False</td>\n",
       "      <td>False</td>\n",
       "      <td>False</td>\n",
       "    </tr>\n",
       "    <tr>\n",
       "      <th>1</th>\n",
       "      <td>False</td>\n",
       "      <td>False</td>\n",
       "      <td>False</td>\n",
       "      <td>False</td>\n",
       "      <td>True</td>\n",
       "      <td>False</td>\n",
       "      <td>False</td>\n",
       "      <td>False</td>\n",
       "      <td>False</td>\n",
       "    </tr>\n",
       "    <tr>\n",
       "      <th>2</th>\n",
       "      <td>False</td>\n",
       "      <td>False</td>\n",
       "      <td>False</td>\n",
       "      <td>False</td>\n",
       "      <td>True</td>\n",
       "      <td>False</td>\n",
       "      <td>False</td>\n",
       "      <td>False</td>\n",
       "      <td>False</td>\n",
       "    </tr>\n",
       "    <tr>\n",
       "      <th>3</th>\n",
       "      <td>False</td>\n",
       "      <td>False</td>\n",
       "      <td>False</td>\n",
       "      <td>False</td>\n",
       "      <td>False</td>\n",
       "      <td>False</td>\n",
       "      <td>False</td>\n",
       "      <td>False</td>\n",
       "      <td>False</td>\n",
       "    </tr>\n",
       "    <tr>\n",
       "      <th>4</th>\n",
       "      <td>False</td>\n",
       "      <td>False</td>\n",
       "      <td>False</td>\n",
       "      <td>False</td>\n",
       "      <td>False</td>\n",
       "      <td>False</td>\n",
       "      <td>False</td>\n",
       "      <td>False</td>\n",
       "      <td>False</td>\n",
       "    </tr>\n",
       "    <tr>\n",
       "      <th>...</th>\n",
       "      <td>...</td>\n",
       "      <td>...</td>\n",
       "      <td>...</td>\n",
       "      <td>...</td>\n",
       "      <td>...</td>\n",
       "      <td>...</td>\n",
       "      <td>...</td>\n",
       "      <td>...</td>\n",
       "      <td>...</td>\n",
       "    </tr>\n",
       "    <tr>\n",
       "      <th>3271</th>\n",
       "      <td>False</td>\n",
       "      <td>False</td>\n",
       "      <td>False</td>\n",
       "      <td>False</td>\n",
       "      <td>False</td>\n",
       "      <td>False</td>\n",
       "      <td>False</td>\n",
       "      <td>False</td>\n",
       "      <td>False</td>\n",
       "    </tr>\n",
       "    <tr>\n",
       "      <th>3272</th>\n",
       "      <td>False</td>\n",
       "      <td>False</td>\n",
       "      <td>False</td>\n",
       "      <td>False</td>\n",
       "      <td>True</td>\n",
       "      <td>False</td>\n",
       "      <td>False</td>\n",
       "      <td>True</td>\n",
       "      <td>False</td>\n",
       "    </tr>\n",
       "    <tr>\n",
       "      <th>3273</th>\n",
       "      <td>False</td>\n",
       "      <td>False</td>\n",
       "      <td>False</td>\n",
       "      <td>False</td>\n",
       "      <td>True</td>\n",
       "      <td>False</td>\n",
       "      <td>False</td>\n",
       "      <td>False</td>\n",
       "      <td>False</td>\n",
       "    </tr>\n",
       "    <tr>\n",
       "      <th>3274</th>\n",
       "      <td>False</td>\n",
       "      <td>False</td>\n",
       "      <td>False</td>\n",
       "      <td>False</td>\n",
       "      <td>True</td>\n",
       "      <td>False</td>\n",
       "      <td>False</td>\n",
       "      <td>False</td>\n",
       "      <td>False</td>\n",
       "    </tr>\n",
       "    <tr>\n",
       "      <th>3275</th>\n",
       "      <td>False</td>\n",
       "      <td>False</td>\n",
       "      <td>False</td>\n",
       "      <td>False</td>\n",
       "      <td>True</td>\n",
       "      <td>False</td>\n",
       "      <td>False</td>\n",
       "      <td>False</td>\n",
       "      <td>False</td>\n",
       "    </tr>\n",
       "  </tbody>\n",
       "</table>\n",
       "<p>3276 rows × 9 columns</p>\n",
       "</div>"
      ],
      "text/plain": [
       "         ph  Hardness  Solids  Chloramines  Sulfate  Conductivity  \\\n",
       "0      True     False   False        False    False         False   \n",
       "1     False     False   False        False     True         False   \n",
       "2     False     False   False        False     True         False   \n",
       "3     False     False   False        False    False         False   \n",
       "4     False     False   False        False    False         False   \n",
       "...     ...       ...     ...          ...      ...           ...   \n",
       "3271  False     False   False        False    False         False   \n",
       "3272  False     False   False        False     True         False   \n",
       "3273  False     False   False        False     True         False   \n",
       "3274  False     False   False        False     True         False   \n",
       "3275  False     False   False        False     True         False   \n",
       "\n",
       "      Organic_carbon  Trihalomethanes  Turbidity  \n",
       "0              False            False      False  \n",
       "1              False            False      False  \n",
       "2              False            False      False  \n",
       "3              False            False      False  \n",
       "4              False            False      False  \n",
       "...              ...              ...        ...  \n",
       "3271           False            False      False  \n",
       "3272           False             True      False  \n",
       "3273           False            False      False  \n",
       "3274           False            False      False  \n",
       "3275           False            False      False  \n",
       "\n",
       "[3276 rows x 9 columns]"
      ]
     },
     "execution_count": 5,
     "metadata": {},
     "output_type": "execute_result"
    }
   ],
   "source": [
    "# 결측치 확인\n",
    "data.isna()"
   ]
  },
  {
   "cell_type": "code",
   "execution_count": 6,
   "id": "bbfba194",
   "metadata": {},
   "outputs": [
    {
     "data": {
      "text/plain": [
       "ph                 491\n",
       "Hardness             0\n",
       "Solids               0\n",
       "Chloramines          0\n",
       "Sulfate            781\n",
       "Conductivity         0\n",
       "Organic_carbon       0\n",
       "Trihalomethanes    162\n",
       "Turbidity            0\n",
       "dtype: int64"
      ]
     },
     "execution_count": 6,
     "metadata": {},
     "output_type": "execute_result"
    }
   ],
   "source": [
    "data.isna().sum()"
   ]
  },
  {
   "cell_type": "code",
   "execution_count": 7,
   "id": "d9260fae",
   "metadata": {},
   "outputs": [
    {
     "data": {
      "text/plain": [
       "0       1\n",
       "1       1\n",
       "2       1\n",
       "3       0\n",
       "4       0\n",
       "       ..\n",
       "3271    0\n",
       "3272    2\n",
       "3273    1\n",
       "3274    1\n",
       "3275    1\n",
       "Length: 3276, dtype: int64"
      ]
     },
     "execution_count": 7,
     "metadata": {},
     "output_type": "execute_result"
    }
   ],
   "source": [
    "# Data Preprocess - 결측치 제거\n",
    "# row 제거\n",
    "data.isna().sum(axis=1)"
   ]
  },
  {
   "cell_type": "code",
   "execution_count": 8,
   "id": "74fce7da",
   "metadata": {},
   "outputs": [
    {
     "data": {
      "text/plain": [
       "0       1\n",
       "1       1\n",
       "2       1\n",
       "3       0\n",
       "4       0\n",
       "       ..\n",
       "3271    0\n",
       "3272    2\n",
       "3273    1\n",
       "3274    1\n",
       "3275    1\n",
       "Length: 3276, dtype: int64"
      ]
     },
     "execution_count": 8,
     "metadata": {},
     "output_type": "execute_result"
    }
   ],
   "source": [
    "na_cnt = data.isna().sum(axis=1)\n",
    "na_cnt"
   ]
  },
  {
   "cell_type": "code",
   "execution_count": 9,
   "id": "fa4a8f96",
   "metadata": {},
   "outputs": [],
   "source": [
    "drop_idx = na_cnt.loc[na_cnt > 0].index"
   ]
  },
  {
   "cell_type": "code",
   "execution_count": 10,
   "id": "df4dd4c5",
   "metadata": {},
   "outputs": [
    {
     "data": {
      "text/plain": [
       "Int64Index([   0,    1,    2,    8,   11,   13,   14,   16,   18,   20,\n",
       "            ...\n",
       "            3247, 3252, 3258, 3259, 3260, 3266, 3272, 3273, 3274, 3275],\n",
       "           dtype='int64', length=1265)"
      ]
     },
     "execution_count": 10,
     "metadata": {},
     "output_type": "execute_result"
    }
   ],
   "source": [
    "drop_idx"
   ]
  },
  {
   "cell_type": "code",
   "execution_count": 11,
   "id": "b1382ec7",
   "metadata": {},
   "outputs": [],
   "source": [
    "drop_row = data.drop(drop_idx, axis=0)"
   ]
  },
  {
   "cell_type": "code",
   "execution_count": 12,
   "id": "5d7830d0",
   "metadata": {},
   "outputs": [
    {
     "data": {
      "text/plain": [
       "(2011, 9)"
      ]
     },
     "execution_count": 12,
     "metadata": {},
     "output_type": "execute_result"
    }
   ],
   "source": [
    "drop_row.shape"
   ]
  },
  {
   "cell_type": "code",
   "execution_count": 13,
   "id": "a6528aac",
   "metadata": {},
   "outputs": [
    {
     "data": {
      "text/plain": [
       "(3276, 9)"
      ]
     },
     "execution_count": 13,
     "metadata": {},
     "output_type": "execute_result"
    }
   ],
   "source": [
    "data.shape"
   ]
  },
  {
   "cell_type": "code",
   "execution_count": 14,
   "id": "281c6922",
   "metadata": {},
   "outputs": [],
   "source": [
    "# column 제거\n",
    "na_cnt = data.isna().sum()\n",
    "drop_cols = na_cnt.loc[na_cnt > 0].index"
   ]
  },
  {
   "cell_type": "code",
   "execution_count": 15,
   "id": "7b449e57",
   "metadata": {},
   "outputs": [
    {
     "data": {
      "text/plain": [
       "Index(['ph', 'Sulfate', 'Trihalomethanes'], dtype='object')"
      ]
     },
     "execution_count": 15,
     "metadata": {},
     "output_type": "execute_result"
    }
   ],
   "source": [
    "drop_cols"
   ]
  },
  {
   "cell_type": "code",
   "execution_count": 16,
   "id": "d4050184",
   "metadata": {},
   "outputs": [],
   "source": [
    "data = data.drop(drop_cols, axis=1)"
   ]
  },
  {
   "cell_type": "code",
   "execution_count": 17,
   "id": "3929259c",
   "metadata": {},
   "outputs": [],
   "source": [
    "# Data Split\n",
    "from sklearn.model_selection import train_test_split\n",
    "\n",
    "train_data, test_data, train_label, test_label = train_test_split(\n",
    "    data, label, train_size=0.7, random_state=2021\n",
    ")"
   ]
  },
  {
   "cell_type": "code",
   "execution_count": 18,
   "id": "69eabd4b",
   "metadata": {},
   "outputs": [
    {
     "name": "stdout",
     "output_type": "stream",
     "text": [
      "train_data size: 2293, 0.70\n",
      "test_data size: 983, 0.30\n"
     ]
    }
   ],
   "source": [
    "print(f\"train_data size: {len(train_label)}, {len(train_label)/len(data):.2f}\")\n",
    "print(f\"test_data size: {len(test_label)}, {len(test_label)/len(data):.2f}\")"
   ]
  },
  {
   "cell_type": "code",
   "execution_count": 19,
   "id": "2e61e8c7",
   "metadata": {},
   "outputs": [],
   "source": [
    "# KNN\n",
    "from sklearn.neighbors import KNeighborsClassifier\n",
    "\n",
    "knn = KNeighborsClassifier()"
   ]
  },
  {
   "cell_type": "code",
   "execution_count": 20,
   "id": "6fa0788f",
   "metadata": {},
   "outputs": [],
   "source": [
    "# Hyper Parameter tuning\n",
    "# n_neighbors, p\n",
    "from sklearn.model_selection import GridSearchCV"
   ]
  },
  {
   "cell_type": "code",
   "execution_count": 21,
   "id": "05aecac8",
   "metadata": {},
   "outputs": [],
   "source": [
    "# 탐색 범위 지정\n",
    "params = {\n",
    "    \"n_neighbors\": [i for i in range(1, 12, 2)],\n",
    "    \"p\": [1, 2]\n",
    "}"
   ]
  },
  {
   "cell_type": "code",
   "execution_count": 22,
   "id": "e88a058f",
   "metadata": {},
   "outputs": [
    {
     "data": {
      "text/plain": [
       "{'n_neighbors': [1, 3, 5, 7, 9, 11], 'p': [1, 2]}"
      ]
     },
     "execution_count": 22,
     "metadata": {},
     "output_type": "execute_result"
    }
   ],
   "source": [
    "params"
   ]
  },
  {
   "cell_type": "code",
   "execution_count": 23,
   "id": "4c98b398",
   "metadata": {},
   "outputs": [],
   "source": [
    "# 6*2*3 = 36개 모델 탐색\n",
    "grid_cv = GridSearchCV(knn, param_grid=params, cv=3, n_jobs=-1)"
   ]
  },
  {
   "cell_type": "code",
   "execution_count": 24,
   "id": "7ea1bb56",
   "metadata": {},
   "outputs": [
    {
     "data": {
      "text/plain": [
       "GridSearchCV(cv=3, estimator=KNeighborsClassifier(), n_jobs=-1,\n",
       "             param_grid={'n_neighbors': [1, 3, 5, 7, 9, 11], 'p': [1, 2]})"
      ]
     },
     "execution_count": 24,
     "metadata": {},
     "output_type": "execute_result"
    }
   ],
   "source": [
    "grid_cv.fit(train_data, train_label)"
   ]
  },
  {
   "cell_type": "code",
   "execution_count": 25,
   "id": "17d6e937",
   "metadata": {},
   "outputs": [
    {
     "name": "stdout",
     "output_type": "stream",
     "text": [
      "Best score of paramter search is: 0.5652\n"
     ]
    }
   ],
   "source": [
    "# 결과\n",
    "print(f\"Best score of paramter search is: {grid_cv.best_score_:.4f}\")"
   ]
  },
  {
   "cell_type": "code",
   "execution_count": 26,
   "id": "48df8a68",
   "metadata": {},
   "outputs": [
    {
     "data": {
      "text/plain": [
       "{'n_neighbors': 11, 'p': 1}"
      ]
     },
     "execution_count": 26,
     "metadata": {},
     "output_type": "execute_result"
    }
   ],
   "source": [
    "grid_cv.best_params_"
   ]
  },
  {
   "cell_type": "code",
   "execution_count": 27,
   "id": "6837b8cf",
   "metadata": {},
   "outputs": [
    {
     "name": "stdout",
     "output_type": "stream",
     "text": [
      "Best parameter of best score is\n",
      "\t n_neighbors: 11\n",
      "\t p: 1\n"
     ]
    }
   ],
   "source": [
    "print(\"Best parameter of best score is\")\n",
    "print(f\"\\t n_neighbors: {grid_cv.best_params_['n_neighbors']}\")\n",
    "print(f\"\\t p: {grid_cv.best_params_['p']}\")"
   ]
  },
  {
   "cell_type": "code",
   "execution_count": 28,
   "id": "6754ecb2",
   "metadata": {},
   "outputs": [],
   "source": [
    "# 예측\n",
    "train_pred = grid_cv.best_estimator_.predict(train_data)\n",
    "test_pred = grid_cv.best_estimator_.predict(test_data)"
   ]
  },
  {
   "cell_type": "code",
   "execution_count": 29,
   "id": "9a8315d7",
   "metadata": {},
   "outputs": [],
   "source": [
    "# 평가\n",
    "from sklearn.metrics import accuracy_score\n",
    "\n",
    "train_acc = accuracy_score(train_label, train_pred)\n",
    "test_acc = accuracy_score(test_label, test_pred)"
   ]
  },
  {
   "cell_type": "code",
   "execution_count": 30,
   "id": "8677da5d",
   "metadata": {},
   "outputs": [
    {
     "name": "stdout",
     "output_type": "stream",
     "text": [
      "train accuracy is 0.6520\n",
      "test accuracy is 0.5595\n"
     ]
    }
   ],
   "source": [
    "print(f\"train accuracy is {train_acc:.4f}\")\n",
    "print(f\"test accuracy is {test_acc:.4f}\")"
   ]
  },
  {
   "cell_type": "code",
   "execution_count": 31,
   "id": "c3029cb8",
   "metadata": {},
   "outputs": [],
   "source": [
    "# Data Scaling 시행\n",
    "# KNN은 거리 기반 알고리즘이라 데이터의 크기에 영향을 받음\n",
    "from sklearn.preprocessing import StandardScaler\n",
    "\n",
    "scaler = StandardScaler()"
   ]
  },
  {
   "cell_type": "code",
   "execution_count": 32,
   "id": "f4abc36d",
   "metadata": {},
   "outputs": [
    {
     "data": {
      "text/plain": [
       "StandardScaler()"
      ]
     },
     "execution_count": 32,
     "metadata": {},
     "output_type": "execute_result"
    }
   ],
   "source": [
    "scaler.fit(train_data)"
   ]
  },
  {
   "cell_type": "code",
   "execution_count": 33,
   "id": "3d6619db",
   "metadata": {},
   "outputs": [],
   "source": [
    "scaled_train_data = scaler.transform(train_data)\n",
    "scaled_test_data = scaler.transform(test_data)"
   ]
  },
  {
   "cell_type": "code",
   "execution_count": 34,
   "id": "e7b79e62",
   "metadata": {},
   "outputs": [],
   "source": [
    "# 탐색\n",
    "scaling_knn = KNeighborsClassifier()\n",
    "scaling_grid_cv = GridSearchCV(scaling_knn, param_grid=params, n_jobs=-1)"
   ]
  },
  {
   "cell_type": "code",
   "execution_count": 35,
   "id": "e99ca904",
   "metadata": {},
   "outputs": [
    {
     "data": {
      "text/plain": [
       "GridSearchCV(estimator=KNeighborsClassifier(), n_jobs=-1,\n",
       "             param_grid={'n_neighbors': [1, 3, 5, 7, 9, 11], 'p': [1, 2]})"
      ]
     },
     "execution_count": 35,
     "metadata": {},
     "output_type": "execute_result"
    }
   ],
   "source": [
    "scaling_grid_cv.fit(scaled_train_data, train_label)"
   ]
  },
  {
   "cell_type": "code",
   "execution_count": 36,
   "id": "0c429bbf",
   "metadata": {},
   "outputs": [
    {
     "data": {
      "text/plain": [
       "0.587011825593896"
      ]
     },
     "execution_count": 36,
     "metadata": {},
     "output_type": "execute_result"
    }
   ],
   "source": [
    "scaling_grid_cv.best_score_"
   ]
  },
  {
   "cell_type": "code",
   "execution_count": 37,
   "id": "5b4d3d34",
   "metadata": {},
   "outputs": [
    {
     "data": {
      "text/plain": [
       "{'n_neighbors': 9, 'p': 1}"
      ]
     },
     "execution_count": 37,
     "metadata": {},
     "output_type": "execute_result"
    }
   ],
   "source": [
    "scaling_grid_cv.best_params_"
   ]
  },
  {
   "cell_type": "code",
   "execution_count": 38,
   "id": "4199660d",
   "metadata": {},
   "outputs": [],
   "source": [
    "# 평가\n",
    "scaling_train_pred = scaling_grid_cv.best_estimator_.predict(scaled_train_data)\n",
    "scaling_test_pred = scaling_grid_cv.best_estimator_.predict(scaled_test_data)"
   ]
  },
  {
   "cell_type": "code",
   "execution_count": 39,
   "id": "9c44b11f",
   "metadata": {},
   "outputs": [],
   "source": [
    "scaling_train_acc = accuracy_score(train_label, scaling_train_pred)\n",
    "scaling_test_acc = accuracy_score(test_label, scaling_test_pred)"
   ]
  },
  {
   "cell_type": "code",
   "execution_count": 40,
   "id": "11c1afee",
   "metadata": {},
   "outputs": [
    {
     "name": "stdout",
     "output_type": "stream",
     "text": [
      "Scaled data train accuracy is 0.6829\n",
      "Scaled data test accuracy is 0.5799\n"
     ]
    }
   ],
   "source": [
    "print(f\"Scaled data train accuracy is {scaling_train_acc:.4f}\")\n",
    "print(f\"Scaled data test accuracy is {scaling_test_acc:.4f}\")"
   ]
  },
  {
   "cell_type": "code",
   "execution_count": 41,
   "id": "f8592993",
   "metadata": {},
   "outputs": [
    {
     "name": "stdout",
     "output_type": "stream",
     "text": [
      "test accuracy is 0.5595\n",
      "Scaled data test accuracy is 0.5799\n"
     ]
    }
   ],
   "source": [
    "print(f\"test accuracy is {test_acc:.4f}\")\n",
    "print(f\"Scaled data test accuracy is {scaling_test_acc:.4f}\")"
   ]
  },
  {
   "cell_type": "code",
   "execution_count": null,
   "id": "ae0e9775",
   "metadata": {},
   "outputs": [],
   "source": [
    "# 스케일링 시 성능이 더 좋아짐"
   ]
  }
 ],
 "metadata": {
  "kernelspec": {
   "display_name": "Python 3",
   "language": "python",
   "name": "python3"
  },
  "language_info": {
   "codemirror_mode": {
    "name": "ipython",
    "version": 3
   },
   "file_extension": ".py",
   "mimetype": "text/x-python",
   "name": "python",
   "nbconvert_exporter": "python",
   "pygments_lexer": "ipython3",
   "version": "3.8.8"
  }
 },
 "nbformat": 4,
 "nbformat_minor": 5
}
