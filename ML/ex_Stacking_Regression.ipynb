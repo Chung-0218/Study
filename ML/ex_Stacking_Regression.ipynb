{
 "cells": [
  {
   "cell_type": "code",
   "execution_count": 1,
   "id": "90590f0f",
   "metadata": {},
   "outputs": [],
   "source": [
    "import pandas as pd\n",
    "import numpy as np\n",
    "import matplotlib.pyplot as plt\n",
    "\n",
    "np.random.seed(2022)"
   ]
  },
  {
   "cell_type": "code",
   "execution_count": 2,
   "id": "1ea2e607",
   "metadata": {},
   "outputs": [],
   "source": [
    "# Sample Data\n",
    "# 전체 1000개 데이터, feature 20개, 전체 중 15개의 변수만 의미를 줌\n",
    "from sklearn.datasets import make_regression\n",
    "\n",
    "data, label = make_regression(n_samples=1000, n_features=20, n_informative=15, noise=0.1, random_state=1)"
   ]
  },
  {
   "cell_type": "code",
   "execution_count": 3,
   "id": "7f3a704c",
   "metadata": {},
   "outputs": [
    {
     "data": {
      "text/plain": [
       "((1000, 20), (1000,))"
      ]
     },
     "execution_count": 3,
     "metadata": {},
     "output_type": "execute_result"
    }
   ],
   "source": [
    "data.shape, label.shape"
   ]
  },
  {
   "cell_type": "code",
   "execution_count": 4,
   "id": "548f8e06",
   "metadata": {},
   "outputs": [],
   "source": [
    "# Data EDA\n",
    "from sklearn.decomposition import PCA\n",
    "\n",
    "pca = PCA(n_components=1)"
   ]
  },
  {
   "cell_type": "code",
   "execution_count": 5,
   "id": "8951710a",
   "metadata": {},
   "outputs": [],
   "source": [
    "pca_data = pca.fit_transform(data)"
   ]
  },
  {
   "cell_type": "code",
   "execution_count": 6,
   "id": "49b60c6d",
   "metadata": {},
   "outputs": [
    {
     "data": {
      "text/plain": [
       "<matplotlib.collections.PathCollection at 0x1e7bc379310>"
      ]
     },
     "execution_count": 6,
     "metadata": {},
     "output_type": "execute_result"
    },
    {
     "data": {
      "image/png": "[encoded data removed]",
      "text/plain": [
       "<Figure size 432x288 with 1 Axes>"
      ]
     },
     "metadata": {
      "needs_background": "light"
     },
     "output_type": "display_data"
    }
   ],
   "source": [
    "plt.scatter(pca_data, label)"
   ]
  },
  {
   "cell_type": "code",
   "execution_count": 7,
   "id": "abc11cd5",
   "metadata": {},
   "outputs": [],
   "source": [
    "# Data Split\n",
    "from sklearn.model_selection import train_test_split\n",
    "\n",
    "train_data, test_data, train_label, test_label = train_test_split(\n",
    "    data, label, train_size=0.7, random_state=2021\n",
    ")"
   ]
  },
  {
   "cell_type": "code",
   "execution_count": 8,
   "id": "531ddc56",
   "metadata": {},
   "outputs": [],
   "source": [
    "# 각 모델의 성능\n",
    "from sklearn.neighbors import KNeighborsRegressor\n",
    "from sklearn.tree import DecisionTreeRegressor\n",
    "from sklearn.svm import SVR # Support Vector Regressor"
   ]
  },
  {
   "cell_type": "code",
   "execution_count": 9,
   "id": "6ba56bd5",
   "metadata": {},
   "outputs": [],
   "source": [
    "# models라는 dictionary에 3개의 모델을 넣음\n",
    "models = {\n",
    "    'knn': KNeighborsRegressor(),\n",
    "    'tree': DecisionTreeRegressor(),\n",
    "    'svm': SVR(),\n",
    "}"
   ]
  },
  {
   "cell_type": "code",
   "execution_count": 10,
   "id": "0956d244",
   "metadata": {},
   "outputs": [],
   "source": [
    "# MAE로 평가\n",
    "from sklearn.metrics import mean_absolute_error\n",
    "from sklearn.model_selection import cross_val_score"
   ]
  },
  {
   "cell_type": "code",
   "execution_count": 11,
   "id": "99534f91",
   "metadata": {},
   "outputs": [],
   "source": [
    "names = []\n",
    "results = []\n",
    "for name, model in models.items():\n",
    "    result = cross_val_score(model, train_data, train_label, cv=3, scoring=\"neg_mean_absolute_error\")\n",
    "    names += [name]\n",
    "    results += [result]"
   ]
  },
  {
   "cell_type": "code",
   "execution_count": 23,
   "id": "baa17e66",
   "metadata": {},
   "outputs": [],
   "source": [
    "import sklearn\n",
    "# sklearn.metrics.SCORERS.keys()"
   ]
  },
  {
   "cell_type": "code",
   "execution_count": 24,
   "id": "173c175f",
   "metadata": {},
   "outputs": [
    {
     "data": {
      "text/plain": [
       "[array([-105.03162689, -105.83152462, -102.13684464]),\n",
       " array([-170.11505601, -156.44424817, -162.26235257]),\n",
       " array([-169.94710581, -171.22395842, -162.4710332 ])]"
      ]
     },
     "execution_count": 24,
     "metadata": {},
     "output_type": "execute_result"
    }
   ],
   "source": [
    "results"
   ]
  },
  {
   "cell_type": "code",
   "execution_count": 25,
   "id": "8b4fbf7e",
   "metadata": {},
   "outputs": [
    {
     "data": {
      "image/png": "[encoded data removed]",
      "text/plain": [
       "<Figure size 576x576 with 1 Axes>"
      ]
     },
     "metadata": {
      "needs_background": "light"
     },
     "output_type": "display_data"
    }
   ],
   "source": [
    "# Boxplot으로 성능 확인\n",
    "plt.figure(figsize=(8, 8))\n",
    "plt.boxplot(results, labels=names)\n",
    "plt.show()"
   ]
  },
  {
   "cell_type": "code",
   "execution_count": 26,
   "id": "58c5bcec",
   "metadata": {},
   "outputs": [
    {
     "name": "stdout",
     "output_type": "stream",
     "text": [
      "Model knn test mean absoulte erorr is 97.77\n",
      "Model tree test mean absoulte erorr is 162.7\n",
      "Model svm test mean absoulte erorr is 162.6\n"
     ]
    }
   ],
   "source": [
    "# 각 모델의 개별 성능\n",
    "# KNN > Tree > SVM\n",
    "for name, model in models.items():\n",
    "    model.fit(train_data, train_label)\n",
    "    test_pred = model.predict(test_data)\n",
    "    acc = mean_absolute_error(test_label, test_pred)\n",
    "    print(f\"Model {name} test mean absoulte erorr is {acc:.4}\")"
   ]
  },
  {
   "cell_type": "code",
   "execution_count": 27,
   "id": "4dfb7078",
   "metadata": {},
   "outputs": [],
   "source": [
    "# Stacking Regression\n",
    "from sklearn.ensemble import StackingRegressor\n",
    "from sklearn.linear_model import LinearRegression"
   ]
  },
  {
   "cell_type": "code",
   "execution_count": 28,
   "id": "6c98df73",
   "metadata": {},
   "outputs": [],
   "source": [
    "stacking = StackingRegressor(\n",
    "    estimators=list(models.items()), # Stacking에서 사용할 모델들\n",
    "    final_estimator=LinearRegression(), # Meta model = Linear Regressor\n",
    "    cv=3\n",
    ")"
   ]
  },
  {
   "cell_type": "code",
   "execution_count": 29,
   "id": "92f920ae",
   "metadata": {},
   "outputs": [],
   "source": [
    "stacking_result = cross_val_score(stacking, train_data, train_label, cv=3, scoring=\"neg_mean_absolute_error\")"
   ]
  },
  {
   "cell_type": "code",
   "execution_count": 30,
   "id": "c3936d10",
   "metadata": {},
   "outputs": [
    {
     "data": {
      "text/plain": [
       "array([-93.82983932, -83.51428386, -91.40283689])"
      ]
     },
     "execution_count": 30,
     "metadata": {},
     "output_type": "execute_result"
    }
   ],
   "source": [
    "stacking_result"
   ]
  },
  {
   "cell_type": "code",
   "execution_count": 31,
   "id": "01224931",
   "metadata": {},
   "outputs": [],
   "source": [
    "all_result = []\n",
    "all_result.extend(results)\n",
    "all_result.append(stacking_result)"
   ]
  },
  {
   "cell_type": "code",
   "execution_count": 32,
   "id": "dce41716",
   "metadata": {},
   "outputs": [
    {
     "data": {
      "image/png": "[encoded data removed]",
      "text/plain": [
       "<Figure size 576x576 with 1 Axes>"
      ]
     },
     "metadata": {
      "needs_background": "light"
     },
     "output_type": "display_data"
    }
   ],
   "source": [
    "plt.figure(figsize=(8, 8))\n",
    "plt.boxplot(all_result, labels=names + [\"stacking\"])\n",
    "plt.show()"
   ]
  },
  {
   "cell_type": "code",
   "execution_count": 33,
   "id": "e6d8c7c2",
   "metadata": {},
   "outputs": [
    {
     "name": "stdout",
     "output_type": "stream",
     "text": [
      "Model knn test mean absoulte erorr is 97.77\n",
      "Model tree test mean absoulte erorr is 162.7\n",
      "Model svm test mean absoulte erorr is 162.6\n",
      "Model stacking mean absoulte erorr is 81.21\n"
     ]
    }
   ],
   "source": [
    "for name, model in models.items():\n",
    "    test_pred = model.predict(test_data)\n",
    "    acc = mean_absolute_error(test_label, test_pred)\n",
    "    print(f\"Model {name} test mean absoulte erorr is {acc:.4}\")\n",
    "\n",
    "stacking.fit(train_data, train_label)\n",
    "stacking_pred = stacking.predict(test_data)\n",
    "stacking_mae = mean_absolute_error(test_label, stacking_pred)\n",
    "print(f\"Model stacking mean absoulte erorr is {stacking_mae:.4}\")"
   ]
  },
  {
   "cell_type": "code",
   "execution_count": null,
   "id": "5f29705e",
   "metadata": {},
   "outputs": [],
   "source": [
    "# 개별 모델의 성능보다 Stacking이 더 좋은 성능을 보였다"
   ]
  }
 ],
 "metadata": {
  "kernelspec": {
   "display_name": "Python 3",
   "language": "python",
   "name": "python3"
  },
  "language_info": {
   "codemirror_mode": {
    "name": "ipython",
    "version": 3
   },
   "file_extension": ".py",
   "mimetype": "text/x-python",
   "name": "python",
   "nbconvert_exporter": "python",
   "pygments_lexer": "ipython3",
   "version": "3.8.8"
  }
 },
 "nbformat": 4,
 "nbformat_minor": 5
}
