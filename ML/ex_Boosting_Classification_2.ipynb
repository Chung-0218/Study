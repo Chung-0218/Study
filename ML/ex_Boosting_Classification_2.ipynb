{
 "cells": [
  {
   "cell_type": "code",
   "execution_count": 1,
   "id": "c05bca46",
   "metadata": {},
   "outputs": [],
   "source": [
    "# 뉴스 분류하기\n",
    "import pandas as pd\n",
    "import numpy as np\n",
    "import matplotlib.pyplot as plt\n",
    "\n",
    "np.random.seed(2022)"
   ]
  },
  {
   "cell_type": "code",
   "execution_count": 2,
   "id": "a296f109",
   "metadata": {},
   "outputs": [],
   "source": [
    "# Data Load\n",
    "from sklearn.datasets import fetch_20newsgroups\n",
    "\n",
    "newsgroup = fetch_20newsgroups()"
   ]
  },
  {
   "cell_type": "code",
   "execution_count": 3,
   "id": "195dad9c",
   "metadata": {},
   "outputs": [],
   "source": [
    "data, target = newsgroup[\"data\"], newsgroup[\"target\"]"
   ]
  },
  {
   "cell_type": "code",
   "execution_count": 4,
   "id": "841c5043",
   "metadata": {},
   "outputs": [
    {
     "name": "stdout",
     "output_type": "stream",
     "text": [
      "From: lerxst@wam.umd.edu (where's my thing)\n",
      "Subject: WHAT car is this!?\n",
      "Nntp-Posting-Host: rac3.wam.umd.edu\n",
      "Organization: University of Maryland, College Park\n",
      "Lines: 15\n",
      "\n",
      " I was wondering if anyone out there could enlighten me on this car I saw\n",
      "the other day. It was a 2-door sports car, looked to be from the late 60s/\n",
      "early 70s. It was called a Bricklin. The doors were really small. In addition,\n",
      "the front bumper was separate from the rest of the body. This is \n",
      "all I know. If anyone can tellme a model name, engine specs, years\n",
      "of production, where this car is made, history, or whatever info you\n",
      "have on this funky looking car, please e-mail.\n",
      "\n",
      "Thanks,\n",
      "- IL\n",
      "   ---- brought to you by your neighborhood Lerxst ----\n",
      "\n",
      "\n",
      "\n",
      "\n",
      "\n"
     ]
    }
   ],
   "source": [
    "# Data 확인\n",
    "print(data[0])"
   ]
  },
  {
   "cell_type": "code",
   "execution_count": 5,
   "id": "9fb5ac09",
   "metadata": {},
   "outputs": [
    {
     "data": {
      "text/plain": [
       "7"
      ]
     },
     "execution_count": 5,
     "metadata": {},
     "output_type": "execute_result"
    }
   ],
   "source": [
    "target[0]"
   ]
  },
  {
   "cell_type": "code",
   "execution_count": 6,
   "id": "e15f1e11",
   "metadata": {},
   "outputs": [
    {
     "data": {
      "text/plain": [
       "['alt.atheism',\n",
       " 'comp.graphics',\n",
       " 'comp.os.ms-windows.misc',\n",
       " 'comp.sys.ibm.pc.hardware',\n",
       " 'comp.sys.mac.hardware',\n",
       " 'comp.windows.x',\n",
       " 'misc.forsale',\n",
       " 'rec.autos',\n",
       " 'rec.motorcycles',\n",
       " 'rec.sport.baseball',\n",
       " 'rec.sport.hockey',\n",
       " 'sci.crypt',\n",
       " 'sci.electronics',\n",
       " 'sci.med',\n",
       " 'sci.space',\n",
       " 'soc.religion.christian',\n",
       " 'talk.politics.guns',\n",
       " 'talk.politics.mideast',\n",
       " 'talk.politics.misc',\n",
       " 'talk.religion.misc']"
      ]
     },
     "execution_count": 6,
     "metadata": {},
     "output_type": "execute_result"
    }
   ],
   "source": [
    "newsgroup[\"target_names\"]"
   ]
  },
  {
   "cell_type": "code",
   "execution_count": 7,
   "id": "63b43bcc",
   "metadata": {},
   "outputs": [
    {
     "data": {
      "text/plain": [
       "20"
      ]
     },
     "execution_count": 7,
     "metadata": {},
     "output_type": "execute_result"
    }
   ],
   "source": [
    "# 전체 Newsgroup의 개수\n",
    "len(newsgroup[\"target_names\"])"
   ]
  },
  {
   "cell_type": "code",
   "execution_count": 8,
   "id": "40603a35",
   "metadata": {},
   "outputs": [],
   "source": [
    "text = pd.Series(data, name=\"text\")\n",
    "target = pd.Series(target, name=\"target\")"
   ]
  },
  {
   "cell_type": "code",
   "execution_count": 9,
   "id": "9f2a36fe",
   "metadata": {},
   "outputs": [],
   "source": [
    "# text와 target data를 dataframe 하나로 묶음\n",
    "df = pd.concat([text, target], 1)"
   ]
  },
  {
   "cell_type": "code",
   "execution_count": 10,
   "id": "747de4b4",
   "metadata": {},
   "outputs": [
    {
     "data": {
      "text/html": [
       "<div>\n",
       "<style scoped>\n",
       "    .dataframe tbody tr th:only-of-type {\n",
       "        vertical-align: middle;\n",
       "    }\n",
       "\n",
       "    .dataframe tbody tr th {\n",
       "        vertical-align: top;\n",
       "    }\n",
       "\n",
       "    .dataframe thead th {\n",
       "        text-align: right;\n",
       "    }\n",
       "</style>\n",
       "<table border=\"1\" class=\"dataframe\">\n",
       "  <thead>\n",
       "    <tr style=\"text-align: right;\">\n",
       "      <th></th>\n",
       "      <th>text</th>\n",
       "      <th>target</th>\n",
       "    </tr>\n",
       "  </thead>\n",
       "  <tbody>\n",
       "    <tr>\n",
       "      <th>0</th>\n",
       "      <td>From: lerxst@wam.umd.edu (where's my thing)\\nS...</td>\n",
       "      <td>7</td>\n",
       "    </tr>\n",
       "    <tr>\n",
       "      <th>1</th>\n",
       "      <td>From: guykuo@carson.u.washington.edu (Guy Kuo)...</td>\n",
       "      <td>4</td>\n",
       "    </tr>\n",
       "    <tr>\n",
       "      <th>2</th>\n",
       "      <td>From: twillis@ec.ecn.purdue.edu (Thomas E Will...</td>\n",
       "      <td>4</td>\n",
       "    </tr>\n",
       "    <tr>\n",
       "      <th>3</th>\n",
       "      <td>From: jgreen@amber (Joe Green)\\nSubject: Re: W...</td>\n",
       "      <td>1</td>\n",
       "    </tr>\n",
       "    <tr>\n",
       "      <th>4</th>\n",
       "      <td>From: jcm@head-cfa.harvard.edu (Jonathan McDow...</td>\n",
       "      <td>14</td>\n",
       "    </tr>\n",
       "    <tr>\n",
       "      <th>...</th>\n",
       "      <td>...</td>\n",
       "      <td>...</td>\n",
       "    </tr>\n",
       "    <tr>\n",
       "      <th>11309</th>\n",
       "      <td>From: jim.zisfein@factory.com (Jim Zisfein) \\n...</td>\n",
       "      <td>13</td>\n",
       "    </tr>\n",
       "    <tr>\n",
       "      <th>11310</th>\n",
       "      <td>From: ebodin@pearl.tufts.edu\\nSubject: Screen ...</td>\n",
       "      <td>4</td>\n",
       "    </tr>\n",
       "    <tr>\n",
       "      <th>11311</th>\n",
       "      <td>From: westes@netcom.com (Will Estes)\\nSubject:...</td>\n",
       "      <td>3</td>\n",
       "    </tr>\n",
       "    <tr>\n",
       "      <th>11312</th>\n",
       "      <td>From: steve@hcrlgw (Steven Collins)\\nSubject: ...</td>\n",
       "      <td>1</td>\n",
       "    </tr>\n",
       "    <tr>\n",
       "      <th>11313</th>\n",
       "      <td>From: gunning@cco.caltech.edu (Kevin J. Gunnin...</td>\n",
       "      <td>8</td>\n",
       "    </tr>\n",
       "  </tbody>\n",
       "</table>\n",
       "<p>11314 rows × 2 columns</p>\n",
       "</div>"
      ],
      "text/plain": [
       "                                                    text  target\n",
       "0      From: lerxst@wam.umd.edu (where's my thing)\\nS...       7\n",
       "1      From: guykuo@carson.u.washington.edu (Guy Kuo)...       4\n",
       "2      From: twillis@ec.ecn.purdue.edu (Thomas E Will...       4\n",
       "3      From: jgreen@amber (Joe Green)\\nSubject: Re: W...       1\n",
       "4      From: jcm@head-cfa.harvard.edu (Jonathan McDow...      14\n",
       "...                                                  ...     ...\n",
       "11309  From: jim.zisfein@factory.com (Jim Zisfein) \\n...      13\n",
       "11310  From: ebodin@pearl.tufts.edu\\nSubject: Screen ...       4\n",
       "11311  From: westes@netcom.com (Will Estes)\\nSubject:...       3\n",
       "11312  From: steve@hcrlgw (Steven Collins)\\nSubject: ...       1\n",
       "11313  From: gunning@cco.caltech.edu (Kevin J. Gunnin...       8\n",
       "\n",
       "[11314 rows x 2 columns]"
      ]
     },
     "execution_count": 10,
     "metadata": {},
     "output_type": "execute_result"
    }
   ],
   "source": [
    "df"
   ]
  },
  {
   "cell_type": "code",
   "execution_count": 11,
   "id": "ca0af19b",
   "metadata": {},
   "outputs": [
    {
     "data": {
      "text/plain": [
       "0     480\n",
       "1     584\n",
       "2     591\n",
       "3     590\n",
       "4     578\n",
       "5     593\n",
       "6     585\n",
       "7     594\n",
       "8     598\n",
       "9     597\n",
       "10    600\n",
       "11    595\n",
       "12    591\n",
       "13    594\n",
       "14    593\n",
       "15    599\n",
       "16    546\n",
       "17    564\n",
       "18    465\n",
       "19    377\n",
       "Name: target, dtype: int64"
      ]
     },
     "execution_count": 11,
     "metadata": {},
     "output_type": "execute_result"
    }
   ],
   "source": [
    "df.target.value_counts().sort_index()"
   ]
  },
  {
   "cell_type": "code",
   "execution_count": 12,
   "id": "21175ca8",
   "metadata": {},
   "outputs": [
    {
     "data": {
      "text/html": [
       "<div>\n",
       "<style scoped>\n",
       "    .dataframe tbody tr th:only-of-type {\n",
       "        vertical-align: middle;\n",
       "    }\n",
       "\n",
       "    .dataframe tbody tr th {\n",
       "        vertical-align: top;\n",
       "    }\n",
       "\n",
       "    .dataframe thead th {\n",
       "        text-align: right;\n",
       "    }\n",
       "</style>\n",
       "<table border=\"1\" class=\"dataframe\">\n",
       "  <thead>\n",
       "    <tr style=\"text-align: right;\">\n",
       "      <th></th>\n",
       "      <th>text</th>\n",
       "      <th>target</th>\n",
       "    </tr>\n",
       "  </thead>\n",
       "  <tbody>\n",
       "    <tr>\n",
       "      <th>5</th>\n",
       "      <td>From: dfo@vttoulu.tko.vtt.fi (Foxvog Douglas)\\...</td>\n",
       "      <td>16</td>\n",
       "    </tr>\n",
       "    <tr>\n",
       "      <th>11</th>\n",
       "      <td>From: david@terminus.ericsson.se (David Bold)\\...</td>\n",
       "      <td>19</td>\n",
       "    </tr>\n",
       "    <tr>\n",
       "      <th>33</th>\n",
       "      <td>From: ayr1@cunixa.cc.columbia.edu (Amir Y Rose...</td>\n",
       "      <td>17</td>\n",
       "    </tr>\n",
       "    <tr>\n",
       "      <th>34</th>\n",
       "      <td>From: joec@hilbert.cyprs.rain.com ( Joe Cipale...</td>\n",
       "      <td>18</td>\n",
       "    </tr>\n",
       "    <tr>\n",
       "      <th>39</th>\n",
       "      <td>From: bressler@iftccu.ca.boeing.com (Rick Bres...</td>\n",
       "      <td>16</td>\n",
       "    </tr>\n",
       "    <tr>\n",
       "      <th>...</th>\n",
       "      <td>...</td>\n",
       "      <td>...</td>\n",
       "    </tr>\n",
       "    <tr>\n",
       "      <th>11277</th>\n",
       "      <td>From: bob1@cos.com (Bob Blackshaw)\\nSubject: R...</td>\n",
       "      <td>17</td>\n",
       "    </tr>\n",
       "    <tr>\n",
       "      <th>11280</th>\n",
       "      <td>From: jake@bony1.bony.com (Jake Livni)\\nSubjec...</td>\n",
       "      <td>17</td>\n",
       "    </tr>\n",
       "    <tr>\n",
       "      <th>11299</th>\n",
       "      <td>From: 2120788@hydra.maths.unsw.EDU.AU ()\\nSubj...</td>\n",
       "      <td>17</td>\n",
       "    </tr>\n",
       "    <tr>\n",
       "      <th>11304</th>\n",
       "      <td>From: Pegasus@aaa.uoregon.edu (Pegasus)\\nSubje...</td>\n",
       "      <td>19</td>\n",
       "    </tr>\n",
       "    <tr>\n",
       "      <th>11305</th>\n",
       "      <td>From: shaig@composer.think.com (Shai Guday)\\nS...</td>\n",
       "      <td>17</td>\n",
       "    </tr>\n",
       "  </tbody>\n",
       "</table>\n",
       "<p>1952 rows × 2 columns</p>\n",
       "</div>"
      ],
      "text/plain": [
       "                                                    text  target\n",
       "5      From: dfo@vttoulu.tko.vtt.fi (Foxvog Douglas)\\...      16\n",
       "11     From: david@terminus.ericsson.se (David Bold)\\...      19\n",
       "33     From: ayr1@cunixa.cc.columbia.edu (Amir Y Rose...      17\n",
       "34     From: joec@hilbert.cyprs.rain.com ( Joe Cipale...      18\n",
       "39     From: bressler@iftccu.ca.boeing.com (Rick Bres...      16\n",
       "...                                                  ...     ...\n",
       "11277  From: bob1@cos.com (Bob Blackshaw)\\nSubject: R...      17\n",
       "11280  From: jake@bony1.bony.com (Jake Livni)\\nSubjec...      17\n",
       "11299  From: 2120788@hydra.maths.unsw.EDU.AU ()\\nSubj...      17\n",
       "11304  From: Pegasus@aaa.uoregon.edu (Pegasus)\\nSubje...      19\n",
       "11305  From: shaig@composer.think.com (Shai Guday)\\nS...      17\n",
       "\n",
       "[1952 rows x 2 columns]"
      ]
     },
     "execution_count": 12,
     "metadata": {},
     "output_type": "execute_result"
    }
   ],
   "source": [
    "df.query(\"16 <= target <= 19\")"
   ]
  },
  {
   "cell_type": "code",
   "execution_count": 13,
   "id": "04ea801c",
   "metadata": {},
   "outputs": [],
   "source": [
    "# 마지막 4개의 data만 사용\n",
    "df_sample = df.query(\"16 <= target <= 19\")"
   ]
  },
  {
   "cell_type": "code",
   "execution_count": 14,
   "id": "de944c13",
   "metadata": {},
   "outputs": [],
   "source": [
    "data = df_sample.text\n",
    "target = df_sample.target"
   ]
  },
  {
   "cell_type": "code",
   "execution_count": 15,
   "id": "4bb5287d",
   "metadata": {},
   "outputs": [
    {
     "data": {
      "text/plain": [
       "(1952,)"
      ]
     },
     "execution_count": 15,
     "metadata": {},
     "output_type": "execute_result"
    }
   ],
   "source": [
    "np.array(data).shape"
   ]
  },
  {
   "cell_type": "code",
   "execution_count": 16,
   "id": "d5d1a6d8",
   "metadata": {},
   "outputs": [],
   "source": [
    "# Data Split\n",
    "from sklearn.model_selection import train_test_split\n",
    "\n",
    "train_data, test_data, train_target, test_target = train_test_split(\n",
    "    data, target, train_size=0.7, random_state=2021\n",
    ")"
   ]
  },
  {
   "cell_type": "code",
   "execution_count": 17,
   "id": "8fdb72d7",
   "metadata": {},
   "outputs": [
    {
     "name": "stderr",
     "output_type": "stream",
     "text": [
      "[nltk_data] Downloading package punkt to\n",
      "[nltk_data]     C:\\Users\\sclab\\AppData\\Roaming\\nltk_data...\n",
      "[nltk_data]   Package punkt is already up-to-date!\n"
     ]
    },
    {
     "data": {
      "text/plain": [
       "True"
      ]
     },
     "execution_count": 17,
     "metadata": {},
     "output_type": "execute_result"
    }
   ],
   "source": [
    "# Count Vectorize\n",
    "# 자연어 데이터를 모델 학습에 사용하기 위해 숫자로 변환\n",
    "import nltk\n",
    "from nltk import word_tokenize\n",
    "from sklearn.feature_extraction.text import CountVectorizer\n",
    "\n",
    "nltk.download('punkt')"
   ]
  },
  {
   "cell_type": "code",
   "execution_count": 18,
   "id": "a2693a1c",
   "metadata": {},
   "outputs": [
    {
     "name": "stderr",
     "output_type": "stream",
     "text": [
      "C:\\Users\\sclab\\anaconda3\\lib\\site-packages\\sklearn\\feature_extraction\\text.py:489: UserWarning: The parameter 'token_pattern' will not be used since 'tokenizer' is not None'\n",
      "  warnings.warn(\"The parameter 'token_pattern' will not be used\"\n"
     ]
    },
    {
     "data": {
      "text/plain": [
       "CountVectorizer(tokenizer=<function word_tokenize at 0x0000022096C8E9D0>)"
      ]
     },
     "execution_count": 18,
     "metadata": {},
     "output_type": "execute_result"
    }
   ],
   "source": [
    "# 뉴스에 모두 등장한 단어를 사용\n",
    "cnt_vectorizer = CountVectorizer(tokenizer=word_tokenize)\n",
    "cnt_vectorizer.fit(train_data)"
   ]
  },
  {
   "cell_type": "code",
   "execution_count": 19,
   "id": "c7aa9af9",
   "metadata": {},
   "outputs": [
    {
     "data": {
      "text/plain": [
       "32012"
      ]
     },
     "execution_count": 19,
     "metadata": {},
     "output_type": "execute_result"
    }
   ],
   "source": [
    "# 전체 단어 수\n",
    "len(cnt_vectorizer.vocabulary_)"
   ]
  },
  {
   "cell_type": "code",
   "execution_count": 20,
   "id": "a50efe49",
   "metadata": {},
   "outputs": [
    {
     "data": {
      "text/plain": [
       "CountVectorizer(min_df=10,\n",
       "                tokenizer=<function word_tokenize at 0x0000022096C8E9D0>)"
      ]
     },
     "execution_count": 20,
     "metadata": {},
     "output_type": "execute_result"
    }
   ],
   "source": [
    "# 최초 10개의 뉴스에서 등장한 단어 사용\n",
    "cnt_vectorizer = CountVectorizer(tokenizer=word_tokenize, min_df=10)\n",
    "cnt_vectorizer.fit(train_data)"
   ]
  },
  {
   "cell_type": "code",
   "execution_count": 21,
   "id": "cf03ed3d",
   "metadata": {},
   "outputs": [
    {
     "data": {
      "text/plain": [
       "4244"
      ]
     },
     "execution_count": 21,
     "metadata": {},
     "output_type": "execute_result"
    }
   ],
   "source": [
    "# 최초 10개 뉴스의 단어 수\n",
    "len(cnt_vectorizer.vocabulary_)"
   ]
  },
  {
   "cell_type": "code",
   "execution_count": 22,
   "id": "96eaddec",
   "metadata": {},
   "outputs": [],
   "source": [
    "train_matrix = cnt_vectorizer.transform(train_data)\n",
    "test_matrix = cnt_vectorizer.transform(test_data)"
   ]
  },
  {
   "cell_type": "code",
   "execution_count": 25,
   "id": "6048d700",
   "metadata": {},
   "outputs": [],
   "source": [
    "# XGBoost\n",
    "import xgboost as xgb\n",
    "\n",
    "xgb_clf = xgb.XGBClassifier()"
   ]
  },
  {
   "cell_type": "code",
   "execution_count": 26,
   "id": "97e7c21f",
   "metadata": {},
   "outputs": [
    {
     "name": "stderr",
     "output_type": "stream",
     "text": [
      "C:\\Users\\sclab\\anaconda3\\lib\\site-packages\\xgboost\\sklearn.py:1224: UserWarning: The use of label encoder in XGBClassifier is deprecated and will be removed in a future release. To remove this warning, do the following: 1) Pass option use_label_encoder=False when constructing XGBClassifier object; and 2) Encode your labels (y) as integers starting with 0, i.e. 0, 1, 2, ..., [num_class - 1].\n",
      "  warnings.warn(label_encoder_deprecation_msg, UserWarning)\n"
     ]
    },
    {
     "name": "stdout",
     "output_type": "stream",
     "text": [
      "[15:01:02] WARNING: C:/Users/Administrator/workspace/xgboost-win64_release_1.5.1/src/learner.cc:1115: Starting in XGBoost 1.3.0, the default evaluation metric used with the objective 'multi:softprob' was changed from 'merror' to 'mlogloss'. Explicitly set eval_metric if you'd like to restore the old behavior.\n"
     ]
    },
    {
     "data": {
      "text/plain": [
       "XGBClassifier(base_score=0.5, booster='gbtree', colsample_bylevel=1,\n",
       "              colsample_bynode=1, colsample_bytree=1, enable_categorical=False,\n",
       "              gamma=0, gpu_id=-1, importance_type=None,\n",
       "              interaction_constraints='', learning_rate=0.300000012,\n",
       "              max_delta_step=0, max_depth=6, min_child_weight=1, missing=nan,\n",
       "              monotone_constraints='()', n_estimators=100, n_jobs=12,\n",
       "              num_parallel_tree=1, objective='multi:softprob', predictor='auto',\n",
       "              random_state=0, reg_alpha=0, reg_lambda=1, scale_pos_weight=None,\n",
       "              subsample=1, tree_method='exact', validate_parameters=1,\n",
       "              verbosity=None)"
      ]
     },
     "execution_count": 26,
     "metadata": {},
     "output_type": "execute_result"
    }
   ],
   "source": [
    "# 학습\n",
    "xgb_clf.fit(train_matrix, train_target)"
   ]
  },
  {
   "cell_type": "code",
   "execution_count": 27,
   "id": "e0b44e03",
   "metadata": {},
   "outputs": [],
   "source": [
    "# 예측\n",
    "xgb_train_pred = xgb_clf.predict(train_matrix)\n",
    "xgb_test_pred = xgb_clf.predict(test_matrix)"
   ]
  },
  {
   "cell_type": "code",
   "execution_count": 28,
   "id": "6c7a7017",
   "metadata": {},
   "outputs": [],
   "source": [
    "# 평가\n",
    "from sklearn.metrics import accuracy_score\n",
    "\n",
    "xgb_train_acc = accuracy_score(train_target, xgb_train_pred)\n",
    "xgb_test_acc = accuracy_score(test_target, xgb_test_pred)"
   ]
  },
  {
   "cell_type": "code",
   "execution_count": 29,
   "id": "c9719ee7",
   "metadata": {},
   "outputs": [
    {
     "name": "stdout",
     "output_type": "stream",
     "text": [
      "XGBoost Train accuracy is 1.0000\n",
      "XGBoost Test accuracy is 0.9198\n"
     ]
    }
   ],
   "source": [
    "print(f\"XGBoost Train accuracy is {xgb_train_acc:.4f}\")\n",
    "print(f\"XGBoost Test accuracy is {xgb_test_acc:.4f}\")"
   ]
  },
  {
   "cell_type": "code",
   "execution_count": 30,
   "id": "7199d7c5",
   "metadata": {},
   "outputs": [],
   "source": [
    "# Light GBM\n",
    "import lightgbm as lgb\n",
    "\n",
    "lgb_clf = lgb.LGBMClassifier()"
   ]
  },
  {
   "cell_type": "code",
   "execution_count": 31,
   "id": "3a85de5a",
   "metadata": {},
   "outputs": [
    {
     "data": {
      "text/plain": [
       "<1366x4244 sparse matrix of type '<class 'numpy.int64'>'\n",
       "\twith 237328 stored elements in Compressed Sparse Row format>"
      ]
     },
     "execution_count": 31,
     "metadata": {},
     "output_type": "execute_result"
    }
   ],
   "source": [
    "# 학습\n",
    "train_matrix"
   ]
  },
  {
   "cell_type": "code",
   "execution_count": 32,
   "id": "a5c0f785",
   "metadata": {},
   "outputs": [
    {
     "data": {
      "text/plain": [
       "array([[1, 0, 0, ..., 0, 0, 0],\n",
       "       [2, 0, 0, ..., 0, 6, 0],\n",
       "       [0, 0, 0, ..., 0, 0, 0],\n",
       "       ...,\n",
       "       [0, 0, 0, ..., 0, 0, 0],\n",
       "       [0, 0, 2, ..., 0, 0, 0],\n",
       "       [0, 0, 0, ..., 0, 0, 0]], dtype=int64)"
      ]
     },
     "execution_count": 32,
     "metadata": {},
     "output_type": "execute_result"
    }
   ],
   "source": [
    "train_matrix.toarray()"
   ]
  },
  {
   "cell_type": "code",
   "execution_count": 33,
   "id": "e5e21272",
   "metadata": {},
   "outputs": [
    {
     "data": {
      "text/plain": [
       "LGBMClassifier()"
      ]
     },
     "execution_count": 33,
     "metadata": {},
     "output_type": "execute_result"
    }
   ],
   "source": [
    "lgb_clf.fit(train_matrix.toarray(), train_target)"
   ]
  },
  {
   "cell_type": "code",
   "execution_count": 34,
   "id": "0542b51a",
   "metadata": {},
   "outputs": [],
   "source": [
    "# 예측\n",
    "lgb_train_pred = lgb_clf.predict(train_matrix.toarray())\n",
    "lgb_test_pred = lgb_clf.predict(test_matrix.toarray())"
   ]
  },
  {
   "cell_type": "code",
   "execution_count": 35,
   "id": "ae027569",
   "metadata": {},
   "outputs": [],
   "source": [
    "# 평가\n",
    "lgb_train_acc = accuracy_score(train_target, lgb_train_pred)\n",
    "lgb_test_acc = accuracy_score(test_target, lgb_test_pred)"
   ]
  },
  {
   "cell_type": "code",
   "execution_count": 36,
   "id": "0a78b1c1",
   "metadata": {},
   "outputs": [
    {
     "name": "stdout",
     "output_type": "stream",
     "text": [
      "Light Boost train accuracy is 1.0000\n",
      "Light Boost test accuracy is 0.9283\n"
     ]
    }
   ],
   "source": [
    "print(f\"Light Boost train accuracy is {lgb_train_acc:.4f}\")\n",
    "print(f\"Light Boost test accuracy is {lgb_test_acc:.4f}\")"
   ]
  },
  {
   "cell_type": "code",
   "execution_count": 37,
   "id": "ed506caa",
   "metadata": {},
   "outputs": [],
   "source": [
    "# CatBoost\n",
    "import catboost as cb\n",
    "\n",
    "cb_clf = cb.CatBoostClassifier()"
   ]
  },
  {
   "cell_type": "code",
   "execution_count": 38,
   "id": "81a0af30",
   "metadata": {},
   "outputs": [
    {
     "data": {
      "text/plain": [
       "<catboost.core.CatBoostClassifier at 0x2209ae12f70>"
      ]
     },
     "execution_count": 38,
     "metadata": {},
     "output_type": "execute_result"
    }
   ],
   "source": [
    "# 학습\n",
    "cb_clf.fit(train_matrix, train_target, verbose=False)"
   ]
  },
  {
   "cell_type": "code",
   "execution_count": 39,
   "id": "9ca26336",
   "metadata": {},
   "outputs": [],
   "source": [
    "# 예측\n",
    "cb_train_pred = cb_clf.predict(train_matrix)\n",
    "cb_test_pred = cb_clf.predict(test_matrix)"
   ]
  },
  {
   "cell_type": "code",
   "execution_count": 40,
   "id": "4cb1d61e",
   "metadata": {},
   "outputs": [],
   "source": [
    "# 평가\n",
    "cb_train_acc = accuracy_score(train_target, cb_train_pred)\n",
    "cb_test_acc = accuracy_score(test_target, cb_test_pred)"
   ]
  },
  {
   "cell_type": "code",
   "execution_count": 41,
   "id": "bbc0aeb9",
   "metadata": {},
   "outputs": [
    {
     "name": "stdout",
     "output_type": "stream",
     "text": [
      "Cat Boost train accuracy is 1.0000\n",
      "Cat Boost test accuracy is 0.9420\n"
     ]
    }
   ],
   "source": [
    "print(f\"Cat Boost train accuracy is {cb_train_acc:.4f}\")\n",
    "print(f\"Cat Boost test accuracy is {cb_test_acc:.4f}\")"
   ]
  },
  {
   "cell_type": "code",
   "execution_count": 42,
   "id": "de3baa42",
   "metadata": {},
   "outputs": [
    {
     "name": "stdout",
     "output_type": "stream",
     "text": [
      "XGBoost test accuray is 0.9198\n",
      "Light Boost test accuray is 0.9283\n",
      "Cat Boost test accuray is 0.9420\n"
     ]
    }
   ],
   "source": [
    "# 비교\n",
    "print(f\"XGBoost test accuray is {xgb_test_acc:.4f}\")\n",
    "print(f\"Light Boost test accuray is {lgb_test_acc:.4f}\")\n",
    "print(f\"Cat Boost test accuray is {cb_test_acc:.4f}\")"
   ]
  },
  {
   "cell_type": "code",
   "execution_count": null,
   "id": "7afc8f19",
   "metadata": {},
   "outputs": [],
   "source": []
  }
 ],
 "metadata": {
  "kernelspec": {
   "display_name": "Python 3",
   "language": "python",
   "name": "python3"
  },
  "language_info": {
   "codemirror_mode": {
    "name": "ipython",
    "version": 3
   },
   "file_extension": ".py",
   "mimetype": "text/x-python",
   "name": "python",
   "nbconvert_exporter": "python",
   "pygments_lexer": "ipython3",
   "version": "3.8.8"
  }
 },
 "nbformat": 4,
 "nbformat_minor": 5
}
