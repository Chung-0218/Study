{
  "nbformat": 4,
  "nbformat_minor": 0,
  "metadata": {
    "colab": {
      "name": "4. 데이터분석_운동공공데이터_practice.ipynb",
      "provenance": [],
      "collapsed_sections": [],
      "include_colab_link": true
    },
    "kernelspec": {
      "name": "python3",
      "display_name": "Python 3"
    }
  },
  "cells": [
    {
      "cell_type": "markdown",
      "metadata": {
        "id": "view-in-github",
        "colab_type": "text"
      },
      "source": [
        "<a href=\"https://colab.research.google.com/github/Chung-0218/Study/blob/main/4_%EB%8D%B0%EC%9D%B4%ED%84%B0%EB%B6%84%EC%84%9D_%EC%9A%B4%EB%8F%99%EA%B3%B5%EA%B3%B5%EB%8D%B0%EC%9D%B4%ED%84%B0_practice.ipynb\" target=\"_parent\"><img src=\"https://colab.research.google.com/assets/colab-badge.svg\" alt=\"Open In Colab\"/></a>"
      ]
    },
    {
      "cell_type": "markdown",
      "metadata": {
        "id": "VoPsc7sg8AoC"
      },
      "source": [
        "# 서울시 운동을 하지 않는 이유 통계\n",
        "- https://data.seoul.go.kr/dataList/10280/C/2/datasetView.do#"
      ]
    },
    {
      "cell_type": "code",
      "metadata": {
        "id": "xQ_ABCld17xh"
      },
      "source": [
        "# pandas import\n",
        "import pandas as pd"
      ],
      "execution_count": null,
      "outputs": []
    },
    {
      "cell_type": "code",
      "metadata": {
        "id": "POgGQzN717u5",
        "colab": {
          "base_uri": "https://localhost:8080/",
          "height": 195
        },
        "outputId": "bc21a671-8eba-4512-aa62-503144cd993b"
      },
      "source": [
        "# pd.read_csv()\n",
        "df = pd.read_csv('/content/report.txt', sep='\\t')   # seperator(구분자) default =','\n",
        "df.head()"
      ],
      "execution_count": null,
      "outputs": [
        {
          "output_type": "execute_result",
          "data": {
            "text/html": [
              "<div>\n",
              "<style scoped>\n",
              "    .dataframe tbody tr th:only-of-type {\n",
              "        vertical-align: middle;\n",
              "    }\n",
              "\n",
              "    .dataframe tbody tr th {\n",
              "        vertical-align: top;\n",
              "    }\n",
              "\n",
              "    .dataframe thead th {\n",
              "        text-align: right;\n",
              "    }\n",
              "</style>\n",
              "<table border=\"1\" class=\"dataframe\">\n",
              "  <thead>\n",
              "    <tr style=\"text-align: right;\">\n",
              "      <th></th>\n",
              "      <th>기간</th>\n",
              "      <th>대분류</th>\n",
              "      <th>분류</th>\n",
              "      <th>운동을 할 충분한 시간이 없어서</th>\n",
              "      <th>함께 운동을 할 사람이 없어서</th>\n",
              "      <th>운동을 할 만한 장소가 없어서</th>\n",
              "      <th>운동을 싫어해서</th>\n",
              "      <th>운동을 할 충분한 비용이 없어서</th>\n",
              "      <th>기타</th>\n",
              "    </tr>\n",
              "  </thead>\n",
              "  <tbody>\n",
              "    <tr>\n",
              "      <th>0</th>\n",
              "      <td>2019</td>\n",
              "      <td>서울시</td>\n",
              "      <td>서울시</td>\n",
              "      <td>46.8</td>\n",
              "      <td>5.0</td>\n",
              "      <td>4.3</td>\n",
              "      <td>37.3</td>\n",
              "      <td>5.2</td>\n",
              "      <td>1.4</td>\n",
              "    </tr>\n",
              "    <tr>\n",
              "      <th>1</th>\n",
              "      <td>2019</td>\n",
              "      <td>성별</td>\n",
              "      <td>남자</td>\n",
              "      <td>52.4</td>\n",
              "      <td>4.4</td>\n",
              "      <td>4.9</td>\n",
              "      <td>32.4</td>\n",
              "      <td>4.9</td>\n",
              "      <td>1.1</td>\n",
              "    </tr>\n",
              "    <tr>\n",
              "      <th>2</th>\n",
              "      <td>2019</td>\n",
              "      <td>성별</td>\n",
              "      <td>여자</td>\n",
              "      <td>42.5</td>\n",
              "      <td>5.6</td>\n",
              "      <td>3.9</td>\n",
              "      <td>41.0</td>\n",
              "      <td>5.4</td>\n",
              "      <td>1.7</td>\n",
              "    </tr>\n",
              "    <tr>\n",
              "      <th>3</th>\n",
              "      <td>2019</td>\n",
              "      <td>연령별</td>\n",
              "      <td>10대</td>\n",
              "      <td>55.3</td>\n",
              "      <td>4.8</td>\n",
              "      <td>3.9</td>\n",
              "      <td>32.6</td>\n",
              "      <td>3.5</td>\n",
              "      <td>-</td>\n",
              "    </tr>\n",
              "    <tr>\n",
              "      <th>4</th>\n",
              "      <td>2019</td>\n",
              "      <td>연령별</td>\n",
              "      <td>20대</td>\n",
              "      <td>46.0</td>\n",
              "      <td>4.2</td>\n",
              "      <td>4.5</td>\n",
              "      <td>38.8</td>\n",
              "      <td>6.4</td>\n",
              "      <td>0.1</td>\n",
              "    </tr>\n",
              "  </tbody>\n",
              "</table>\n",
              "</div>"
            ],
            "text/plain": [
              "     기간  대분류   분류  ...  운동을 싫어해서  운동을 할 충분한 비용이 없어서   기타\n",
              "0  2019  서울시  서울시  ...      37.3                5.2  1.4\n",
              "1  2019   성별   남자  ...      32.4                4.9  1.1\n",
              "2  2019   성별   여자  ...      41.0                5.4  1.7\n",
              "3  2019  연령별  10대  ...      32.6                3.5    -\n",
              "4  2019  연령별  20대  ...      38.8                6.4  0.1\n",
              "\n",
              "[5 rows x 9 columns]"
            ]
          },
          "metadata": {
            "tags": []
          },
          "execution_count": 3
        }
      ]
    },
    {
      "cell_type": "code",
      "metadata": {
        "colab": {
          "base_uri": "https://localhost:8080/"
        },
        "id": "4A6TlY4y1WIV",
        "outputId": "6853759e-2620-424f-9ceb-67a927b97be8"
      },
      "source": [
        "# columns 정보 \n",
        "df.columns"
      ],
      "execution_count": null,
      "outputs": [
        {
          "output_type": "execute_result",
          "data": {
            "text/plain": [
              "Index(['기간', '대분류', '분류', '운동을 할 충분한 시간이 없어서', '함께 운동을 할 사람이 없어서',\n",
              "       '운동을 할 만한 장소가 없어서', '운동을 싫어해서', '운동을 할 충분한 비용이 없어서', '기타'],\n",
              "      dtype='object')"
            ]
          },
          "metadata": {
            "tags": []
          },
          "execution_count": 4
        }
      ]
    },
    {
      "cell_type": "code",
      "metadata": {
        "id": "_xIs5wYl17r9",
        "colab": {
          "base_uri": "https://localhost:8080/"
        },
        "outputId": "944059c1-4c62-4c0b-9b53-58c5c5cc4eda"
      },
      "source": [
        "df.info()"
      ],
      "execution_count": null,
      "outputs": [
        {
          "output_type": "stream",
          "text": [
            "<class 'pandas.core.frame.DataFrame'>\n",
            "RangeIndex: 52 entries, 0 to 51\n",
            "Data columns (total 9 columns):\n",
            " #   Column             Non-Null Count  Dtype  \n",
            "---  ------             --------------  -----  \n",
            " 0   기간                 52 non-null     int64  \n",
            " 1   대분류                52 non-null     object \n",
            " 2   분류                 52 non-null     object \n",
            " 3   운동을 할 충분한 시간이 없어서  52 non-null     float64\n",
            " 4   함께 운동을 할 사람이 없어서   52 non-null     float64\n",
            " 5   운동을 할 만한 장소가 없어서   52 non-null     float64\n",
            " 6   운동을 싫어해서           52 non-null     float64\n",
            " 7   운동을 할 충분한 비용이 없어서  52 non-null     float64\n",
            " 8   기타                 52 non-null     object \n",
            "dtypes: float64(5), int64(1), object(3)\n",
            "memory usage: 3.8+ KB\n"
          ],
          "name": "stdout"
        }
      ]
    },
    {
      "cell_type": "code",
      "metadata": {
        "id": "ZZFDia6k17ok",
        "colab": {
          "base_uri": "https://localhost:8080/"
        },
        "outputId": "f2bc2152-e4e3-40ac-aa90-964422f23faa"
      },
      "source": [
        "# 대분류의 종류를 알아봅시다\n",
        "\n",
        "df['대분류'].value_counts()"
      ],
      "execution_count": null,
      "outputs": [
        {
          "output_type": "execute_result",
          "data": {
            "text/plain": [
              "소득별      6\n",
              "연령별      6\n",
              "지역대분류    5\n",
              "학력별      4\n",
              "혼인상태별    3\n",
              "성별       2\n",
              "강북구      1\n",
              "서울시      1\n",
              "송파구      1\n",
              "강동구      1\n",
              "은평구      1\n",
              "중랑구      1\n",
              "동대문구     1\n",
              "마포구      1\n",
              "광진구      1\n",
              "관악구      1\n",
              "중구       1\n",
              "노원구      1\n",
              "도봉구      1\n",
              "동작구      1\n",
              "종로구      1\n",
              "강남구      1\n",
              "성동구      1\n",
              "용산구      1\n",
              "영등포구     1\n",
              "양천구      1\n",
              "강서구      1\n",
              "구로구      1\n",
              "서초구      1\n",
              "금천구      1\n",
              "성북구      1\n",
              "서대문구     1\n",
              "Name: 대분류, dtype: int64"
            ]
          },
          "metadata": {
            "tags": []
          },
          "execution_count": 6
        }
      ]
    },
    {
      "cell_type": "code",
      "metadata": {
        "id": "smtUyIeT17lb",
        "colab": {
          "base_uri": "https://localhost:8080/"
        },
        "outputId": "7c0ea87d-2a9c-4550-f618-8cfcb2646a75"
      },
      "source": [
        "df['분류'].value_counts()"
      ],
      "execution_count": null,
      "outputs": [
        {
          "output_type": "execute_result",
          "data": {
            "text/plain": [
              "강북구             1\n",
              "고졸 이하           1\n",
              "40대             1\n",
              "300-400만원 미만    1\n",
              "강남구             1\n",
              "성북구             1\n",
              "종로구             1\n",
              "동작구             1\n",
              "노원구             1\n",
              "동대문구            1\n",
              "100만원 미만        1\n",
              "20대             1\n",
              "이혼/사별/기타        1\n",
              "여자              1\n",
              "서울시             1\n",
              "송파구             1\n",
              "30대             1\n",
              "강동구             1\n",
              "대졸 이하           1\n",
              "200-300만원 미만    1\n",
              "10대             1\n",
              "미혼              1\n",
              "마포구             1\n",
              "강서구             1\n",
              "광진구             1\n",
              "성동구             1\n",
              "용산구             1\n",
              "양천구             1\n",
              "중랑구             1\n",
              "서초구             1\n",
              "남자              1\n",
              "구로구             1\n",
              "100-200만원 미만    1\n",
              "영등포구            1\n",
              "400-500만원 미만    1\n",
              "대학원 이상          1\n",
              "기혼              1\n",
              "500만원 이상        1\n",
              "50대             1\n",
              "서남권             1\n",
              "금천구             1\n",
              "서북권             1\n",
              "은평구             1\n",
              "60대 이상          1\n",
              "중졸 이하           1\n",
              "관악구             1\n",
              "서대문구            1\n",
              "도봉구             1\n",
              "도심권             1\n",
              "동북권             1\n",
              "중구              1\n",
              "동남권             1\n",
              "Name: 분류, dtype: int64"
            ]
          },
          "metadata": {
            "tags": []
          },
          "execution_count": 7
        }
      ]
    },
    {
      "cell_type": "code",
      "metadata": {
        "id": "TwRhlqXZ17a3",
        "colab": {
          "base_uri": "https://localhost:8080/"
        },
        "outputId": "c159cf52-1e9a-406d-9c77-0f711ef2f97f"
      },
      "source": [
        "df[['대분류','분류']].value_counts()"
      ],
      "execution_count": null,
      "outputs": [
        {
          "output_type": "execute_result",
          "data": {
            "text/plain": [
              "대분류    분류          \n",
              "혼인상태별  이혼/사별/기타        1\n",
              "       미혼              1\n",
              "소득별    300-400만원 미만    1\n",
              "       200-300만원 미만    1\n",
              "       100만원 미만        1\n",
              "       100-200만원 미만    1\n",
              "성북구    성북구             1\n",
              "성별     여자              1\n",
              "       남자              1\n",
              "성동구    성동구             1\n",
              "서초구    서초구             1\n",
              "서울시    서울시             1\n",
              "서대문구   서대문구            1\n",
              "마포구    마포구             1\n",
              "동작구    동작구             1\n",
              "동대문구   동대문구            1\n",
              "도봉구    도봉구             1\n",
              "노원구    노원구             1\n",
              "금천구    금천구             1\n",
              "구로구    구로구             1\n",
              "광진구    광진구             1\n",
              "관악구    관악구             1\n",
              "강서구    강서구             1\n",
              "강북구    강북구             1\n",
              "강동구    강동구             1\n",
              "소득별    400-500만원 미만    1\n",
              "       500만원 이상        1\n",
              "송파구    송파구             1\n",
              "중랑구    중랑구             1\n",
              "혼인상태별  기혼              1\n",
              "학력별    중졸 이하           1\n",
              "       대학원 이상          1\n",
              "       대졸 이하           1\n",
              "       고졸 이하           1\n",
              "지역대분류  서북권             1\n",
              "       서남권             1\n",
              "       동북권             1\n",
              "       동남권             1\n",
              "       도심권             1\n",
              "중구     중구              1\n",
              "양천구    양천구             1\n",
              "종로구    종로구             1\n",
              "은평구    은평구             1\n",
              "용산구    용산구             1\n",
              "영등포구   영등포구            1\n",
              "연령별    60대 이상          1\n",
              "       50대             1\n",
              "       40대             1\n",
              "       30대             1\n",
              "       20대             1\n",
              "       10대             1\n",
              "강남구    강남구             1\n",
              "dtype: int64"
            ]
          },
          "metadata": {
            "tags": []
          },
          "execution_count": 8
        }
      ]
    },
    {
      "cell_type": "code",
      "metadata": {
        "colab": {
          "base_uri": "https://localhost:8080/",
          "height": 787
        },
        "id": "QDo4gZUA4rs9",
        "outputId": "210929cb-397e-4c45-a6d7-096e43f98310"
      },
      "source": [
        "# 대분류의 각각의 '구' 를 '구별' 바꾸고 싶다\n",
        "\n",
        "df[df['대분류'].str.contains('구')]\n"
      ],
      "execution_count": null,
      "outputs": [
        {
          "output_type": "execute_result",
          "data": {
            "text/html": [
              "<div>\n",
              "<style scoped>\n",
              "    .dataframe tbody tr th:only-of-type {\n",
              "        vertical-align: middle;\n",
              "    }\n",
              "\n",
              "    .dataframe tbody tr th {\n",
              "        vertical-align: top;\n",
              "    }\n",
              "\n",
              "    .dataframe thead th {\n",
              "        text-align: right;\n",
              "    }\n",
              "</style>\n",
              "<table border=\"1\" class=\"dataframe\">\n",
              "  <thead>\n",
              "    <tr style=\"text-align: right;\">\n",
              "      <th></th>\n",
              "      <th>기간</th>\n",
              "      <th>대분류</th>\n",
              "      <th>분류</th>\n",
              "      <th>운동을 할 충분한 시간이 없어서</th>\n",
              "      <th>함께 운동을 할 사람이 없어서</th>\n",
              "      <th>운동을 할 만한 장소가 없어서</th>\n",
              "      <th>운동을 싫어해서</th>\n",
              "      <th>운동을 할 충분한 비용이 없어서</th>\n",
              "      <th>기타</th>\n",
              "    </tr>\n",
              "  </thead>\n",
              "  <tbody>\n",
              "    <tr>\n",
              "      <th>27</th>\n",
              "      <td>2019</td>\n",
              "      <td>종로구</td>\n",
              "      <td>종로구</td>\n",
              "      <td>62.2</td>\n",
              "      <td>0.4</td>\n",
              "      <td>9.4</td>\n",
              "      <td>25.9</td>\n",
              "      <td>2.1</td>\n",
              "      <td>-</td>\n",
              "    </tr>\n",
              "    <tr>\n",
              "      <th>28</th>\n",
              "      <td>2019</td>\n",
              "      <td>중구</td>\n",
              "      <td>중구</td>\n",
              "      <td>50.3</td>\n",
              "      <td>3.0</td>\n",
              "      <td>7.7</td>\n",
              "      <td>25.7</td>\n",
              "      <td>7.6</td>\n",
              "      <td>5.7</td>\n",
              "    </tr>\n",
              "    <tr>\n",
              "      <th>29</th>\n",
              "      <td>2019</td>\n",
              "      <td>용산구</td>\n",
              "      <td>용산구</td>\n",
              "      <td>48.9</td>\n",
              "      <td>7.5</td>\n",
              "      <td>4.9</td>\n",
              "      <td>32.6</td>\n",
              "      <td>2.7</td>\n",
              "      <td>3.4</td>\n",
              "    </tr>\n",
              "    <tr>\n",
              "      <th>30</th>\n",
              "      <td>2019</td>\n",
              "      <td>성동구</td>\n",
              "      <td>성동구</td>\n",
              "      <td>46.5</td>\n",
              "      <td>4.3</td>\n",
              "      <td>5.7</td>\n",
              "      <td>34.2</td>\n",
              "      <td>8.7</td>\n",
              "      <td>0.6</td>\n",
              "    </tr>\n",
              "    <tr>\n",
              "      <th>31</th>\n",
              "      <td>2019</td>\n",
              "      <td>광진구</td>\n",
              "      <td>광진구</td>\n",
              "      <td>42.0</td>\n",
              "      <td>5.7</td>\n",
              "      <td>3.0</td>\n",
              "      <td>43.5</td>\n",
              "      <td>5.8</td>\n",
              "      <td>-</td>\n",
              "    </tr>\n",
              "    <tr>\n",
              "      <th>32</th>\n",
              "      <td>2019</td>\n",
              "      <td>동대문구</td>\n",
              "      <td>동대문구</td>\n",
              "      <td>44.5</td>\n",
              "      <td>4.5</td>\n",
              "      <td>2.7</td>\n",
              "      <td>41.9</td>\n",
              "      <td>6.2</td>\n",
              "      <td>0.1</td>\n",
              "    </tr>\n",
              "    <tr>\n",
              "      <th>33</th>\n",
              "      <td>2019</td>\n",
              "      <td>중랑구</td>\n",
              "      <td>중랑구</td>\n",
              "      <td>46.7</td>\n",
              "      <td>2.2</td>\n",
              "      <td>6.8</td>\n",
              "      <td>32.8</td>\n",
              "      <td>10.9</td>\n",
              "      <td>0.5</td>\n",
              "    </tr>\n",
              "    <tr>\n",
              "      <th>34</th>\n",
              "      <td>2019</td>\n",
              "      <td>성북구</td>\n",
              "      <td>성북구</td>\n",
              "      <td>33.3</td>\n",
              "      <td>3.4</td>\n",
              "      <td>2.6</td>\n",
              "      <td>58.0</td>\n",
              "      <td>2.0</td>\n",
              "      <td>0.7</td>\n",
              "    </tr>\n",
              "    <tr>\n",
              "      <th>35</th>\n",
              "      <td>2019</td>\n",
              "      <td>강북구</td>\n",
              "      <td>강북구</td>\n",
              "      <td>21.3</td>\n",
              "      <td>5.3</td>\n",
              "      <td>3.4</td>\n",
              "      <td>68.1</td>\n",
              "      <td>1.9</td>\n",
              "      <td>-</td>\n",
              "    </tr>\n",
              "    <tr>\n",
              "      <th>36</th>\n",
              "      <td>2019</td>\n",
              "      <td>도봉구</td>\n",
              "      <td>도봉구</td>\n",
              "      <td>52.0</td>\n",
              "      <td>3.2</td>\n",
              "      <td>6.2</td>\n",
              "      <td>30.8</td>\n",
              "      <td>7.6</td>\n",
              "      <td>0.3</td>\n",
              "    </tr>\n",
              "    <tr>\n",
              "      <th>37</th>\n",
              "      <td>2019</td>\n",
              "      <td>노원구</td>\n",
              "      <td>노원구</td>\n",
              "      <td>56.3</td>\n",
              "      <td>1.6</td>\n",
              "      <td>2.7</td>\n",
              "      <td>30.1</td>\n",
              "      <td>1.9</td>\n",
              "      <td>7.4</td>\n",
              "    </tr>\n",
              "    <tr>\n",
              "      <th>38</th>\n",
              "      <td>2019</td>\n",
              "      <td>은평구</td>\n",
              "      <td>은평구</td>\n",
              "      <td>42.7</td>\n",
              "      <td>8.8</td>\n",
              "      <td>7.3</td>\n",
              "      <td>34.3</td>\n",
              "      <td>6.4</td>\n",
              "      <td>0.5</td>\n",
              "    </tr>\n",
              "    <tr>\n",
              "      <th>39</th>\n",
              "      <td>2019</td>\n",
              "      <td>서대문구</td>\n",
              "      <td>서대문구</td>\n",
              "      <td>69.8</td>\n",
              "      <td>0.8</td>\n",
              "      <td>1.2</td>\n",
              "      <td>21.9</td>\n",
              "      <td>5.3</td>\n",
              "      <td>1</td>\n",
              "    </tr>\n",
              "    <tr>\n",
              "      <th>40</th>\n",
              "      <td>2019</td>\n",
              "      <td>마포구</td>\n",
              "      <td>마포구</td>\n",
              "      <td>46.6</td>\n",
              "      <td>8.1</td>\n",
              "      <td>4.7</td>\n",
              "      <td>35.8</td>\n",
              "      <td>3.2</td>\n",
              "      <td>1.5</td>\n",
              "    </tr>\n",
              "    <tr>\n",
              "      <th>41</th>\n",
              "      <td>2019</td>\n",
              "      <td>양천구</td>\n",
              "      <td>양천구</td>\n",
              "      <td>66.2</td>\n",
              "      <td>5.7</td>\n",
              "      <td>5.9</td>\n",
              "      <td>17.9</td>\n",
              "      <td>4.1</td>\n",
              "      <td>0.1</td>\n",
              "    </tr>\n",
              "    <tr>\n",
              "      <th>42</th>\n",
              "      <td>2019</td>\n",
              "      <td>강서구</td>\n",
              "      <td>강서구</td>\n",
              "      <td>38.5</td>\n",
              "      <td>3.8</td>\n",
              "      <td>1.9</td>\n",
              "      <td>50.5</td>\n",
              "      <td>4.3</td>\n",
              "      <td>1</td>\n",
              "    </tr>\n",
              "    <tr>\n",
              "      <th>43</th>\n",
              "      <td>2019</td>\n",
              "      <td>구로구</td>\n",
              "      <td>구로구</td>\n",
              "      <td>45.3</td>\n",
              "      <td>5.7</td>\n",
              "      <td>5.8</td>\n",
              "      <td>39.0</td>\n",
              "      <td>2.9</td>\n",
              "      <td>1.3</td>\n",
              "    </tr>\n",
              "    <tr>\n",
              "      <th>44</th>\n",
              "      <td>2019</td>\n",
              "      <td>금천구</td>\n",
              "      <td>금천구</td>\n",
              "      <td>53.6</td>\n",
              "      <td>2.4</td>\n",
              "      <td>2.3</td>\n",
              "      <td>37.6</td>\n",
              "      <td>2.3</td>\n",
              "      <td>1.7</td>\n",
              "    </tr>\n",
              "    <tr>\n",
              "      <th>45</th>\n",
              "      <td>2019</td>\n",
              "      <td>영등포구</td>\n",
              "      <td>영등포구</td>\n",
              "      <td>50.2</td>\n",
              "      <td>6.7</td>\n",
              "      <td>3.8</td>\n",
              "      <td>33.9</td>\n",
              "      <td>5.4</td>\n",
              "      <td>-</td>\n",
              "    </tr>\n",
              "    <tr>\n",
              "      <th>46</th>\n",
              "      <td>2019</td>\n",
              "      <td>동작구</td>\n",
              "      <td>동작구</td>\n",
              "      <td>39.1</td>\n",
              "      <td>13.9</td>\n",
              "      <td>8.4</td>\n",
              "      <td>31.1</td>\n",
              "      <td>7.6</td>\n",
              "      <td>-</td>\n",
              "    </tr>\n",
              "    <tr>\n",
              "      <th>47</th>\n",
              "      <td>2019</td>\n",
              "      <td>관악구</td>\n",
              "      <td>관악구</td>\n",
              "      <td>44.4</td>\n",
              "      <td>8.8</td>\n",
              "      <td>5.5</td>\n",
              "      <td>34.2</td>\n",
              "      <td>6.1</td>\n",
              "      <td>1</td>\n",
              "    </tr>\n",
              "    <tr>\n",
              "      <th>48</th>\n",
              "      <td>2019</td>\n",
              "      <td>서초구</td>\n",
              "      <td>서초구</td>\n",
              "      <td>49.9</td>\n",
              "      <td>4.3</td>\n",
              "      <td>4.1</td>\n",
              "      <td>36.6</td>\n",
              "      <td>3.3</td>\n",
              "      <td>1.8</td>\n",
              "    </tr>\n",
              "    <tr>\n",
              "      <th>49</th>\n",
              "      <td>2019</td>\n",
              "      <td>강남구</td>\n",
              "      <td>강남구</td>\n",
              "      <td>40.7</td>\n",
              "      <td>4.2</td>\n",
              "      <td>2.0</td>\n",
              "      <td>46.4</td>\n",
              "      <td>5.2</td>\n",
              "      <td>1.6</td>\n",
              "    </tr>\n",
              "    <tr>\n",
              "      <th>50</th>\n",
              "      <td>2019</td>\n",
              "      <td>송파구</td>\n",
              "      <td>송파구</td>\n",
              "      <td>47.6</td>\n",
              "      <td>5.0</td>\n",
              "      <td>2.3</td>\n",
              "      <td>39.4</td>\n",
              "      <td>4.8</td>\n",
              "      <td>1</td>\n",
              "    </tr>\n",
              "    <tr>\n",
              "      <th>51</th>\n",
              "      <td>2019</td>\n",
              "      <td>강동구</td>\n",
              "      <td>강동구</td>\n",
              "      <td>47.0</td>\n",
              "      <td>5.2</td>\n",
              "      <td>4.8</td>\n",
              "      <td>32.4</td>\n",
              "      <td>8.4</td>\n",
              "      <td>2.3</td>\n",
              "    </tr>\n",
              "  </tbody>\n",
              "</table>\n",
              "</div>"
            ],
            "text/plain": [
              "      기간   대분류    분류  ...  운동을 싫어해서  운동을 할 충분한 비용이 없어서   기타\n",
              "27  2019   종로구   종로구  ...      25.9                2.1    -\n",
              "28  2019    중구    중구  ...      25.7                7.6  5.7\n",
              "29  2019   용산구   용산구  ...      32.6                2.7  3.4\n",
              "30  2019   성동구   성동구  ...      34.2                8.7  0.6\n",
              "31  2019   광진구   광진구  ...      43.5                5.8    -\n",
              "32  2019  동대문구  동대문구  ...      41.9                6.2  0.1\n",
              "33  2019   중랑구   중랑구  ...      32.8               10.9  0.5\n",
              "34  2019   성북구   성북구  ...      58.0                2.0  0.7\n",
              "35  2019   강북구   강북구  ...      68.1                1.9    -\n",
              "36  2019   도봉구   도봉구  ...      30.8                7.6  0.3\n",
              "37  2019   노원구   노원구  ...      30.1                1.9  7.4\n",
              "38  2019   은평구   은평구  ...      34.3                6.4  0.5\n",
              "39  2019  서대문구  서대문구  ...      21.9                5.3    1\n",
              "40  2019   마포구   마포구  ...      35.8                3.2  1.5\n",
              "41  2019   양천구   양천구  ...      17.9                4.1  0.1\n",
              "42  2019   강서구   강서구  ...      50.5                4.3    1\n",
              "43  2019   구로구   구로구  ...      39.0                2.9  1.3\n",
              "44  2019   금천구   금천구  ...      37.6                2.3  1.7\n",
              "45  2019  영등포구  영등포구  ...      33.9                5.4    -\n",
              "46  2019   동작구   동작구  ...      31.1                7.6    -\n",
              "47  2019   관악구   관악구  ...      34.2                6.1    1\n",
              "48  2019   서초구   서초구  ...      36.6                3.3  1.8\n",
              "49  2019   강남구   강남구  ...      46.4                5.2  1.6\n",
              "50  2019   송파구   송파구  ...      39.4                4.8    1\n",
              "51  2019   강동구   강동구  ...      32.4                8.4  2.3\n",
              "\n",
              "[25 rows x 9 columns]"
            ]
          },
          "metadata": {
            "tags": []
          },
          "execution_count": 9
        }
      ]
    },
    {
      "cell_type": "code",
      "metadata": {
        "id": "zxDxu37e5heP"
      },
      "source": [
        "# df.loc[행, 열]\n",
        "\n",
        "df.loc[ df['대분류'].str.contains('구') , '대분류' ] = '구별'"
      ],
      "execution_count": null,
      "outputs": []
    },
    {
      "cell_type": "code",
      "metadata": {
        "colab": {
          "base_uri": "https://localhost:8080/"
        },
        "id": "S0cHMFQP5hbb",
        "outputId": "d82086ca-771a-4446-93f0-49557907534f"
      },
      "source": [
        "df['대분류'].value_counts()    # 함수"
      ],
      "execution_count": null,
      "outputs": [
        {
          "output_type": "execute_result",
          "data": {
            "text/plain": [
              "구별       25\n",
              "연령별       6\n",
              "소득별       6\n",
              "지역대분류     5\n",
              "학력별       4\n",
              "혼인상태별     3\n",
              "성별        2\n",
              "서울시       1\n",
              "Name: 대분류, dtype: int64"
            ]
          },
          "metadata": {
            "tags": []
          },
          "execution_count": 11
        }
      ]
    },
    {
      "cell_type": "code",
      "metadata": {
        "colab": {
          "base_uri": "https://localhost:8080/",
          "height": 195
        },
        "id": "pwcIIder8FQg",
        "outputId": "1a86434b-b61f-4b12-b07d-39c337f0a549"
      },
      "source": [
        "df.head()"
      ],
      "execution_count": null,
      "outputs": [
        {
          "output_type": "execute_result",
          "data": {
            "text/html": [
              "<div>\n",
              "<style scoped>\n",
              "    .dataframe tbody tr th:only-of-type {\n",
              "        vertical-align: middle;\n",
              "    }\n",
              "\n",
              "    .dataframe tbody tr th {\n",
              "        vertical-align: top;\n",
              "    }\n",
              "\n",
              "    .dataframe thead th {\n",
              "        text-align: right;\n",
              "    }\n",
              "</style>\n",
              "<table border=\"1\" class=\"dataframe\">\n",
              "  <thead>\n",
              "    <tr style=\"text-align: right;\">\n",
              "      <th></th>\n",
              "      <th>기간</th>\n",
              "      <th>대분류</th>\n",
              "      <th>분류</th>\n",
              "      <th>운동을 할 충분한 시간이 없어서</th>\n",
              "      <th>함께 운동을 할 사람이 없어서</th>\n",
              "      <th>운동을 할 만한 장소가 없어서</th>\n",
              "      <th>운동을 싫어해서</th>\n",
              "      <th>운동을 할 충분한 비용이 없어서</th>\n",
              "      <th>기타</th>\n",
              "    </tr>\n",
              "  </thead>\n",
              "  <tbody>\n",
              "    <tr>\n",
              "      <th>0</th>\n",
              "      <td>2019</td>\n",
              "      <td>서울시</td>\n",
              "      <td>서울시</td>\n",
              "      <td>46.8</td>\n",
              "      <td>5.0</td>\n",
              "      <td>4.3</td>\n",
              "      <td>37.3</td>\n",
              "      <td>5.2</td>\n",
              "      <td>1.4</td>\n",
              "    </tr>\n",
              "    <tr>\n",
              "      <th>1</th>\n",
              "      <td>2019</td>\n",
              "      <td>성별</td>\n",
              "      <td>남자</td>\n",
              "      <td>52.4</td>\n",
              "      <td>4.4</td>\n",
              "      <td>4.9</td>\n",
              "      <td>32.4</td>\n",
              "      <td>4.9</td>\n",
              "      <td>1.1</td>\n",
              "    </tr>\n",
              "    <tr>\n",
              "      <th>2</th>\n",
              "      <td>2019</td>\n",
              "      <td>성별</td>\n",
              "      <td>여자</td>\n",
              "      <td>42.5</td>\n",
              "      <td>5.6</td>\n",
              "      <td>3.9</td>\n",
              "      <td>41.0</td>\n",
              "      <td>5.4</td>\n",
              "      <td>1.7</td>\n",
              "    </tr>\n",
              "    <tr>\n",
              "      <th>3</th>\n",
              "      <td>2019</td>\n",
              "      <td>연령별</td>\n",
              "      <td>10대</td>\n",
              "      <td>55.3</td>\n",
              "      <td>4.8</td>\n",
              "      <td>3.9</td>\n",
              "      <td>32.6</td>\n",
              "      <td>3.5</td>\n",
              "      <td>-</td>\n",
              "    </tr>\n",
              "    <tr>\n",
              "      <th>4</th>\n",
              "      <td>2019</td>\n",
              "      <td>연령별</td>\n",
              "      <td>20대</td>\n",
              "      <td>46.0</td>\n",
              "      <td>4.2</td>\n",
              "      <td>4.5</td>\n",
              "      <td>38.8</td>\n",
              "      <td>6.4</td>\n",
              "      <td>0.1</td>\n",
              "    </tr>\n",
              "  </tbody>\n",
              "</table>\n",
              "</div>"
            ],
            "text/plain": [
              "     기간  대분류   분류  ...  운동을 싫어해서  운동을 할 충분한 비용이 없어서   기타\n",
              "0  2019  서울시  서울시  ...      37.3                5.2  1.4\n",
              "1  2019   성별   남자  ...      32.4                4.9  1.1\n",
              "2  2019   성별   여자  ...      41.0                5.4  1.7\n",
              "3  2019  연령별  10대  ...      32.6                3.5    -\n",
              "4  2019  연령별  20대  ...      38.8                6.4  0.1\n",
              "\n",
              "[5 rows x 9 columns]"
            ]
          },
          "metadata": {
            "tags": []
          },
          "execution_count": 12
        }
      ]
    },
    {
      "cell_type": "code",
      "metadata": {
        "id": "URy4gchy5hXt"
      },
      "source": [
        "# '기간' column drop \n",
        "\n",
        "# titanic_df.drop('Family_No', axis=1, inplace=True)\n",
        "\n",
        "df.drop('기간', axis=1, inplace=True)"
      ],
      "execution_count": null,
      "outputs": []
    },
    {
      "cell_type": "code",
      "metadata": {
        "colab": {
          "base_uri": "https://localhost:8080/",
          "height": 195
        },
        "id": "AGRZ20PO5hMq",
        "outputId": "9ceadd20-748e-4c0e-d940-9da80fea7733"
      },
      "source": [
        "df.head()"
      ],
      "execution_count": null,
      "outputs": [
        {
          "output_type": "execute_result",
          "data": {
            "text/html": [
              "<div>\n",
              "<style scoped>\n",
              "    .dataframe tbody tr th:only-of-type {\n",
              "        vertical-align: middle;\n",
              "    }\n",
              "\n",
              "    .dataframe tbody tr th {\n",
              "        vertical-align: top;\n",
              "    }\n",
              "\n",
              "    .dataframe thead th {\n",
              "        text-align: right;\n",
              "    }\n",
              "</style>\n",
              "<table border=\"1\" class=\"dataframe\">\n",
              "  <thead>\n",
              "    <tr style=\"text-align: right;\">\n",
              "      <th></th>\n",
              "      <th>대분류</th>\n",
              "      <th>분류</th>\n",
              "      <th>운동을 할 충분한 시간이 없어서</th>\n",
              "      <th>함께 운동을 할 사람이 없어서</th>\n",
              "      <th>운동을 할 만한 장소가 없어서</th>\n",
              "      <th>운동을 싫어해서</th>\n",
              "      <th>운동을 할 충분한 비용이 없어서</th>\n",
              "      <th>기타</th>\n",
              "    </tr>\n",
              "  </thead>\n",
              "  <tbody>\n",
              "    <tr>\n",
              "      <th>0</th>\n",
              "      <td>서울시</td>\n",
              "      <td>서울시</td>\n",
              "      <td>46.8</td>\n",
              "      <td>5.0</td>\n",
              "      <td>4.3</td>\n",
              "      <td>37.3</td>\n",
              "      <td>5.2</td>\n",
              "      <td>1.4</td>\n",
              "    </tr>\n",
              "    <tr>\n",
              "      <th>1</th>\n",
              "      <td>성별</td>\n",
              "      <td>남자</td>\n",
              "      <td>52.4</td>\n",
              "      <td>4.4</td>\n",
              "      <td>4.9</td>\n",
              "      <td>32.4</td>\n",
              "      <td>4.9</td>\n",
              "      <td>1.1</td>\n",
              "    </tr>\n",
              "    <tr>\n",
              "      <th>2</th>\n",
              "      <td>성별</td>\n",
              "      <td>여자</td>\n",
              "      <td>42.5</td>\n",
              "      <td>5.6</td>\n",
              "      <td>3.9</td>\n",
              "      <td>41.0</td>\n",
              "      <td>5.4</td>\n",
              "      <td>1.7</td>\n",
              "    </tr>\n",
              "    <tr>\n",
              "      <th>3</th>\n",
              "      <td>연령별</td>\n",
              "      <td>10대</td>\n",
              "      <td>55.3</td>\n",
              "      <td>4.8</td>\n",
              "      <td>3.9</td>\n",
              "      <td>32.6</td>\n",
              "      <td>3.5</td>\n",
              "      <td>-</td>\n",
              "    </tr>\n",
              "    <tr>\n",
              "      <th>4</th>\n",
              "      <td>연령별</td>\n",
              "      <td>20대</td>\n",
              "      <td>46.0</td>\n",
              "      <td>4.2</td>\n",
              "      <td>4.5</td>\n",
              "      <td>38.8</td>\n",
              "      <td>6.4</td>\n",
              "      <td>0.1</td>\n",
              "    </tr>\n",
              "  </tbody>\n",
              "</table>\n",
              "</div>"
            ],
            "text/plain": [
              "   대분류   분류  운동을 할 충분한 시간이 없어서  ...  운동을 싫어해서  운동을 할 충분한 비용이 없어서   기타\n",
              "0  서울시  서울시               46.8  ...      37.3                5.2  1.4\n",
              "1   성별   남자               52.4  ...      32.4                4.9  1.1\n",
              "2   성별   여자               42.5  ...      41.0                5.4  1.7\n",
              "3  연령별  10대               55.3  ...      32.6                3.5    -\n",
              "4  연령별  20대               46.0  ...      38.8                6.4  0.1\n",
              "\n",
              "[5 rows x 8 columns]"
            ]
          },
          "metadata": {
            "tags": []
          },
          "execution_count": 14
        }
      ]
    },
    {
      "cell_type": "markdown",
      "metadata": {
        "id": "7JN7oCa9qrBc"
      },
      "source": [
        "## 성별 운동 기피 이유 분석"
      ]
    },
    {
      "cell_type": "code",
      "metadata": {
        "id": "biRG-Nf42AnH",
        "colab": {
          "base_uri": "https://localhost:8080/",
          "height": 106
        },
        "outputId": "5a98a252-18e1-46a8-bfed-f3859aaa8d13"
      },
      "source": [
        "# 대분류가 '성별'인 데이터를 출력하세요\n",
        "\n",
        "df [ df['대분류'] == '성별' ]   # = (대입연산자), == (논리연산자)  "
      ],
      "execution_count": null,
      "outputs": [
        {
          "output_type": "execute_result",
          "data": {
            "text/html": [
              "<div>\n",
              "<style scoped>\n",
              "    .dataframe tbody tr th:only-of-type {\n",
              "        vertical-align: middle;\n",
              "    }\n",
              "\n",
              "    .dataframe tbody tr th {\n",
              "        vertical-align: top;\n",
              "    }\n",
              "\n",
              "    .dataframe thead th {\n",
              "        text-align: right;\n",
              "    }\n",
              "</style>\n",
              "<table border=\"1\" class=\"dataframe\">\n",
              "  <thead>\n",
              "    <tr style=\"text-align: right;\">\n",
              "      <th></th>\n",
              "      <th>대분류</th>\n",
              "      <th>분류</th>\n",
              "      <th>운동을 할 충분한 시간이 없어서</th>\n",
              "      <th>함께 운동을 할 사람이 없어서</th>\n",
              "      <th>운동을 할 만한 장소가 없어서</th>\n",
              "      <th>운동을 싫어해서</th>\n",
              "      <th>운동을 할 충분한 비용이 없어서</th>\n",
              "      <th>기타</th>\n",
              "    </tr>\n",
              "  </thead>\n",
              "  <tbody>\n",
              "    <tr>\n",
              "      <th>1</th>\n",
              "      <td>성별</td>\n",
              "      <td>남자</td>\n",
              "      <td>52.4</td>\n",
              "      <td>4.4</td>\n",
              "      <td>4.9</td>\n",
              "      <td>32.4</td>\n",
              "      <td>4.9</td>\n",
              "      <td>1.1</td>\n",
              "    </tr>\n",
              "    <tr>\n",
              "      <th>2</th>\n",
              "      <td>성별</td>\n",
              "      <td>여자</td>\n",
              "      <td>42.5</td>\n",
              "      <td>5.6</td>\n",
              "      <td>3.9</td>\n",
              "      <td>41.0</td>\n",
              "      <td>5.4</td>\n",
              "      <td>1.7</td>\n",
              "    </tr>\n",
              "  </tbody>\n",
              "</table>\n",
              "</div>"
            ],
            "text/plain": [
              "  대분류  분류  운동을 할 충분한 시간이 없어서  ...  운동을 싫어해서  운동을 할 충분한 비용이 없어서   기타\n",
              "1  성별  남자               52.4  ...      32.4                4.9  1.1\n",
              "2  성별  여자               42.5  ...      41.0                5.4  1.7\n",
              "\n",
              "[2 rows x 8 columns]"
            ]
          },
          "metadata": {
            "tags": []
          },
          "execution_count": 15
        }
      ]
    },
    {
      "cell_type": "code",
      "metadata": {
        "id": "QqVMtxKL2AkJ",
        "colab": {
          "base_uri": "https://localhost:8080/",
          "height": 106
        },
        "outputId": "73f41e8b-6eee-431e-bedd-ad416a77205a"
      },
      "source": [
        "df_sex = df [ df['대분류'] == '성별' ] \n",
        "df_sex"
      ],
      "execution_count": null,
      "outputs": [
        {
          "output_type": "execute_result",
          "data": {
            "text/html": [
              "<div>\n",
              "<style scoped>\n",
              "    .dataframe tbody tr th:only-of-type {\n",
              "        vertical-align: middle;\n",
              "    }\n",
              "\n",
              "    .dataframe tbody tr th {\n",
              "        vertical-align: top;\n",
              "    }\n",
              "\n",
              "    .dataframe thead th {\n",
              "        text-align: right;\n",
              "    }\n",
              "</style>\n",
              "<table border=\"1\" class=\"dataframe\">\n",
              "  <thead>\n",
              "    <tr style=\"text-align: right;\">\n",
              "      <th></th>\n",
              "      <th>대분류</th>\n",
              "      <th>분류</th>\n",
              "      <th>운동을 할 충분한 시간이 없어서</th>\n",
              "      <th>함께 운동을 할 사람이 없어서</th>\n",
              "      <th>운동을 할 만한 장소가 없어서</th>\n",
              "      <th>운동을 싫어해서</th>\n",
              "      <th>운동을 할 충분한 비용이 없어서</th>\n",
              "      <th>기타</th>\n",
              "    </tr>\n",
              "  </thead>\n",
              "  <tbody>\n",
              "    <tr>\n",
              "      <th>1</th>\n",
              "      <td>성별</td>\n",
              "      <td>남자</td>\n",
              "      <td>52.4</td>\n",
              "      <td>4.4</td>\n",
              "      <td>4.9</td>\n",
              "      <td>32.4</td>\n",
              "      <td>4.9</td>\n",
              "      <td>1.1</td>\n",
              "    </tr>\n",
              "    <tr>\n",
              "      <th>2</th>\n",
              "      <td>성별</td>\n",
              "      <td>여자</td>\n",
              "      <td>42.5</td>\n",
              "      <td>5.6</td>\n",
              "      <td>3.9</td>\n",
              "      <td>41.0</td>\n",
              "      <td>5.4</td>\n",
              "      <td>1.7</td>\n",
              "    </tr>\n",
              "  </tbody>\n",
              "</table>\n",
              "</div>"
            ],
            "text/plain": [
              "  대분류  분류  운동을 할 충분한 시간이 없어서  ...  운동을 싫어해서  운동을 할 충분한 비용이 없어서   기타\n",
              "1  성별  남자               52.4  ...      32.4                4.9  1.1\n",
              "2  성별  여자               42.5  ...      41.0                5.4  1.7\n",
              "\n",
              "[2 rows x 8 columns]"
            ]
          },
          "metadata": {
            "tags": []
          },
          "execution_count": 16
        }
      ]
    },
    {
      "cell_type": "code",
      "metadata": {
        "id": "_evkHP_a2AhV",
        "colab": {
          "base_uri": "https://localhost:8080/",
          "height": 266
        },
        "outputId": "3d2c3854-d7ee-4622-802d-d1bafaedc23a"
      },
      "source": [
        "df_sex['운동을 할 충분한 시간이 없어서'].plot.pie()"
      ],
      "execution_count": null,
      "outputs": [
        {
          "output_type": "execute_result",
          "data": {
            "text/plain": [
              "<matplotlib.axes._subplots.AxesSubplot at 0x7fb67380bda0>"
            ]
          },
          "metadata": {
            "tags": []
          },
          "execution_count": 17
        },
        {
          "output_type": "display_data",
          "data": {
            "image/png": "[encoded data removed]",
            "text/plain": [
              "<Figure size 432x288 with 1 Axes>"
            ]
          },
          "metadata": {
            "tags": [],
            "image/png": {
              "width": 246,
              "height": 231
            }
          }
        }
      ]
    },
    {
      "cell_type": "code",
      "metadata": {
        "id": "d00-runt2AdD",
        "colab": {
          "base_uri": "https://localhost:8080/"
        },
        "outputId": "311c4e51-031b-4028-ed3a-0450c4aa3610"
      },
      "source": [
        "# 한글 font 사용하기 \n",
        "# 아래 셀을 실행-> 런타임 다시 시작 -> 한번 더 실행 -> 사용\n",
        "import matplotlib as mpl\n",
        "import matplotlib.pyplot as plt\n",
        " \n",
        "%config InlineBackend.figure_format = 'retina'\n",
        " \n",
        "!apt -qq -y install fonts-nanum\n",
        " \n",
        "import matplotlib.font_manager as fm\n",
        "fontpath = '/usr/share/fonts/truetype/nanum/NanumBarunGothic.ttf'\n",
        "font = fm.FontProperties(fname=fontpath, size=9)\n",
        "plt.rc('font', family='NanumBarunGothic') \n",
        "mpl.font_manager._rebuild()"
      ],
      "execution_count": null,
      "outputs": [
        {
          "output_type": "stream",
          "text": [
            "fonts-nanum is already the newest version (20170925-1).\n",
            "0 upgraded, 0 newly installed, 0 to remove and 15 not upgraded.\n"
          ],
          "name": "stdout"
        }
      ]
    },
    {
      "cell_type": "code",
      "metadata": {
        "colab": {
          "base_uri": "https://localhost:8080/",
          "height": 106
        },
        "id": "MJiFwXlFPpvY",
        "outputId": "8f6a51ba-0834-4708-8c81-cb583bbe4480"
      },
      "source": [
        "df_sex"
      ],
      "execution_count": null,
      "outputs": [
        {
          "output_type": "execute_result",
          "data": {
            "text/html": [
              "<div>\n",
              "<style scoped>\n",
              "    .dataframe tbody tr th:only-of-type {\n",
              "        vertical-align: middle;\n",
              "    }\n",
              "\n",
              "    .dataframe tbody tr th {\n",
              "        vertical-align: top;\n",
              "    }\n",
              "\n",
              "    .dataframe thead th {\n",
              "        text-align: right;\n",
              "    }\n",
              "</style>\n",
              "<table border=\"1\" class=\"dataframe\">\n",
              "  <thead>\n",
              "    <tr style=\"text-align: right;\">\n",
              "      <th></th>\n",
              "      <th>대분류</th>\n",
              "      <th>분류</th>\n",
              "      <th>운동을 할 충분한 시간이 없어서</th>\n",
              "      <th>함께 운동을 할 사람이 없어서</th>\n",
              "      <th>운동을 할 만한 장소가 없어서</th>\n",
              "      <th>운동을 싫어해서</th>\n",
              "      <th>운동을 할 충분한 비용이 없어서</th>\n",
              "      <th>기타</th>\n",
              "    </tr>\n",
              "  </thead>\n",
              "  <tbody>\n",
              "    <tr>\n",
              "      <th>1</th>\n",
              "      <td>성별</td>\n",
              "      <td>남자</td>\n",
              "      <td>52.4</td>\n",
              "      <td>4.4</td>\n",
              "      <td>4.9</td>\n",
              "      <td>32.4</td>\n",
              "      <td>4.9</td>\n",
              "      <td>1.1</td>\n",
              "    </tr>\n",
              "    <tr>\n",
              "      <th>2</th>\n",
              "      <td>성별</td>\n",
              "      <td>여자</td>\n",
              "      <td>42.5</td>\n",
              "      <td>5.6</td>\n",
              "      <td>3.9</td>\n",
              "      <td>41.0</td>\n",
              "      <td>5.4</td>\n",
              "      <td>1.7</td>\n",
              "    </tr>\n",
              "  </tbody>\n",
              "</table>\n",
              "</div>"
            ],
            "text/plain": [
              "  대분류  분류  운동을 할 충분한 시간이 없어서  ...  운동을 싫어해서  운동을 할 충분한 비용이 없어서   기타\n",
              "1  성별  남자               52.4  ...      32.4                4.9  1.1\n",
              "2  성별  여자               42.5  ...      41.0                5.4  1.7\n",
              "\n",
              "[2 rows x 8 columns]"
            ]
          },
          "metadata": {
            "tags": []
          },
          "execution_count": 18
        }
      ]
    },
    {
      "cell_type": "code",
      "metadata": {
        "colab": {
          "base_uri": "https://localhost:8080/",
          "height": 195
        },
        "id": "uqoL_aovPsoU",
        "outputId": "0f484b91-4859-48b9-979a-53eed06ed0a5"
      },
      "source": [
        "df.head()"
      ],
      "execution_count": null,
      "outputs": [
        {
          "output_type": "execute_result",
          "data": {
            "text/html": [
              "<div>\n",
              "<style scoped>\n",
              "    .dataframe tbody tr th:only-of-type {\n",
              "        vertical-align: middle;\n",
              "    }\n",
              "\n",
              "    .dataframe tbody tr th {\n",
              "        vertical-align: top;\n",
              "    }\n",
              "\n",
              "    .dataframe thead th {\n",
              "        text-align: right;\n",
              "    }\n",
              "</style>\n",
              "<table border=\"1\" class=\"dataframe\">\n",
              "  <thead>\n",
              "    <tr style=\"text-align: right;\">\n",
              "      <th></th>\n",
              "      <th>대분류</th>\n",
              "      <th>분류</th>\n",
              "      <th>운동을 할 충분한 시간이 없어서</th>\n",
              "      <th>함께 운동을 할 사람이 없어서</th>\n",
              "      <th>운동을 할 만한 장소가 없어서</th>\n",
              "      <th>운동을 싫어해서</th>\n",
              "      <th>운동을 할 충분한 비용이 없어서</th>\n",
              "      <th>기타</th>\n",
              "    </tr>\n",
              "  </thead>\n",
              "  <tbody>\n",
              "    <tr>\n",
              "      <th>0</th>\n",
              "      <td>서울시</td>\n",
              "      <td>서울시</td>\n",
              "      <td>46.8</td>\n",
              "      <td>5.0</td>\n",
              "      <td>4.3</td>\n",
              "      <td>37.3</td>\n",
              "      <td>5.2</td>\n",
              "      <td>1.4</td>\n",
              "    </tr>\n",
              "    <tr>\n",
              "      <th>1</th>\n",
              "      <td>성별</td>\n",
              "      <td>남자</td>\n",
              "      <td>52.4</td>\n",
              "      <td>4.4</td>\n",
              "      <td>4.9</td>\n",
              "      <td>32.4</td>\n",
              "      <td>4.9</td>\n",
              "      <td>1.1</td>\n",
              "    </tr>\n",
              "    <tr>\n",
              "      <th>2</th>\n",
              "      <td>성별</td>\n",
              "      <td>여자</td>\n",
              "      <td>42.5</td>\n",
              "      <td>5.6</td>\n",
              "      <td>3.9</td>\n",
              "      <td>41.0</td>\n",
              "      <td>5.4</td>\n",
              "      <td>1.7</td>\n",
              "    </tr>\n",
              "    <tr>\n",
              "      <th>3</th>\n",
              "      <td>연령별</td>\n",
              "      <td>10대</td>\n",
              "      <td>55.3</td>\n",
              "      <td>4.8</td>\n",
              "      <td>3.9</td>\n",
              "      <td>32.6</td>\n",
              "      <td>3.5</td>\n",
              "      <td>-</td>\n",
              "    </tr>\n",
              "    <tr>\n",
              "      <th>4</th>\n",
              "      <td>연령별</td>\n",
              "      <td>20대</td>\n",
              "      <td>46.0</td>\n",
              "      <td>4.2</td>\n",
              "      <td>4.5</td>\n",
              "      <td>38.8</td>\n",
              "      <td>6.4</td>\n",
              "      <td>0.1</td>\n",
              "    </tr>\n",
              "  </tbody>\n",
              "</table>\n",
              "</div>"
            ],
            "text/plain": [
              "   대분류   분류  운동을 할 충분한 시간이 없어서  ...  운동을 싫어해서  운동을 할 충분한 비용이 없어서   기타\n",
              "0  서울시  서울시               46.8  ...      37.3                5.2  1.4\n",
              "1   성별   남자               52.4  ...      32.4                4.9  1.1\n",
              "2   성별   여자               42.5  ...      41.0                5.4  1.7\n",
              "3  연령별  10대               55.3  ...      32.6                3.5    -\n",
              "4  연령별  20대               46.0  ...      38.8                6.4  0.1\n",
              "\n",
              "[5 rows x 8 columns]"
            ]
          },
          "metadata": {
            "tags": []
          },
          "execution_count": 19
        }
      ]
    },
    {
      "cell_type": "code",
      "metadata": {
        "colab": {
          "base_uri": "https://localhost:8080/",
          "height": 194
        },
        "id": "EOi0Z-hMPfSW",
        "outputId": "9ea4531a-2ff2-4614-81ae-e9b0a8c72e31"
      },
      "source": [
        "df_sex.drop(columns='대분류', inplace=True)\n",
        "df_sex"
      ],
      "execution_count": null,
      "outputs": [
        {
          "output_type": "stream",
          "text": [
            "/usr/local/lib/python3.6/dist-packages/pandas/core/frame.py:4174: SettingWithCopyWarning: \n",
            "A value is trying to be set on a copy of a slice from a DataFrame\n",
            "\n",
            "See the caveats in the documentation: https://pandas.pydata.org/pandas-docs/stable/user_guide/indexing.html#returning-a-view-versus-a-copy\n",
            "  errors=errors,\n"
          ],
          "name": "stderr"
        },
        {
          "output_type": "execute_result",
          "data": {
            "text/html": [
              "<div>\n",
              "<style scoped>\n",
              "    .dataframe tbody tr th:only-of-type {\n",
              "        vertical-align: middle;\n",
              "    }\n",
              "\n",
              "    .dataframe tbody tr th {\n",
              "        vertical-align: top;\n",
              "    }\n",
              "\n",
              "    .dataframe thead th {\n",
              "        text-align: right;\n",
              "    }\n",
              "</style>\n",
              "<table border=\"1\" class=\"dataframe\">\n",
              "  <thead>\n",
              "    <tr style=\"text-align: right;\">\n",
              "      <th></th>\n",
              "      <th>분류</th>\n",
              "      <th>운동을 할 충분한 시간이 없어서</th>\n",
              "      <th>함께 운동을 할 사람이 없어서</th>\n",
              "      <th>운동을 할 만한 장소가 없어서</th>\n",
              "      <th>운동을 싫어해서</th>\n",
              "      <th>운동을 할 충분한 비용이 없어서</th>\n",
              "      <th>기타</th>\n",
              "    </tr>\n",
              "  </thead>\n",
              "  <tbody>\n",
              "    <tr>\n",
              "      <th>1</th>\n",
              "      <td>남자</td>\n",
              "      <td>52.4</td>\n",
              "      <td>4.4</td>\n",
              "      <td>4.9</td>\n",
              "      <td>32.4</td>\n",
              "      <td>4.9</td>\n",
              "      <td>1.1</td>\n",
              "    </tr>\n",
              "    <tr>\n",
              "      <th>2</th>\n",
              "      <td>여자</td>\n",
              "      <td>42.5</td>\n",
              "      <td>5.6</td>\n",
              "      <td>3.9</td>\n",
              "      <td>41.0</td>\n",
              "      <td>5.4</td>\n",
              "      <td>1.7</td>\n",
              "    </tr>\n",
              "  </tbody>\n",
              "</table>\n",
              "</div>"
            ],
            "text/plain": [
              "   분류  운동을 할 충분한 시간이 없어서  함께 운동을 할 사람이 없어서  ...  운동을 싫어해서  운동을 할 충분한 비용이 없어서   기타\n",
              "1  남자               52.4               4.4  ...      32.4                4.9  1.1\n",
              "2  여자               42.5               5.6  ...      41.0                5.4  1.7\n",
              "\n",
              "[2 rows x 7 columns]"
            ]
          },
          "metadata": {
            "tags": []
          },
          "execution_count": 20
        }
      ]
    },
    {
      "cell_type": "code",
      "metadata": {
        "colab": {
          "base_uri": "https://localhost:8080/",
          "height": 195
        },
        "id": "-tPQjC8NPfPm",
        "outputId": "9d9f48e2-f04c-462f-c85a-17d51bc3d792"
      },
      "source": [
        "df.head()"
      ],
      "execution_count": null,
      "outputs": [
        {
          "output_type": "execute_result",
          "data": {
            "text/html": [
              "<div>\n",
              "<style scoped>\n",
              "    .dataframe tbody tr th:only-of-type {\n",
              "        vertical-align: middle;\n",
              "    }\n",
              "\n",
              "    .dataframe tbody tr th {\n",
              "        vertical-align: top;\n",
              "    }\n",
              "\n",
              "    .dataframe thead th {\n",
              "        text-align: right;\n",
              "    }\n",
              "</style>\n",
              "<table border=\"1\" class=\"dataframe\">\n",
              "  <thead>\n",
              "    <tr style=\"text-align: right;\">\n",
              "      <th></th>\n",
              "      <th>대분류</th>\n",
              "      <th>분류</th>\n",
              "      <th>운동을 할 충분한 시간이 없어서</th>\n",
              "      <th>함께 운동을 할 사람이 없어서</th>\n",
              "      <th>운동을 할 만한 장소가 없어서</th>\n",
              "      <th>운동을 싫어해서</th>\n",
              "      <th>운동을 할 충분한 비용이 없어서</th>\n",
              "      <th>기타</th>\n",
              "    </tr>\n",
              "  </thead>\n",
              "  <tbody>\n",
              "    <tr>\n",
              "      <th>0</th>\n",
              "      <td>서울시</td>\n",
              "      <td>서울시</td>\n",
              "      <td>46.8</td>\n",
              "      <td>5.0</td>\n",
              "      <td>4.3</td>\n",
              "      <td>37.3</td>\n",
              "      <td>5.2</td>\n",
              "      <td>1.4</td>\n",
              "    </tr>\n",
              "    <tr>\n",
              "      <th>1</th>\n",
              "      <td>성별</td>\n",
              "      <td>남자</td>\n",
              "      <td>52.4</td>\n",
              "      <td>4.4</td>\n",
              "      <td>4.9</td>\n",
              "      <td>32.4</td>\n",
              "      <td>4.9</td>\n",
              "      <td>1.1</td>\n",
              "    </tr>\n",
              "    <tr>\n",
              "      <th>2</th>\n",
              "      <td>성별</td>\n",
              "      <td>여자</td>\n",
              "      <td>42.5</td>\n",
              "      <td>5.6</td>\n",
              "      <td>3.9</td>\n",
              "      <td>41.0</td>\n",
              "      <td>5.4</td>\n",
              "      <td>1.7</td>\n",
              "    </tr>\n",
              "    <tr>\n",
              "      <th>3</th>\n",
              "      <td>연령별</td>\n",
              "      <td>10대</td>\n",
              "      <td>55.3</td>\n",
              "      <td>4.8</td>\n",
              "      <td>3.9</td>\n",
              "      <td>32.6</td>\n",
              "      <td>3.5</td>\n",
              "      <td>-</td>\n",
              "    </tr>\n",
              "    <tr>\n",
              "      <th>4</th>\n",
              "      <td>연령별</td>\n",
              "      <td>20대</td>\n",
              "      <td>46.0</td>\n",
              "      <td>4.2</td>\n",
              "      <td>4.5</td>\n",
              "      <td>38.8</td>\n",
              "      <td>6.4</td>\n",
              "      <td>0.1</td>\n",
              "    </tr>\n",
              "  </tbody>\n",
              "</table>\n",
              "</div>"
            ],
            "text/plain": [
              "   대분류   분류  운동을 할 충분한 시간이 없어서  ...  운동을 싫어해서  운동을 할 충분한 비용이 없어서   기타\n",
              "0  서울시  서울시               46.8  ...      37.3                5.2  1.4\n",
              "1   성별   남자               52.4  ...      32.4                4.9  1.1\n",
              "2   성별   여자               42.5  ...      41.0                5.4  1.7\n",
              "3  연령별  10대               55.3  ...      32.6                3.5    -\n",
              "4  연령별  20대               46.0  ...      38.8                6.4  0.1\n",
              "\n",
              "[5 rows x 8 columns]"
            ]
          },
          "metadata": {
            "tags": []
          },
          "execution_count": 22
        }
      ]
    },
    {
      "cell_type": "code",
      "metadata": {
        "colab": {
          "base_uri": "https://localhost:8080/",
          "height": 106
        },
        "id": "YDkJ6n_zPfMI",
        "outputId": "fcc06d67-42c3-42ee-c35c-40a350590017"
      },
      "source": [
        "df_sex = df [ df['대분류'] == '성별' ].copy()\n",
        "df_sex.drop(columns='대분류', inplace=True)\n",
        "df_sex"
      ],
      "execution_count": null,
      "outputs": [
        {
          "output_type": "execute_result",
          "data": {
            "text/html": [
              "<div>\n",
              "<style scoped>\n",
              "    .dataframe tbody tr th:only-of-type {\n",
              "        vertical-align: middle;\n",
              "    }\n",
              "\n",
              "    .dataframe tbody tr th {\n",
              "        vertical-align: top;\n",
              "    }\n",
              "\n",
              "    .dataframe thead th {\n",
              "        text-align: right;\n",
              "    }\n",
              "</style>\n",
              "<table border=\"1\" class=\"dataframe\">\n",
              "  <thead>\n",
              "    <tr style=\"text-align: right;\">\n",
              "      <th></th>\n",
              "      <th>분류</th>\n",
              "      <th>운동을 할 충분한 시간이 없어서</th>\n",
              "      <th>함께 운동을 할 사람이 없어서</th>\n",
              "      <th>운동을 할 만한 장소가 없어서</th>\n",
              "      <th>운동을 싫어해서</th>\n",
              "      <th>운동을 할 충분한 비용이 없어서</th>\n",
              "      <th>기타</th>\n",
              "    </tr>\n",
              "  </thead>\n",
              "  <tbody>\n",
              "    <tr>\n",
              "      <th>1</th>\n",
              "      <td>남자</td>\n",
              "      <td>52.4</td>\n",
              "      <td>4.4</td>\n",
              "      <td>4.9</td>\n",
              "      <td>32.4</td>\n",
              "      <td>4.9</td>\n",
              "      <td>1.1</td>\n",
              "    </tr>\n",
              "    <tr>\n",
              "      <th>2</th>\n",
              "      <td>여자</td>\n",
              "      <td>42.5</td>\n",
              "      <td>5.6</td>\n",
              "      <td>3.9</td>\n",
              "      <td>41.0</td>\n",
              "      <td>5.4</td>\n",
              "      <td>1.7</td>\n",
              "    </tr>\n",
              "  </tbody>\n",
              "</table>\n",
              "</div>"
            ],
            "text/plain": [
              "   분류  운동을 할 충분한 시간이 없어서  함께 운동을 할 사람이 없어서  ...  운동을 싫어해서  운동을 할 충분한 비용이 없어서   기타\n",
              "1  남자               52.4               4.4  ...      32.4                4.9  1.1\n",
              "2  여자               42.5               5.6  ...      41.0                5.4  1.7\n",
              "\n",
              "[2 rows x 7 columns]"
            ]
          },
          "metadata": {
            "tags": []
          },
          "execution_count": 24
        }
      ]
    },
    {
      "cell_type": "code",
      "metadata": {
        "colab": {
          "base_uri": "https://localhost:8080/",
          "height": 136
        },
        "id": "NGF8wQ2dPeqx",
        "outputId": "e002d20a-b6c9-4ac0-ebcb-c828bd020b98"
      },
      "source": [
        "# 분류를 인덱스로\n",
        "df_sex.set_index('분류', inplace=True)\n",
        "df_sex"
      ],
      "execution_count": null,
      "outputs": [
        {
          "output_type": "execute_result",
          "data": {
            "text/html": [
              "<div>\n",
              "<style scoped>\n",
              "    .dataframe tbody tr th:only-of-type {\n",
              "        vertical-align: middle;\n",
              "    }\n",
              "\n",
              "    .dataframe tbody tr th {\n",
              "        vertical-align: top;\n",
              "    }\n",
              "\n",
              "    .dataframe thead th {\n",
              "        text-align: right;\n",
              "    }\n",
              "</style>\n",
              "<table border=\"1\" class=\"dataframe\">\n",
              "  <thead>\n",
              "    <tr style=\"text-align: right;\">\n",
              "      <th></th>\n",
              "      <th>운동을 할 충분한 시간이 없어서</th>\n",
              "      <th>함께 운동을 할 사람이 없어서</th>\n",
              "      <th>운동을 할 만한 장소가 없어서</th>\n",
              "      <th>운동을 싫어해서</th>\n",
              "      <th>운동을 할 충분한 비용이 없어서</th>\n",
              "      <th>기타</th>\n",
              "    </tr>\n",
              "    <tr>\n",
              "      <th>분류</th>\n",
              "      <th></th>\n",
              "      <th></th>\n",
              "      <th></th>\n",
              "      <th></th>\n",
              "      <th></th>\n",
              "      <th></th>\n",
              "    </tr>\n",
              "  </thead>\n",
              "  <tbody>\n",
              "    <tr>\n",
              "      <th>남자</th>\n",
              "      <td>52.4</td>\n",
              "      <td>4.4</td>\n",
              "      <td>4.9</td>\n",
              "      <td>32.4</td>\n",
              "      <td>4.9</td>\n",
              "      <td>1.1</td>\n",
              "    </tr>\n",
              "    <tr>\n",
              "      <th>여자</th>\n",
              "      <td>42.5</td>\n",
              "      <td>5.6</td>\n",
              "      <td>3.9</td>\n",
              "      <td>41.0</td>\n",
              "      <td>5.4</td>\n",
              "      <td>1.7</td>\n",
              "    </tr>\n",
              "  </tbody>\n",
              "</table>\n",
              "</div>"
            ],
            "text/plain": [
              "    운동을 할 충분한 시간이 없어서  함께 운동을 할 사람이 없어서  ...  운동을 할 충분한 비용이 없어서   기타\n",
              "분류                                       ...                        \n",
              "남자               52.4               4.4  ...                4.9  1.1\n",
              "여자               42.5               5.6  ...                5.4  1.7\n",
              "\n",
              "[2 rows x 6 columns]"
            ]
          },
          "metadata": {
            "tags": []
          },
          "execution_count": 25
        }
      ]
    },
    {
      "cell_type": "code",
      "metadata": {
        "colab": {
          "base_uri": "https://localhost:8080/",
          "height": 306
        },
        "id": "cNIEHvG3QoPg",
        "outputId": "cb505fb7-1757-4f6a-b739-b922a27a43c5"
      },
      "source": [
        "df_sex.plot.bar()"
      ],
      "execution_count": null,
      "outputs": [
        {
          "output_type": "execute_result",
          "data": {
            "text/plain": [
              "<matplotlib.axes._subplots.AxesSubplot at 0x7fb6728be198>"
            ]
          },
          "metadata": {
            "tags": []
          },
          "execution_count": 26
        },
        {
          "output_type": "display_data",
          "data": {
            "image/png": "[encoded data removed]",
            "text/plain": [
              "<Figure size 432x288 with 1 Axes>"
            ]
          },
          "metadata": {
            "tags": [],
            "image/png": {
              "width": 367,
              "height": 271
            },
            "needs_background": "light"
          }
        }
      ]
    },
    {
      "cell_type": "code",
      "metadata": {
        "colab": {
          "base_uri": "https://localhost:8080/",
          "height": 361
        },
        "id": "GnTWhZz2QoMm",
        "outputId": "37b8761f-e462-4420-80f7-31cee59d5399"
      },
      "source": [
        "# stack barchart \n",
        "\n",
        "df_sex.plot.bar(stacked=True, figsize=(10,5))"
      ],
      "execution_count": null,
      "outputs": [
        {
          "output_type": "execute_result",
          "data": {
            "text/plain": [
              "<matplotlib.axes._subplots.AxesSubplot at 0x7fb672821da0>"
            ]
          },
          "metadata": {
            "tags": []
          },
          "execution_count": 27
        },
        {
          "output_type": "display_data",
          "data": {
            "image/png": "[encoded data removed]",
            "text/plain": [
              "<Figure size 720x360 with 1 Axes>"
            ]
          },
          "metadata": {
            "tags": [],
            "image/png": {
              "width": 596,
              "height": 326
            },
            "needs_background": "light"
          }
        }
      ]
    },
    {
      "cell_type": "code",
      "metadata": {
        "colab": {
          "base_uri": "https://localhost:8080/",
          "height": 353
        },
        "id": "eD_1QUXNQoJU",
        "outputId": "1c719a8c-b503-4d14-a3b9-3308cf6f7c13"
      },
      "source": [
        "import matplotlib.pyplot as plt\n",
        "\n",
        "f, ax = plt.subplots(1,2, figsize=(12,6))\n",
        "df_sex['운동을 할 충분한 시간이 없어서'].plot.pie(autopct='%1.1f%%', ax=ax[0])\n",
        "df_sex['함께 운동을 할 사람이 없어서'].plot.pie(autopct='%1.1f%%', ax=ax[1])"
      ],
      "execution_count": null,
      "outputs": [
        {
          "output_type": "execute_result",
          "data": {
            "text/plain": [
              "<matplotlib.axes._subplots.AxesSubplot at 0x7fb67263ae80>"
            ]
          },
          "metadata": {
            "tags": []
          },
          "execution_count": 29
        },
        {
          "output_type": "display_data",
          "data": {
            "image/png": "[encoded data removed]",
            "text/plain": [
              "<Figure size 864x432 with 2 Axes>"
            ]
          },
          "metadata": {
            "tags": [],
            "image/png": {
              "width": 698,
              "height": 318
            }
          }
        }
      ]
    },
    {
      "cell_type": "markdown",
      "metadata": {
        "id": "DysB75iLnetL"
      },
      "source": [
        "## 연령별 운동 기피 이유"
      ]
    },
    {
      "cell_type": "code",
      "metadata": {
        "id": "1E9a24yz2Cnj",
        "colab": {
          "base_uri": "https://localhost:8080/",
          "height": 106
        },
        "outputId": "45f1a15d-c3f6-49e4-da26-604cd5cfa733"
      },
      "source": [
        "# 22분에 같이 하겠습니다.\n",
        "df_age = df [ df['대분류'] == '연령별' ].copy()\n",
        "df_age.drop(columns='대분류', inplace=True)\n",
        "df_age.set_index('분류', inplace=True)\n",
        "df_age.head(1)"
      ],
      "execution_count": null,
      "outputs": [
        {
          "output_type": "execute_result",
          "data": {
            "text/html": [
              "<div>\n",
              "<style scoped>\n",
              "    .dataframe tbody tr th:only-of-type {\n",
              "        vertical-align: middle;\n",
              "    }\n",
              "\n",
              "    .dataframe tbody tr th {\n",
              "        vertical-align: top;\n",
              "    }\n",
              "\n",
              "    .dataframe thead th {\n",
              "        text-align: right;\n",
              "    }\n",
              "</style>\n",
              "<table border=\"1\" class=\"dataframe\">\n",
              "  <thead>\n",
              "    <tr style=\"text-align: right;\">\n",
              "      <th></th>\n",
              "      <th>운동을 할 충분한 시간이 없어서</th>\n",
              "      <th>함께 운동을 할 사람이 없어서</th>\n",
              "      <th>운동을 할 만한 장소가 없어서</th>\n",
              "      <th>운동을 싫어해서</th>\n",
              "      <th>운동을 할 충분한 비용이 없어서</th>\n",
              "      <th>기타</th>\n",
              "    </tr>\n",
              "    <tr>\n",
              "      <th>분류</th>\n",
              "      <th></th>\n",
              "      <th></th>\n",
              "      <th></th>\n",
              "      <th></th>\n",
              "      <th></th>\n",
              "      <th></th>\n",
              "    </tr>\n",
              "  </thead>\n",
              "  <tbody>\n",
              "    <tr>\n",
              "      <th>10대</th>\n",
              "      <td>55.3</td>\n",
              "      <td>4.8</td>\n",
              "      <td>3.9</td>\n",
              "      <td>32.6</td>\n",
              "      <td>3.5</td>\n",
              "      <td>-</td>\n",
              "    </tr>\n",
              "  </tbody>\n",
              "</table>\n",
              "</div>"
            ],
            "text/plain": [
              "     운동을 할 충분한 시간이 없어서  함께 운동을 할 사람이 없어서  ...  운동을 할 충분한 비용이 없어서  기타\n",
              "분류                                        ...                       \n",
              "10대               55.3               4.8  ...                3.5   -\n",
              "\n",
              "[1 rows x 6 columns]"
            ]
          },
          "metadata": {
            "tags": []
          },
          "execution_count": 34
        }
      ]
    },
    {
      "cell_type": "code",
      "metadata": {
        "id": "P9W1hdxE2Ckx",
        "colab": {
          "base_uri": "https://localhost:8080/",
          "height": 382
        },
        "outputId": "f1527349-1846-454a-fe7e-127a25049f98"
      },
      "source": [
        "df_age.plot.bar(stacked=True, figsize=(10,5))"
      ],
      "execution_count": null,
      "outputs": [
        {
          "output_type": "execute_result",
          "data": {
            "text/plain": [
              "<matplotlib.axes._subplots.AxesSubplot at 0x7fb6726aaac8>"
            ]
          },
          "metadata": {
            "tags": []
          },
          "execution_count": 32
        },
        {
          "output_type": "display_data",
          "data": {
            "image/png": "[encoded data removed]",
            "text/plain": [
              "<Figure size 720x360 with 1 Axes>"
            ]
          },
          "metadata": {
            "tags": [],
            "image/png": {
              "width": 596,
              "height": 348
            },
            "needs_background": "light"
          }
        }
      ]
    },
    {
      "cell_type": "code",
      "metadata": {
        "id": "d0FUooXQ2Chd",
        "colab": {
          "base_uri": "https://localhost:8080/",
          "height": 310
        },
        "outputId": "37752247-0f5e-4757-cf8c-f4c6afc031c2"
      },
      "source": [
        "f, ax = plt.subplots(1,3, figsize=(16,8))\n",
        "df_age['운동을 할 충분한 시간이 없어서'].plot.pie(autopct='%1.1f%%', ax=ax[0])\n",
        "df_age['함께 운동을 할 사람이 없어서'].plot.pie(autopct='%1.1f%%', ax=ax[1])\t\n",
        "df_age['운동을 할 만한 장소가 없어서'].plot.pie(autopct='%1.1f%%', ax=ax[2])"
      ],
      "execution_count": null,
      "outputs": [
        {
          "output_type": "execute_result",
          "data": {
            "text/plain": [
              "<matplotlib.axes._subplots.AxesSubplot at 0x7fb6727fc128>"
            ]
          },
          "metadata": {
            "tags": []
          },
          "execution_count": 33
        },
        {
          "output_type": "display_data",
          "data": {
            "image/png": "[encoded data removed]",
            "text/plain": [
              "<Figure size 1152x576 with 3 Axes>"
            ]
          },
          "metadata": {
            "tags": [],
            "image/png": {
              "width": 922,
              "height": 276
            }
          }
        }
      ]
    },
    {
      "cell_type": "code",
      "metadata": {
        "id": "72O2QaBI2Ced"
      },
      "source": [
        ""
      ],
      "execution_count": null,
      "outputs": []
    },
    {
      "cell_type": "markdown",
      "metadata": {
        "id": "2Ch2OAnHpPA0"
      },
      "source": [
        "## 소득별 운동기피 이유"
      ]
    },
    {
      "cell_type": "code",
      "metadata": {
        "id": "9KEh6Ciu2EE9",
        "colab": {
          "base_uri": "https://localhost:8080/"
        },
        "outputId": "4d0dbd5d-3e8f-40b3-b67d-427df6088164"
      },
      "source": [
        "a = 1\n",
        "id(a)"
      ],
      "execution_count": null,
      "outputs": [
        {
          "output_type": "execute_result",
          "data": {
            "text/plain": [
              "10914496"
            ]
          },
          "metadata": {
            "tags": []
          },
          "execution_count": 35
        }
      ]
    },
    {
      "cell_type": "code",
      "metadata": {
        "id": "4tyoluRL2EBq"
      },
      "source": [
        ""
      ],
      "execution_count": null,
      "outputs": []
    },
    {
      "cell_type": "code",
      "metadata": {
        "id": "XMNvNuoz2D-d"
      },
      "source": [
        ""
      ],
      "execution_count": null,
      "outputs": []
    },
    {
      "cell_type": "code",
      "metadata": {
        "id": "Ac6UpVaD2D7l"
      },
      "source": [
        ""
      ],
      "execution_count": null,
      "outputs": []
    }
  ]
}