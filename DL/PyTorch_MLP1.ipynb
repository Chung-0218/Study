{
 "cells": [
  {
   "cell_type": "code",
   "execution_count": 1,
   "id": "1526d25f",
   "metadata": {},
   "outputs": [],
   "source": [
    "import torch\n",
    "from torch import nn\n",
    "from torch.utils.data import DataLoader\n",
    "from torchvision import datasets, transforms\n",
    "import os"
   ]
  },
  {
   "cell_type": "code",
   "execution_count": 2,
   "id": "06409772",
   "metadata": {},
   "outputs": [],
   "source": [
    "class NeuralNet(nn.Module):\n",
    "    def __init__(self, imput_size, hidden_size, num_classes):\n",
    "        super(NeuralNet, self).__init__()\n",
    "        self.mlp1 = nn.Linear(input_size, hidden_size)\n",
    "        self.relu = nn.ReLU()\n",
    "        self.mlp2 = nn.Linear(hidden_size, num_classes)\n",
    "        self.softmax = nn.Softmax(dim=1)\n",
    "        \n",
    "    def forward(self, x):\n",
    "        out = self.mlp1(x)\n",
    "        out = self.relu(out)\n",
    "        out = self.mlp2(out)\n",
    "        out = self.softmax(out)\n",
    "        return out"
   ]
  },
  {
   "cell_type": "code",
   "execution_count": 3,
   "id": "59b577de",
   "metadata": {},
   "outputs": [
    {
     "name": "stdout",
     "output_type": "stream",
     "text": [
      "cuda\n"
     ]
    }
   ],
   "source": [
    "device = torch.device('cuda' if torch.cuda.is_available() else 'cpu')\n",
    "print(device)"
   ]
  },
  {
   "cell_type": "code",
   "execution_count": 4,
   "id": "1db59b7d",
   "metadata": {},
   "outputs": [
    {
     "name": "stdout",
     "output_type": "stream",
     "text": [
      "NeuralNet(\n",
      "  (mlp1): Linear(in_features=784, out_features=100, bias=True)\n",
      "  (relu): ReLU()\n",
      "  (mlp2): Linear(in_features=100, out_features=10, bias=True)\n",
      "  (softmax): Softmax(dim=1)\n",
      ")\n"
     ]
    }
   ],
   "source": [
    "input_size = 28*28*1 # MNIST 이미지 크기\n",
    "hidden_size = 100 # hyper parameter\n",
    "num_classes = 10 # 총 class 수\n",
    "\n",
    "model = NeuralNet(input_size, hidden_size, num_classes).to(device)\n",
    "print(model)"
   ]
  },
  {
   "cell_type": "code",
   "execution_count": 5,
   "id": "84fb624c",
   "metadata": {},
   "outputs": [
    {
     "name": "stdout",
     "output_type": "stream",
     "text": [
      "data: torch.Size([1, 784])\n",
      "----------------------------------------\n",
      "pred: tensor([[0.1018, 0.1008, 0.0953, 0.1222, 0.1029, 0.0941, 0.1039, 0.0948, 0.0991,\n",
      "         0.0850]], device='cuda:0', grad_fn=<SoftmaxBackward>)\n",
      "----------------------------------------\n",
      "y hat: tensor([3], device='cuda:0')\n"
     ]
    }
   ],
   "source": [
    "data = torch.rand(1, 28*28).to(device)\n",
    "print('data:',data.shape)\n",
    "print('-'*40)\n",
    "\n",
    "pred = model(data)\n",
    "print('pred:',pred)\n",
    "print('-'*40)\n",
    "\n",
    "y_hat = pred.argmax(1)\n",
    "print('y hat:',y_hat)"
   ]
  },
  {
   "cell_type": "code",
   "execution_count": 6,
   "id": "41a921b9",
   "metadata": {},
   "outputs": [],
   "source": [
    "# nn.Linear"
   ]
  },
  {
   "cell_type": "code",
   "execution_count": 7,
   "id": "f044e410",
   "metadata": {},
   "outputs": [],
   "source": [
    "x = torch.randn(3,28,28)"
   ]
  },
  {
   "cell_type": "code",
   "execution_count": 9,
   "id": "bc887584",
   "metadata": {},
   "outputs": [
    {
     "name": "stdout",
     "output_type": "stream",
     "text": [
      "x_after_fc: torch.Size([3, 100])\n"
     ]
    }
   ],
   "source": [
    "fc_layer = nn.Linear(in_features=28*28, out_features=100)\n",
    "x_after_fc = fc_layer(x.reshape(-1,28*28))\n",
    "print('x_after_fc:', x_after_fc.shape)"
   ]
  },
  {
   "cell_type": "code",
   "execution_count": 10,
   "id": "5eaada87",
   "metadata": {},
   "outputs": [
    {
     "name": "stdout",
     "output_type": "stream",
     "text": [
      "torch.Size([3, 784])\n",
      "x_after_fc: torch.Size([3, 100])\n"
     ]
    }
   ],
   "source": [
    "# nn.Flatten : x.reshape(-1,28*28)과 같은 역할\n",
    "# 28x28 사이즈의 이미지를 784 픽셀 값을 갖는 배열로 변환\n",
    "\n",
    "flatten = nn.Flatten()\n",
    "flat_x = flatten(x)\n",
    "print(flat_x.shape)\n",
    "\n",
    "fc_layer = nn.Linear(in_features=28*28, out_features=100)\n",
    "x_after_fc = fc_layer(flat_x)\n",
    "print('x_after_fc:',x_after_fc.shape)"
   ]
  },
  {
   "cell_type": "code",
   "execution_count": 11,
   "id": "9af510a7",
   "metadata": {},
   "outputs": [],
   "source": [
    "# nn.ReLU"
   ]
  },
  {
   "cell_type": "code",
   "execution_count": 12,
   "id": "6d9f1b16",
   "metadata": {},
   "outputs": [],
   "source": [
    "x = torch.randn(3,28,28)"
   ]
  },
  {
   "cell_type": "code",
   "execution_count": 13,
   "id": "335fdf86",
   "metadata": {},
   "outputs": [
    {
     "name": "stdout",
     "output_type": "stream",
     "text": [
      "before_relu : tensor([ 1.0762,  1.0605,  0.5289, -0.2430,  0.6760, -0.4117,  1.4646,  0.2808,\n",
      "        -0.0556, -0.3208, -0.6255,  0.9242, -0.3217,  1.2861, -0.7956, -0.5813,\n",
      "         0.2247,  1.5804,  1.0169, -0.9847,  1.4194,  0.8921, -0.2222, -0.6769,\n",
      "         1.2187, -0.1703, -1.1179, -0.2729]) torch.Size([28])\n",
      "----------------------------------------------------------------------\n",
      "after_relu : tensor([1.0762, 1.0605, 0.5289, 0.0000, 0.6760, 0.0000, 1.4646, 0.2808, 0.0000,\n",
      "        0.0000, 0.0000, 0.9242, 0.0000, 1.2861, 0.0000, 0.0000, 0.2247, 1.5804,\n",
      "        1.0169, 0.0000, 1.4194, 0.8921, 0.0000, 0.0000, 1.2187, 0.0000, 0.0000,\n",
      "        0.0000]) torch.Size([28])\n"
     ]
    }
   ],
   "source": [
    "before_relu = x[0][0]\n",
    "print('before_relu :', before_relu, before_relu.shape)\n",
    "print('-'*70)\n",
    "\n",
    "relu = nn.ReLU()\n",
    "after_relu = relu(before_relu)\n",
    "print('after_relu :', after_relu, after_relu.shape)"
   ]
  },
  {
   "cell_type": "code",
   "execution_count": 14,
   "id": "854a7b10",
   "metadata": {},
   "outputs": [],
   "source": [
    "# Softmax"
   ]
  },
  {
   "cell_type": "code",
   "execution_count": 15,
   "id": "c868ab29",
   "metadata": {},
   "outputs": [
    {
     "data": {
      "text/plain": [
       "tensor([[ 2.2935,  1.5228, -0.8623,  0.1236, -0.3815,  0.4034,  0.6904, -0.0110,\n",
       "          0.2465,  1.0305]])"
      ]
     },
     "execution_count": 15,
     "metadata": {},
     "output_type": "execute_result"
    }
   ],
   "source": [
    "x = torch.randn(1,10)\n",
    "x"
   ]
  },
  {
   "cell_type": "code",
   "execution_count": 16,
   "id": "24f44e9b",
   "metadata": {},
   "outputs": [],
   "source": [
    "softmax = nn.Softmax(dim=1)"
   ]
  },
  {
   "cell_type": "code",
   "execution_count": 17,
   "id": "bf21af78",
   "metadata": {},
   "outputs": [
    {
     "name": "stdout",
     "output_type": "stream",
     "text": [
      "pred: tensor([[0.3918, 0.1813, 0.0167, 0.0447, 0.0270, 0.0592, 0.0789, 0.0391, 0.0506,\n",
      "         0.1108]])\n",
      "sum of pred: tensor(1.0000)\n"
     ]
    }
   ],
   "source": [
    "pred = softmax(x)\n",
    "print('pred:', pred)\n",
    "print('sum of pred:',pred.sum())"
   ]
  },
  {
   "cell_type": "code",
   "execution_count": 18,
   "id": "93f5d2e3",
   "metadata": {},
   "outputs": [],
   "source": [
    "# nn.Sequential"
   ]
  },
  {
   "cell_type": "code",
   "execution_count": 19,
   "id": "a01578f1",
   "metadata": {},
   "outputs": [],
   "source": [
    "class NeuralNet(nn.Module):\n",
    "    def __init__(self, input_size, hidden_size, num_classes):\n",
    "        super(NeuralNet, self).__init__()\n",
    "        self.mlp1 = nn.Linear(input_size, hidden_size) \n",
    "        self.relu = nn.ReLU()\n",
    "        self.mlp2 = nn.Linear(hidden_size, num_classes)  \n",
    "        self.softmax = nn.Softmax(dim=1)\n",
    "    def forward(self, x):\n",
    "        out = self.mlp1(x)\n",
    "        out = self.relu(out)\n",
    "        out = self.mlp2(out)\n",
    "        out = self.softmax(out)\n",
    "        return out"
   ]
  },
  {
   "cell_type": "code",
   "execution_count": 20,
   "id": "07f1cd17",
   "metadata": {},
   "outputs": [
    {
     "name": "stdout",
     "output_type": "stream",
     "text": [
      "NeuralNet(\n",
      "  (mlp1): Linear(in_features=784, out_features=100, bias=True)\n",
      "  (relu): ReLU()\n",
      "  (mlp2): Linear(in_features=100, out_features=10, bias=True)\n",
      "  (softmax): Softmax(dim=1)\n",
      ")\n"
     ]
    }
   ],
   "source": [
    "input_size = 28*28*1 # MNIST 이미지 크기\n",
    "hidden_size = 100 # hyper parameter\n",
    "num_classes = 10 # 총 class 수\n",
    "\n",
    "model = NeuralNet(input_size, hidden_size, num_classes).to(device)\n",
    "print(model)"
   ]
  },
  {
   "cell_type": "code",
   "execution_count": 26,
   "id": "f2a7a103",
   "metadata": {},
   "outputs": [],
   "source": [
    "# nn.Sequential : 여러 모듈들을 묶어서 사용 가능\n",
    "\n",
    "class NeuralNet2(nn.Module):\n",
    "    def __init__(self, input_size, hidden_size, num_classes):\n",
    "        super(NeuralNet, self).__init__()\n",
    "        sequential = nn.Sequential(\n",
    "            nn.Linear(input_size, hidden_size),\n",
    "            nn.ReLU(),\n",
    "            nn.Linear(hidden_size, num_classes),\n",
    "            nn.Softmax(dim=1),\n",
    "        )\n",
    "    def forward(self, x):\n",
    "        out = self.sequential(x)\n",
    "        return out"
   ]
  },
  {
   "cell_type": "code",
   "execution_count": 27,
   "id": "a30fbba3",
   "metadata": {},
   "outputs": [
    {
     "name": "stdout",
     "output_type": "stream",
     "text": [
      "NeuralNet(\n",
      "  (mlp1): Linear(in_features=784, out_features=100, bias=True)\n",
      "  (relu): ReLU()\n",
      "  (mlp2): Linear(in_features=100, out_features=10, bias=True)\n",
      "  (softmax): Softmax(dim=1)\n",
      ")\n"
     ]
    }
   ],
   "source": [
    "input_size = 28*28*1 # MNIST 이미지 크기\n",
    "hidden_size = 100 # hyper parameter\n",
    "num_classes = 10 # 총 class 수\n",
    "\n",
    "model = NeuralNet(input_size, hidden_size, num_classes).to(device)\n",
    "print(model)"
   ]
  },
  {
   "cell_type": "code",
   "execution_count": 28,
   "id": "400e2391",
   "metadata": {},
   "outputs": [],
   "source": [
    "# Loss Function"
   ]
  },
  {
   "cell_type": "code",
   "execution_count": 29,
   "id": "301f15e1",
   "metadata": {},
   "outputs": [],
   "source": [
    "# Cross Entropy\n",
    "# Binary Cross Entropy Loss (nn.BCELoss())\n",
    "\n",
    "x = torch.randn(3)\n",
    "y = torch.tensor([0.,1.,0.]) # binary 이므로 target(y) 값은 0 또는 1"
   ]
  },
  {
   "cell_type": "code",
   "execution_count": 30,
   "id": "dd54e66e",
   "metadata": {},
   "outputs": [
    {
     "name": "stdout",
     "output_type": "stream",
     "text": [
      "x: tensor([ 0.0240, -1.4474, -1.9000])\n",
      "y: tensor([0., 1., 0.])\n"
     ]
    }
   ],
   "source": [
    "print('x:',x)\n",
    "print('y:',y)"
   ]
  },
  {
   "cell_type": "code",
   "execution_count": 31,
   "id": "6814a563",
   "metadata": {},
   "outputs": [
    {
     "name": "stdout",
     "output_type": "stream",
     "text": [
      "binary cross entropy loss value: tensor(0.8344)\n"
     ]
    }
   ],
   "source": [
    "# Binary Cross Entropy Loss\n",
    "bce_loss = nn.BCELoss()\n",
    "sigmoid = nn.Sigmoid()\n",
    "\n",
    "x_sigmoid = sigmoid(x)\n",
    "print('binary cross entropy loss value:', bce_loss(x_sigmoid,y))"
   ]
  },
  {
   "cell_type": "code",
   "execution_count": 32,
   "id": "b58630db",
   "metadata": {},
   "outputs": [
    {
     "name": "stdout",
     "output_type": "stream",
     "text": [
      "binary cross entropy loss value: tensor(0.8344)\n"
     ]
    }
   ],
   "source": [
    "# BCE with Logits Loss (nn.BCEWithLogitsLoss())\n",
    "# Loss 안에 Sigmoid가 내장\n",
    "\n",
    "# Binary Cross Entropy Loss\n",
    "bce_with_logits_loss = nn.BCEWithLogitsLoss()\n",
    "\n",
    "print('binary cross entropy loss value:', bce_with_logits_loss(x,y))"
   ]
  },
  {
   "cell_type": "code",
   "execution_count": 33,
   "id": "7a70a69d",
   "metadata": {},
   "outputs": [],
   "source": [
    "# Cross Entropy Loss (nn.CrossEntropyLoss())\n",
    "\n",
    "x = torch.randn(1,10)\n",
    "y = torch.tensor([1])"
   ]
  },
  {
   "cell_type": "code",
   "execution_count": 34,
   "id": "31df945f",
   "metadata": {},
   "outputs": [
    {
     "name": "stdout",
     "output_type": "stream",
     "text": [
      "x: tensor([[ 0.4465, -1.0389, -1.1490, -0.0092, -0.5682,  1.1090, -0.1436, -0.7355,\n",
      "         -0.0440,  0.5276]])\n",
      "y: tensor([1])\n"
     ]
    }
   ],
   "source": [
    "print('x:',x)\n",
    "print('y:',y)"
   ]
  },
  {
   "cell_type": "code",
   "execution_count": 35,
   "id": "b95fad6f",
   "metadata": {},
   "outputs": [
    {
     "name": "stdout",
     "output_type": "stream",
     "text": [
      "cross_entropy loss value: tensor(3.4203)\n"
     ]
    }
   ],
   "source": [
    "# Cross Entropy Loss\n",
    "\n",
    "cross_entropy_loss = nn.CrossEntropyLoss()\n",
    "# Softmax와 Log를 한 후 Cross Entropy Loss\n",
    "\n",
    "print('cross_entropy loss value:', cross_entropy_loss(x,y))"
   ]
  },
  {
   "cell_type": "code",
   "execution_count": 36,
   "id": "f91960a6",
   "metadata": {},
   "outputs": [],
   "source": [
    "# MSE\n",
    "\n",
    "x = torch.randn(1,10)\n",
    "y = torch.randn(1,10)"
   ]
  },
  {
   "cell_type": "code",
   "execution_count": 37,
   "id": "0ee48689",
   "metadata": {},
   "outputs": [
    {
     "name": "stdout",
     "output_type": "stream",
     "text": [
      "cross_entropy loss value: tensor(2.0359)\n"
     ]
    }
   ],
   "source": [
    "mse_loss = nn.MSELoss()\n",
    "print('cross_entropy loss value:', mse_loss(x,y))"
   ]
  },
  {
   "cell_type": "code",
   "execution_count": null,
   "id": "11f8cc7f",
   "metadata": {},
   "outputs": [],
   "source": []
  }
 ],
 "metadata": {
  "kernelspec": {
   "display_name": "Python 3",
   "language": "python",
   "name": "python3"
  },
  "language_info": {
   "codemirror_mode": {
    "name": "ipython",
    "version": 3
   },
   "file_extension": ".py",
   "mimetype": "text/x-python",
   "name": "python",
   "nbconvert_exporter": "python",
   "pygments_lexer": "ipython3",
   "version": "3.8.8"
  }
 },
 "nbformat": 4,
 "nbformat_minor": 5
}
