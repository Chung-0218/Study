{
 "cells": [
  {
   "cell_type": "code",
   "execution_count": 1,
   "id": "64d05923",
   "metadata": {},
   "outputs": [],
   "source": [
    "import tensorflow as tf\n",
    "from tensorflow.keras import Model, layers, optimizers, datasets\n",
    "import numpy as np"
   ]
  },
  {
   "cell_type": "code",
   "execution_count": 2,
   "id": "b9b46e7f",
   "metadata": {},
   "outputs": [],
   "source": [
    "(images_train, labels_train), (images_test, labels_test) = datasets.mnist.load_data()"
   ]
  },
  {
   "cell_type": "code",
   "execution_count": 3,
   "id": "628a112d",
   "metadata": {},
   "outputs": [
    {
     "data": {
      "text/plain": [
       "(60000, 28, 28)"
      ]
     },
     "execution_count": 3,
     "metadata": {},
     "output_type": "execute_result"
    }
   ],
   "source": [
    "images_train.shape"
   ]
  },
  {
   "cell_type": "code",
   "execution_count": 4,
   "id": "b1abc836",
   "metadata": {},
   "outputs": [
    {
     "data": {
      "text/plain": [
       "0"
      ]
     },
     "execution_count": 4,
     "metadata": {},
     "output_type": "execute_result"
    }
   ],
   "source": [
    "images_train.min()"
   ]
  },
  {
   "cell_type": "code",
   "execution_count": 6,
   "id": "a01de871",
   "metadata": {},
   "outputs": [
    {
     "data": {
      "text/plain": [
       "255"
      ]
     },
     "execution_count": 6,
     "metadata": {},
     "output_type": "execute_result"
    }
   ],
   "source": [
    "images_train.max()"
   ]
  },
  {
   "cell_type": "code",
   "execution_count": 7,
   "id": "ede194d0",
   "metadata": {},
   "outputs": [
    {
     "data": {
      "text/plain": [
       "0"
      ]
     },
     "execution_count": 7,
     "metadata": {},
     "output_type": "execute_result"
    }
   ],
   "source": [
    "images_test.min()"
   ]
  },
  {
   "cell_type": "code",
   "execution_count": 8,
   "id": "76e0c68f",
   "metadata": {},
   "outputs": [
    {
     "data": {
      "text/plain": [
       "255"
      ]
     },
     "execution_count": 8,
     "metadata": {},
     "output_type": "execute_result"
    }
   ],
   "source": [
    "images_test.max()"
   ]
  },
  {
   "cell_type": "code",
   "execution_count": 9,
   "id": "23748b5e",
   "metadata": {},
   "outputs": [],
   "source": [
    "# Normalizing"
   ]
  },
  {
   "cell_type": "code",
   "execution_count": 10,
   "id": "93eae93b",
   "metadata": {},
   "outputs": [],
   "source": [
    "images_train = images_train/255.\n",
    "images_test = images_test/255."
   ]
  },
  {
   "cell_type": "code",
   "execution_count": 12,
   "id": "aa0e1ce0",
   "metadata": {},
   "outputs": [
    {
     "data": {
      "text/plain": [
       "1.0"
      ]
     },
     "execution_count": 12,
     "metadata": {},
     "output_type": "execute_result"
    }
   ],
   "source": [
    "images_train.max()"
   ]
  },
  {
   "cell_type": "code",
   "execution_count": 15,
   "id": "c17544c6",
   "metadata": {},
   "outputs": [],
   "source": [
    "# Model"
   ]
  },
  {
   "cell_type": "code",
   "execution_count": 19,
   "id": "f0907e13",
   "metadata": {},
   "outputs": [],
   "source": [
    "model = tf.keras.Sequential([\n",
    "    layers.Flatten(input_shape=(28,28)),\n",
    "    layers.Dense(128, activation='relu'),\n",
    "    layers.Dense(256, activation='relu'),\n",
    "    layers.Dense(10, activation='softmax')\n",
    "])"
   ]
  },
  {
   "cell_type": "code",
   "execution_count": 20,
   "id": "a6e6851c",
   "metadata": {},
   "outputs": [],
   "source": [
    "# Compile : 모델을 어떻게 학습할 지 정해줌\n",
    "model.compile(optimizer='adam',\n",
    "              loss='sparse_categorical_crossentropy',\n",
    "              metrics=['accuracy'])"
   ]
  },
  {
   "cell_type": "code",
   "execution_count": 21,
   "id": "446b0758",
   "metadata": {},
   "outputs": [
    {
     "name": "stdout",
     "output_type": "stream",
     "text": [
      "Epoch 1/3\n",
      "938/938 [==============================] - 1s 949us/step - loss: 0.2527 - accuracy: 0.9261\n",
      "Epoch 2/3\n",
      "938/938 [==============================] - 1s 951us/step - loss: 0.1038 - accuracy: 0.9682\n",
      "Epoch 3/3\n",
      "938/938 [==============================] - 1s 982us/step - loss: 0.0705 - accuracy: 0.9776\n"
     ]
    },
    {
     "data": {
      "text/plain": [
       "<keras.callbacks.History at 0x1e2e66d5eb0>"
      ]
     },
     "execution_count": 21,
     "metadata": {},
     "output_type": "execute_result"
    }
   ],
   "source": [
    "# 학습\n",
    "model.fit(images_train, labels_train, epochs=3, batch_size=64)"
   ]
  },
  {
   "cell_type": "code",
   "execution_count": 22,
   "id": "3ba55095",
   "metadata": {},
   "outputs": [
    {
     "name": "stdout",
     "output_type": "stream",
     "text": [
      "313/313 - 0s - loss: 0.1019 - accuracy: 0.9660 - 232ms/epoch - 742us/step\n",
      "test accuracy: 0.9660000205039978\n"
     ]
    }
   ],
   "source": [
    "test_loss, test_acc = model.evaluate(images_test,  labels_test, verbose=2)\n",
    "\n",
    "print('test accuracy:', test_acc)"
   ]
  },
  {
   "cell_type": "code",
   "execution_count": 23,
   "id": "f1bfdedc",
   "metadata": {},
   "outputs": [],
   "source": [
    "# Dropout"
   ]
  },
  {
   "cell_type": "code",
   "execution_count": 70,
   "id": "cb8aed8c",
   "metadata": {},
   "outputs": [],
   "source": [
    "class NeuralNet_dropout(Model):\n",
    "    def __init__(self, hidden_1, hidden_2, num_classes):\n",
    "        super(NeuralNet_dropout, self).__init__()\n",
    "        \n",
    "        self.flatten = layers.Flatten(input_shape=(28,28))\n",
    "        self.fc1 = layers.Dense(hidden_1)\n",
    "        self.dropout1 = layers.Dropout(0.5)\n",
    "        self.fc2 = layers.Dense(hidden_2)\n",
    "        self.dropout2 = layers.Dropout(0.5)\n",
    "        self.out = layers.Dense(num_classes)\n",
    "        \n",
    "    def call(self, x):\n",
    "        x = self.flatten(x)\n",
    "        x = self.fc1(x)\n",
    "        x = self.dropout1(x)\n",
    "        x = tf.nn.relu(x)\n",
    "        \n",
    "        x = self.fc2(x)\n",
    "        x = self.dropout2(x)\n",
    "        x = tf.nn.relu(x)\n",
    "        \n",
    "        x = self.out(x)\n",
    "        x = tf.nn.softmax(x)\n",
    "        return x"
   ]
  },
  {
   "cell_type": "code",
   "execution_count": 71,
   "id": "ef4fd12c",
   "metadata": {},
   "outputs": [],
   "source": [
    "hidden_1 = 128\n",
    "hidden_2 = 256\n",
    "num_classes = 10\n",
    "\n",
    "model_dropout = NeuralNet_dropout(hidden_1, hidden_2, num_classes)"
   ]
  },
  {
   "cell_type": "code",
   "execution_count": 72,
   "id": "8a53beb6",
   "metadata": {},
   "outputs": [],
   "source": [
    "model_dropout.compile(optimizer='adam',\n",
    "              loss='sparse_categorical_crossentropy',\n",
    "              metrics=['accuracy'])"
   ]
  },
  {
   "cell_type": "code",
   "execution_count": 73,
   "id": "a12e067f",
   "metadata": {},
   "outputs": [
    {
     "name": "stdout",
     "output_type": "stream",
     "text": [
      "Epoch 1/3\n",
      "469/469 [==============================] - 1s 1ms/step - loss: 0.5675 - accuracy: 0.8223\n",
      "Epoch 2/3\n",
      "469/469 [==============================] - 1s 2ms/step - loss: 0.2809 - accuracy: 0.9171\n",
      "Epoch 3/3\n",
      "469/469 [==============================] - 1s 1ms/step - loss: 0.2317 - accuracy: 0.9305\n"
     ]
    },
    {
     "data": {
      "text/plain": [
       "<keras.callbacks.History at 0x1e2e8d46970>"
      ]
     },
     "execution_count": 73,
     "metadata": {},
     "output_type": "execute_result"
    }
   ],
   "source": [
    "model_dropout.fit(images_train, labels_train, epochs=3, batch_size=128)"
   ]
  },
  {
   "cell_type": "code",
   "execution_count": 75,
   "id": "a7aaf42b",
   "metadata": {},
   "outputs": [
    {
     "name": "stdout",
     "output_type": "stream",
     "text": [
      "313/313 - 0s - loss: 0.1179 - accuracy: 0.9652 - 207ms/epoch - 662us/step\n",
      "test accuracy: 0.9652000069618225\n"
     ]
    }
   ],
   "source": [
    "test_loss, test_acc = model_dropout.evaluate(images_test,  labels_test, verbose=2)\n",
    "\n",
    "print('test accuracy:', test_acc)"
   ]
  },
  {
   "cell_type": "code",
   "execution_count": 76,
   "id": "b8db9665",
   "metadata": {},
   "outputs": [],
   "source": [
    "# Batch Normalization"
   ]
  },
  {
   "cell_type": "code",
   "execution_count": 77,
   "id": "24e406a5",
   "metadata": {},
   "outputs": [],
   "source": [
    "class NeuralNet_bn(Model):\n",
    "    def __init__(self, hidden_1, hidden_2, num_classe):\n",
    "        super(NeuralNet_bn, self).__init__()\n",
    "        \n",
    "        self.flatten = layers.Flatten(input_shape=(28,28))\n",
    "        self.fc1 = layers.Dense(hidden_1)\n",
    "        self.bn1 = layers.BatchNormalization()\n",
    "        \n",
    "        self.fc2 = layers.Dense(hidden_2)\n",
    "        self.bn2 = layers.BatchNormalization()\n",
    "        \n",
    "        self.out = layers.Dense(num_classes)\n",
    "        \n",
    "    def call(self, x):\n",
    "        x = self.flatten(x)\n",
    "        x = self.fc1(x)\n",
    "        x = self.bn1(x)\n",
    "        x = tf.nn.relu(x)\n",
    "        \n",
    "        x = self.fc2(x)\n",
    "        x = self.bn2(x)\n",
    "        x = tf.nn.relu(x)\n",
    "        \n",
    "        x = self.out(x)\n",
    "        x = tf.nn.softmax(x)\n",
    "        return x"
   ]
  },
  {
   "cell_type": "code",
   "execution_count": 78,
   "id": "e0ab6e64",
   "metadata": {},
   "outputs": [],
   "source": [
    "hidden_1 = 128\n",
    "hidden_2 = 256\n",
    "num_classes = 10\n",
    "\n",
    "model_bn = NeuralNet_bn(hidden_1, hidden_2, num_classes)"
   ]
  },
  {
   "cell_type": "code",
   "execution_count": 79,
   "id": "d01f80a3",
   "metadata": {},
   "outputs": [],
   "source": [
    "model_bn.compile(optimizer='adam',\n",
    "              loss='sparse_categorical_crossentropy',\n",
    "              metrics=['accuracy'])"
   ]
  },
  {
   "cell_type": "code",
   "execution_count": 80,
   "id": "0398e460",
   "metadata": {},
   "outputs": [
    {
     "name": "stdout",
     "output_type": "stream",
     "text": [
      "Epoch 1/3\n",
      "469/469 [==============================] - 2s 2ms/step - loss: 0.2226 - accuracy: 0.9345\n",
      "Epoch 2/3\n",
      "469/469 [==============================] - 1s 2ms/step - loss: 0.0848 - accuracy: 0.9739\n",
      "Epoch 3/3\n",
      "469/469 [==============================] - 1s 2ms/step - loss: 0.0562 - accuracy: 0.9828\n"
     ]
    },
    {
     "data": {
      "text/plain": [
       "<keras.callbacks.History at 0x1e2e8fd5520>"
      ]
     },
     "execution_count": 80,
     "metadata": {},
     "output_type": "execute_result"
    }
   ],
   "source": [
    "model_bn.fit(images_train, labels_train, epochs=3, batch_size=128)"
   ]
  },
  {
   "cell_type": "code",
   "execution_count": 81,
   "id": "dbe00370",
   "metadata": {},
   "outputs": [
    {
     "name": "stdout",
     "output_type": "stream",
     "text": [
      "313/313 - 0s - loss: 0.0829 - accuracy: 0.9739 - 232ms/epoch - 742us/step\n",
      "test accuracy: 0.9739000201225281\n"
     ]
    }
   ],
   "source": [
    "test_loss, test_acc = model_bn.evaluate(images_test,  labels_test, verbose=2)\n",
    "\n",
    "print('test accuracy:', test_acc)"
   ]
  },
  {
   "cell_type": "code",
   "execution_count": null,
   "id": "00ff2c7f",
   "metadata": {},
   "outputs": [],
   "source": []
  }
 ],
 "metadata": {
  "kernelspec": {
   "display_name": "Python 3",
   "language": "python",
   "name": "python3"
  },
  "language_info": {
   "codemirror_mode": {
    "name": "ipython",
    "version": 3
   },
   "file_extension": ".py",
   "mimetype": "text/x-python",
   "name": "python",
   "nbconvert_exporter": "python",
   "pygments_lexer": "ipython3",
   "version": "3.8.8"
  }
 },
 "nbformat": 4,
 "nbformat_minor": 5
}
