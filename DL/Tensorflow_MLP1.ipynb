{
 "cells": [
  {
   "cell_type": "code",
   "execution_count": 1,
   "id": "caa65ad9",
   "metadata": {},
   "outputs": [],
   "source": [
    "import tensorflow as tf\n",
    "from tensorflow.keras import Model, layers\n",
    "import numpy as np"
   ]
  },
  {
   "cell_type": "code",
   "execution_count": 2,
   "id": "7d8de113",
   "metadata": {},
   "outputs": [],
   "source": [
    "# Model"
   ]
  },
  {
   "cell_type": "code",
   "execution_count": 6,
   "id": "f0d5aa15",
   "metadata": {},
   "outputs": [],
   "source": [
    "class NeuralNet(Model):\n",
    "    def __init__(self, hidden_1, hidden_2, num_classes):\n",
    "        super(NeuralNet, self).__init__()\n",
    "        \n",
    "        self.mlp1 = layers.Dense(hidden_1, activation=tf.nn.relu)\n",
    "        self.mlp2 = layers.Dense(hidden_2, activation=\"relu\")\n",
    "        self.mlp3 = layers.Dense(num_classes)\n",
    "        \n",
    "    def call(self, x):\n",
    "        out = self.mlp1(x)\n",
    "        out = self.mlp2(x)\n",
    "        out = self.mlp3(x)\n",
    "        out = tf.nn.softmax(out)\n",
    "        return out"
   ]
  },
  {
   "cell_type": "code",
   "execution_count": 7,
   "id": "4326f149",
   "metadata": {},
   "outputs": [],
   "source": [
    "hidden_1 = 128\n",
    "hidden_2 = 256\n",
    "num_classes = 10"
   ]
  },
  {
   "cell_type": "code",
   "execution_count": 8,
   "id": "0452da4a",
   "metadata": {},
   "outputs": [],
   "source": [
    "model = NeuralNet(hidden_1, hidden_2, num_classes)"
   ]
  },
  {
   "cell_type": "code",
   "execution_count": 9,
   "id": "24687e72",
   "metadata": {},
   "outputs": [
    {
     "name": "stdout",
     "output_type": "stream",
     "text": [
      "data: (1, 784)\n"
     ]
    }
   ],
   "source": [
    "data = tf.random.normal(shape=(1,28*28), mean=0., stddev=1.)\n",
    "print('data:', data.shape)"
   ]
  },
  {
   "cell_type": "code",
   "execution_count": 11,
   "id": "bfb9be6c",
   "metadata": {},
   "outputs": [
    {
     "name": "stdout",
     "output_type": "stream",
     "text": [
      "pred: tf.Tensor(\n",
      "[[0.00630974 0.00543033 0.01398942 0.0413799  0.02784632 0.17376176\n",
      "  0.12105147 0.0272448  0.56184614 0.02114013]], shape=(1, 10), dtype=float32)\n"
     ]
    }
   ],
   "source": [
    "pred = model(data)\n",
    "print('pred:', pred)"
   ]
  },
  {
   "cell_type": "code",
   "execution_count": 12,
   "id": "b695beb5",
   "metadata": {},
   "outputs": [
    {
     "name": "stdout",
     "output_type": "stream",
     "text": [
      "y_hat: tf.Tensor([8], shape=(1,), dtype=int64)\n"
     ]
    }
   ],
   "source": [
    "y_hat = tf.argmax(pred, 1)\n",
    "print('y_hat:', y_hat)"
   ]
  },
  {
   "cell_type": "code",
   "execution_count": 13,
   "id": "c9d33b36",
   "metadata": {},
   "outputs": [],
   "source": [
    "# layers.Dense"
   ]
  },
  {
   "cell_type": "code",
   "execution_count": 14,
   "id": "b273b173",
   "metadata": {},
   "outputs": [],
   "source": [
    "x = tf.random.normal(shape=(3,28,28), mean=0., stddev=1.)"
   ]
  },
  {
   "cell_type": "code",
   "execution_count": 15,
   "id": "e3dcf3d1",
   "metadata": {},
   "outputs": [
    {
     "name": "stdout",
     "output_type": "stream",
     "text": [
      "x_after_fc: (3, 100)\n",
      "tf.Tensor(\n",
      "[ 1.4906249  -0.91943187  0.10301065  1.7937059   0.57692206  2.931439\n",
      " -0.2809884   0.39027154  0.8239373  -1.3761275 ], shape=(10,), dtype=float32)\n"
     ]
    }
   ],
   "source": [
    "fc_layer = layers.Dense(100)\n",
    "x_after_fc = fc_layer(tf.reshape(x,(-1,28*28)))\n",
    "print('x_after_fc:', x_after_fc.shape)\n",
    "print(x_after_fc[0][:10])"
   ]
  },
  {
   "cell_type": "code",
   "execution_count": 16,
   "id": "882019c8",
   "metadata": {},
   "outputs": [
    {
     "data": {
      "text/plain": [
       "TensorShape([3, 100])"
      ]
     },
     "execution_count": 16,
     "metadata": {},
     "output_type": "execute_result"
    }
   ],
   "source": [
    "fc_layer = layers.Dense(100, activation='relu')\n",
    "x_after_fc = fc_layer(tf.reshape(x, (3,28*28)))\n",
    "x_after_fc.shape"
   ]
  },
  {
   "cell_type": "code",
   "execution_count": 17,
   "id": "b035bf71",
   "metadata": {},
   "outputs": [
    {
     "data": {
      "text/plain": [
       "<tf.Tensor: shape=(10,), dtype=float32, numpy=\n",
       "array([3.018399  , 0.98217297, 0.7342616 , 0.        , 2.625508  ,\n",
       "       0.        , 0.        , 2.3521438 , 0.9003216 , 0.        ],\n",
       "      dtype=float32)>"
      ]
     },
     "execution_count": 17,
     "metadata": {},
     "output_type": "execute_result"
    }
   ],
   "source": [
    "x_after_fc[0][:10]"
   ]
  },
  {
   "cell_type": "code",
   "execution_count": 18,
   "id": "2ecfabe2",
   "metadata": {},
   "outputs": [],
   "source": [
    "# Softmax"
   ]
  },
  {
   "cell_type": "code",
   "execution_count": 19,
   "id": "94cb7bb5",
   "metadata": {},
   "outputs": [
    {
     "data": {
      "text/plain": [
       "<tf.Tensor: shape=(1, 10), dtype=float32, numpy=\n",
       "array([[-1.2650627 , -0.19016781,  0.51135355, -0.68425393, -0.2576717 ,\n",
       "         1.6128616 ,  0.50090605, -0.89512753,  0.45894068,  0.32010835]],\n",
       "      dtype=float32)>"
      ]
     },
     "execution_count": 19,
     "metadata": {},
     "output_type": "execute_result"
    }
   ],
   "source": [
    "x = tf.random.normal(shape=(1,10), mean=0., stddev=1.)\n",
    "x"
   ]
  },
  {
   "cell_type": "code",
   "execution_count": 20,
   "id": "eb5c3086",
   "metadata": {},
   "outputs": [
    {
     "name": "stdout",
     "output_type": "stream",
     "text": [
      "pred: tf.Tensor(\n",
      "[[0.02003063 0.05868345 0.11835387 0.03580443 0.05485284 0.35609132\n",
      "  0.1171238  0.02899716 0.11231039 0.09775203]], shape=(1, 10), dtype=float32)\n",
      "sum of pred: tf.Tensor(0.9999999, shape=(), dtype=float32)\n"
     ]
    }
   ],
   "source": [
    "pred = tf.nn.softmax(x)\n",
    "print('pred:', pred)\n",
    "print('sum of pred:', tf.reduce_sum(pred))"
   ]
  },
  {
   "cell_type": "code",
   "execution_count": 21,
   "id": "e5c7c6ae",
   "metadata": {},
   "outputs": [],
   "source": [
    "# tf.keras.Sequential"
   ]
  },
  {
   "cell_type": "code",
   "execution_count": 28,
   "id": "29bba4bc",
   "metadata": {},
   "outputs": [],
   "source": [
    "class NeuralNet(Model):\n",
    "    def __init__(self, hidden_1, hidden_2, num_classes):\n",
    "        super(NeuralNet, self).__init__()\n",
    "        self.fc1 = layers.Dense(hidden_1, activation=tf.nn.relu)\n",
    "        self.fc2 = layers.Dense(hidden_2, activation=tf.nn.relu)\n",
    "        self.out = layers.Dense(num_classes)\n",
    "\n",
    "    def call(self, x):\n",
    "        out = self.fc1(x)\n",
    "        out = self.fc2(x)\n",
    "        out = self.out(x)\n",
    "        out = tf.nn.softmax(x)\n",
    "        return out"
   ]
  },
  {
   "cell_type": "code",
   "execution_count": 29,
   "id": "644662a4",
   "metadata": {},
   "outputs": [],
   "source": [
    "hidden_1 = 128\n",
    "hidden_2 = 256\n",
    "num_classes = 10\n",
    "\n",
    "model = NeuralNet(hidden_1, hidden_2, num_classes)"
   ]
  },
  {
   "cell_type": "code",
   "execution_count": 30,
   "id": "925998e2",
   "metadata": {},
   "outputs": [],
   "source": [
    "class NeuralNet2(Model):\n",
    "    def __init__(self, hidden_1, hidden_2, num_classes):\n",
    "        super(NeuralNet2, self).__init__()\n",
    "        \n",
    "        self.sequential = tf.keras.Sequential([\n",
    "            layers.Dense(hidden_1, activation=tf.nn.relu),\n",
    "            layers.Dense(hidden_2, activation=\"relu\"),\n",
    "            layers.Dense(num_classes, activation=tf.nn.softmax)\n",
    "        ])\n",
    "        \n",
    "    def call(self, x):\n",
    "        out = self.sequential(x)\n",
    "        return out"
   ]
  },
  {
   "cell_type": "code",
   "execution_count": 31,
   "id": "e65f8ded",
   "metadata": {},
   "outputs": [],
   "source": [
    "hidden_1 = 128\n",
    "hidden_2 = 256\n",
    "num_classes = 10\n",
    "\n",
    "model = NeuralNet2(hidden_1, hidden_2, num_classes)"
   ]
  },
  {
   "cell_type": "code",
   "execution_count": 32,
   "id": "95186f8c",
   "metadata": {},
   "outputs": [],
   "source": [
    "# Sequential + add\n",
    "model = tf.keras.Sequential()"
   ]
  },
  {
   "cell_type": "code",
   "execution_count": 33,
   "id": "69f46aad",
   "metadata": {},
   "outputs": [],
   "source": [
    "model.add(layers.Dense(128, activation='relu'))\n",
    "model.add(layers.Dense(256, activation='relu'))\n",
    "model.add(layers.Dense(10, activation='softmax'))"
   ]
  },
  {
   "cell_type": "code",
   "execution_count": 37,
   "id": "97ba01ef",
   "metadata": {},
   "outputs": [],
   "source": [
    "# Compile"
   ]
  },
  {
   "cell_type": "code",
   "execution_count": 38,
   "id": "347a8ba2",
   "metadata": {},
   "outputs": [],
   "source": [
    "model.compile(loss='categorical_crossentropy', # labels가 one-hot일 경우 사용\n",
    "              optimizer='sgd',\n",
    "              metrics=['accuracy'])"
   ]
  },
  {
   "cell_type": "code",
   "execution_count": 39,
   "id": "ea35c48a",
   "metadata": {},
   "outputs": [],
   "source": [
    "model.compile(loss='sparse_categorical_crossentropy', # labels가 integer일 경우 사용\n",
    "              optimizer='adam',\n",
    "              metrics=['accuracy'])"
   ]
  },
  {
   "cell_type": "code",
   "execution_count": 40,
   "id": "b9b0b120",
   "metadata": {},
   "outputs": [],
   "source": [
    "model.compile(loss='sparse_categorical_crossentropy',\n",
    "              optimizer=tf.keras.optimizers.Adam(learning_rate=1e-3), # learning rate 설정\n",
    "              metrics=['accuracy'])"
   ]
  },
  {
   "cell_type": "code",
   "execution_count": null,
   "id": "32a04752",
   "metadata": {},
   "outputs": [],
   "source": []
  }
 ],
 "metadata": {
  "kernelspec": {
   "display_name": "Python 3",
   "language": "python",
   "name": "python3"
  },
  "language_info": {
   "codemirror_mode": {
    "name": "ipython",
    "version": 3
   },
   "file_extension": ".py",
   "mimetype": "text/x-python",
   "name": "python",
   "nbconvert_exporter": "python",
   "pygments_lexer": "ipython3",
   "version": "3.8.8"
  }
 },
 "nbformat": 4,
 "nbformat_minor": 5
}
