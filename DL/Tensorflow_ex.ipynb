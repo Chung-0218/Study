{
 "cells": [
  {
   "cell_type": "code",
   "execution_count": 2,
   "id": "91b98534",
   "metadata": {},
   "outputs": [
    {
     "data": {
      "text/plain": [
       "'2.7.0'"
      ]
     },
     "execution_count": 2,
     "metadata": {},
     "output_type": "execute_result"
    }
   ],
   "source": [
    "import tensorflow as tf\n",
    "tf.__version__"
   ]
  },
  {
   "cell_type": "code",
   "execution_count": 3,
   "id": "a91ba8ba",
   "metadata": {},
   "outputs": [],
   "source": [
    "a = tf.constant(5)\n",
    "b = tf.constant(10)\n",
    "c = tf.constant(15)"
   ]
  },
  {
   "cell_type": "code",
   "execution_count": 4,
   "id": "c1adf126",
   "metadata": {},
   "outputs": [
    {
     "name": "stdout",
     "output_type": "stream",
     "text": [
      "tf.Tensor(b'tensorflow', shape=(), dtype=string)\n"
     ]
    }
   ],
   "source": [
    "string = tf.constant('tensorflow')\n",
    "print(string)"
   ]
  },
  {
   "cell_type": "code",
   "execution_count": 5,
   "id": "af6daaa2",
   "metadata": {},
   "outputs": [
    {
     "name": "stdout",
     "output_type": "stream",
     "text": [
      "tensor a: tf.Tensor(5, shape=(), dtype=int32)\n"
     ]
    }
   ],
   "source": [
    "print('tensor a:', a)"
   ]
  },
  {
   "cell_type": "code",
   "execution_count": 7,
   "id": "6b735948",
   "metadata": {},
   "outputs": [
    {
     "data": {
      "text/plain": [
       "numpy.int32"
      ]
     },
     "execution_count": 7,
     "metadata": {},
     "output_type": "execute_result"
    }
   ],
   "source": [
    "a_np = a.numpy()\n",
    "type(a_np)"
   ]
  },
  {
   "cell_type": "code",
   "execution_count": 8,
   "id": "3a82c08f",
   "metadata": {},
   "outputs": [
    {
     "name": "stdout",
     "output_type": "stream",
     "text": [
      "rand_tensor: tf.Tensor(\n",
      "[[ 0.03427322 -0.5268032 ]\n",
      " [-0.26834187 -2.6242337 ]], shape=(2, 2), dtype=float32) (2, 2)\n"
     ]
    }
   ],
   "source": [
    "rand_tensor = tf.random.normal(shape=(2,2), mean=0., stddev=1.)\n",
    "print('rand_tensor:', rand_tensor, rand_tensor.shape)"
   ]
  },
  {
   "cell_type": "code",
   "execution_count": 9,
   "id": "ace0fb1b",
   "metadata": {},
   "outputs": [
    {
     "data": {
      "text/plain": [
       "<tf.Tensor: shape=(2, 3), dtype=int32, numpy=\n",
       "array([[1, 2, 3],\n",
       "       [4, 5, 6]])>"
      ]
     },
     "execution_count": 9,
     "metadata": {},
     "output_type": "execute_result"
    }
   ],
   "source": [
    "x_tensor = tf.constant([[1,2,3],[4,5,6]])\n",
    "x_tensor"
   ]
  },
  {
   "cell_type": "code",
   "execution_count": 10,
   "id": "4669a824",
   "metadata": {},
   "outputs": [
    {
     "data": {
      "text/plain": [
       "<tf.Tensor: shape=(3,), dtype=int32, numpy=array([1, 2, 3])>"
      ]
     },
     "execution_count": 10,
     "metadata": {},
     "output_type": "execute_result"
    }
   ],
   "source": [
    "x_tensor[0]"
   ]
  },
  {
   "cell_type": "code",
   "execution_count": 11,
   "id": "69bfbe4d",
   "metadata": {},
   "outputs": [
    {
     "data": {
      "text/plain": [
       "<tf.Tensor: shape=(3,), dtype=int32, numpy=array([4, 5, 6])>"
      ]
     },
     "execution_count": 11,
     "metadata": {},
     "output_type": "execute_result"
    }
   ],
   "source": [
    "x_tensor[1]"
   ]
  },
  {
   "cell_type": "code",
   "execution_count": 12,
   "id": "a8f349a8",
   "metadata": {},
   "outputs": [
    {
     "data": {
      "text/plain": [
       "<tf.Tensor: shape=(3,), dtype=int32, numpy=array([4, 5, 6])>"
      ]
     },
     "execution_count": 12,
     "metadata": {},
     "output_type": "execute_result"
    }
   ],
   "source": [
    "x_tensor[-1,:]"
   ]
  },
  {
   "cell_type": "code",
   "execution_count": 13,
   "id": "d4a68172",
   "metadata": {},
   "outputs": [
    {
     "data": {
      "text/plain": [
       "<tf.Tensor: shape=(2,), dtype=int32, numpy=array([1, 4])>"
      ]
     },
     "execution_count": 13,
     "metadata": {},
     "output_type": "execute_result"
    }
   ],
   "source": [
    "x_tensor[:,0]"
   ]
  },
  {
   "cell_type": "code",
   "execution_count": 14,
   "id": "602482a4",
   "metadata": {},
   "outputs": [
    {
     "data": {
      "text/plain": [
       "<tf.Tensor: shape=(2,), dtype=int32, numpy=array([2, 5])>"
      ]
     },
     "execution_count": 14,
     "metadata": {},
     "output_type": "execute_result"
    }
   ],
   "source": [
    "x_tensor[:,1]"
   ]
  },
  {
   "cell_type": "code",
   "execution_count": 15,
   "id": "15fec043",
   "metadata": {},
   "outputs": [
    {
     "data": {
      "text/plain": [
       "<tf.Tensor: shape=(2,), dtype=int32, numpy=array([3, 6])>"
      ]
     },
     "execution_count": 15,
     "metadata": {},
     "output_type": "execute_result"
    }
   ],
   "source": [
    "x_tensor[:,-1]"
   ]
  },
  {
   "cell_type": "code",
   "execution_count": 16,
   "id": "0a6c2c7c",
   "metadata": {},
   "outputs": [
    {
     "data": {
      "text/plain": [
       "<tf.Tensor: shape=(), dtype=int32, numpy=6>"
      ]
     },
     "execution_count": 16,
     "metadata": {},
     "output_type": "execute_result"
    }
   ],
   "source": [
    "x_tensor[1,2]"
   ]
  },
  {
   "cell_type": "code",
   "execution_count": 18,
   "id": "83870f1d",
   "metadata": {},
   "outputs": [
    {
     "name": "stdout",
     "output_type": "stream",
     "text": [
      "axis=0: tf.Tensor(\n",
      "[[1 2 3]\n",
      " [4 5 6]\n",
      " [1 2 3]\n",
      " [4 5 6]], shape=(4, 3), dtype=int32) (4, 3)\n"
     ]
    }
   ],
   "source": [
    "# tensor concatenate\n",
    "x_tensor = tf.constant([[1,2,3],[4,5,6]])\n",
    "\n",
    "concatenated_dim0 = tf.concat([x_tensor, x_tensor], axis=0)\n",
    "print('axis=0:', concatenated_dim0, concatenated_dim0.shape)"
   ]
  },
  {
   "cell_type": "code",
   "execution_count": 19,
   "id": "b9ee39ae",
   "metadata": {},
   "outputs": [
    {
     "name": "stdout",
     "output_type": "stream",
     "text": [
      "axis=1: tf.Tensor(\n",
      "[[1 2 3 1 2 3]\n",
      " [4 5 6 4 5 6]], shape=(2, 6), dtype=int32) (2, 6)\n"
     ]
    }
   ],
   "source": [
    "concatenated_dim1 = tf.concat([x_tensor,x_tensor], axis=1)\n",
    "print('axis=1:', concatenated_dim1, concatenated_dim1.shape)"
   ]
  },
  {
   "cell_type": "code",
   "execution_count": 20,
   "id": "245ba2bb",
   "metadata": {},
   "outputs": [
    {
     "name": "stdout",
     "output_type": "stream",
     "text": [
      "x_tensor: tf.Tensor(\n",
      "[[1 2 3]\n",
      " [4 5 6]], shape=(2, 3), dtype=int32) (2, 3)\n"
     ]
    }
   ],
   "source": [
    "print('x_tensor:', x_tensor, x_tensor.shape)"
   ]
  },
  {
   "cell_type": "code",
   "execution_count": 21,
   "id": "90d6548a",
   "metadata": {},
   "outputs": [
    {
     "name": "stdout",
     "output_type": "stream",
     "text": [
      "x_tensor reshape - 2x3 to 3x2 :  tf.Tensor(\n",
      "[[1 2]\n",
      " [3 4]\n",
      " [5 6]], shape=(3, 2), dtype=int32)\n"
     ]
    }
   ],
   "source": [
    "print('x_tensor reshape - 2x3 to 3x2 : ', tf.reshape(x_tensor,(3,2)))"
   ]
  },
  {
   "cell_type": "code",
   "execution_count": 22,
   "id": "7832224f",
   "metadata": {},
   "outputs": [
    {
     "data": {
      "text/plain": [
       "<tf.Tensor: shape=(), dtype=int32, numpy=15>"
      ]
     },
     "execution_count": 22,
     "metadata": {},
     "output_type": "execute_result"
    }
   ],
   "source": [
    "add = tf.add(a,b)\n",
    "add"
   ]
  },
  {
   "cell_type": "code",
   "execution_count": 23,
   "id": "7f2830e8",
   "metadata": {},
   "outputs": [
    {
     "data": {
      "text/plain": [
       "<tf.Tensor: shape=(), dtype=int32, numpy=-5>"
      ]
     },
     "execution_count": 23,
     "metadata": {},
     "output_type": "execute_result"
    }
   ],
   "source": [
    "sub = tf.subtract(a,b)\n",
    "sub"
   ]
  },
  {
   "cell_type": "code",
   "execution_count": 24,
   "id": "06093863",
   "metadata": {},
   "outputs": [
    {
     "data": {
      "text/plain": [
       "<tf.Tensor: shape=(), dtype=int32, numpy=50>"
      ]
     },
     "execution_count": 24,
     "metadata": {},
     "output_type": "execute_result"
    }
   ],
   "source": [
    "mul = tf.multiply(a,b)\n",
    "mul"
   ]
  },
  {
   "cell_type": "code",
   "execution_count": 25,
   "id": "7b033c81",
   "metadata": {},
   "outputs": [
    {
     "data": {
      "text/plain": [
       "<tf.Tensor: shape=(), dtype=float64, numpy=0.5>"
      ]
     },
     "execution_count": 25,
     "metadata": {},
     "output_type": "execute_result"
    }
   ],
   "source": [
    "div = tf.divide(a,b)\n",
    "div"
   ]
  },
  {
   "cell_type": "code",
   "execution_count": 26,
   "id": "c93a84f4",
   "metadata": {},
   "outputs": [
    {
     "data": {
      "text/plain": [
       "<tf.Tensor: shape=(), dtype=int32, numpy=10>"
      ]
     },
     "execution_count": 26,
     "metadata": {},
     "output_type": "execute_result"
    }
   ],
   "source": [
    "mean = tf.reduce_mean([a,b,c])\n",
    "mean"
   ]
  },
  {
   "cell_type": "code",
   "execution_count": 27,
   "id": "deefcc1e",
   "metadata": {},
   "outputs": [
    {
     "data": {
      "text/plain": [
       "<tf.Tensor: shape=(), dtype=int32, numpy=30>"
      ]
     },
     "execution_count": 27,
     "metadata": {},
     "output_type": "execute_result"
    }
   ],
   "source": [
    "sum = tf.reduce_sum([a,b,c])\n",
    "sum"
   ]
  },
  {
   "cell_type": "code",
   "execution_count": 28,
   "id": "bb73c5ee",
   "metadata": {},
   "outputs": [
    {
     "name": "stdout",
     "output_type": "stream",
     "text": [
      "mat_mul: tf.Tensor(\n",
      "[[ 50  68]\n",
      " [122 167]], shape=(2, 2), dtype=int32) (2, 2)\n"
     ]
    }
   ],
   "source": [
    "x_tensor1 = tf.constant([[1,2,3,], [4,5,6]])\n",
    "x_tensor2 = tf.constant([[7,8,9], [10,11,12]])\n",
    "\n",
    "mat_mul = tf.matmul(x_tensor1, tf.transpose(x_tensor2))\n",
    "\n",
    "print('mat_mul:', mat_mul, mat_mul.shape)"
   ]
  },
  {
   "cell_type": "code",
   "execution_count": 29,
   "id": "7b7fe32a",
   "metadata": {},
   "outputs": [],
   "source": [
    "# Data"
   ]
  },
  {
   "cell_type": "code",
   "execution_count": 30,
   "id": "8f0c6857",
   "metadata": {},
   "outputs": [
    {
     "name": "stdout",
     "output_type": "stream",
     "text": [
      "Downloading data from https://storage.googleapis.com/tensorflow/tf-keras-datasets/mnist.npz\n",
      "11493376/11490434 [==============================] - 0s 0us/step\n",
      "11501568/11490434 [==============================] - 0s 0us/step\n"
     ]
    }
   ],
   "source": [
    "from tensorflow.keras.datasets import mnist\n",
    "(train_images, train_labels), (test_images, test_labels) = mnist.load_data()"
   ]
  },
  {
   "cell_type": "code",
   "execution_count": 31,
   "id": "9e11815c",
   "metadata": {},
   "outputs": [
    {
     "name": "stdout",
     "output_type": "stream",
     "text": [
      "train data: (60000, 28, 28) 60000\n",
      "train labels: [5 0 4 ... 5 6 8]\n",
      "test data: (10000, 28, 28) 10000\n",
      "test labels: [7 2 1 ... 4 5 6]\n"
     ]
    }
   ],
   "source": [
    "print('train data:', train_images.shape, len(train_labels))\n",
    "print('train labels:', train_labels)\n",
    "print('test data:', test_images.shape, len(test_labels))\n",
    "print('test labels:', test_labels)"
   ]
  },
  {
   "cell_type": "code",
   "execution_count": 32,
   "id": "ec7a47b1",
   "metadata": {},
   "outputs": [
    {
     "name": "stdout",
     "output_type": "stream",
     "text": [
      "label: 5\n"
     ]
    },
    {
     "data": {
      "image/png": "[encoded data removed]",
      "text/plain": [
       "<Figure size 432x288 with 1 Axes>"
      ]
     },
     "metadata": {
      "needs_background": "light"
     },
     "output_type": "display_data"
    }
   ],
   "source": [
    "import matplotlib.pyplot as plt\n",
    "\n",
    "image = train_images[0]\n",
    "plt.imshow(image)\n",
    "print('label:',train_labels[0])"
   ]
  },
  {
   "cell_type": "code",
   "execution_count": null,
   "id": "3dcab0a1",
   "metadata": {},
   "outputs": [],
   "source": []
  }
 ],
 "metadata": {
  "kernelspec": {
   "display_name": "Python 3",
   "language": "python",
   "name": "python3"
  },
  "language_info": {
   "codemirror_mode": {
    "name": "ipython",
    "version": 3
   },
   "file_extension": ".py",
   "mimetype": "text/x-python",
   "name": "python",
   "nbconvert_exporter": "python",
   "pygments_lexer": "ipython3",
   "version": "3.8.8"
  }
 },
 "nbformat": 4,
 "nbformat_minor": 5
}
