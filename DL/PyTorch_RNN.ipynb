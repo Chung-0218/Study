{
 "cells": [
  {
   "cell_type": "code",
   "execution_count": 1,
   "id": "707d9ce4",
   "metadata": {},
   "outputs": [],
   "source": [
    "import torch\n",
    "import torch.nn as nn\n",
    "import torchvision\n",
    "from torchvision import datasets, transforms\n",
    "from torch.utils.data import DataLoader"
   ]
  },
  {
   "cell_type": "code",
   "execution_count": 2,
   "id": "b3c715ba",
   "metadata": {},
   "outputs": [],
   "source": [
    "inputs = torch.Tensor([1,2,3,4,5,6,7,8,9,10,11,12])\n",
    "\n",
    "# [[1,2,3], [4,5,6], [7,8,9], [10,11,12]]"
   ]
  },
  {
   "cell_type": "code",
   "execution_count": 3,
   "id": "30994253",
   "metadata": {},
   "outputs": [],
   "source": [
    "# Hyper-parameter\n",
    "input_size = 1\n",
    "seq_length = 3\n",
    "hidden_size = 2\n",
    "num_layers = 2\n",
    "batch_size = 4"
   ]
  },
  {
   "cell_type": "code",
   "execution_count": 4,
   "id": "1fa2e53f",
   "metadata": {},
   "outputs": [],
   "source": [
    "# nn.RNN"
   ]
  },
  {
   "cell_type": "code",
   "execution_count": 5,
   "id": "14ed83c8",
   "metadata": {},
   "outputs": [],
   "source": [
    "# Input : input, hidden_0  2개의 input 받음\n",
    "# Output : output, hidden  2개의 output\n",
    "\n",
    "# input : [seq_length, batch_size, input_size]\n",
    "# hidden_0 : network 초기의 hidden state : [num_layers*num_directions, batch_size, input_size]\n",
    "# num directions : Bidirectional RNN일 경우 2, 나머지 1\n",
    "# hidden_0은 따로 초기화 하지 않으면 PyyTorch가 자동으로 0으로 초기화\n",
    "\n",
    "# out : 마지막 RNN layer로부터 매 timesteps 마다의 output\n",
    "# h_n : 모든 RNN layer로부터 마지막 timestep의 hidden value\n",
    "# h_n의 shape : [num_layers*num_directions, batch_size, hidden_size]\n",
    "\n",
    "rnn = nn.RNN(input_size=input_size, hidden_size=hidden_size, num_layers=num_layers, batch_first=True)\n",
    "# batch_first=True : [seq, batch, feature] -> [batch, seq, feature] 으로 바뀜"
   ]
  },
  {
   "cell_type": "code",
   "execution_count": 6,
   "id": "3727e9c1",
   "metadata": {},
   "outputs": [
    {
     "data": {
      "text/plain": [
       "torch.Size([12])"
      ]
     },
     "execution_count": 6,
     "metadata": {},
     "output_type": "execute_result"
    }
   ],
   "source": [
    "# Input\n",
    "inputs.shape"
   ]
  },
  {
   "cell_type": "code",
   "execution_count": 10,
   "id": "85d1d625",
   "metadata": {},
   "outputs": [],
   "source": [
    "inputs = inputs.view(batch_size, seq_length, input_size)"
   ]
  },
  {
   "cell_type": "code",
   "execution_count": 14,
   "id": "8c978af6",
   "metadata": {},
   "outputs": [
    {
     "name": "stdout",
     "output_type": "stream",
     "text": [
      "inputs : torch.Size([4, 3, 1])\n"
     ]
    }
   ],
   "source": [
    "print('inputs :',inputs.shape) # [batch size, seq length, input size]"
   ]
  },
  {
   "cell_type": "code",
   "execution_count": 15,
   "id": "3b6e778f",
   "metadata": {},
   "outputs": [
    {
     "name": "stdout",
     "output_type": "stream",
     "text": [
      "out: torch.Size([4, 3, 2])\n",
      "hidden: torch.Size([2, 4, 2])\n"
     ]
    }
   ],
   "source": [
    "# Output\n",
    "out, hidden = rnn(inputs)\n",
    "print('out:', out.shape) # [batch size, seq length, num_directions*hidden size]\n",
    "print('hidden:', hidden.shape) # [num layers*num directions, batch size, hidden size]"
   ]
  },
  {
   "cell_type": "code",
   "execution_count": 16,
   "id": "2d131f24",
   "metadata": {},
   "outputs": [],
   "source": [
    "# Bi-directional RNN\n",
    "# 시간 순, 시간 역행 순 모두 RNN 적용"
   ]
  },
  {
   "cell_type": "code",
   "execution_count": 20,
   "id": "4430640d",
   "metadata": {},
   "outputs": [],
   "source": [
    "bi_rnn = nn.RNN(input_size=input_size, hidden_size=hidden_size, num_layers=num_layers, batch_first=True, bidirectional=True)"
   ]
  },
  {
   "cell_type": "code",
   "execution_count": 21,
   "id": "83b97f5e",
   "metadata": {},
   "outputs": [
    {
     "data": {
      "text/plain": [
       "torch.Size([4, 3, 1])"
      ]
     },
     "execution_count": 21,
     "metadata": {},
     "output_type": "execute_result"
    }
   ],
   "source": [
    "inputs.shape"
   ]
  },
  {
   "cell_type": "code",
   "execution_count": 22,
   "id": "fd527477",
   "metadata": {},
   "outputs": [],
   "source": [
    "out, hidden = bi_rnn(inputs)"
   ]
  },
  {
   "cell_type": "code",
   "execution_count": 23,
   "id": "e8bb3f90",
   "metadata": {},
   "outputs": [
    {
     "name": "stdout",
     "output_type": "stream",
     "text": [
      "torch.Size([4, 3, 4])\n",
      "torch.Size([4, 4, 2])\n"
     ]
    }
   ],
   "source": [
    "print(out.shape)\n",
    "print(hidden.shape)"
   ]
  },
  {
   "cell_type": "code",
   "execution_count": 24,
   "id": "520cb0da",
   "metadata": {},
   "outputs": [],
   "source": [
    "# Bi-directional RNN 방향 분리"
   ]
  },
  {
   "cell_type": "code",
   "execution_count": 25,
   "id": "556eed42",
   "metadata": {},
   "outputs": [
    {
     "name": "stdout",
     "output_type": "stream",
     "text": [
      "out before: torch.Size([4, 3, 4])\n",
      "out after: torch.Size([4, 3, 2, 2])\n"
     ]
    }
   ],
   "source": [
    "# out\n",
    "print('out before:',out.shape)\n",
    "out = out.view(batch_size, seq_length, 2, hidden_size) # 2: 방향이 앞, 뒤로 나눠짐\n",
    "print('out after:',out.shape)"
   ]
  },
  {
   "cell_type": "code",
   "execution_count": 26,
   "id": "ae6a9d5e",
   "metadata": {},
   "outputs": [
    {
     "name": "stdout",
     "output_type": "stream",
     "text": [
      "out_direc1: torch.Size([4, 3, 2])\n",
      "out_direc2: torch.Size([4, 3, 2])\n"
     ]
    }
   ],
   "source": [
    "out_direc1 = out[:,:,0,:]\n",
    "print('out_direc1:',out_direc1.shape)\n",
    "out_direc2 = out[:,:,1,:]\n",
    "print('out_direc2:',out_direc2.shape)"
   ]
  },
  {
   "cell_type": "code",
   "execution_count": 27,
   "id": "2a0ec534",
   "metadata": {},
   "outputs": [
    {
     "name": "stdout",
     "output_type": "stream",
     "text": [
      "hidden before: torch.Size([4, 4, 2])\n",
      "hidden after: torch.Size([2, 2, 4, 2])\n"
     ]
    }
   ],
   "source": [
    "# h_n\n",
    "print('hidden before:', hidden.shape)\n",
    "hidden = hidden.view(num_layers, 2, batch_size, hidden_size) # 2: directions 수\n",
    "print('hidden after:', hidden.shape)"
   ]
  },
  {
   "cell_type": "code",
   "execution_count": 28,
   "id": "b32c32dc",
   "metadata": {},
   "outputs": [
    {
     "name": "stdout",
     "output_type": "stream",
     "text": [
      "h_n_direc1: torch.Size([2, 4, 2])\n",
      "hidden_direc2: torch.Size([2, 4, 2])\n"
     ]
    }
   ],
   "source": [
    "hidden_direc1 = hidden[:,0,:,:]\n",
    "print('h_n_direc1:',hidden_direc1.shape)\n",
    "hidden_direc2 = hidden[:,1,:,:]\n",
    "print('hidden_direc2:',hidden_direc2.shape)"
   ]
  },
  {
   "cell_type": "code",
   "execution_count": 29,
   "id": "28572230",
   "metadata": {},
   "outputs": [],
   "source": [
    "# RNN Application"
   ]
  },
  {
   "cell_type": "code",
   "execution_count": 30,
   "id": "af089ca7",
   "metadata": {},
   "outputs": [
    {
     "name": "stderr",
     "output_type": "stream",
     "text": [
      "C:\\Users\\sclab\\anaconda3\\lib\\site-packages\\torchvision\\datasets\\mnist.py:498: UserWarning: The given NumPy array is not writeable, and PyTorch does not support non-writeable tensors. This means you can write to the underlying (supposedly non-writeable) NumPy array using the tensor. You may want to copy the array to protect its data or make it writeable before converting it to a tensor. This type of warning will be suppressed for the rest of this program. (Triggered internally at  ..\\torch\\csrc\\utils\\tensor_numpy.cpp:180.)\n",
      "  return torch.from_numpy(parsed.astype(m[2], copy=False)).view(*s)\n"
     ]
    }
   ],
   "source": [
    "import torch\n",
    "import torch.nn as nn\n",
    "import torchvision\n",
    "from torchvision import datasets, transforms\n",
    "from torch.utils.data import DataLoader\n",
    "\n",
    "# MNIST 데이터셋 \n",
    "train_data = datasets.MNIST(\n",
    "    root=\"../data\",\n",
    "    train=True,\n",
    "    download=True,\n",
    "    transform=transforms.ToTensor(),\n",
    ")\n",
    "\n",
    "test_data = datasets.MNIST(\n",
    "    root=\"../data\",\n",
    "    train=False,\n",
    "    download=True,\n",
    "    transform=transforms.ToTensor(),\n",
    ")\n",
    "\n",
    "# Data loader\n",
    "train_loader = DataLoader(train_data, batch_size=128, shuffle=True)\n",
    "test_loader = DataLoader(test_data, batch_size=128, shuffle=False)"
   ]
  },
  {
   "cell_type": "code",
   "execution_count": 31,
   "id": "97e46248",
   "metadata": {},
   "outputs": [],
   "source": [
    "# RNN - many to one\n",
    "class RNN(nn.Module):\n",
    "    def __init__(self, num_classes):\n",
    "        super(RNN, self).__init__()\n",
    "        self.input_size = 28\n",
    "        self.hidden_size = 128\n",
    "        self.num_layers = 2\n",
    "        self.RNN = nn.RNN(input_size=self.input_size, hidden_size=self.hidden_size, num_layers=self.num_layers, batch_first=True)\n",
    "        # batch_first = True이면 (seq, batch, feature) -> (batch, seq, feature)로 바뀜\n",
    "        self.fc = nn.Linear(self.hidden_size, num_classes)\n",
    "    \n",
    "    def forward(self, x):\n",
    "        out, _ = self.RNN(x)  # out: [mini-batch, seq_length, hidden_size]\n",
    "        out = self.fc(out[:, -1, :])\n",
    "        return out\n",
    "\n",
    "device = torch.device('cuda' if torch.cuda.is_available() else 'cpu')\n",
    "model = RNN(num_classes=10).to(device)"
   ]
  },
  {
   "cell_type": "code",
   "execution_count": 32,
   "id": "65244e22",
   "metadata": {},
   "outputs": [],
   "source": [
    "# Loss and optimizer\n",
    "CELoss = nn.CrossEntropyLoss()\n",
    "adam_optimizer = torch.optim.Adam(model.parameters(), lr=0.001)"
   ]
  },
  {
   "cell_type": "code",
   "execution_count": 33,
   "id": "e5d2d34b",
   "metadata": {},
   "outputs": [
    {
     "name": "stdout",
     "output_type": "stream",
     "text": [
      "number of iteration : 469\n",
      "Epoch [1/3], Loss: 0.4723\n",
      "Epoch [2/3], Loss: 0.3501\n",
      "Epoch [3/3], Loss: 0.1639\n"
     ]
    }
   ],
   "source": [
    "# Train the model\n",
    "total_epochs = 3\n",
    "sequence_length = 28\n",
    "input_size = 28\n",
    "\n",
    "print('number of iteration :', len(train_loader))\n",
    "\n",
    "total_step = len(train_loader)\n",
    "for epoch in range(total_epochs):\n",
    "    for i, (images, labels) in enumerate(train_loader):\n",
    "        images = images.reshape(-1, sequence_length, input_size).to(device)\n",
    "        labels = labels.to(device)\n",
    "        \n",
    "        # Forward pass\n",
    "        outputs = model(images)\n",
    "        loss = CELoss(outputs, labels)\n",
    "        \n",
    "        # Backward and optimize\n",
    "        adam_optimizer.zero_grad()\n",
    "        loss.backward()\n",
    "        adam_optimizer.step()\n",
    "        \n",
    "    print ('Epoch [{}/{}], Loss: {:.4f}'.format(epoch+1, total_epochs, loss.item()))"
   ]
  },
  {
   "cell_type": "code",
   "execution_count": 34,
   "id": "4e395938",
   "metadata": {},
   "outputs": [
    {
     "name": "stdout",
     "output_type": "stream",
     "text": [
      "Test Accuracy of the model on the 10000 test images: 95.84 %\n"
     ]
    }
   ],
   "source": [
    "# 학습이 끝난 후 모델 성능 테스트\n",
    "# test에서는 back propagation 작업을 하지 않으므로 gradient를 계산하지 않도록 함 - 메모리의 효율성을 위해\n",
    "\n",
    "model.eval()\n",
    "with torch.no_grad():\n",
    "    correct = 0\n",
    "    total = 0\n",
    "    for images, labels in test_loader:\n",
    "        images = images.reshape(-1, sequence_length, input_size).to(device)\n",
    "        labels = labels.to(device)\n",
    "        outputs = model(images)\n",
    "        _, predicted = torch.max(outputs.data, 1)\n",
    "        total += labels.size(0)\n",
    "        correct += (predicted == labels).sum().item()\n",
    "\n",
    "    print('Test Accuracy of the model on the 10000 test images: {} %'.format(100 * correct / total))"
   ]
  },
  {
   "cell_type": "code",
   "execution_count": 35,
   "id": "0ae56741",
   "metadata": {},
   "outputs": [],
   "source": [
    "# 학습한 모델을 model_RNN.ckpt라는 이름으로 저장\n",
    "torch.save(model.state_dict(), 'model_RNN.ckpt')"
   ]
  },
  {
   "cell_type": "code",
   "execution_count": 36,
   "id": "e531dbf6",
   "metadata": {},
   "outputs": [],
   "source": [
    "# Bidirectional RNN Application"
   ]
  },
  {
   "cell_type": "code",
   "execution_count": 37,
   "id": "f68b3726",
   "metadata": {},
   "outputs": [],
   "source": [
    "# Many to one\n",
    "class Bi_RNN(nn.Module):\n",
    "    def __init__(self, num_classes):\n",
    "        super(Bi_RNN, self).__init__()\n",
    "        self.input_size = 28\n",
    "        self.hidden_size = 128\n",
    "        self.num_layers = 2\n",
    "        self.RNN = nn.RNN(input_size=self.input_size, hidden_size=self.hidden_size, num_layers=self.num_layers, batch_first=True, bidirectional=True) # bidirectional=True만 설정해주면 됨!\n",
    "        # batch_first = True이면 (seq, batch, feature) -> (batch, seq, feature)로 바뀜\n",
    "        self.fc = nn.Linear(self.hidden_size*2, num_classes) # Bidrectional RNN의 경우 linear에서 hidden_size * 2 해주면 됨!\n",
    "    \n",
    "    def forward(self, x):\n",
    "        out, _ = self.RNN(x)  # out: [mini-batch, seq_length, hidden_size]\n",
    "        out = self.fc(out[:, -1, :])\n",
    "        return out\n",
    "\n",
    "model = Bi_RNN(num_classes=10).to(device)"
   ]
  },
  {
   "cell_type": "code",
   "execution_count": 38,
   "id": "bc4b3fb4",
   "metadata": {},
   "outputs": [],
   "source": [
    "# Loss and optimizer\n",
    "CELoss = nn.CrossEntropyLoss()\n",
    "adam_optimizer = torch.optim.Adam(model.parameters(), lr=0.001)"
   ]
  },
  {
   "cell_type": "code",
   "execution_count": 39,
   "id": "5f8815ac",
   "metadata": {},
   "outputs": [
    {
     "name": "stdout",
     "output_type": "stream",
     "text": [
      "number of iteration : 469\n",
      "Epoch [1/3], Loss: 0.3342\n",
      "Epoch [2/3], Loss: 0.2826\n",
      "Epoch [3/3], Loss: 0.1866\n"
     ]
    }
   ],
   "source": [
    "# Train the model\n",
    "total_epochs = 3\n",
    "sequence_length = 28\n",
    "input_size = 28\n",
    "\n",
    "print('number of iteration :', len(train_loader))\n",
    "\n",
    "total_step = len(train_loader)\n",
    "for epoch in range(total_epochs):\n",
    "    for i, (images, labels) in enumerate(train_loader):\n",
    "        images = images.reshape(-1, sequence_length, input_size).to(device)\n",
    "        labels = labels.to(device)\n",
    "        \n",
    "        # Forward pass\n",
    "        outputs = model(images)\n",
    "        loss = CELoss(outputs, labels)\n",
    "        \n",
    "        # Backward and optimize\n",
    "        adam_optimizer.zero_grad()\n",
    "        loss.backward()\n",
    "        adam_optimizer.step()\n",
    "        \n",
    "    print ('Epoch [{}/{}], Loss: {:.4f}'.format(epoch+1, total_epochs, loss.item()))"
   ]
  },
  {
   "cell_type": "code",
   "execution_count": 40,
   "id": "cac42aa2",
   "metadata": {},
   "outputs": [
    {
     "name": "stdout",
     "output_type": "stream",
     "text": [
      "Test Accuracy of the model on the 10000 test images: 95.98 %\n"
     ]
    }
   ],
   "source": [
    "# 학습이 끝난 후 모델 성능 테스트\n",
    "# test에서는 back propagation 작업을 하지 않으므로 gradient를 계산하지 않도록 함 - 메모리의 효율성을 위해\n",
    "\n",
    "model.eval()\n",
    "with torch.no_grad():\n",
    "    correct = 0\n",
    "    total = 0\n",
    "    for images, labels in test_loader:\n",
    "        images = images.reshape(-1, sequence_length, input_size).to(device)\n",
    "        labels = labels.to(device)\n",
    "        outputs = model(images)\n",
    "        _, predicted = torch.max(outputs.data, 1)\n",
    "        total += labels.size(0)\n",
    "        correct += (predicted == labels).sum().item()\n",
    "\n",
    "    print('Test Accuracy of the model on the 10000 test images: {} %'.format(100 * correct / total)) "
   ]
  },
  {
   "cell_type": "code",
   "execution_count": null,
   "id": "5bc154ee",
   "metadata": {},
   "outputs": [],
   "source": []
  }
 ],
 "metadata": {
  "kernelspec": {
   "display_name": "Python 3",
   "language": "python",
   "name": "python3"
  },
  "language_info": {
   "codemirror_mode": {
    "name": "ipython",
    "version": 3
   },
   "file_extension": ".py",
   "mimetype": "text/x-python",
   "name": "python",
   "nbconvert_exporter": "python",
   "pygments_lexer": "ipython3",
   "version": "3.8.8"
  }
 },
 "nbformat": 4,
 "nbformat_minor": 5
}
