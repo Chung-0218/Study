{
 "cells": [
  {
   "cell_type": "code",
   "execution_count": 1,
   "id": "3acf3952",
   "metadata": {},
   "outputs": [],
   "source": [
    "import torch\n",
    "import torch.nn as nn\n",
    "import torchvision\n",
    "from torchvision import datasets, transforms\n",
    "from torch.utils.data import DataLoader"
   ]
  },
  {
   "cell_type": "code",
   "execution_count": 2,
   "id": "fbfbb8cb",
   "metadata": {},
   "outputs": [],
   "source": [
    "inputs = torch.Tensor([1,2,3,4,5,6,7,8,9,10,11,12])"
   ]
  },
  {
   "cell_type": "code",
   "execution_count": 3,
   "id": "af733c8c",
   "metadata": {},
   "outputs": [],
   "source": [
    "input_size = 1\n",
    "seq_length = 3\n",
    "hidden_size = 2\n",
    "num_layers = 2\n",
    "batch_size = 4"
   ]
  },
  {
   "cell_type": "code",
   "execution_count": 4,
   "id": "a4b505ce",
   "metadata": {},
   "outputs": [],
   "source": [
    "# nn.LSTM"
   ]
  },
  {
   "cell_type": "code",
   "execution_count": 5,
   "id": "721a05a8",
   "metadata": {},
   "outputs": [],
   "source": [
    "# Input : input과 hidden_0 이라는 2개의 input을 받음\n",
    "# - input : neural network로 들어가는 sequence input [seq_length, batch size, input size]\n",
    "# - hidden_0 : network의 초기 hidden state [num layers*num directions, batch size, input size] \n",
    "#     - num directions : Bidirectional RNN일 경우 2, 나머지 1\n",
    "#     - hidden_0은 따로 초기화 하지 않으면 Pytorch에 의해 자동으로 모두 0으로 초기화 됨"
   ]
  },
  {
   "cell_type": "code",
   "execution_count": 6,
   "id": "2f3adca6",
   "metadata": {},
   "outputs": [],
   "source": [
    "# Output : out과 hidden이라는 2개의 출력을 냄\n",
    "# - out : 마지막 RNN layer로부터 매 timesteps마다의 output\n",
    "# - h_n : 모든 RNN layer로부터 마지막 timestep의 hidden value\n",
    "#     - (num_layers* num_directions, batch, hidden_size)"
   ]
  },
  {
   "cell_type": "code",
   "execution_count": 7,
   "id": "4e120a60",
   "metadata": {},
   "outputs": [],
   "source": [
    "lstm = nn.LSTM(input_size=input_size, hidden_size=hidden_size, num_layers=num_layers, batch_first=True)\n",
    "# batch_first = True이면 (seq, batch, feature) -> (batch, seq, feature)로 바뀜"
   ]
  },
  {
   "cell_type": "code",
   "execution_count": 8,
   "id": "bf2ac2e7",
   "metadata": {},
   "outputs": [
    {
     "name": "stdout",
     "output_type": "stream",
     "text": [
      "inputs before: torch.Size([12])\n",
      "inputs after: torch.Size([4, 3, 1])\n"
     ]
    }
   ],
   "source": [
    "# Input\n",
    "print('inputs before:', inputs.shape)\n",
    "inputs = inputs.view(batch_size, seq_length, input_size)\n",
    "print('inputs after:', inputs.shape) # [batch_size, seq_length, input_size]"
   ]
  },
  {
   "cell_type": "code",
   "execution_count": 9,
   "id": "5d0f04bb",
   "metadata": {},
   "outputs": [
    {
     "name": "stdout",
     "output_type": "stream",
     "text": [
      "out: torch.Size([4, 3, 2])\n",
      "hidden: torch.Size([2, 4, 2])\n",
      "cell: torch.Size([2, 4, 2])\n"
     ]
    }
   ],
   "source": [
    "# Output\n",
    "hidden_init = torch.zeros(num_layers, batch_size, hidden_size)\n",
    "cell_init = torch.zeros(num_layers, batch_size, hidden_size)\n",
    "\n",
    "out, (hidden, cell) = lstm(inputs, (hidden_init, cell_init))\n",
    "print('out:',out.shape) # [batch size, seq length, num_directions*hidden size]\n",
    "print('hidden:',hidden.shape) # [num directions * num layers, batch size, hidden size]\n",
    "print('cell:',cell.shape) # [num directions * num layers, batch size, hidden size]"
   ]
  },
  {
   "cell_type": "code",
   "execution_count": 10,
   "id": "a8fb7d23",
   "metadata": {},
   "outputs": [],
   "source": [
    "# LSTM Application"
   ]
  },
  {
   "cell_type": "code",
   "execution_count": 11,
   "id": "5442ede5",
   "metadata": {},
   "outputs": [
    {
     "name": "stderr",
     "output_type": "stream",
     "text": [
      "C:\\Users\\sclab\\anaconda3\\lib\\site-packages\\torchvision\\datasets\\mnist.py:498: UserWarning: The given NumPy array is not writeable, and PyTorch does not support non-writeable tensors. This means you can write to the underlying (supposedly non-writeable) NumPy array using the tensor. You may want to copy the array to protect its data or make it writeable before converting it to a tensor. This type of warning will be suppressed for the rest of this program. (Triggered internally at  ..\\torch\\csrc\\utils\\tensor_numpy.cpp:180.)\n",
      "  return torch.from_numpy(parsed.astype(m[2], copy=False)).view(*s)\n"
     ]
    }
   ],
   "source": [
    "import torch\n",
    "import torch.nn as nn\n",
    "import torchvision\n",
    "from torchvision import datasets, transforms\n",
    "from torch.utils.data import DataLoader\n",
    "\n",
    "# MNIST 데이터셋 \n",
    "train_data = datasets.MNIST(\n",
    "    root=\"../data\",\n",
    "    train=True,\n",
    "    download=True,\n",
    "    transform=transforms.ToTensor(),\n",
    ")\n",
    "\n",
    "test_data = datasets.MNIST(\n",
    "    root=\"../data\",\n",
    "    train=False,\n",
    "    download=True,\n",
    "    transform=transforms.ToTensor(),\n",
    ")\n",
    "\n",
    "# Data loader\n",
    "train_loader = DataLoader(train_data, batch_size=128, shuffle=True)\n",
    "test_loader = DataLoader(test_data, batch_size=128, shuffle=False)"
   ]
  },
  {
   "cell_type": "code",
   "execution_count": 12,
   "id": "aced0163",
   "metadata": {},
   "outputs": [],
   "source": [
    "# LSTM - many to one\n",
    "class LSTM(nn.Module):\n",
    "    def __init__(self, num_classes):\n",
    "        super(LSTM, self).__init__()\n",
    "        self.input_size = 28\n",
    "        self.hidden_size = 128\n",
    "        self.num_layers = 2\n",
    "        self.LSTM = nn.LSTM(input_size=self.input_size, hidden_size=self.hidden_size, num_layers=self.num_layers, batch_first=True)\n",
    "        # batch_first = True이면 (seq, batch, feature) -> (batch, seq, feature)로 바뀜\n",
    "        self.fc = nn.Linear(self.hidden_size, num_classes)\n",
    "    \n",
    "    def forward(self, x):\n",
    "        # hidden state와 cell state 초기화\n",
    "        hidden_init = torch.zeros(self.num_layers, x.size(0), self.hidden_size).to(device)\n",
    "        cell_init = torch.zeros(self.num_layers, x.size(0), self.hidden_size).to(device)\n",
    "        \n",
    "        out, _ = self.LSTM(x, (hidden_init, cell_init))  # out: [mini-batch, seq_length, hidden_size]\n",
    "        out = self.fc(out[:, -1, :])\n",
    "        return out\n",
    "\n",
    "device = torch.device('cuda' if torch.cuda.is_available() else 'cpu')\n",
    "model = LSTM(num_classes=10).to(device)"
   ]
  },
  {
   "cell_type": "code",
   "execution_count": 13,
   "id": "9865cefa",
   "metadata": {},
   "outputs": [],
   "source": [
    "# Loss and optimizer\n",
    "CELoss = nn.CrossEntropyLoss()\n",
    "adam_optimizer = torch.optim.Adam(model.parameters(), lr=0.001)"
   ]
  },
  {
   "cell_type": "code",
   "execution_count": 14,
   "id": "157dee8a",
   "metadata": {},
   "outputs": [
    {
     "name": "stdout",
     "output_type": "stream",
     "text": [
      "number of iteration : 469\n",
      "Epoch [1/3], Loss: 0.1331\n",
      "Epoch [2/3], Loss: 0.1478\n",
      "Epoch [3/3], Loss: 0.0221\n"
     ]
    }
   ],
   "source": [
    "# Train the model\n",
    "total_epochs = 3\n",
    "sequence_length = 28\n",
    "input_size = 28\n",
    "\n",
    "print('number of iteration :', len(train_loader))\n",
    "\n",
    "total_step = len(train_loader)\n",
    "for epoch in range(total_epochs):\n",
    "    for i, (images, labels) in enumerate(train_loader):\n",
    "        images = images.reshape(-1, sequence_length, input_size).to(device)\n",
    "        labels = labels.to(device)\n",
    "        \n",
    "        # Forward pass\n",
    "        outputs = model(images)\n",
    "        loss = CELoss(outputs, labels)\n",
    "        \n",
    "        # Backward and optimize\n",
    "        adam_optimizer.zero_grad()\n",
    "        loss.backward()\n",
    "        adam_optimizer.step()\n",
    "        \n",
    "    print ('Epoch [{}/{}], Loss: {:.4f}'.format(epoch+1, total_epochs, loss.item()))"
   ]
  },
  {
   "cell_type": "code",
   "execution_count": 15,
   "id": "aeeedc1b",
   "metadata": {},
   "outputs": [
    {
     "name": "stdout",
     "output_type": "stream",
     "text": [
      "Test Accuracy of the model on the 10000 test images: 97.76 %\n"
     ]
    }
   ],
   "source": [
    "# 학습이 끝난 후 모델 성능 테스트\n",
    "# test에서는 back propagation 작업을 하지 않으므로 gradient를 계산하지 않도록 함 - 메모리의 효율성을 위해\n",
    "\n",
    "model.eval()\n",
    "with torch.no_grad():\n",
    "    correct = 0\n",
    "    total = 0\n",
    "    for images, labels in test_loader:\n",
    "        images = images.reshape(-1, sequence_length, input_size).to(device)\n",
    "        labels = labels.to(device)\n",
    "        outputs = model(images)\n",
    "        _, predicted = torch.max(outputs.data, 1)\n",
    "        total += labels.size(0)\n",
    "        correct += (predicted == labels).sum().item()\n",
    "\n",
    "    print('Test Accuracy of the model on the 10000 test images: {} %'.format(100 * correct / total))"
   ]
  },
  {
   "cell_type": "code",
   "execution_count": 16,
   "id": "38e9ac50",
   "metadata": {},
   "outputs": [],
   "source": [
    "# 학습한 모델을 model_RNN.ckpt라는 이름으로 저장\n",
    "torch.save(model.state_dict(), 'model_LSTM.ckpt')"
   ]
  },
  {
   "cell_type": "code",
   "execution_count": 17,
   "id": "7796812c",
   "metadata": {},
   "outputs": [],
   "source": [
    "# Bidirectional LSTM Application"
   ]
  },
  {
   "cell_type": "code",
   "execution_count": 30,
   "id": "6d8257c1",
   "metadata": {},
   "outputs": [],
   "source": [
    "# Bidirectional LSTM - many to one\n",
    "class Bi_LSTM(nn.Module):\n",
    "    def __init__(self, num_classes):\n",
    "        super(Bi_LSTM, self).__init__()\n",
    "        self.input_size = 28\n",
    "        self.hidden_size = 128\n",
    "        self.num_layers = 2\n",
    "        self.LSTM = nn.LSTM(input_size=self.input_size, hidden_size=self.hidden_size, num_layers=self.num_layers, batch_first=True, bidirectional=True)\n",
    "        # batch_first = True이면 (seq, batch, feature) -> (batch, seq, feature)로 바뀜\n",
    "        self.fc = nn.Linear(self.hidden_size*2, num_classes)\n",
    "    \n",
    "    def forward(self, x):\n",
    "        # hidden state와 cell state 초기화\n",
    "        hidden_init = torch.zeros(self.num_layers*2, x.size(0), self.hidden_size).to(device)\n",
    "        cell_init = torch.zeros(self.num_layers*2, x.size(0), self.hidden_size).to(device)\n",
    "        \n",
    "        out, _ = self.LSTM(x, (hidden_init, cell_init))  # out: [mini-batch, seq_length, hidden_size]\n",
    "        out = self.fc(out[:, -1, :])\n",
    "        return out\n",
    "\n",
    "device = torch.device('cuda' if torch.cuda.is_available() else 'cpu')\n",
    "model = Bi_LSTM(num_classes=10).to(device)"
   ]
  },
  {
   "cell_type": "code",
   "execution_count": 31,
   "id": "339ac453",
   "metadata": {},
   "outputs": [],
   "source": [
    "# Loss and optimizer\n",
    "CELoss = nn.CrossEntropyLoss()\n",
    "adam_optimizer = torch.optim.Adam(model.parameters(), lr=0.001)"
   ]
  },
  {
   "cell_type": "code",
   "execution_count": 32,
   "id": "2682cb88",
   "metadata": {},
   "outputs": [
    {
     "name": "stdout",
     "output_type": "stream",
     "text": [
      "number of iteration : 469\n",
      "Epoch [1/10], Loss: 0.1693\n",
      "Epoch [2/10], Loss: 0.1598\n",
      "Epoch [3/10], Loss: 0.0550\n",
      "Epoch [4/10], Loss: 0.0269\n",
      "Epoch [5/10], Loss: 0.1519\n",
      "Epoch [6/10], Loss: 0.0906\n",
      "Epoch [7/10], Loss: 0.0078\n",
      "Epoch [8/10], Loss: 0.0884\n",
      "Epoch [9/10], Loss: 0.0051\n",
      "Epoch [10/10], Loss: 0.0419\n"
     ]
    }
   ],
   "source": [
    "# Train the model\n",
    "total_epochs = 10\n",
    "sequence_length = 28\n",
    "input_size = 28\n",
    "\n",
    "print('number of iteration :', len(train_loader))\n",
    "\n",
    "total_step = len(train_loader)\n",
    "for epoch in range(total_epochs):\n",
    "    for i, (images, labels) in enumerate(train_loader):\n",
    "        images = images.reshape(-1, sequence_length, input_size).to(device)\n",
    "        labels = labels.to(device)\n",
    "        \n",
    "        # Forward pass\n",
    "        outputs = model(images)\n",
    "        loss = CELoss(outputs, labels)\n",
    "        \n",
    "        # Backward and optimize\n",
    "        adam_optimizer.zero_grad()\n",
    "        loss.backward()\n",
    "        adam_optimizer.step()\n",
    "        \n",
    "    print ('Epoch [{}/{}], Loss: {:.4f}'.format(epoch+1, total_epochs, loss.item()))"
   ]
  },
  {
   "cell_type": "code",
   "execution_count": 33,
   "id": "26a07836",
   "metadata": {},
   "outputs": [
    {
     "name": "stdout",
     "output_type": "stream",
     "text": [
      "Test Accuracy of the model on the 10000 test images: 98.69 %\n"
     ]
    }
   ],
   "source": [
    "# 학습이 끝난 후 모델 성능 테스트\n",
    "# test에서는 back propagation 작업을 하지 않으므로 gradient를 계산하지 않도록 함 - 메모리의 효율성을 위해\n",
    "\n",
    "model.eval()\n",
    "with torch.no_grad():\n",
    "    correct = 0\n",
    "    total = 0\n",
    "    for images, labels in test_loader:\n",
    "        images = images.reshape(-1, sequence_length, input_size).to(device)\n",
    "        labels = labels.to(device)\n",
    "        outputs = model(images)\n",
    "        _, predicted = torch.max(outputs.data, 1)\n",
    "        total += labels.size(0)\n",
    "        correct += (predicted == labels).sum().item()\n",
    "\n",
    "    print('Test Accuracy of the model on the 10000 test images: {} %'.format(100 * correct / total))"
   ]
  },
  {
   "cell_type": "code",
   "execution_count": null,
   "id": "179feb53",
   "metadata": {},
   "outputs": [],
   "source": []
  }
 ],
 "metadata": {
  "kernelspec": {
   "display_name": "Python 3",
   "language": "python",
   "name": "python3"
  },
  "language_info": {
   "codemirror_mode": {
    "name": "ipython",
    "version": 3
   },
   "file_extension": ".py",
   "mimetype": "text/x-python",
   "name": "python",
   "nbconvert_exporter": "python",
   "pygments_lexer": "ipython3",
   "version": "3.8.8"
  }
 },
 "nbformat": 4,
 "nbformat_minor": 5
}
