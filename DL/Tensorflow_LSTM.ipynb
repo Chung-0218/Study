{
 "cells": [
  {
   "cell_type": "code",
   "execution_count": 1,
   "id": "a28c7651",
   "metadata": {},
   "outputs": [],
   "source": [
    "import tensorflow as tf\n",
    "from tensorflow import keras\n",
    "from tensorflow.keras import Model, layers, optimizers, datasets\n",
    "import numpy as np"
   ]
  },
  {
   "cell_type": "code",
   "execution_count": 2,
   "id": "1e03e859",
   "metadata": {},
   "outputs": [],
   "source": [
    "x = tf.random.normal(shape=(32,20,100), mean=0., stddev=1.)"
   ]
  },
  {
   "cell_type": "code",
   "execution_count": 3,
   "id": "3b69deaf",
   "metadata": {},
   "outputs": [],
   "source": [
    "lstm = layers.LSTM(units=10)"
   ]
  },
  {
   "cell_type": "code",
   "execution_count": 4,
   "id": "30ea6a3d",
   "metadata": {},
   "outputs": [
    {
     "data": {
      "text/plain": [
       "TensorShape([32, 20, 100])"
      ]
     },
     "execution_count": 4,
     "metadata": {},
     "output_type": "execute_result"
    }
   ],
   "source": [
    "x.shape"
   ]
  },
  {
   "cell_type": "code",
   "execution_count": 5,
   "id": "15144857",
   "metadata": {},
   "outputs": [
    {
     "data": {
      "text/plain": [
       "TensorShape([32, 10])"
      ]
     },
     "execution_count": 5,
     "metadata": {},
     "output_type": "execute_result"
    }
   ],
   "source": [
    "output = lstm(x)\n",
    "output.shape"
   ]
  },
  {
   "cell_type": "code",
   "execution_count": 7,
   "id": "af9c186f",
   "metadata": {},
   "outputs": [],
   "source": [
    "lstm2 = layers.LSTM(units=10, return_sequences=True, return_state=True) # [batch_size, timesteps, features]"
   ]
  },
  {
   "cell_type": "code",
   "execution_count": 9,
   "id": "1b25ecd7",
   "metadata": {},
   "outputs": [
    {
     "name": "stdout",
     "output_type": "stream",
     "text": [
      "output2: (32, 20, 10)\n",
      "final_hidden_state: (32, 10)\n",
      "final_cell_state: (32, 10)\n"
     ]
    }
   ],
   "source": [
    "output2, final_hidden_state, final_cell_state = lstm2(x)\n",
    "print('output2:',output2.shape)\n",
    "print('final_hidden_state:',final_hidden_state.shape)\n",
    "print('final_cell_state:',final_cell_state.shape)"
   ]
  },
  {
   "cell_type": "code",
   "execution_count": 10,
   "id": "fdd479ad",
   "metadata": {},
   "outputs": [],
   "source": [
    "# LSTM Application"
   ]
  },
  {
   "cell_type": "code",
   "execution_count": 15,
   "id": "4a0c3bd4",
   "metadata": {},
   "outputs": [],
   "source": [
    "class LSTM(Model):\n",
    "    def __init__(self, units1, units2, num_classes):\n",
    "        super(LSTM, self).__init__()\n",
    "        \n",
    "        self.sequential = tf.keras.Sequential([\n",
    "            layers.LSTM(units1, return_sequences=True),\n",
    "            layers.BatchNormalization(),\n",
    "            layers.LSTM(units2),\n",
    "            layers.BatchNormalization(),\n",
    "            layers.Dense(num_classes, activation=tf.nn.softmax)\n",
    "        ])\n",
    "        \n",
    "    def call(self, x):\n",
    "        out = self.sequential(x)\n",
    "        return out"
   ]
  },
  {
   "cell_type": "code",
   "execution_count": 16,
   "id": "d3908c08",
   "metadata": {},
   "outputs": [],
   "source": [
    "(x_train, y_train), (x_test, y_test) = datasets.mnist.load_data()"
   ]
  },
  {
   "cell_type": "code",
   "execution_count": 17,
   "id": "074328df",
   "metadata": {},
   "outputs": [],
   "source": [
    "x_train = x_train/255.0\n",
    "x_test = x_test/255.0"
   ]
  },
  {
   "cell_type": "code",
   "execution_count": 19,
   "id": "a3838a19",
   "metadata": {},
   "outputs": [],
   "source": [
    "units_1 = 128\n",
    "units_2 = 256\n",
    "num_classes = 10\n",
    "\n",
    "model = LSTM(units_1, units_2, num_classes)"
   ]
  },
  {
   "cell_type": "code",
   "execution_count": 21,
   "id": "5743133c",
   "metadata": {},
   "outputs": [],
   "source": [
    "model.compile(optimizer=\"sgd\",\n",
    "              loss=keras.losses.SparseCategoricalCrossentropy(),\n",
    "               metrics=[\"accuracy\"])"
   ]
  },
  {
   "cell_type": "code",
   "execution_count": 22,
   "id": "c9b2dc06",
   "metadata": {},
   "outputs": [
    {
     "name": "stdout",
     "output_type": "stream",
     "text": [
      "Epoch 1/3\n",
      "469/469 [==============================] - 51s 103ms/step - loss: 0.6476 - accuracy: 0.8000 - val_loss: 1.0895 - val_accuracy: 0.6144\n",
      "Epoch 2/3\n",
      "469/469 [==============================] - 48s 102ms/step - loss: 0.3086 - accuracy: 0.9050 - val_loss: 0.3088 - val_accuracy: 0.8997\n",
      "Epoch 3/3\n",
      "469/469 [==============================] - 47s 101ms/step - loss: 0.2158 - accuracy: 0.9342 - val_loss: 0.1971 - val_accuracy: 0.9372\n"
     ]
    },
    {
     "data": {
      "text/plain": [
       "<keras.callbacks.History at 0x254b3c1e670>"
      ]
     },
     "execution_count": 22,
     "metadata": {},
     "output_type": "execute_result"
    }
   ],
   "source": [
    "model.fit(x_train, y_train, validation_data=(x_test, y_test), batch_size=128, epochs=3)"
   ]
  },
  {
   "cell_type": "code",
   "execution_count": 23,
   "id": "3d24241a",
   "metadata": {},
   "outputs": [],
   "source": [
    "# Bi-directional LSTM Application"
   ]
  },
  {
   "cell_type": "code",
   "execution_count": 27,
   "id": "a13bf238",
   "metadata": {},
   "outputs": [],
   "source": [
    "class Bi_LSTM(Model):\n",
    "    def __init__(self, units1, units2, num_classes):\n",
    "        super(Bi_LSTM, self).__init__()\n",
    "        \n",
    "        self.sequential = tf.keras.Sequential([\n",
    "            layers.Bidirectional(layers.LSTM(units1, return_sequences=True)),\n",
    "            layers.BatchNormalization(),\n",
    "            layers.Bidirectional(layers.LSTM(units2)),\n",
    "            layers.BatchNormalization(),\n",
    "            layers.Dense(num_classes, activation=tf.nn.softmax)\n",
    "        ])\n",
    "        \n",
    "    def call(self, x):\n",
    "        out = self.sequential(x)\n",
    "        return out"
   ]
  },
  {
   "cell_type": "code",
   "execution_count": 28,
   "id": "f619d5e4",
   "metadata": {},
   "outputs": [],
   "source": [
    "model = Bi_LSTM(units_1, units_2, num_classes)"
   ]
  },
  {
   "cell_type": "code",
   "execution_count": 29,
   "id": "eb8f3483",
   "metadata": {},
   "outputs": [],
   "source": [
    "model.compile(optimizer=\"sgd\",\n",
    "             loss=keras.losses.SparseCategoricalCrossentropy(),\n",
    "              metrics=[\"accuracy\"]\n",
    ")"
   ]
  },
  {
   "cell_type": "code",
   "execution_count": 30,
   "id": "80f57734",
   "metadata": {},
   "outputs": [
    {
     "name": "stdout",
     "output_type": "stream",
     "text": [
      "Epoch 1/3\n",
      "469/469 [==============================] - 106s 216ms/step - loss: 0.4472 - accuracy: 0.8693 - val_loss: 0.7397 - val_accuracy: 0.7747\n",
      "Epoch 2/3\n",
      "469/469 [==============================] - 104s 221ms/step - loss: 0.2030 - accuracy: 0.9414 - val_loss: 0.1714 - val_accuracy: 0.9485\n",
      "Epoch 3/3\n",
      "469/469 [==============================] - 104s 221ms/step - loss: 0.1444 - accuracy: 0.9581 - val_loss: 0.1241 - val_accuracy: 0.9616\n"
     ]
    },
    {
     "data": {
      "text/plain": [
       "<keras.callbacks.History at 0x254b69d5430>"
      ]
     },
     "execution_count": 30,
     "metadata": {},
     "output_type": "execute_result"
    }
   ],
   "source": [
    "model.fit(x_train, y_train, validation_data=(x_test, y_test), batch_size=128, epochs=3)"
   ]
  },
  {
   "cell_type": "code",
   "execution_count": null,
   "id": "40fb37f4",
   "metadata": {},
   "outputs": [],
   "source": []
  }
 ],
 "metadata": {
  "kernelspec": {
   "display_name": "Python 3",
   "language": "python",
   "name": "python3"
  },
  "language_info": {
   "codemirror_mode": {
    "name": "ipython",
    "version": 3
   },
   "file_extension": ".py",
   "mimetype": "text/x-python",
   "name": "python",
   "nbconvert_exporter": "python",
   "pygments_lexer": "ipython3",
   "version": "3.8.8"
  }
 },
 "nbformat": 4,
 "nbformat_minor": 5
}
