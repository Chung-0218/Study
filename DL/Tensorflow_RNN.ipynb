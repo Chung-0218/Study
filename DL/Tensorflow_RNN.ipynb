{
 "cells": [
  {
   "cell_type": "code",
   "execution_count": 1,
   "id": "9b707182",
   "metadata": {},
   "outputs": [],
   "source": [
    "import tensorflow as tf\n",
    "from tensorflow import keras\n",
    "from tensorflow.keras import Model, layers, optimizers, datasets\n",
    "import numpy as np"
   ]
  },
  {
   "cell_type": "code",
   "execution_count": 3,
   "id": "b7d5e892",
   "metadata": {},
   "outputs": [],
   "source": [
    "x = tf.random.normal(shape=(32,20,100), mean=0., stddev=1.)"
   ]
  },
  {
   "cell_type": "code",
   "execution_count": 4,
   "id": "4460748b",
   "metadata": {},
   "outputs": [],
   "source": [
    "rnn = layers.SimpleRNN(units=10) # unit은 output의 dimension (hidden dim)"
   ]
  },
  {
   "cell_type": "code",
   "execution_count": 5,
   "id": "574e490f",
   "metadata": {},
   "outputs": [
    {
     "data": {
      "text/plain": [
       "TensorShape([32, 20, 100])"
      ]
     },
     "execution_count": 5,
     "metadata": {},
     "output_type": "execute_result"
    }
   ],
   "source": [
    "x.shape # [batch_size, timestep, features]"
   ]
  },
  {
   "cell_type": "code",
   "execution_count": 6,
   "id": "05b986b2",
   "metadata": {},
   "outputs": [
    {
     "data": {
      "text/plain": [
       "TensorShape([32, 10])"
      ]
     },
     "execution_count": 6,
     "metadata": {},
     "output_type": "execute_result"
    }
   ],
   "source": [
    "output = rnn(x)\n",
    "output.shape"
   ]
  },
  {
   "cell_type": "code",
   "execution_count": 7,
   "id": "32a34ea6",
   "metadata": {},
   "outputs": [],
   "source": [
    "rnn2 = layers.SimpleRNN(units=10, return_sequences=True)\n",
    "# output sequence 마지막 output을 return 할지(False-default), full sequence를 return(True)"
   ]
  },
  {
   "cell_type": "code",
   "execution_count": 8,
   "id": "1d07401d",
   "metadata": {},
   "outputs": [],
   "source": [
    "output2 = rnn2(x)"
   ]
  },
  {
   "cell_type": "code",
   "execution_count": 10,
   "id": "ba9d85a2",
   "metadata": {},
   "outputs": [
    {
     "data": {
      "text/plain": [
       "TensorShape([32, 20, 10])"
      ]
     },
     "execution_count": 10,
     "metadata": {},
     "output_type": "execute_result"
    }
   ],
   "source": [
    "output2.shape"
   ]
  },
  {
   "cell_type": "code",
   "execution_count": 11,
   "id": "adbb04b4",
   "metadata": {},
   "outputs": [],
   "source": [
    "rnn3 = layers.SimpleRNN(units=10, return_sequences=True, return_state=True)\n",
    "# output외에 final_state도 return 할지(True)"
   ]
  },
  {
   "cell_type": "code",
   "execution_count": 12,
   "id": "631e01f2",
   "metadata": {},
   "outputs": [],
   "source": [
    "output3, final_state = rnn3(x)"
   ]
  },
  {
   "cell_type": "code",
   "execution_count": 13,
   "id": "2f97fada",
   "metadata": {},
   "outputs": [
    {
     "name": "stdout",
     "output_type": "stream",
     "text": [
      "(32, 20, 10)\n",
      "(32, 10)\n"
     ]
    }
   ],
   "source": [
    "print(output3.shape)\n",
    "print(final_state.shape)"
   ]
  },
  {
   "cell_type": "code",
   "execution_count": 14,
   "id": "01708b12",
   "metadata": {},
   "outputs": [],
   "source": [
    "# Bi-directional RNN"
   ]
  },
  {
   "cell_type": "code",
   "execution_count": 15,
   "id": "3808956d",
   "metadata": {},
   "outputs": [],
   "source": [
    "rnn = layers.SimpleRNN(units=10)"
   ]
  },
  {
   "cell_type": "code",
   "execution_count": 16,
   "id": "1303e3ca",
   "metadata": {},
   "outputs": [],
   "source": [
    "bi_rnn = layers.Bidirectional(rnn)"
   ]
  },
  {
   "cell_type": "code",
   "execution_count": 17,
   "id": "d51f1896",
   "metadata": {},
   "outputs": [],
   "source": [
    "output = bi_rnn(x)"
   ]
  },
  {
   "cell_type": "code",
   "execution_count": 18,
   "id": "e8cbb4df",
   "metadata": {},
   "outputs": [
    {
     "data": {
      "text/plain": [
       "TensorShape([32, 20])"
      ]
     },
     "execution_count": 18,
     "metadata": {},
     "output_type": "execute_result"
    }
   ],
   "source": [
    "output.shape"
   ]
  },
  {
   "cell_type": "code",
   "execution_count": null,
   "id": "f5c9e247",
   "metadata": {},
   "outputs": [],
   "source": []
  }
 ],
 "metadata": {
  "kernelspec": {
   "display_name": "Python 3",
   "language": "python",
   "name": "python3"
  },
  "language_info": {
   "codemirror_mode": {
    "name": "ipython",
    "version": 3
   },
   "file_extension": ".py",
   "mimetype": "text/x-python",
   "name": "python",
   "nbconvert_exporter": "python",
   "pygments_lexer": "ipython3",
   "version": "3.8.8"
  }
 },
 "nbformat": 4,
 "nbformat_minor": 5
}
