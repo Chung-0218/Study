{
 "cells": [
  {
   "cell_type": "code",
   "execution_count": null,
   "id": "bdb17aac",
   "metadata": {},
   "outputs": [],
   "source": [
    "class ZFNet(nn.Module):\n",
    "    def __init__(self):\n",
    "        super().__init__()\n",
    "        self.conv1 = nn.Conv2d(3, 96, kernel_size=7, stride=2, padding=3, padding_mode='reflect') \n",
    "        self.conv2 = nn.Conv2d(96, 256, kernel_size=5, stride=2, padding=2, padding_mode='reflect')\n",
    "        self.conv3 = nn.Conv2d(256, 384, kernel_size=3, stride=1, padding=1, padding_mode='reflect')\n",
    "        self.conv4 = nn.Conv2d(384, 384, kernel_size=3, stride=1, padding=1, padding_mode='reflect')\n",
    "        self.conv5 = nn.Conv2d(384, 256, kernel_size=3, stride=1, padding=1, padding_mode='reflect')\n",
    "        self.fc6 = nn.Linear(9216,4096)\n",
    "        self.fc7 = nn.Linear(4096,4096)\n",
    "        self.fc8 = nn.Linear(4096,1000)\n",
    "        self.pool1 = nn.MaxPool2d(3,stride=2)\n",
    "        self.pool2 = nn.MaxPool2d(3,stride=2)\n",
    "        self.drop = nn.Dropout(0.5)\n",
    "        self.drop = nn.Dropout(0.5)\n",
    "        self.lrn = nn.LocalResponseNorm(size=5,alpha=10e-4,beta=0.75,k=2.0)\n",
    "\n",
    "    def forward(self, x):\n",
    "        x = self.lrn(self.pool1(F.relu(self.conv1(x))))\n",
    "        x = self.lrn(self.pool2(F.relu(self.conv2(x))))\n",
    "        x = F.relu(self.conv3(x))\n",
    "        x = F.relu(self.conv4(x))\n",
    "        x = self.pool2(F.relu(self.conv5(x)))\n",
    "        x = x.view(-1,9216)\n",
    "        x = F.relu(self.drop(self.fc6(x)))\n",
    "        x = F.relu(self.drop(self.fc7(x)))\n",
    "        x = self.fc8(x)\n",
    "        return x\n",
    "    "
   ]
  }
 ],
 "metadata": {
  "kernelspec": {
   "display_name": "Python 3",
   "language": "python",
   "name": "python3"
  },
  "language_info": {
   "codemirror_mode": {
    "name": "ipython",
    "version": 3
   },
   "file_extension": ".py",
   "mimetype": "text/x-python",
   "name": "python",
   "nbconvert_exporter": "python",
   "pygments_lexer": "ipython3",
   "version": "3.8.8"
  }
 },
 "nbformat": 4,
 "nbformat_minor": 5
}
